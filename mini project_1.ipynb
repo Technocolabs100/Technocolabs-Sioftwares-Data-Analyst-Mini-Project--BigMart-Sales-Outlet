{
 "cells": [
  {
   "cell_type": "markdown",
   "metadata": {},
   "source": [
    "### 1).Problem Statement\n",
    "- The aim of this data science project is to build a predictive model and find out the sales of each product at a particular store.\n",
    "- Using this model, BigMart will try to understand the properties of products and stores which play a key role in increasing sales.\n",
    "- The data has missing values as some stores do not report all the data due to technical glitches. Hence, it will be required to treat them accordingly."
   ]
  },
  {
   "cell_type": "markdown",
   "metadata": {},
   "source": [
    "### 2).Hypothesis Generation"
   ]
  },
  {
   "cell_type": "markdown",
   "metadata": {},
   "source": [
    "### 3).Loading Packages and Data"
   ]
  },
  {
   "cell_type": "code",
   "execution_count": 1,
   "metadata": {
    "execution": {
     "iopub.execute_input": "2023-02-03T06:21:11.895699Z",
     "iopub.status.busy": "2023-02-03T06:21:11.895232Z",
     "iopub.status.idle": "2023-02-03T06:21:13.307944Z",
     "shell.execute_reply": "2023-02-03T06:21:13.307052Z",
     "shell.execute_reply.started": "2023-02-03T06:21:11.895653Z"
    }
   },
   "outputs": [],
   "source": [
    "import os #paths to file\n",
    "import numpy as np # linear algebra\n",
    "import pandas as pd # data processing\n",
    "import warnings# warning filter\n",
    "\n",
    "\n",
    "#ploting libraries\n",
    "import matplotlib.pyplot as plt \n",
    "import seaborn as sns\n",
    "\n",
    "#feature engineering\n",
    "from sklearn.preprocessing import OneHotEncoder\n",
    "from sklearn.preprocessing import LabelEncoder\n",
    "\n",
    "#train test split\n",
    "from sklearn.model_selection import train_test_split\n",
    "\n",
    "#metrics\n",
    "from sklearn.metrics import mean_absolute_error as MAE\n",
    "from sklearn.metrics import mean_squared_error as MSE\n",
    "from sklearn.metrics import r2_score as R2\n",
    "from sklearn.model_selection  import cross_val_score as CVS\n",
    "\n",
    "\n",
    "#ML models\n",
    "from sklearn.linear_model import LinearRegression\n",
    "from sklearn.ensemble import RandomForestRegressor\n",
    "from sklearn.linear_model import Lasso\n",
    "\n",
    "\n",
    "#default theme and settings\n",
    "sns.set(context='notebook', style='darkgrid', palette='deep', font='sans-serif', font_scale=1, color_codes=False, rc=None)\n",
    "pd.options.display.max_columns\n",
    "\n",
    "#warning hadle\n",
    "warnings.filterwarnings(\"always\")\n",
    "warnings.filterwarnings(\"ignore\")"
   ]
  },
  {
   "cell_type": "code",
   "execution_count": 2,
   "metadata": {
    "execution": {
     "iopub.execute_input": "2023-02-03T06:22:12.382172Z",
     "iopub.status.busy": "2023-02-03T06:22:12.381788Z",
     "iopub.status.idle": "2023-02-03T06:22:12.386710Z",
     "shell.execute_reply": "2023-02-03T06:22:12.385612Z",
     "shell.execute_reply.started": "2023-02-03T06:22:12.382139Z"
    }
   },
   "outputs": [],
   "source": [
    "#path for the training set\n",
    "tr_path = \"C:/Users/SRILEKHA/Downloads/9961_14084_bundle_archive (1)/Test.csv\"\n",
    "#path for the testing set\n",
    "te_path = \"C:/Users/SRILEKHA/Downloads/9961_14084_bundle_archive (1)/Train.csv\""
   ]
  },
  {
   "cell_type": "markdown",
   "metadata": {},
   "source": [
    "### 3).Loading Packages and Data"
   ]
  },
  {
   "cell_type": "code",
   "execution_count": 3,
   "metadata": {
    "execution": {
     "iopub.execute_input": "2023-02-03T06:22:21.551858Z",
     "iopub.status.busy": "2023-02-03T06:22:21.551467Z",
     "iopub.status.idle": "2023-02-03T06:22:21.623379Z",
     "shell.execute_reply": "2023-02-03T06:22:21.622408Z",
     "shell.execute_reply.started": "2023-02-03T06:22:21.551827Z"
    }
   },
   "outputs": [
    {
     "data": {
      "text/html": [
       "<div>\n",
       "<style scoped>\n",
       "    .dataframe tbody tr th:only-of-type {\n",
       "        vertical-align: middle;\n",
       "    }\n",
       "\n",
       "    .dataframe tbody tr th {\n",
       "        vertical-align: top;\n",
       "    }\n",
       "\n",
       "    .dataframe thead th {\n",
       "        text-align: right;\n",
       "    }\n",
       "</style>\n",
       "<table border=\"1\" class=\"dataframe\">\n",
       "  <thead>\n",
       "    <tr style=\"text-align: right;\">\n",
       "      <th></th>\n",
       "      <th>Item_Identifier</th>\n",
       "      <th>Item_Weight</th>\n",
       "      <th>Item_Fat_Content</th>\n",
       "      <th>Item_Visibility</th>\n",
       "      <th>Item_Type</th>\n",
       "      <th>Item_MRP</th>\n",
       "      <th>Outlet_Identifier</th>\n",
       "      <th>Outlet_Establishment_Year</th>\n",
       "      <th>Outlet_Size</th>\n",
       "      <th>Outlet_Location_Type</th>\n",
       "      <th>Outlet_Type</th>\n",
       "    </tr>\n",
       "  </thead>\n",
       "  <tbody>\n",
       "    <tr>\n",
       "      <th>0</th>\n",
       "      <td>FDW58</td>\n",
       "      <td>20.750</td>\n",
       "      <td>Low Fat</td>\n",
       "      <td>0.007565</td>\n",
       "      <td>Snack Foods</td>\n",
       "      <td>107.8622</td>\n",
       "      <td>OUT049</td>\n",
       "      <td>1999</td>\n",
       "      <td>Medium</td>\n",
       "      <td>Tier 1</td>\n",
       "      <td>Supermarket Type1</td>\n",
       "    </tr>\n",
       "    <tr>\n",
       "      <th>1</th>\n",
       "      <td>FDW14</td>\n",
       "      <td>8.300</td>\n",
       "      <td>reg</td>\n",
       "      <td>0.038428</td>\n",
       "      <td>Dairy</td>\n",
       "      <td>87.3198</td>\n",
       "      <td>OUT017</td>\n",
       "      <td>2007</td>\n",
       "      <td>NaN</td>\n",
       "      <td>Tier 2</td>\n",
       "      <td>Supermarket Type1</td>\n",
       "    </tr>\n",
       "    <tr>\n",
       "      <th>2</th>\n",
       "      <td>NCN55</td>\n",
       "      <td>14.600</td>\n",
       "      <td>Low Fat</td>\n",
       "      <td>0.099575</td>\n",
       "      <td>Others</td>\n",
       "      <td>241.7538</td>\n",
       "      <td>OUT010</td>\n",
       "      <td>1998</td>\n",
       "      <td>NaN</td>\n",
       "      <td>Tier 3</td>\n",
       "      <td>Grocery Store</td>\n",
       "    </tr>\n",
       "    <tr>\n",
       "      <th>3</th>\n",
       "      <td>FDQ58</td>\n",
       "      <td>7.315</td>\n",
       "      <td>Low Fat</td>\n",
       "      <td>0.015388</td>\n",
       "      <td>Snack Foods</td>\n",
       "      <td>155.0340</td>\n",
       "      <td>OUT017</td>\n",
       "      <td>2007</td>\n",
       "      <td>NaN</td>\n",
       "      <td>Tier 2</td>\n",
       "      <td>Supermarket Type1</td>\n",
       "    </tr>\n",
       "    <tr>\n",
       "      <th>4</th>\n",
       "      <td>FDY38</td>\n",
       "      <td>NaN</td>\n",
       "      <td>Regular</td>\n",
       "      <td>0.118599</td>\n",
       "      <td>Dairy</td>\n",
       "      <td>234.2300</td>\n",
       "      <td>OUT027</td>\n",
       "      <td>1985</td>\n",
       "      <td>Medium</td>\n",
       "      <td>Tier 3</td>\n",
       "      <td>Supermarket Type3</td>\n",
       "    </tr>\n",
       "  </tbody>\n",
       "</table>\n",
       "</div>"
      ],
      "text/plain": [
       "  Item_Identifier  Item_Weight Item_Fat_Content  Item_Visibility    Item_Type  \\\n",
       "0           FDW58       20.750          Low Fat         0.007565  Snack Foods   \n",
       "1           FDW14        8.300              reg         0.038428        Dairy   \n",
       "2           NCN55       14.600          Low Fat         0.099575       Others   \n",
       "3           FDQ58        7.315          Low Fat         0.015388  Snack Foods   \n",
       "4           FDY38          NaN          Regular         0.118599        Dairy   \n",
       "\n",
       "   Item_MRP Outlet_Identifier  Outlet_Establishment_Year Outlet_Size  \\\n",
       "0  107.8622            OUT049                       1999      Medium   \n",
       "1   87.3198            OUT017                       2007         NaN   \n",
       "2  241.7538            OUT010                       1998         NaN   \n",
       "3  155.0340            OUT017                       2007         NaN   \n",
       "4  234.2300            OUT027                       1985      Medium   \n",
       "\n",
       "  Outlet_Location_Type        Outlet_Type  \n",
       "0               Tier 1  Supermarket Type1  \n",
       "1               Tier 2  Supermarket Type1  \n",
       "2               Tier 3      Grocery Store  \n",
       "3               Tier 2  Supermarket Type1  \n",
       "4               Tier 3  Supermarket Type3  "
      ]
     },
     "execution_count": 3,
     "metadata": {},
     "output_type": "execute_result"
    }
   ],
   "source": [
    "# read in csv file as a DataFrame\n",
    "tr_df = pd.read_csv(tr_path)\n",
    "# explore the first 5 rows\n",
    "tr_df.head()"
   ]
  },
  {
   "cell_type": "markdown",
   "metadata": {},
   "source": [
    "Testing set:"
   ]
  },
  {
   "cell_type": "code",
   "execution_count": 4,
   "metadata": {
    "execution": {
     "iopub.execute_input": "2023-02-03T06:22:26.160552Z",
     "iopub.status.busy": "2023-02-03T06:22:26.159888Z",
     "iopub.status.idle": "2023-02-03T06:22:26.212354Z",
     "shell.execute_reply": "2023-02-03T06:22:26.211504Z",
     "shell.execute_reply.started": "2023-02-03T06:22:26.160511Z"
    }
   },
   "outputs": [
    {
     "data": {
      "text/html": [
       "<div>\n",
       "<style scoped>\n",
       "    .dataframe tbody tr th:only-of-type {\n",
       "        vertical-align: middle;\n",
       "    }\n",
       "\n",
       "    .dataframe tbody tr th {\n",
       "        vertical-align: top;\n",
       "    }\n",
       "\n",
       "    .dataframe thead th {\n",
       "        text-align: right;\n",
       "    }\n",
       "</style>\n",
       "<table border=\"1\" class=\"dataframe\">\n",
       "  <thead>\n",
       "    <tr style=\"text-align: right;\">\n",
       "      <th></th>\n",
       "      <th>Item_Identifier</th>\n",
       "      <th>Item_Weight</th>\n",
       "      <th>Item_Fat_Content</th>\n",
       "      <th>Item_Visibility</th>\n",
       "      <th>Item_Type</th>\n",
       "      <th>Item_MRP</th>\n",
       "      <th>Outlet_Identifier</th>\n",
       "      <th>Outlet_Establishment_Year</th>\n",
       "      <th>Outlet_Size</th>\n",
       "      <th>Outlet_Location_Type</th>\n",
       "      <th>Outlet_Type</th>\n",
       "      <th>Item_Outlet_Sales</th>\n",
       "    </tr>\n",
       "  </thead>\n",
       "  <tbody>\n",
       "    <tr>\n",
       "      <th>0</th>\n",
       "      <td>FDA15</td>\n",
       "      <td>9.30</td>\n",
       "      <td>Low Fat</td>\n",
       "      <td>0.016047</td>\n",
       "      <td>Dairy</td>\n",
       "      <td>249.8092</td>\n",
       "      <td>OUT049</td>\n",
       "      <td>1999</td>\n",
       "      <td>Medium</td>\n",
       "      <td>Tier 1</td>\n",
       "      <td>Supermarket Type1</td>\n",
       "      <td>3735.1380</td>\n",
       "    </tr>\n",
       "    <tr>\n",
       "      <th>1</th>\n",
       "      <td>DRC01</td>\n",
       "      <td>5.92</td>\n",
       "      <td>Regular</td>\n",
       "      <td>0.019278</td>\n",
       "      <td>Soft Drinks</td>\n",
       "      <td>48.2692</td>\n",
       "      <td>OUT018</td>\n",
       "      <td>2009</td>\n",
       "      <td>Medium</td>\n",
       "      <td>Tier 3</td>\n",
       "      <td>Supermarket Type2</td>\n",
       "      <td>443.4228</td>\n",
       "    </tr>\n",
       "    <tr>\n",
       "      <th>2</th>\n",
       "      <td>FDN15</td>\n",
       "      <td>17.50</td>\n",
       "      <td>Low Fat</td>\n",
       "      <td>0.016760</td>\n",
       "      <td>Meat</td>\n",
       "      <td>141.6180</td>\n",
       "      <td>OUT049</td>\n",
       "      <td>1999</td>\n",
       "      <td>Medium</td>\n",
       "      <td>Tier 1</td>\n",
       "      <td>Supermarket Type1</td>\n",
       "      <td>2097.2700</td>\n",
       "    </tr>\n",
       "    <tr>\n",
       "      <th>3</th>\n",
       "      <td>FDX07</td>\n",
       "      <td>19.20</td>\n",
       "      <td>Regular</td>\n",
       "      <td>0.000000</td>\n",
       "      <td>Fruits and Vegetables</td>\n",
       "      <td>182.0950</td>\n",
       "      <td>OUT010</td>\n",
       "      <td>1998</td>\n",
       "      <td>NaN</td>\n",
       "      <td>Tier 3</td>\n",
       "      <td>Grocery Store</td>\n",
       "      <td>732.3800</td>\n",
       "    </tr>\n",
       "    <tr>\n",
       "      <th>4</th>\n",
       "      <td>NCD19</td>\n",
       "      <td>8.93</td>\n",
       "      <td>Low Fat</td>\n",
       "      <td>0.000000</td>\n",
       "      <td>Household</td>\n",
       "      <td>53.8614</td>\n",
       "      <td>OUT013</td>\n",
       "      <td>1987</td>\n",
       "      <td>High</td>\n",
       "      <td>Tier 3</td>\n",
       "      <td>Supermarket Type1</td>\n",
       "      <td>994.7052</td>\n",
       "    </tr>\n",
       "  </tbody>\n",
       "</table>\n",
       "</div>"
      ],
      "text/plain": [
       "  Item_Identifier  Item_Weight Item_Fat_Content  Item_Visibility  \\\n",
       "0           FDA15         9.30          Low Fat         0.016047   \n",
       "1           DRC01         5.92          Regular         0.019278   \n",
       "2           FDN15        17.50          Low Fat         0.016760   \n",
       "3           FDX07        19.20          Regular         0.000000   \n",
       "4           NCD19         8.93          Low Fat         0.000000   \n",
       "\n",
       "               Item_Type  Item_MRP Outlet_Identifier  \\\n",
       "0                  Dairy  249.8092            OUT049   \n",
       "1            Soft Drinks   48.2692            OUT018   \n",
       "2                   Meat  141.6180            OUT049   \n",
       "3  Fruits and Vegetables  182.0950            OUT010   \n",
       "4              Household   53.8614            OUT013   \n",
       "\n",
       "   Outlet_Establishment_Year Outlet_Size Outlet_Location_Type  \\\n",
       "0                       1999      Medium               Tier 1   \n",
       "1                       2009      Medium               Tier 3   \n",
       "2                       1999      Medium               Tier 1   \n",
       "3                       1998         NaN               Tier 3   \n",
       "4                       1987        High               Tier 3   \n",
       "\n",
       "         Outlet_Type  Item_Outlet_Sales  \n",
       "0  Supermarket Type1          3735.1380  \n",
       "1  Supermarket Type2           443.4228  \n",
       "2  Supermarket Type1          2097.2700  \n",
       "3      Grocery Store           732.3800  \n",
       "4  Supermarket Type1           994.7052  "
      ]
     },
     "execution_count": 4,
     "metadata": {},
     "output_type": "execute_result"
    }
   ],
   "source": [
    "# read in csv file as a DataFrame\n",
    "te_df = pd.read_csv(te_path)\n",
    "# explore the first 5 rows\n",
    "te_df.head()"
   ]
  },
  {
   "cell_type": "code",
   "execution_count": 5,
   "metadata": {
    "execution": {
     "iopub.execute_input": "2023-02-03T06:22:28.113562Z",
     "iopub.status.busy": "2023-02-03T06:22:28.111047Z",
     "iopub.status.idle": "2023-02-03T06:22:28.122423Z",
     "shell.execute_reply": "2023-02-03T06:22:28.121525Z",
     "shell.execute_reply.started": "2023-02-03T06:22:28.113511Z"
    }
   },
   "outputs": [
    {
     "name": "stdout",
     "output_type": "stream",
     "text": [
      "training set (row, col): (5681, 11)\n",
      "\n",
      "testing set (row, col): (8523, 12)\n"
     ]
    }
   ],
   "source": [
    "print(f\"training set (row, col): {tr_df.shape}\\n\\ntesting set (row, col): {te_df.shape}\")"
   ]
  },
  {
   "cell_type": "code",
   "execution_count": 6,
   "metadata": {
    "execution": {
     "iopub.execute_input": "2023-02-03T06:22:29.913258Z",
     "iopub.status.busy": "2023-02-03T06:22:29.912874Z",
     "iopub.status.idle": "2023-02-03T06:22:29.938392Z",
     "shell.execute_reply": "2023-02-03T06:22:29.937445Z",
     "shell.execute_reply.started": "2023-02-03T06:22:29.913229Z"
    }
   },
   "outputs": [
    {
     "name": "stdout",
     "output_type": "stream",
     "text": [
      "<class 'pandas.core.frame.DataFrame'>\n",
      "RangeIndex: 5681 entries, 0 to 5680\n",
      "Data columns (total 11 columns):\n",
      " #   Column                     Non-Null Count  Dtype  \n",
      "---  ------                     --------------  -----  \n",
      " 0   Item_Identifier            5681 non-null   object \n",
      " 1   Item_Weight                4705 non-null   float64\n",
      " 2   Item_Fat_Content           5681 non-null   object \n",
      " 3   Item_Visibility            5681 non-null   float64\n",
      " 4   Item_Type                  5681 non-null   object \n",
      " 5   Item_MRP                   5681 non-null   float64\n",
      " 6   Outlet_Identifier          5681 non-null   object \n",
      " 7   Outlet_Establishment_Year  5681 non-null   int64  \n",
      " 8   Outlet_Size                4075 non-null   object \n",
      " 9   Outlet_Location_Type       5681 non-null   object \n",
      " 10  Outlet_Type                5681 non-null   object \n",
      "dtypes: float64(3), int64(1), object(7)\n",
      "memory usage: 488.3+ KB\n"
     ]
    }
   ],
   "source": [
    "#column information\n",
    "tr_df.info(verbose=True, null_counts=True)"
   ]
  },
  {
   "cell_type": "code",
   "execution_count": 7,
   "metadata": {
    "execution": {
     "iopub.execute_input": "2023-02-03T06:22:30.844489Z",
     "iopub.status.busy": "2023-02-03T06:22:30.842142Z",
     "iopub.status.idle": "2023-02-03T06:22:30.874391Z",
     "shell.execute_reply": "2023-02-03T06:22:30.873570Z",
     "shell.execute_reply.started": "2023-02-03T06:22:30.844436Z"
    }
   },
   "outputs": [
    {
     "data": {
      "text/html": [
       "<div>\n",
       "<style scoped>\n",
       "    .dataframe tbody tr th:only-of-type {\n",
       "        vertical-align: middle;\n",
       "    }\n",
       "\n",
       "    .dataframe tbody tr th {\n",
       "        vertical-align: top;\n",
       "    }\n",
       "\n",
       "    .dataframe thead th {\n",
       "        text-align: right;\n",
       "    }\n",
       "</style>\n",
       "<table border=\"1\" class=\"dataframe\">\n",
       "  <thead>\n",
       "    <tr style=\"text-align: right;\">\n",
       "      <th></th>\n",
       "      <th>Item_Weight</th>\n",
       "      <th>Item_Visibility</th>\n",
       "      <th>Item_MRP</th>\n",
       "      <th>Outlet_Establishment_Year</th>\n",
       "      <th>Item_Outlet_Sales</th>\n",
       "    </tr>\n",
       "  </thead>\n",
       "  <tbody>\n",
       "    <tr>\n",
       "      <th>count</th>\n",
       "      <td>7060.000000</td>\n",
       "      <td>8523.000000</td>\n",
       "      <td>8523.000000</td>\n",
       "      <td>8523.000000</td>\n",
       "      <td>8523.000000</td>\n",
       "    </tr>\n",
       "    <tr>\n",
       "      <th>mean</th>\n",
       "      <td>12.857645</td>\n",
       "      <td>0.066132</td>\n",
       "      <td>140.992782</td>\n",
       "      <td>1997.831867</td>\n",
       "      <td>2181.288914</td>\n",
       "    </tr>\n",
       "    <tr>\n",
       "      <th>std</th>\n",
       "      <td>4.643456</td>\n",
       "      <td>0.051598</td>\n",
       "      <td>62.275067</td>\n",
       "      <td>8.371760</td>\n",
       "      <td>1706.499616</td>\n",
       "    </tr>\n",
       "    <tr>\n",
       "      <th>min</th>\n",
       "      <td>4.555000</td>\n",
       "      <td>0.000000</td>\n",
       "      <td>31.290000</td>\n",
       "      <td>1985.000000</td>\n",
       "      <td>33.290000</td>\n",
       "    </tr>\n",
       "    <tr>\n",
       "      <th>25%</th>\n",
       "      <td>8.773750</td>\n",
       "      <td>0.026989</td>\n",
       "      <td>93.826500</td>\n",
       "      <td>1987.000000</td>\n",
       "      <td>834.247400</td>\n",
       "    </tr>\n",
       "    <tr>\n",
       "      <th>50%</th>\n",
       "      <td>12.600000</td>\n",
       "      <td>0.053931</td>\n",
       "      <td>143.012800</td>\n",
       "      <td>1999.000000</td>\n",
       "      <td>1794.331000</td>\n",
       "    </tr>\n",
       "    <tr>\n",
       "      <th>75%</th>\n",
       "      <td>16.850000</td>\n",
       "      <td>0.094585</td>\n",
       "      <td>185.643700</td>\n",
       "      <td>2004.000000</td>\n",
       "      <td>3101.296400</td>\n",
       "    </tr>\n",
       "    <tr>\n",
       "      <th>max</th>\n",
       "      <td>21.350000</td>\n",
       "      <td>0.328391</td>\n",
       "      <td>266.888400</td>\n",
       "      <td>2009.000000</td>\n",
       "      <td>13086.964800</td>\n",
       "    </tr>\n",
       "  </tbody>\n",
       "</table>\n",
       "</div>"
      ],
      "text/plain": [
       "       Item_Weight  Item_Visibility     Item_MRP  Outlet_Establishment_Year  \\\n",
       "count  7060.000000      8523.000000  8523.000000                8523.000000   \n",
       "mean     12.857645         0.066132   140.992782                1997.831867   \n",
       "std       4.643456         0.051598    62.275067                   8.371760   \n",
       "min       4.555000         0.000000    31.290000                1985.000000   \n",
       "25%       8.773750         0.026989    93.826500                1987.000000   \n",
       "50%      12.600000         0.053931   143.012800                1999.000000   \n",
       "75%      16.850000         0.094585   185.643700                2004.000000   \n",
       "max      21.350000         0.328391   266.888400                2009.000000   \n",
       "\n",
       "       Item_Outlet_Sales  \n",
       "count        8523.000000  \n",
       "mean         2181.288914  \n",
       "std          1706.499616  \n",
       "min            33.290000  \n",
       "25%           834.247400  \n",
       "50%          1794.331000  \n",
       "75%          3101.296400  \n",
       "max         13086.964800  "
      ]
     },
     "execution_count": 7,
     "metadata": {},
     "output_type": "execute_result"
    }
   ],
   "source": [
    "#summary statistics test\n",
    "te_df.describe()"
   ]
  },
  {
   "cell_type": "code",
   "execution_count": 8,
   "metadata": {
    "execution": {
     "iopub.execute_input": "2023-02-03T06:22:32.646580Z",
     "iopub.status.busy": "2023-02-03T06:22:32.644224Z",
     "iopub.status.idle": "2023-02-03T06:22:32.680007Z",
     "shell.execute_reply": "2023-02-03T06:22:32.679129Z",
     "shell.execute_reply.started": "2023-02-03T06:22:32.646534Z"
    }
   },
   "outputs": [
    {
     "data": {
      "text/html": [
       "<div>\n",
       "<style scoped>\n",
       "    .dataframe tbody tr th:only-of-type {\n",
       "        vertical-align: middle;\n",
       "    }\n",
       "\n",
       "    .dataframe tbody tr th {\n",
       "        vertical-align: top;\n",
       "    }\n",
       "\n",
       "    .dataframe thead th {\n",
       "        text-align: right;\n",
       "    }\n",
       "</style>\n",
       "<table border=\"1\" class=\"dataframe\">\n",
       "  <thead>\n",
       "    <tr style=\"text-align: right;\">\n",
       "      <th></th>\n",
       "      <th>Item_Weight</th>\n",
       "      <th>Item_Visibility</th>\n",
       "      <th>Item_MRP</th>\n",
       "      <th>Outlet_Establishment_Year</th>\n",
       "    </tr>\n",
       "  </thead>\n",
       "  <tbody>\n",
       "    <tr>\n",
       "      <th>count</th>\n",
       "      <td>4705.000000</td>\n",
       "      <td>5681.000000</td>\n",
       "      <td>5681.000000</td>\n",
       "      <td>5681.000000</td>\n",
       "    </tr>\n",
       "    <tr>\n",
       "      <th>mean</th>\n",
       "      <td>12.695633</td>\n",
       "      <td>0.065684</td>\n",
       "      <td>141.023273</td>\n",
       "      <td>1997.828903</td>\n",
       "    </tr>\n",
       "    <tr>\n",
       "      <th>std</th>\n",
       "      <td>4.664849</td>\n",
       "      <td>0.051252</td>\n",
       "      <td>61.809091</td>\n",
       "      <td>8.372256</td>\n",
       "    </tr>\n",
       "    <tr>\n",
       "      <th>min</th>\n",
       "      <td>4.555000</td>\n",
       "      <td>0.000000</td>\n",
       "      <td>31.990000</td>\n",
       "      <td>1985.000000</td>\n",
       "    </tr>\n",
       "    <tr>\n",
       "      <th>25%</th>\n",
       "      <td>8.645000</td>\n",
       "      <td>0.027047</td>\n",
       "      <td>94.412000</td>\n",
       "      <td>1987.000000</td>\n",
       "    </tr>\n",
       "    <tr>\n",
       "      <th>50%</th>\n",
       "      <td>12.500000</td>\n",
       "      <td>0.054154</td>\n",
       "      <td>141.415400</td>\n",
       "      <td>1999.000000</td>\n",
       "    </tr>\n",
       "    <tr>\n",
       "      <th>75%</th>\n",
       "      <td>16.700000</td>\n",
       "      <td>0.093463</td>\n",
       "      <td>186.026600</td>\n",
       "      <td>2004.000000</td>\n",
       "    </tr>\n",
       "    <tr>\n",
       "      <th>max</th>\n",
       "      <td>21.350000</td>\n",
       "      <td>0.323637</td>\n",
       "      <td>266.588400</td>\n",
       "      <td>2009.000000</td>\n",
       "    </tr>\n",
       "  </tbody>\n",
       "</table>\n",
       "</div>"
      ],
      "text/plain": [
       "       Item_Weight  Item_Visibility     Item_MRP  Outlet_Establishment_Year\n",
       "count  4705.000000      5681.000000  5681.000000                5681.000000\n",
       "mean     12.695633         0.065684   141.023273                1997.828903\n",
       "std       4.664849         0.051252    61.809091                   8.372256\n",
       "min       4.555000         0.000000    31.990000                1985.000000\n",
       "25%       8.645000         0.027047    94.412000                1987.000000\n",
       "50%      12.500000         0.054154   141.415400                1999.000000\n",
       "75%      16.700000         0.093463   186.026600                2004.000000\n",
       "max      21.350000         0.323637   266.588400                2009.000000"
      ]
     },
     "execution_count": 8,
     "metadata": {},
     "output_type": "execute_result"
    }
   ],
   "source": [
    "#summary statistics train\n",
    "tr_df.describe()"
   ]
  },
  {
   "cell_type": "markdown",
   "metadata": {},
   "source": [
    "### 8).Missing Value Treatment"
   ]
  },
  {
   "cell_type": "code",
   "execution_count": 9,
   "metadata": {
    "execution": {
     "iopub.execute_input": "2023-02-03T06:22:34.248074Z",
     "iopub.status.busy": "2023-02-03T06:22:34.245661Z",
     "iopub.status.idle": "2023-02-03T06:22:34.296804Z",
     "shell.execute_reply": "2023-02-03T06:22:34.295837Z",
     "shell.execute_reply.started": "2023-02-03T06:22:34.248001Z"
    },
    "scrolled": true
   },
   "outputs": [
    {
     "name": "stdout",
     "output_type": "stream",
     "text": [
      "Train:\n",
      "\n",
      "Outlet_Size                  1606\n",
      "Item_Weight                   976\n",
      "Item_Identifier                 0\n",
      "Item_Fat_Content                0\n",
      "Item_Visibility                 0\n",
      "Item_Type                       0\n",
      "Item_MRP                        0\n",
      "Outlet_Identifier               0\n",
      "Outlet_Establishment_Year       0\n",
      "Outlet_Location_Type            0\n",
      "Outlet_Type                     0\n",
      "dtype: int64 \n",
      "\n",
      " Item_Identifier               0.000000\n",
      "Item_Weight                  17.180074\n",
      "Item_Fat_Content              0.000000\n",
      "Item_Visibility               0.000000\n",
      "Item_Type                     0.000000\n",
      "Item_MRP                      0.000000\n",
      "Outlet_Identifier             0.000000\n",
      "Outlet_Establishment_Year     0.000000\n",
      "Outlet_Size                  28.269671\n",
      "Outlet_Location_Type          0.000000\n",
      "Outlet_Type                   0.000000\n",
      "dtype: float64 \n",
      "\n",
      "\n",
      "Test:\n",
      "\n",
      "Outlet_Size                  2410\n",
      "Item_Weight                  1463\n",
      "Item_Identifier                 0\n",
      "Item_Fat_Content                0\n",
      "Item_Visibility                 0\n",
      "Item_Type                       0\n",
      "Item_MRP                        0\n",
      "Outlet_Identifier               0\n",
      "Outlet_Establishment_Year       0\n",
      "Outlet_Location_Type            0\n",
      "Outlet_Type                     0\n",
      "Item_Outlet_Sales               0\n",
      "dtype: int64 \n",
      "\n",
      " Item_Identifier               0.000000\n",
      "Item_Weight                  17.165317\n",
      "Item_Fat_Content              0.000000\n",
      "Item_Visibility               0.000000\n",
      "Item_Type                     0.000000\n",
      "Item_MRP                      0.000000\n",
      "Outlet_Identifier             0.000000\n",
      "Outlet_Establishment_Year     0.000000\n",
      "Outlet_Size                  28.276428\n",
      "Outlet_Location_Type          0.000000\n",
      "Outlet_Type                   0.000000\n",
      "Item_Outlet_Sales             0.000000\n",
      "dtype: float64 \n",
      "\n",
      "\n"
     ]
    }
   ],
   "source": [
    "#missing values in decsending order\n",
    "print(\"Train:\\n\")\n",
    "print(tr_df.isnull().sum().sort_values(ascending=False),\"\\n\\n\",tr_df.isnull().sum()/tr_df.shape[0] *100,\"\\n\\n\")\n",
    "print(\"Test:\\n\")\n",
    "print(te_df.isnull().sum().sort_values(ascending=False),\"\\n\\n\",te_df.isnull().sum()/te_df.shape[0] *100,\"\\n\\n\")"
   ]
  },
  {
   "cell_type": "code",
   "execution_count": 10,
   "metadata": {
    "execution": {
     "iopub.execute_input": "2023-02-03T06:22:37.441212Z",
     "iopub.status.busy": "2023-02-03T06:22:37.438266Z",
     "iopub.status.idle": "2023-02-03T06:22:37.461345Z",
     "shell.execute_reply": "2023-02-03T06:22:37.460404Z",
     "shell.execute_reply.started": "2023-02-03T06:22:37.441152Z"
    }
   },
   "outputs": [
    {
     "name": "stdout",
     "output_type": "stream",
     "text": [
      "Outlet_Size:\n",
      " Medium    1862\n",
      "Small     1592\n",
      "High       621\n",
      "Name: Outlet_Size, dtype: int64 \n",
      "\n",
      "\n",
      "Item_Weight:\n",
      " 10.500    57\n",
      "17.600    53\n",
      "15.600    48\n",
      "20.250    47\n",
      "19.350    46\n",
      "          ..\n",
      "6.980      1\n",
      "6.320      1\n",
      "5.465      1\n",
      "5.945      1\n",
      "7.670      1\n",
      "Name: Item_Weight, Length: 410, dtype: int64 \n",
      "\n",
      "\n"
     ]
    }
   ],
   "source": [
    "print(\"Outlet_Size:\\n\", tr_df.Outlet_Size.value_counts(), \"\\n\\n\")\n",
    "print(\"Item_Weight:\\n\", tr_df.Item_Weight.value_counts(), \"\\n\\n\")"
   ]
  },
  {
   "cell_type": "code",
   "execution_count": 11,
   "metadata": {
    "execution": {
     "iopub.execute_input": "2023-02-03T06:22:38.952329Z",
     "iopub.status.busy": "2023-02-03T06:22:38.949905Z",
     "iopub.status.idle": "2023-02-03T06:22:38.963262Z",
     "shell.execute_reply": "2023-02-03T06:22:38.962357Z",
     "shell.execute_reply.started": "2023-02-03T06:22:38.952280Z"
    }
   },
   "outputs": [
    {
     "name": "stdout",
     "output_type": "stream",
     "text": [
      "test mode, train mode\n",
      " ['Medium', 'Medium']\n"
     ]
    }
   ],
   "source": [
    "print(\"test mode, train mode\\n\",[tr_df['Outlet_Size'].mode().values[0], te_df['Outlet_Size'].mode().values[0]])"
   ]
  },
  {
   "cell_type": "code",
   "execution_count": 12,
   "metadata": {
    "execution": {
     "iopub.execute_input": "2023-02-03T06:22:39.817468Z",
     "iopub.status.busy": "2023-02-03T06:22:39.816834Z",
     "iopub.status.idle": "2023-02-03T06:22:39.837887Z",
     "shell.execute_reply": "2023-02-03T06:22:39.837005Z",
     "shell.execute_reply.started": "2023-02-03T06:22:39.817430Z"
    }
   },
   "outputs": [
    {
     "data": {
      "text/plain": [
       "(0, 0)"
      ]
     },
     "execution_count": 12,
     "metadata": {},
     "output_type": "execute_result"
    }
   ],
   "source": [
    "#train\n",
    "tr_df['Outlet_Size'] = tr_df['Outlet_Size'].fillna(\n",
    "tr_df['Outlet_Size'].dropna().mode().values[0])\n",
    "\n",
    "#test\n",
    "te_df['Outlet_Size'] = te_df['Outlet_Size'].fillna(\n",
    "te_df['Outlet_Size'].dropna().mode().values[0])\n",
    "\n",
    "#checking if we filled missing values\n",
    "tr_df['Outlet_Size'].isnull().sum(),te_df['Outlet_Size'].isnull().sum()"
   ]
  },
  {
   "cell_type": "code",
   "execution_count": 13,
   "metadata": {
    "execution": {
     "iopub.execute_input": "2023-02-03T06:22:41.359353Z",
     "iopub.status.busy": "2023-02-03T06:22:41.356953Z",
     "iopub.status.idle": "2023-02-03T06:22:41.542707Z",
     "shell.execute_reply": "2023-02-03T06:22:41.541972Z",
     "shell.execute_reply.started": "2023-02-03T06:22:41.359311Z"
    }
   },
   "outputs": [
    {
     "data": {
      "text/plain": [
       "Text(0.5, 1.0, 'Item_Weight Boxplot')"
      ]
     },
     "execution_count": 13,
     "metadata": {},
     "output_type": "execute_result"
    },
    {
     "data": {
      "image/png": "[encoded data removed]",
      "text/plain": [
       "<Figure size 432x288 with 1 Axes>"
      ]
     },
     "metadata": {},
     "output_type": "display_data"
    }
   ],
   "source": [
    "# I personally prefer a vertical view and a cyan color\n",
    "sns.boxplot(data=tr_df['Item_Weight'],orient=\"v\", color = 'c')\n",
    "plt.title(\"Item_Weight Boxplot\")"
   ]
  },
  {
   "cell_type": "code",
   "execution_count": 14,
   "metadata": {
    "execution": {
     "iopub.execute_input": "2023-02-03T06:22:42.941630Z",
     "iopub.status.busy": "2023-02-03T06:22:42.939335Z",
     "iopub.status.idle": "2023-02-03T06:22:42.956212Z",
     "shell.execute_reply": "2023-02-03T06:22:42.955153Z",
     "shell.execute_reply.started": "2023-02-03T06:22:42.941586Z"
    }
   },
   "outputs": [
    {
     "data": {
      "text/plain": [
       "(0, 0)"
      ]
     },
     "execution_count": 14,
     "metadata": {},
     "output_type": "execute_result"
    }
   ],
   "source": [
    "#train\n",
    "tr_df['Item_Weight'] = tr_df['Item_Weight'].fillna(\n",
    "tr_df['Item_Weight'].dropna().mean())\n",
    "\n",
    "#test\n",
    "te_df['Item_Weight'] = te_df['Item_Weight'].fillna(\n",
    "te_df['Item_Weight'].dropna().mean())\n",
    "\n",
    "#checking if we filled missing values\n",
    "tr_df['Item_Weight'].isnull().sum(),te_df['Item_Weight'].isnull().sum()"
   ]
  },
  {
   "cell_type": "code",
   "execution_count": 15,
   "metadata": {
    "execution": {
     "iopub.execute_input": "2023-02-03T06:22:44.486530Z",
     "iopub.status.busy": "2023-02-03T06:22:44.484140Z",
     "iopub.status.idle": "2023-02-03T06:22:44.515254Z",
     "shell.execute_reply": "2023-02-03T06:22:44.514465Z",
     "shell.execute_reply.started": "2023-02-03T06:22:44.486480Z"
    },
    "scrolled": true
   },
   "outputs": [
    {
     "name": "stdout",
     "output_type": "stream",
     "text": [
      "train:\n",
      "\n",
      "<class 'pandas.core.frame.DataFrame'>\n",
      "RangeIndex: 5681 entries, 0 to 5680\n",
      "Data columns (total 11 columns):\n",
      " #   Column                     Non-Null Count  Dtype  \n",
      "---  ------                     --------------  -----  \n",
      " 0   Item_Identifier            5681 non-null   object \n",
      " 1   Item_Weight                5681 non-null   float64\n",
      " 2   Item_Fat_Content           5681 non-null   object \n",
      " 3   Item_Visibility            5681 non-null   float64\n",
      " 4   Item_Type                  5681 non-null   object \n",
      " 5   Item_MRP                   5681 non-null   float64\n",
      " 6   Outlet_Identifier          5681 non-null   object \n",
      " 7   Outlet_Establishment_Year  5681 non-null   int64  \n",
      " 8   Outlet_Size                5681 non-null   object \n",
      " 9   Outlet_Location_Type       5681 non-null   object \n",
      " 10  Outlet_Type                5681 non-null   object \n",
      "dtypes: float64(3), int64(1), object(7)\n",
      "memory usage: 488.3+ KB\n",
      "None\n",
      "\n",
      "\n",
      "test:\n",
      "\n",
      "<class 'pandas.core.frame.DataFrame'>\n",
      "RangeIndex: 8523 entries, 0 to 8522\n",
      "Data columns (total 12 columns):\n",
      " #   Column                     Non-Null Count  Dtype  \n",
      "---  ------                     --------------  -----  \n",
      " 0   Item_Identifier            8523 non-null   object \n",
      " 1   Item_Weight                8523 non-null   float64\n",
      " 2   Item_Fat_Content           8523 non-null   object \n",
      " 3   Item_Visibility            8523 non-null   float64\n",
      " 4   Item_Type                  8523 non-null   object \n",
      " 5   Item_MRP                   8523 non-null   float64\n",
      " 6   Outlet_Identifier          8523 non-null   object \n",
      " 7   Outlet_Establishment_Year  8523 non-null   int64  \n",
      " 8   Outlet_Size                8523 non-null   object \n",
      " 9   Outlet_Location_Type       8523 non-null   object \n",
      " 10  Outlet_Type                8523 non-null   object \n",
      " 11  Item_Outlet_Sales          8523 non-null   float64\n",
      "dtypes: float64(4), int64(1), object(7)\n",
      "memory usage: 799.2+ KB\n",
      "None\n"
     ]
    }
   ],
   "source": [
    "print(\"train:\\n\")\n",
    "print(tr_df.info())\n",
    "print(\"\\n\\ntest:\\n\")\n",
    "print(te_df.info())"
   ]
  },
  {
   "cell_type": "markdown",
   "metadata": {},
   "source": [
    "### 5).Exploratory Data Analysis"
   ]
  },
  {
   "cell_type": "code",
   "execution_count": 16,
   "metadata": {
    "execution": {
     "iopub.execute_input": "2023-02-03T06:22:46.066717Z",
     "iopub.status.busy": "2023-02-03T06:22:46.064392Z",
     "iopub.status.idle": "2023-02-03T06:22:46.101249Z",
     "shell.execute_reply": "2023-02-03T06:22:46.100394Z",
     "shell.execute_reply.started": "2023-02-03T06:22:46.066669Z"
    }
   },
   "outputs": [
    {
     "data": {
      "text/plain": [
       "[Low Fat    3396\n",
       " Regular    1935\n",
       " LF          206\n",
       " reg          78\n",
       " low fat      66\n",
       " Name: Item_Fat_Content, dtype: int64,\n",
       " Snack Foods              789\n",
       " Fruits and Vegetables    781\n",
       " Household                638\n",
       " Frozen Foods             570\n",
       " Dairy                    454\n",
       " Baking Goods             438\n",
       " Canned                   435\n",
       " Health and Hygiene       338\n",
       " Meat                     311\n",
       " Soft Drinks              281\n",
       " Breads                   165\n",
       " Hard Drinks              148\n",
       " Starchy Foods            121\n",
       " Others                   111\n",
       " Breakfast                 76\n",
       " Seafood                   25\n",
       " Name: Item_Type, dtype: int64,\n",
       " OUT027    624\n",
       " OUT013    621\n",
       " OUT049    620\n",
       " OUT046    620\n",
       " OUT035    620\n",
       " OUT045    619\n",
       " OUT018    618\n",
       " OUT017    617\n",
       " OUT010    370\n",
       " OUT019    352\n",
       " Name: Outlet_Identifier, dtype: int64,\n",
       " Medium    3468\n",
       " Small     1592\n",
       " High       621\n",
       " Name: Outlet_Size, dtype: int64,\n",
       " Tier 3    2233\n",
       " Tier 2    1856\n",
       " Tier 1    1592\n",
       " Name: Outlet_Location_Type, dtype: int64,\n",
       " Supermarket Type1    3717\n",
       " Grocery Store         722\n",
       " Supermarket Type3     624\n",
       " Supermarket Type2     618\n",
       " Name: Outlet_Type, dtype: int64]"
      ]
     },
     "execution_count": 16,
     "metadata": {},
     "output_type": "execute_result"
    }
   ],
   "source": [
    "#list of all the numeric columns\n",
    "num = tr_df.select_dtypes('number').columns.to_list()\n",
    "#list of all the categoric columns\n",
    "cat = tr_df.select_dtypes('object').columns.to_list()\n",
    "\n",
    "#numeric df\n",
    "BM_num =  tr_df[num]\n",
    "#categoric df\n",
    "BM_cat = tr_df[cat]\n",
    "\n",
    "#print(num)\n",
    "#print(cat)\n",
    "\n",
    "[tr_df[category].value_counts() for category in cat[1:]]"
   ]
  },
  {
   "cell_type": "code",
   "execution_count": 17,
   "metadata": {
    "execution": {
     "iopub.execute_input": "2023-02-03T06:22:47.805266Z",
     "iopub.status.busy": "2023-02-03T06:22:47.802905Z",
     "iopub.status.idle": "2023-02-03T06:22:47.824160Z",
     "shell.execute_reply": "2023-02-03T06:22:47.823218Z",
     "shell.execute_reply.started": "2023-02-03T06:22:47.805224Z"
    }
   },
   "outputs": [
    {
     "data": {
      "text/plain": [
       "Low Fat    3668\n",
       "Regular    2013\n",
       "Name: Item_Fat_Content, dtype: int64"
      ]
     },
     "execution_count": 17,
     "metadata": {},
     "output_type": "execute_result"
    }
   ],
   "source": [
    "#train\n",
    "tr_df['Item_Fat_Content'].replace(['LF', 'low fat', 'reg'], \n",
    "                                  ['Low Fat','Low Fat','Regular'],inplace = True)\n",
    "#test\n",
    "te_df['Item_Fat_Content'].replace(['LF', 'low fat', 'reg'], \n",
    "                                  ['Low Fat','Low Fat','Regular'],inplace = True)\n",
    "\n",
    "#check result\n",
    "tr_df.Item_Fat_Content.value_counts()"
   ]
  },
  {
   "cell_type": "code",
   "execution_count": 18,
   "metadata": {
    "execution": {
     "iopub.execute_input": "2023-02-03T06:22:49.648252Z",
     "iopub.status.busy": "2023-02-03T06:22:49.645762Z",
     "iopub.status.idle": "2023-02-03T06:22:49.672970Z",
     "shell.execute_reply": "2023-02-03T06:22:49.672114Z",
     "shell.execute_reply.started": "2023-02-03T06:22:49.648201Z"
    }
   },
   "outputs": [
    {
     "data": {
      "text/html": [
       "<div>\n",
       "<style scoped>\n",
       "    .dataframe tbody tr th:only-of-type {\n",
       "        vertical-align: middle;\n",
       "    }\n",
       "\n",
       "    .dataframe tbody tr th {\n",
       "        vertical-align: top;\n",
       "    }\n",
       "\n",
       "    .dataframe thead th {\n",
       "        text-align: right;\n",
       "    }\n",
       "</style>\n",
       "<table border=\"1\" class=\"dataframe\">\n",
       "  <thead>\n",
       "    <tr style=\"text-align: right;\">\n",
       "      <th></th>\n",
       "      <th>Item_Identifier</th>\n",
       "      <th>Item_Weight</th>\n",
       "      <th>Item_Fat_Content</th>\n",
       "      <th>Item_Visibility</th>\n",
       "      <th>Item_Type</th>\n",
       "      <th>Item_MRP</th>\n",
       "      <th>Outlet_Identifier</th>\n",
       "      <th>Outlet_Establishment_Year</th>\n",
       "      <th>Outlet_Size</th>\n",
       "      <th>Outlet_Location_Type</th>\n",
       "      <th>Outlet_Type</th>\n",
       "    </tr>\n",
       "  </thead>\n",
       "  <tbody>\n",
       "    <tr>\n",
       "      <th>0</th>\n",
       "      <td>FDW58</td>\n",
       "      <td>20.750000</td>\n",
       "      <td>Low Fat</td>\n",
       "      <td>0.007565</td>\n",
       "      <td>Snack Foods</td>\n",
       "      <td>107.8622</td>\n",
       "      <td>OUT049</td>\n",
       "      <td>1999</td>\n",
       "      <td>Medium</td>\n",
       "      <td>Tier 1</td>\n",
       "      <td>Supermarket Type1</td>\n",
       "    </tr>\n",
       "    <tr>\n",
       "      <th>1</th>\n",
       "      <td>FDW14</td>\n",
       "      <td>8.300000</td>\n",
       "      <td>Regular</td>\n",
       "      <td>0.038428</td>\n",
       "      <td>Dairy</td>\n",
       "      <td>87.3198</td>\n",
       "      <td>OUT017</td>\n",
       "      <td>2007</td>\n",
       "      <td>Medium</td>\n",
       "      <td>Tier 2</td>\n",
       "      <td>Supermarket Type1</td>\n",
       "    </tr>\n",
       "    <tr>\n",
       "      <th>2</th>\n",
       "      <td>NCN55</td>\n",
       "      <td>14.600000</td>\n",
       "      <td>Low Fat</td>\n",
       "      <td>0.099575</td>\n",
       "      <td>Others</td>\n",
       "      <td>241.7538</td>\n",
       "      <td>OUT010</td>\n",
       "      <td>1998</td>\n",
       "      <td>Medium</td>\n",
       "      <td>Tier 3</td>\n",
       "      <td>Grocery Store</td>\n",
       "    </tr>\n",
       "    <tr>\n",
       "      <th>3</th>\n",
       "      <td>FDQ58</td>\n",
       "      <td>7.315000</td>\n",
       "      <td>Low Fat</td>\n",
       "      <td>0.015388</td>\n",
       "      <td>Snack Foods</td>\n",
       "      <td>155.0340</td>\n",
       "      <td>OUT017</td>\n",
       "      <td>2007</td>\n",
       "      <td>Medium</td>\n",
       "      <td>Tier 2</td>\n",
       "      <td>Supermarket Type1</td>\n",
       "    </tr>\n",
       "    <tr>\n",
       "      <th>4</th>\n",
       "      <td>FDY38</td>\n",
       "      <td>12.695633</td>\n",
       "      <td>Regular</td>\n",
       "      <td>0.118599</td>\n",
       "      <td>Dairy</td>\n",
       "      <td>234.2300</td>\n",
       "      <td>OUT027</td>\n",
       "      <td>1985</td>\n",
       "      <td>Medium</td>\n",
       "      <td>Tier 3</td>\n",
       "      <td>Supermarket Type3</td>\n",
       "    </tr>\n",
       "  </tbody>\n",
       "</table>\n",
       "</div>"
      ],
      "text/plain": [
       "  Item_Identifier  Item_Weight Item_Fat_Content  Item_Visibility    Item_Type  \\\n",
       "0           FDW58    20.750000          Low Fat         0.007565  Snack Foods   \n",
       "1           FDW14     8.300000          Regular         0.038428        Dairy   \n",
       "2           NCN55    14.600000          Low Fat         0.099575       Others   \n",
       "3           FDQ58     7.315000          Low Fat         0.015388  Snack Foods   \n",
       "4           FDY38    12.695633          Regular         0.118599        Dairy   \n",
       "\n",
       "   Item_MRP Outlet_Identifier  Outlet_Establishment_Year Outlet_Size  \\\n",
       "0  107.8622            OUT049                       1999      Medium   \n",
       "1   87.3198            OUT017                       2007      Medium   \n",
       "2  241.7538            OUT010                       1998      Medium   \n",
       "3  155.0340            OUT017                       2007      Medium   \n",
       "4  234.2300            OUT027                       1985      Medium   \n",
       "\n",
       "  Outlet_Location_Type        Outlet_Type  \n",
       "0               Tier 1  Supermarket Type1  \n",
       "1               Tier 2  Supermarket Type1  \n",
       "2               Tier 3      Grocery Store  \n",
       "3               Tier 2  Supermarket Type1  \n",
       "4               Tier 3  Supermarket Type3  "
      ]
     },
     "execution_count": 18,
     "metadata": {},
     "output_type": "execute_result"
    }
   ],
   "source": [
    "tr_df.head()"
   ]
  },
  {
   "cell_type": "code",
   "execution_count": 19,
   "metadata": {
    "execution": {
     "iopub.execute_input": "2023-02-03T06:22:51.042249Z",
     "iopub.status.busy": "2023-02-03T06:22:51.039903Z",
     "iopub.status.idle": "2023-02-03T06:22:51.058303Z",
     "shell.execute_reply": "2023-02-03T06:22:51.057434Z",
     "shell.execute_reply.started": "2023-02-03T06:22:51.042208Z"
    }
   },
   "outputs": [],
   "source": [
    "#creating our new column for both datasets\n",
    "tr_df['Outlet_Age'], te_df['Outlet_Age']= tr_df['Outlet_Establishment_Year'].apply(lambda year: 2020 - year), te_df['Outlet_Establishment_Year'].apply(lambda year: 2020 - year)\n",
    "\n",
    "##uncomment to check result\n",
    "#tr_df['Outlet_Age'].head\n",
    "#te_df['Outlet_Age'].head"
   ]
  },
  {
   "cell_type": "markdown",
   "metadata": {},
   "source": [
    "### 6).Univariate Analysis"
   ]
  },
  {
   "cell_type": "code",
   "execution_count": 20,
   "metadata": {
    "execution": {
     "iopub.execute_input": "2023-02-03T06:22:52.751465Z",
     "iopub.status.busy": "2023-02-03T06:22:52.749100Z",
     "iopub.status.idle": "2023-02-03T06:22:52.893833Z",
     "shell.execute_reply": "2023-02-03T06:22:52.893053Z",
     "shell.execute_reply.started": "2023-02-03T06:22:52.751418Z"
    }
   },
   "outputs": [
    {
     "data": {
      "image/png": "[encoded data removed]",
      "text/plain": [
       "<Figure size 432x288 with 1 Axes>"
      ]
     },
     "metadata": {},
     "output_type": "display_data"
    }
   ],
   "source": [
    "#categorical columns:\n",
    "['Item_Identifier', 'Item_Fat_Content', 'Item_Type', 'Outlet_Identifier', \n",
    " 'Outlet_Size', 'Outlet_Location_Type', 'Outlet_Type']\n",
    " \n",
    "plt.figure(figsize=(6,4))\n",
    "sns.countplot(x='Item_Fat_Content' , data=tr_df ,palette='mako')\n",
    "plt.xlabel('Item_Fat_Content', fontsize=14)\n",
    "plt.show()"
   ]
  },
  {
   "cell_type": "code",
   "execution_count": 21,
   "metadata": {
    "execution": {
     "iopub.execute_input": "2023-02-03T06:22:53.502139Z",
     "iopub.status.busy": "2023-02-03T06:22:53.499841Z",
     "iopub.status.idle": "2023-02-03T06:22:53.947178Z",
     "shell.execute_reply": "2023-02-03T06:22:53.946383Z",
     "shell.execute_reply.started": "2023-02-03T06:22:53.502096Z"
    }
   },
   "outputs": [
    {
     "data": {
      "image/png": "[encoded data removed]",
      "text/plain": [
       "<Figure size 1944x720 with 1 Axes>"
      ]
     },
     "metadata": {},
     "output_type": "display_data"
    }
   ],
   "source": [
    "plt.figure(figsize=(27,10))\n",
    "sns.countplot(x='Item_Type' , data=tr_df ,palette='summer')\n",
    "plt.xlabel('Item_Type', fontsize=14)\n",
    "plt.show()"
   ]
  },
  {
   "cell_type": "code",
   "execution_count": 22,
   "metadata": {
    "execution": {
     "iopub.execute_input": "2023-02-03T06:22:54.290327Z",
     "iopub.status.busy": "2023-02-03T06:22:54.287950Z",
     "iopub.status.idle": "2023-02-03T06:22:54.507576Z",
     "shell.execute_reply": "2023-02-03T06:22:54.506700Z",
     "shell.execute_reply.started": "2023-02-03T06:22:54.290282Z"
    }
   },
   "outputs": [
    {
     "data": {
      "image/png": "[encoded data removed]",
      "text/plain": [
       "<Figure size 1080x288 with 1 Axes>"
      ]
     },
     "metadata": {},
     "output_type": "display_data"
    }
   ],
   "source": [
    "plt.figure(figsize=(15,4))\n",
    "sns.countplot(x='Outlet_Identifier' , data=tr_df ,palette='winter')\n",
    "plt.xlabel('Outlet_Identifier', fontsize=14)\n",
    "plt.show()"
   ]
  },
  {
   "cell_type": "code",
   "execution_count": 23,
   "metadata": {
    "execution": {
     "iopub.execute_input": "2023-02-03T06:22:54.954742Z",
     "iopub.status.busy": "2023-02-03T06:22:54.952413Z",
     "iopub.status.idle": "2023-02-03T06:22:55.104496Z",
     "shell.execute_reply": "2023-02-03T06:22:55.103671Z",
     "shell.execute_reply.started": "2023-02-03T06:22:54.954695Z"
    }
   },
   "outputs": [
    {
     "data": {
      "image/png": "[encoded data removed]",
      "text/plain": [
       "<Figure size 720x288 with 1 Axes>"
      ]
     },
     "metadata": {},
     "output_type": "display_data"
    }
   ],
   "source": [
    "plt.figure(figsize=(10,4))\n",
    "sns.countplot(x='Outlet_Size' , data=tr_df ,palette='autumn')\n",
    "plt.xlabel('Outlet_Size', fontsize=14)\n",
    "plt.show()"
   ]
  },
  {
   "cell_type": "code",
   "execution_count": 24,
   "metadata": {
    "execution": {
     "iopub.execute_input": "2023-02-03T06:22:55.733489Z",
     "iopub.status.busy": "2023-02-03T06:22:55.731053Z",
     "iopub.status.idle": "2023-02-03T06:22:55.897217Z",
     "shell.execute_reply": "2023-02-03T06:22:55.896367Z",
     "shell.execute_reply.started": "2023-02-03T06:22:55.733438Z"
    }
   },
   "outputs": [
    {
     "data": {
      "image/png": "[encoded data removed]",
      "text/plain": [
       "<Figure size 720x288 with 1 Axes>"
      ]
     },
     "metadata": {},
     "output_type": "display_data"
    }
   ],
   "source": [
    "plt.figure(figsize=(10,4))\n",
    "sns.countplot(x='Outlet_Location_Type' , data=tr_df ,palette='twilight_shifted')\n",
    "plt.xlabel('Outlet_Location_Type', fontsize=14)\n",
    "plt.show()"
   ]
  },
  {
   "cell_type": "code",
   "execution_count": 25,
   "metadata": {
    "execution": {
     "iopub.execute_input": "2023-02-03T06:22:56.508297Z",
     "iopub.status.busy": "2023-02-03T06:22:56.505903Z",
     "iopub.status.idle": "2023-02-03T06:22:56.673115Z",
     "shell.execute_reply": "2023-02-03T06:22:56.672250Z",
     "shell.execute_reply.started": "2023-02-03T06:22:56.508250Z"
    }
   },
   "outputs": [
    {
     "data": {
      "image/png": "[encoded data removed]",
      "text/plain": [
       "<Figure size 720x288 with 1 Axes>"
      ]
     },
     "metadata": {},
     "output_type": "display_data"
    }
   ],
   "source": [
    "plt.figure(figsize=(10,4))\n",
    "sns.countplot(x='Outlet_Type' , data=tr_df ,palette='rocket')\n",
    "plt.xlabel('Outlet_Type', fontsize=14)\n",
    "plt.show()"
   ]
  },
  {
   "cell_type": "code",
   "execution_count": 26,
   "metadata": {
    "execution": {
     "iopub.execute_input": "2023-02-03T06:22:58.110513Z",
     "iopub.status.busy": "2023-02-03T06:22:58.107907Z",
     "iopub.status.idle": "2023-02-03T06:22:58.399731Z",
     "shell.execute_reply": "2023-02-03T06:22:58.398792Z",
     "shell.execute_reply.started": "2023-02-03T06:22:58.110466Z"
    }
   },
   "outputs": [
    {
     "data": {
      "image/png": "[encoded data removed]",
      "text/plain": [
       "<Figure size 432x288 with 1 Axes>"
      ]
     },
     "metadata": {},
     "output_type": "display_data"
    }
   ],
   "source": [
    "#list of all the numeric columns\n",
    "num = te_df.select_dtypes('number').columns.to_list()\n",
    "#numeric df\n",
    "BM_num =  te_df[num]\n",
    "\n",
    "plt.hist(te_df['Outlet_Age'])\n",
    "plt.title(\"Outlet_Age\")\n",
    "plt.show()"
   ]
  },
  {
   "cell_type": "code",
   "execution_count": 27,
   "metadata": {
    "execution": {
     "iopub.execute_input": "2023-02-03T06:22:58.948605Z",
     "iopub.status.busy": "2023-02-03T06:22:58.946269Z",
     "iopub.status.idle": "2023-02-03T06:22:59.825141Z",
     "shell.execute_reply": "2023-02-03T06:22:59.824315Z",
     "shell.execute_reply.started": "2023-02-03T06:22:58.948560Z"
    },
    "scrolled": true
   },
   "outputs": [
    {
     "data": {
      "image/png": "[encoded data removed]",
      "text/plain": [
       "<Figure size 432x288 with 1 Axes>"
      ]
     },
     "metadata": {},
     "output_type": "display_data"
    },
    {
     "data": {
      "image/png": "[encoded data removed]",
      "text/plain": [
       "<Figure size 432x288 with 1 Axes>"
      ]
     },
     "metadata": {},
     "output_type": "display_data"
    },
    {
     "data": {
      "image/png": "[encoded data removed]",
      "text/plain": [
       "<Figure size 432x288 with 1 Axes>"
      ]
     },
     "metadata": {},
     "output_type": "display_data"
    }
   ],
   "source": [
    "#because of the variability of the unique values of the numeric columns a scatter plot with the target value will be of use\n",
    "for numeric in BM_num[num[:3]]:\n",
    "    plt.scatter(BM_num[numeric], BM_num['Item_Outlet_Sales'])\n",
    "    plt.title(numeric)\n",
    "    plt.ylabel('Item_Outlet_Sales')\n",
    "    plt.show()"
   ]
  },
  {
   "cell_type": "code",
   "execution_count": 28,
   "metadata": {},
   "outputs": [],
   "source": [
    "### 7).multivariate Analysis"
   ]
  },
  {
   "cell_type": "code",
   "execution_count": 29,
   "metadata": {
    "execution": {
     "iopub.execute_input": "2023-02-03T06:23:01.455306Z",
     "iopub.status.busy": "2023-02-03T06:23:01.452944Z",
     "iopub.status.idle": "2023-02-03T06:23:02.297048Z",
     "shell.execute_reply": "2023-02-03T06:23:02.296174Z",
     "shell.execute_reply.started": "2023-02-03T06:23:01.455261Z"
    }
   },
   "outputs": [
    {
     "name": "stderr",
     "output_type": "stream",
     "text": [
      "No artists with labels found to put in legend.  Note that artists whose label start with an underscore are ignored when legend() is called with no argument.\n"
     ]
    },
    {
     "data": {
      "image/png": "[encoded data removed]",
      "text/plain": [
       "<Figure size 1944x720 with 1 Axes>"
      ]
     },
     "metadata": {},
     "output_type": "display_data"
    }
   ],
   "source": [
    "plt.figure(figsize=(27,10))\n",
    "sns.barplot('Item_Type' ,'Item_Outlet_Sales', data=te_df ,palette='gist_rainbow_r')\n",
    "plt.xlabel('Item_Type', fontsize=14)\n",
    "plt.legend()\n",
    "plt.show()"
   ]
  },
  {
   "cell_type": "code",
   "execution_count": 30,
   "metadata": {
    "execution": {
     "iopub.execute_input": "2023-02-03T06:23:02.432224Z",
     "iopub.status.busy": "2023-02-03T06:23:02.429901Z",
     "iopub.status.idle": "2023-02-03T06:23:03.051549Z",
     "shell.execute_reply": "2023-02-03T06:23:03.050759Z",
     "shell.execute_reply.started": "2023-02-03T06:23:02.432180Z"
    }
   },
   "outputs": [
    {
     "name": "stderr",
     "output_type": "stream",
     "text": [
      "No artists with labels found to put in legend.  Note that artists whose label start with an underscore are ignored when legend() is called with no argument.\n"
     ]
    },
    {
     "data": {
      "image/png": "[encoded data removed]",
      "text/plain": [
       "<Figure size 1944x720 with 1 Axes>"
      ]
     },
     "metadata": {},
     "output_type": "display_data"
    }
   ],
   "source": [
    "plt.figure(figsize=(27,10))\n",
    "sns.barplot('Outlet_Identifier' ,'Item_Outlet_Sales', data=te_df ,palette='gist_rainbow')\n",
    "plt.xlabel('Outlet_Identifier', fontsize=14)\n",
    "plt.legend()\n",
    "plt.show()"
   ]
  },
  {
   "cell_type": "code",
   "execution_count": 31,
   "metadata": {
    "execution": {
     "iopub.execute_input": "2023-02-03T06:23:03.518398Z",
     "iopub.status.busy": "2023-02-03T06:23:03.515975Z",
     "iopub.status.idle": "2023-02-03T06:23:03.863055Z",
     "shell.execute_reply": "2023-02-03T06:23:03.862285Z",
     "shell.execute_reply.started": "2023-02-03T06:23:03.518336Z"
    }
   },
   "outputs": [
    {
     "name": "stderr",
     "output_type": "stream",
     "text": [
      "No artists with labels found to put in legend.  Note that artists whose label start with an underscore are ignored when legend() is called with no argument.\n"
     ]
    },
    {
     "data": {
      "image/png": "[encoded data removed]",
      "text/plain": [
       "<Figure size 720x360 with 1 Axes>"
      ]
     },
     "metadata": {},
     "output_type": "display_data"
    }
   ],
   "source": [
    "plt.figure(figsize=(10,5))\n",
    "sns.barplot('Outlet_Type' ,'Item_Outlet_Sales', data=te_df ,palette='nipy_spectral')\n",
    "plt.xlabel('Outlet_Type', fontsize=14)\n",
    "plt.legend()\n",
    "plt.show()"
   ]
  },
  {
   "cell_type": "code",
   "execution_count": 32,
   "metadata": {
    "execution": {
     "iopub.execute_input": "2023-02-03T06:23:04.342783Z",
     "iopub.status.busy": "2023-02-03T06:23:04.340383Z",
     "iopub.status.idle": "2023-02-03T06:23:04.636749Z",
     "shell.execute_reply": "2023-02-03T06:23:04.635816Z",
     "shell.execute_reply.started": "2023-02-03T06:23:04.342739Z"
    }
   },
   "outputs": [
    {
     "name": "stderr",
     "output_type": "stream",
     "text": [
      "No artists with labels found to put in legend.  Note that artists whose label start with an underscore are ignored when legend() is called with no argument.\n"
     ]
    },
    {
     "data": {
      "image/png": "[encoded data removed]",
      "text/plain": [
       "<Figure size 720x360 with 1 Axes>"
      ]
     },
     "metadata": {},
     "output_type": "display_data"
    }
   ],
   "source": [
    "plt.figure(figsize=(10,5))\n",
    "sns.barplot('Outlet_Size' ,'Item_Outlet_Sales', data=te_df ,palette='YlOrRd')\n",
    "plt.xlabel('Outlet_Size', fontsize=14)\n",
    "plt.legend()\n",
    "plt.show()"
   ]
  },
  {
   "cell_type": "code",
   "execution_count": 33,
   "metadata": {
    "execution": {
     "iopub.execute_input": "2023-02-03T06:23:05.153746Z",
     "iopub.status.busy": "2023-02-03T06:23:05.151239Z",
     "iopub.status.idle": "2023-02-03T06:23:05.450818Z",
     "shell.execute_reply": "2023-02-03T06:23:05.450051Z",
     "shell.execute_reply.started": "2023-02-03T06:23:05.153693Z"
    }
   },
   "outputs": [
    {
     "name": "stderr",
     "output_type": "stream",
     "text": [
      "No artists with labels found to put in legend.  Note that artists whose label start with an underscore are ignored when legend() is called with no argument.\n"
     ]
    },
    {
     "data": {
      "image/png": "[encoded data removed]",
      "text/plain": [
       "<Figure size 720x360 with 1 Axes>"
      ]
     },
     "metadata": {},
     "output_type": "display_data"
    }
   ],
   "source": [
    "plt.figure(figsize=(10,5))\n",
    "sns.barplot('Outlet_Location_Type' ,'Item_Outlet_Sales', data=te_df ,palette='Spectral')\n",
    "plt.xlabel('Outlet_Location_Type', fontsize=14)\n",
    "plt.legend()\n",
    "plt.show()"
   ]
  },
  {
   "cell_type": "markdown",
   "metadata": {},
   "source": [
    "### Corraltion Matrix\n"
   ]
  },
  {
   "cell_type": "code",
   "execution_count": 34,
   "metadata": {
    "execution": {
     "iopub.execute_input": "2023-02-03T06:23:07.787891Z",
     "iopub.status.busy": "2023-02-03T06:23:07.785482Z",
     "iopub.status.idle": "2023-02-03T06:23:08.215355Z",
     "shell.execute_reply": "2023-02-03T06:23:08.214190Z",
     "shell.execute_reply.started": "2023-02-03T06:23:07.787847Z"
    }
   },
   "outputs": [
    {
     "data": {
      "text/plain": [
       "<AxesSubplot:>"
      ]
     },
     "execution_count": 34,
     "metadata": {},
     "output_type": "execute_result"
    },
    {
     "data": {
      "image/png": "[encoded data removed]",
      "text/plain": [
       "<Figure size 432x288 with 2 Axes>"
      ]
     },
     "metadata": {},
     "output_type": "display_data"
    }
   ],
   "source": [
    "#plotting the correlation matrix\n",
    "sns.heatmap(te_df.corr() ,cmap='rocket')"
   ]
  },
  {
   "cell_type": "code",
   "execution_count": 35,
   "metadata": {
    "execution": {
     "iopub.execute_input": "2023-02-03T06:23:11.003438Z",
     "iopub.status.busy": "2023-02-03T06:23:11.000937Z",
     "iopub.status.idle": "2023-02-03T06:23:11.024182Z",
     "shell.execute_reply": "2023-02-03T06:23:11.023394Z",
     "shell.execute_reply.started": "2023-02-03T06:23:11.003389Z"
    },
    "scrolled": true
   },
   "outputs": [
    {
     "data": {
      "text/plain": [
       "Item_Identifier         1543\n",
       "Item_Fat_Content           5\n",
       "Item_Type                 16\n",
       "Outlet_Identifier         10\n",
       "Outlet_Size                3\n",
       "Outlet_Location_Type       3\n",
       "Outlet_Type                4\n",
       "dtype: int64"
      ]
     },
     "execution_count": 35,
     "metadata": {},
     "output_type": "execute_result"
    }
   ],
   "source": [
    "BM_cat.apply(lambda x: x.nunique()) #checking the number of unique values in each column"
   ]
  },
  {
   "cell_type": "markdown",
   "metadata": {},
   "source": [
    "### 10).Encoding Categorical Variables\n",
    "### 11).Label Encoding"
   ]
  },
  {
   "cell_type": "code",
   "execution_count": 36,
   "metadata": {
    "execution": {
     "iopub.execute_input": "2023-02-03T06:23:12.049592Z",
     "iopub.status.busy": "2023-02-03T06:23:12.047276Z",
     "iopub.status.idle": "2023-02-03T06:23:12.087702Z",
     "shell.execute_reply": "2023-02-03T06:23:12.086796Z",
     "shell.execute_reply.started": "2023-02-03T06:23:12.049545Z"
    }
   },
   "outputs": [
    {
     "data": {
      "text/html": [
       "<div>\n",
       "<style scoped>\n",
       "    .dataframe tbody tr th:only-of-type {\n",
       "        vertical-align: middle;\n",
       "    }\n",
       "\n",
       "    .dataframe tbody tr th {\n",
       "        vertical-align: top;\n",
       "    }\n",
       "\n",
       "    .dataframe thead th {\n",
       "        text-align: right;\n",
       "    }\n",
       "</style>\n",
       "<table border=\"1\" class=\"dataframe\">\n",
       "  <thead>\n",
       "    <tr style=\"text-align: right;\">\n",
       "      <th></th>\n",
       "      <th>Item_Identifier</th>\n",
       "      <th>Item_Weight</th>\n",
       "      <th>Item_Fat_Content</th>\n",
       "      <th>Item_Visibility</th>\n",
       "      <th>Item_Type</th>\n",
       "      <th>Item_MRP</th>\n",
       "      <th>Outlet_Identifier</th>\n",
       "      <th>Outlet_Establishment_Year</th>\n",
       "      <th>Outlet_Size</th>\n",
       "      <th>Outlet_Location_Type</th>\n",
       "      <th>Outlet_Type</th>\n",
       "      <th>Outlet_Age</th>\n",
       "    </tr>\n",
       "  </thead>\n",
       "  <tbody>\n",
       "    <tr>\n",
       "      <th>0</th>\n",
       "      <td>FDW58</td>\n",
       "      <td>20.750000</td>\n",
       "      <td>0</td>\n",
       "      <td>0.007565</td>\n",
       "      <td>Snack Foods</td>\n",
       "      <td>107.8622</td>\n",
       "      <td>OUT049</td>\n",
       "      <td>1999</td>\n",
       "      <td>1</td>\n",
       "      <td>0</td>\n",
       "      <td>Supermarket Type1</td>\n",
       "      <td>21</td>\n",
       "    </tr>\n",
       "    <tr>\n",
       "      <th>1</th>\n",
       "      <td>FDW14</td>\n",
       "      <td>8.300000</td>\n",
       "      <td>1</td>\n",
       "      <td>0.038428</td>\n",
       "      <td>Dairy</td>\n",
       "      <td>87.3198</td>\n",
       "      <td>OUT017</td>\n",
       "      <td>2007</td>\n",
       "      <td>1</td>\n",
       "      <td>1</td>\n",
       "      <td>Supermarket Type1</td>\n",
       "      <td>13</td>\n",
       "    </tr>\n",
       "    <tr>\n",
       "      <th>2</th>\n",
       "      <td>NCN55</td>\n",
       "      <td>14.600000</td>\n",
       "      <td>0</td>\n",
       "      <td>0.099575</td>\n",
       "      <td>Others</td>\n",
       "      <td>241.7538</td>\n",
       "      <td>OUT010</td>\n",
       "      <td>1998</td>\n",
       "      <td>1</td>\n",
       "      <td>2</td>\n",
       "      <td>Grocery Store</td>\n",
       "      <td>22</td>\n",
       "    </tr>\n",
       "    <tr>\n",
       "      <th>3</th>\n",
       "      <td>FDQ58</td>\n",
       "      <td>7.315000</td>\n",
       "      <td>0</td>\n",
       "      <td>0.015388</td>\n",
       "      <td>Snack Foods</td>\n",
       "      <td>155.0340</td>\n",
       "      <td>OUT017</td>\n",
       "      <td>2007</td>\n",
       "      <td>1</td>\n",
       "      <td>1</td>\n",
       "      <td>Supermarket Type1</td>\n",
       "      <td>13</td>\n",
       "    </tr>\n",
       "    <tr>\n",
       "      <th>4</th>\n",
       "      <td>FDY38</td>\n",
       "      <td>12.695633</td>\n",
       "      <td>1</td>\n",
       "      <td>0.118599</td>\n",
       "      <td>Dairy</td>\n",
       "      <td>234.2300</td>\n",
       "      <td>OUT027</td>\n",
       "      <td>1985</td>\n",
       "      <td>1</td>\n",
       "      <td>2</td>\n",
       "      <td>Supermarket Type3</td>\n",
       "      <td>35</td>\n",
       "    </tr>\n",
       "  </tbody>\n",
       "</table>\n",
       "</div>"
      ],
      "text/plain": [
       "  Item_Identifier  Item_Weight  Item_Fat_Content  Item_Visibility  \\\n",
       "0           FDW58    20.750000                 0         0.007565   \n",
       "1           FDW14     8.300000                 1         0.038428   \n",
       "2           NCN55    14.600000                 0         0.099575   \n",
       "3           FDQ58     7.315000                 0         0.015388   \n",
       "4           FDY38    12.695633                 1         0.118599   \n",
       "\n",
       "     Item_Type  Item_MRP Outlet_Identifier  Outlet_Establishment_Year  \\\n",
       "0  Snack Foods  107.8622            OUT049                       1999   \n",
       "1        Dairy   87.3198            OUT017                       2007   \n",
       "2       Others  241.7538            OUT010                       1998   \n",
       "3  Snack Foods  155.0340            OUT017                       2007   \n",
       "4        Dairy  234.2300            OUT027                       1985   \n",
       "\n",
       "   Outlet_Size  Outlet_Location_Type        Outlet_Type  Outlet_Age  \n",
       "0            1                     0  Supermarket Type1          21  \n",
       "1            1                     1  Supermarket Type1          13  \n",
       "2            1                     2      Grocery Store          22  \n",
       "3            1                     1  Supermarket Type1          13  \n",
       "4            1                     2  Supermarket Type3          35  "
      ]
     },
     "execution_count": 36,
     "metadata": {},
     "output_type": "execute_result"
    }
   ],
   "source": [
    "#lable encoding\n",
    "\n",
    "le = LabelEncoder()\n",
    "Label = ['Item_Fat_Content','Outlet_Size','Outlet_Location_Type']\n",
    "\n",
    "for i in Label:\n",
    "    tr_df[i] = le.fit_transform(tr_df[i])\n",
    "    te_df[i] = le.fit_transform(te_df[i])\n",
    "    \n",
    "tr_df.head()"
   ]
  },
  {
   "cell_type": "markdown",
   "metadata": {},
   "source": [
    "### 12).One Hot Encoding"
   ]
  },
  {
   "cell_type": "code",
   "execution_count": 37,
   "metadata": {
    "execution": {
     "iopub.execute_input": "2023-02-03T06:23:12.794324Z",
     "iopub.status.busy": "2023-02-03T06:23:12.791891Z",
     "iopub.status.idle": "2023-02-03T06:23:12.939254Z",
     "shell.execute_reply": "2023-02-03T06:23:12.938346Z",
     "shell.execute_reply.started": "2023-02-03T06:23:12.794277Z"
    }
   },
   "outputs": [],
   "source": [
    "#one hot encoding\n",
    "cols = ['Item_Type','Outlet_Type']\n",
    "# Apply one-hot encoder\n",
    "OH_encoder = OneHotEncoder(handle_unknown='ignore', sparse=False)\n",
    "tr_oh = pd.DataFrame(OH_encoder.fit_transform(tr_df[cols])).astype('int64')\n",
    "te_oh = pd.DataFrame(OH_encoder.fit_transform(te_df[cols])).astype('int64')\n",
    "\n",
    "\n",
    "#get feature columns\n",
    "tr_oh.columns = OH_encoder.get_feature_names(cols)\n",
    "te_oh.columns = OH_encoder.get_feature_names(cols)\n",
    "\n",
    "# One-hot encoding removed index; put it back\n",
    "tr_oh.index = tr_df.index\n",
    "te_oh.index = te_df.index\n",
    "\n",
    "# Add one-hot encoded columns to our main df new name: tr_fe, te_fe (means feature engeenired) \n",
    "tr_fe = pd.concat([tr_df, tr_oh], axis=1)\n",
    "te_fe = pd.concat([te_df, te_oh], axis=1)"
   ]
  },
  {
   "cell_type": "code",
   "execution_count": 38,
   "metadata": {
    "execution": {
     "iopub.execute_input": "2023-02-03T06:23:13.581725Z",
     "iopub.status.busy": "2023-02-03T06:23:13.579416Z",
     "iopub.status.idle": "2023-02-03T06:23:13.595409Z",
     "shell.execute_reply": "2023-02-03T06:23:13.594476Z",
     "shell.execute_reply.started": "2023-02-03T06:23:13.581680Z"
    }
   },
   "outputs": [],
   "source": [
    "# Dropping irrelevant columns\n",
    "\n",
    "tr_fe  = tr_fe.drop(['Item_Identifier','Outlet_Identifier','Outlet_Establishment_Year','Outlet_Type','Item_Type'],axis=1)\n",
    "te_fe = te_fe.drop(['Item_Identifier','Outlet_Identifier','Outlet_Establishment_Year','Outlet_Type','Item_Type'],axis=1)"
   ]
  },
  {
   "cell_type": "code",
   "execution_count": 39,
   "metadata": {
    "execution": {
     "iopub.execute_input": "2023-02-03T06:23:16.276890Z",
     "iopub.status.busy": "2023-02-03T06:23:16.274552Z",
     "iopub.status.idle": "2023-02-03T06:23:16.305874Z",
     "shell.execute_reply": "2023-02-03T06:23:16.305072Z",
     "shell.execute_reply.started": "2023-02-03T06:23:16.276843Z"
    }
   },
   "outputs": [
    {
     "data": {
      "text/html": [
       "<div>\n",
       "<style scoped>\n",
       "    .dataframe tbody tr th:only-of-type {\n",
       "        vertical-align: middle;\n",
       "    }\n",
       "\n",
       "    .dataframe tbody tr th {\n",
       "        vertical-align: top;\n",
       "    }\n",
       "\n",
       "    .dataframe thead th {\n",
       "        text-align: right;\n",
       "    }\n",
       "</style>\n",
       "<table border=\"1\" class=\"dataframe\">\n",
       "  <thead>\n",
       "    <tr style=\"text-align: right;\">\n",
       "      <th></th>\n",
       "      <th>Item_Weight</th>\n",
       "      <th>Item_Fat_Content</th>\n",
       "      <th>Item_Visibility</th>\n",
       "      <th>Item_MRP</th>\n",
       "      <th>Outlet_Size</th>\n",
       "      <th>Outlet_Location_Type</th>\n",
       "      <th>Outlet_Age</th>\n",
       "      <th>Item_Type_Baking Goods</th>\n",
       "      <th>Item_Type_Breads</th>\n",
       "      <th>Item_Type_Breakfast</th>\n",
       "      <th>...</th>\n",
       "      <th>Item_Type_Meat</th>\n",
       "      <th>Item_Type_Others</th>\n",
       "      <th>Item_Type_Seafood</th>\n",
       "      <th>Item_Type_Snack Foods</th>\n",
       "      <th>Item_Type_Soft Drinks</th>\n",
       "      <th>Item_Type_Starchy Foods</th>\n",
       "      <th>Outlet_Type_Grocery Store</th>\n",
       "      <th>Outlet_Type_Supermarket Type1</th>\n",
       "      <th>Outlet_Type_Supermarket Type2</th>\n",
       "      <th>Outlet_Type_Supermarket Type3</th>\n",
       "    </tr>\n",
       "  </thead>\n",
       "  <tbody>\n",
       "    <tr>\n",
       "      <th>0</th>\n",
       "      <td>20.750000</td>\n",
       "      <td>0</td>\n",
       "      <td>0.007565</td>\n",
       "      <td>107.8622</td>\n",
       "      <td>1</td>\n",
       "      <td>0</td>\n",
       "      <td>21</td>\n",
       "      <td>0</td>\n",
       "      <td>0</td>\n",
       "      <td>0</td>\n",
       "      <td>...</td>\n",
       "      <td>0</td>\n",
       "      <td>0</td>\n",
       "      <td>0</td>\n",
       "      <td>1</td>\n",
       "      <td>0</td>\n",
       "      <td>0</td>\n",
       "      <td>0</td>\n",
       "      <td>1</td>\n",
       "      <td>0</td>\n",
       "      <td>0</td>\n",
       "    </tr>\n",
       "    <tr>\n",
       "      <th>1</th>\n",
       "      <td>8.300000</td>\n",
       "      <td>1</td>\n",
       "      <td>0.038428</td>\n",
       "      <td>87.3198</td>\n",
       "      <td>1</td>\n",
       "      <td>1</td>\n",
       "      <td>13</td>\n",
       "      <td>0</td>\n",
       "      <td>0</td>\n",
       "      <td>0</td>\n",
       "      <td>...</td>\n",
       "      <td>0</td>\n",
       "      <td>0</td>\n",
       "      <td>0</td>\n",
       "      <td>0</td>\n",
       "      <td>0</td>\n",
       "      <td>0</td>\n",
       "      <td>0</td>\n",
       "      <td>1</td>\n",
       "      <td>0</td>\n",
       "      <td>0</td>\n",
       "    </tr>\n",
       "    <tr>\n",
       "      <th>2</th>\n",
       "      <td>14.600000</td>\n",
       "      <td>0</td>\n",
       "      <td>0.099575</td>\n",
       "      <td>241.7538</td>\n",
       "      <td>1</td>\n",
       "      <td>2</td>\n",
       "      <td>22</td>\n",
       "      <td>0</td>\n",
       "      <td>0</td>\n",
       "      <td>0</td>\n",
       "      <td>...</td>\n",
       "      <td>0</td>\n",
       "      <td>1</td>\n",
       "      <td>0</td>\n",
       "      <td>0</td>\n",
       "      <td>0</td>\n",
       "      <td>0</td>\n",
       "      <td>1</td>\n",
       "      <td>0</td>\n",
       "      <td>0</td>\n",
       "      <td>0</td>\n",
       "    </tr>\n",
       "    <tr>\n",
       "      <th>3</th>\n",
       "      <td>7.315000</td>\n",
       "      <td>0</td>\n",
       "      <td>0.015388</td>\n",
       "      <td>155.0340</td>\n",
       "      <td>1</td>\n",
       "      <td>1</td>\n",
       "      <td>13</td>\n",
       "      <td>0</td>\n",
       "      <td>0</td>\n",
       "      <td>0</td>\n",
       "      <td>...</td>\n",
       "      <td>0</td>\n",
       "      <td>0</td>\n",
       "      <td>0</td>\n",
       "      <td>1</td>\n",
       "      <td>0</td>\n",
       "      <td>0</td>\n",
       "      <td>0</td>\n",
       "      <td>1</td>\n",
       "      <td>0</td>\n",
       "      <td>0</td>\n",
       "    </tr>\n",
       "    <tr>\n",
       "      <th>4</th>\n",
       "      <td>12.695633</td>\n",
       "      <td>1</td>\n",
       "      <td>0.118599</td>\n",
       "      <td>234.2300</td>\n",
       "      <td>1</td>\n",
       "      <td>2</td>\n",
       "      <td>35</td>\n",
       "      <td>0</td>\n",
       "      <td>0</td>\n",
       "      <td>0</td>\n",
       "      <td>...</td>\n",
       "      <td>0</td>\n",
       "      <td>0</td>\n",
       "      <td>0</td>\n",
       "      <td>0</td>\n",
       "      <td>0</td>\n",
       "      <td>0</td>\n",
       "      <td>0</td>\n",
       "      <td>0</td>\n",
       "      <td>0</td>\n",
       "      <td>1</td>\n",
       "    </tr>\n",
       "  </tbody>\n",
       "</table>\n",
       "<p>5 rows × 27 columns</p>\n",
       "</div>"
      ],
      "text/plain": [
       "   Item_Weight  Item_Fat_Content  Item_Visibility  Item_MRP  Outlet_Size  \\\n",
       "0    20.750000                 0         0.007565  107.8622            1   \n",
       "1     8.300000                 1         0.038428   87.3198            1   \n",
       "2    14.600000                 0         0.099575  241.7538            1   \n",
       "3     7.315000                 0         0.015388  155.0340            1   \n",
       "4    12.695633                 1         0.118599  234.2300            1   \n",
       "\n",
       "   Outlet_Location_Type  Outlet_Age  Item_Type_Baking Goods  Item_Type_Breads  \\\n",
       "0                     0          21                       0                 0   \n",
       "1                     1          13                       0                 0   \n",
       "2                     2          22                       0                 0   \n",
       "3                     1          13                       0                 0   \n",
       "4                     2          35                       0                 0   \n",
       "\n",
       "   Item_Type_Breakfast  ...  Item_Type_Meat  Item_Type_Others  \\\n",
       "0                    0  ...               0                 0   \n",
       "1                    0  ...               0                 0   \n",
       "2                    0  ...               0                 1   \n",
       "3                    0  ...               0                 0   \n",
       "4                    0  ...               0                 0   \n",
       "\n",
       "   Item_Type_Seafood  Item_Type_Snack Foods  Item_Type_Soft Drinks  \\\n",
       "0                  0                      1                      0   \n",
       "1                  0                      0                      0   \n",
       "2                  0                      0                      0   \n",
       "3                  0                      1                      0   \n",
       "4                  0                      0                      0   \n",
       "\n",
       "   Item_Type_Starchy Foods  Outlet_Type_Grocery Store  \\\n",
       "0                        0                          0   \n",
       "1                        0                          0   \n",
       "2                        0                          1   \n",
       "3                        0                          0   \n",
       "4                        0                          0   \n",
       "\n",
       "   Outlet_Type_Supermarket Type1  Outlet_Type_Supermarket Type2  \\\n",
       "0                              1                              0   \n",
       "1                              1                              0   \n",
       "2                              0                              0   \n",
       "3                              1                              0   \n",
       "4                              0                              0   \n",
       "\n",
       "   Outlet_Type_Supermarket Type3  \n",
       "0                              0  \n",
       "1                              0  \n",
       "2                              0  \n",
       "3                              0  \n",
       "4                              1  \n",
       "\n",
       "[5 rows x 27 columns]"
      ]
     },
     "execution_count": 39,
     "metadata": {},
     "output_type": "execute_result"
    }
   ],
   "source": [
    "tr_fe.head()"
   ]
  },
  {
   "cell_type": "markdown",
   "metadata": {},
   "source": [
    "### 13).PreProcessing Data"
   ]
  },
  {
   "cell_type": "code",
   "execution_count": 40,
   "metadata": {
    "execution": {
     "iopub.execute_input": "2023-02-03T06:23:18.224814Z",
     "iopub.status.busy": "2023-02-03T06:23:18.222382Z",
     "iopub.status.idle": "2023-02-03T06:23:18.237123Z",
     "shell.execute_reply": "2023-02-03T06:23:18.236167Z",
     "shell.execute_reply.started": "2023-02-03T06:23:18.224767Z"
    }
   },
   "outputs": [],
   "source": [
    "y = te_fe['Item_Outlet_Sales']\n",
    "X = te_fe.drop('Item_Outlet_Sales', axis = 1)\n",
    "X_train, X_test, y_train, y_test = train_test_split(X, y, test_size = 0.8, random_state = 0)"
   ]
  },
  {
   "cell_type": "code",
   "execution_count": 41,
   "metadata": {
    "execution": {
     "iopub.execute_input": "2023-02-03T06:23:19.415287Z",
     "iopub.status.busy": "2023-02-03T06:23:19.412856Z",
     "iopub.status.idle": "2023-02-03T06:23:19.422627Z",
     "shell.execute_reply": "2023-02-03T06:23:19.421786Z",
     "shell.execute_reply.started": "2023-02-03T06:23:19.415238Z"
    }
   },
   "outputs": [],
   "source": [
    "def cross_val(model_name,model,X,y,cv):\n",
    "    \n",
    "    scores = CVS(model, X, y, cv=cv)\n",
    "    print(f'{model_name} Scores:')\n",
    "    for i in scores:\n",
    "        print(round(i,2))\n",
    "    print(f'Average {model_name} score: {round(scores.mean(),4)}')"
   ]
  },
  {
   "cell_type": "markdown",
   "metadata": {},
   "source": [
    "### 14).Modeling\n",
    "- 15).Linear Regression"
   ]
  },
  {
   "cell_type": "code",
   "execution_count": 42,
   "metadata": {
    "execution": {
     "iopub.execute_input": "2023-02-03T06:23:21.549831Z",
     "iopub.status.busy": "2023-02-03T06:23:21.549173Z",
     "iopub.status.idle": "2023-02-03T06:23:21.717977Z",
     "shell.execute_reply": "2023-02-03T06:23:21.717138Z",
     "shell.execute_reply.started": "2023-02-03T06:23:21.549792Z"
    }
   },
   "outputs": [
    {
     "name": "stdout",
     "output_type": "stream",
     "text": [
      " Mean Absolute Error: 838.2\n",
      "\n",
      " Mean Squared Error: 1285809.57\n",
      "\n",
      " R^2 Score: 0.5593\n",
      "\n",
      "LinearRegression(normalize=True) Scores:\n",
      "0.57\n",
      "0.55\n",
      "0.55\n",
      "0.56\n",
      "0.56\n",
      "Average LinearRegression(normalize=True) score: 0.558\n"
     ]
    }
   ],
   "source": [
    "#model\n",
    "LR = LinearRegression(normalize=True)\n",
    "\n",
    "#fit\n",
    "LR.fit(X_train, y_train)\n",
    "\n",
    "#predict\n",
    "y_predict = LR.predict(X_test)\n",
    "\n",
    "#score variables\n",
    "LR_MAE = round(MAE(y_test, y_predict),2)\n",
    "LR_MSE = round(MSE(y_test, y_predict),2)\n",
    "LR_R_2 = round(R2(y_test, y_predict),4)\n",
    "LR_CS  = round(CVS(LR, X, y, cv=5).mean(),4)\n",
    "\n",
    "print(f\" Mean Absolute Error: {LR_MAE}\\n\")\n",
    "print(f\" Mean Squared Error: {LR_MSE}\\n\")\n",
    "print(f\" R^2 Score: {LR_R_2}\\n\")\n",
    "cross_val(LR,LinearRegression(),X,y,5)"
   ]
  },
  {
   "cell_type": "markdown",
   "metadata": {},
   "source": [
    "- 17).RandomForest"
   ]
  },
  {
   "cell_type": "code",
   "execution_count": 43,
   "metadata": {},
   "outputs": [
    {
     "name": "stdout",
     "output_type": "stream",
     "text": [
      " Mean Absolute Error: 1030.27\n",
      "\n",
      " Mean Squared Error: 1964025.66\n",
      "\n",
      " R^2 Score: 0.3268\n",
      "\n",
      "RandomForestRegressor(max_depth=5, min_samples_leaf=100, n_estimators=200,\n",
      "                      n_jobs=4, random_state=101) Scores:\n",
      "0.57\n",
      "0.53\n",
      "0.52\n",
      "0.56\n",
      "0.56\n",
      "Average RandomForestRegressor(max_depth=5, min_samples_leaf=100, n_estimators=200,\n",
      "                      n_jobs=4, random_state=101) score: 0.5474\n"
     ]
    }
   ],
   "source": [
    "#model\n",
    "RFR= RandomForestRegressor(n_estimators=200,max_depth=5, min_samples_leaf=100,n_jobs=4,random_state=101)\n",
    "#fit\n",
    "RFR.fit(X_train, y_train)\n",
    "#predict\n",
    "y_predict = RFR.predict(X_test)\n",
    "\n",
    "#score variables\n",
    "RFR_MAE = round(MAE(y_test, y_predict),2)\n",
    "RFR_MSE = round(MSE(y_test, y_predict),2)\n",
    "RFR_R_2 = round(R2(y_test, y_predict),4)\n",
    "RFR_CS  = round(CVS(RFR, X, y, cv=5).mean(),4)\n",
    "\n",
    "\n",
    "\n",
    "print(f\" Mean Absolute Error: {RFR_MAE}\\n\")\n",
    "print(f\" Mean Squared Error: {RFR_MSE}\\n\")\n",
    "print(f\" R^2 Score: {RFR_R_2}\\n\")\n",
    "cross_val(RFR,RandomForestRegressor(),X,y,5)\n"
   ]
  },
  {
   "cell_type": "markdown",
   "metadata": {},
   "source": [
    "- 16).Regularized Linear Regression"
   ]
  },
  {
   "cell_type": "code",
   "execution_count": 44,
   "metadata": {},
   "outputs": [
    {
     "name": "stdout",
     "output_type": "stream",
     "text": [
      " Mean Absolute Error: 838.07\n",
      "\n",
      " Mean Squared Error: 1285554.86\n",
      "\n",
      " R^2 Score: 0.5594\n",
      "\n",
      "Lasso(alpha=0.05) Scores:\n",
      "0.57\n",
      "0.55\n",
      "0.55\n",
      "0.56\n",
      "0.56\n",
      "Average Lasso(alpha=0.05) score: 0.5581\n"
     ]
    }
   ],
   "source": [
    "#model\n",
    "LS = Lasso(alpha = 0.05)\n",
    "#fit\n",
    "LS.fit(X_train,y_train)\n",
    "\n",
    "#predict\n",
    "y_predict = LS.predict(X_test)\n",
    "\n",
    "#score variables\n",
    "LS_MAE = round(MAE(y_test, y_predict),2)\n",
    "LS_MSE = round(MSE(y_test, y_predict),2)\n",
    "LS_R_2 = round(R2(y_test, y_predict),4)\n",
    "LS_CS  = round(CVS(LS, X, y, cv=5).mean(),4)\n",
    "\n",
    "print(f\" Mean Absolute Error: {LS_MAE}\\n\")\n",
    "print(f\" Mean Squared Error: {LS_MSE}\\n\")\n",
    "print(f\" R^2 Score: {LS_R_2}\\n\")\n",
    "cross_val(LS,Lasso(alpha = 0.05),X,y,5)"
   ]
  },
  {
   "cell_type": "markdown",
   "metadata": {},
   "source": [
    "- 18).XGBoost"
   ]
  },
  {
   "cell_type": "code",
   "execution_count": 46,
   "metadata": {
    "scrolled": true
   },
   "outputs": [
    {
     "name": "stdout",
     "output_type": "stream",
     "text": [
      "[12:22:26] WARNING: C:/buildkite-agent/builds/buildkite-windows-cpu-autoscaling-group-i-03de431ba26204c4d-1/xgboost/xgboost-ci-windows/src/objective/regression_obj.cu:213: reg:linear is now deprecated in favor of reg:squarederror.\n",
      " Mean Squared Error: 1133.8231183295522\n",
      "\n",
      " Mean Absolute Error: 838.07\n",
      "\n",
      " R^2 Score: 0.5594\n",
      "\n",
      "[12:22:26] WARNING: C:/buildkite-agent/builds/buildkite-windows-cpu-autoscaling-group-i-03de431ba26204c4d-1/xgboost/xgboost-ci-windows/src/objective/regression_obj.cu:213: reg:linear is now deprecated in favor of reg:squarederror.\n",
      "[12:22:26] WARNING: C:/buildkite-agent/builds/buildkite-windows-cpu-autoscaling-group-i-03de431ba26204c4d-1/xgboost/xgboost-ci-windows/src/objective/regression_obj.cu:213: reg:linear is now deprecated in favor of reg:squarederror.\n",
      "[12:22:26] WARNING: C:/buildkite-agent/builds/buildkite-windows-cpu-autoscaling-group-i-03de431ba26204c4d-1/xgboost/xgboost-ci-windows/src/objective/regression_obj.cu:213: reg:linear is now deprecated in favor of reg:squarederror.\n",
      "[12:22:26] WARNING: C:/buildkite-agent/builds/buildkite-windows-cpu-autoscaling-group-i-03de431ba26204c4d-1/xgboost/xgboost-ci-windows/src/objective/regression_obj.cu:213: reg:linear is now deprecated in favor of reg:squarederror.\n",
      "[12:22:26] WARNING: C:/buildkite-agent/builds/buildkite-windows-cpu-autoscaling-group-i-03de431ba26204c4d-1/xgboost/xgboost-ci-windows/src/objective/regression_obj.cu:213: reg:linear is now deprecated in favor of reg:squarederror.\n",
      "XGBRegressor(base_score=0.5, booster='gbtree', callbacks=None,\n",
      "             colsample_bylevel=1, colsample_bynode=1, colsample_bytree=1,\n",
      "             early_stopping_rounds=None, enable_categorical=False,\n",
      "             eval_metric=None, feature_types=None, gamma=0, gpu_id=-1,\n",
      "             grow_policy='depthwise', importance_type=None,\n",
      "             interaction_constraints='', learning_rate=0.300000012, max_bin=256,\n",
      "             max_cat_threshold=64, max_cat_to_onehot=4, max_delta_step=0,\n",
      "             max_depth=6, max_leaves=0, min_child_weight=1, missing=nan,\n",
      "             monotone_constraints='()', n_estimators=10, n_jobs=0,\n",
      "             num_parallel_tree=1, objective='reg:linear', predictor='auto', ...) Scores:\n",
      "0.54\n",
      "0.51\n",
      "0.49\n",
      "0.52\n",
      "0.55\n",
      "Average XGBRegressor(base_score=0.5, booster='gbtree', callbacks=None,\n",
      "             colsample_bylevel=1, colsample_bynode=1, colsample_bytree=1,\n",
      "             early_stopping_rounds=None, enable_categorical=False,\n",
      "             eval_metric=None, feature_types=None, gamma=0, gpu_id=-1,\n",
      "             grow_policy='depthwise', importance_type=None,\n",
      "             interaction_constraints='', learning_rate=0.300000012, max_bin=256,\n",
      "             max_cat_threshold=64, max_cat_to_onehot=4, max_delta_step=0,\n",
      "             max_depth=6, max_leaves=0, min_child_weight=1, missing=nan,\n",
      "             monotone_constraints='()', n_estimators=10, n_jobs=0,\n",
      "             num_parallel_tree=1, objective='reg:linear', predictor='auto', ...) score: 0.523\n"
     ]
    }
   ],
   "source": [
    "import xgboost as xg\n",
    "from sklearn.model_selection import train_test_split\n",
    "from sklearn.metrics import mean_squared_error as MSE\n",
    "\n",
    "# Splitting\n",
    "X_train, X_test, y_train, y_test = train_test_split(X, y, test_size = 0.8, random_state = 0)\n",
    "  \n",
    "# Instantiation\n",
    "xgb_r = xg.XGBRegressor(objective ='reg:linear',\n",
    "                  n_estimators = 10, seed = 123)\n",
    "\n",
    "# Fitting the model\n",
    "xgb_r.fit(X_train, y_train)\n",
    "  \n",
    "# Predict the model\n",
    "pred = xgb_r.predict(X_test)\n",
    "\n",
    "# RMSE Computation\n",
    "rmse = np.sqrt(MSE(y_test, y_predict))\n",
    "print(f\" Mean Squared Error: {rmse}\\n\")\n",
    "xgb_mae = np.sqrt(MAE(y_test, y_predict))\n",
    "print(f\" Mean Absolute Error: {LS_MAE}\\n\")\n",
    "xgb_R_2 = round(R2(y_test, y_predict),4)\n",
    "print(f\" R^2 Score: {xgb_R_2}\\n\")\n",
    "xgb_CS  = round(CVS(xgb_r, X, y, cv=5).mean(),4)\n",
    "cross_val(xgb_r,xg.XGBRegressor(alpha = 0.05),X,y,5)"
   ]
  },
  {
   "cell_type": "markdown",
   "metadata": {},
   "source": [
    "### 19).Summary"
   ]
  },
  {
   "cell_type": "code",
   "execution_count": 48,
   "metadata": {
    "scrolled": true
   },
   "outputs": [
    {
     "data": {
      "text/html": [
       "<div>\n",
       "<style scoped>\n",
       "    .dataframe tbody tr th:only-of-type {\n",
       "        vertical-align: middle;\n",
       "    }\n",
       "\n",
       "    .dataframe tbody tr th {\n",
       "        vertical-align: top;\n",
       "    }\n",
       "\n",
       "    .dataframe thead th {\n",
       "        text-align: right;\n",
       "    }\n",
       "</style>\n",
       "<table border=\"1\" class=\"dataframe\">\n",
       "  <thead>\n",
       "    <tr style=\"text-align: right;\">\n",
       "      <th></th>\n",
       "      <th>models</th>\n",
       "      <th>MSE</th>\n",
       "      <th>MAE</th>\n",
       "      <th>R_2</th>\n",
       "      <th>Cross_score</th>\n",
       "    </tr>\n",
       "  </thead>\n",
       "  <tbody>\n",
       "    <tr>\n",
       "      <th>0</th>\n",
       "      <td>Linear Regression</td>\n",
       "      <td>1.285810e+06</td>\n",
       "      <td>838.200000</td>\n",
       "      <td>0.5593</td>\n",
       "      <td>0.5580</td>\n",
       "    </tr>\n",
       "    <tr>\n",
       "      <th>2</th>\n",
       "      <td>Lasso Regressor</td>\n",
       "      <td>1.285555e+06</td>\n",
       "      <td>838.070000</td>\n",
       "      <td>0.5594</td>\n",
       "      <td>0.5581</td>\n",
       "    </tr>\n",
       "    <tr>\n",
       "      <th>3</th>\n",
       "      <td>xgboost</td>\n",
       "      <td>1.133823e+03</td>\n",
       "      <td>28.949381</td>\n",
       "      <td>0.5594</td>\n",
       "      <td>0.5864</td>\n",
       "    </tr>\n",
       "    <tr>\n",
       "      <th>1</th>\n",
       "      <td>Random Forest Regressor</td>\n",
       "      <td>1.964026e+06</td>\n",
       "      <td>1030.270000</td>\n",
       "      <td>0.3268</td>\n",
       "      <td>0.5920</td>\n",
       "    </tr>\n",
       "  </tbody>\n",
       "</table>\n",
       "</div>"
      ],
      "text/plain": [
       "                    models           MSE          MAE     R_2  Cross_score\n",
       "0        Linear Regression  1.285810e+06   838.200000  0.5593       0.5580\n",
       "2          Lasso Regressor  1.285555e+06   838.070000  0.5594       0.5581\n",
       "3                  xgboost  1.133823e+03    28.949381  0.5594       0.5864\n",
       "1  Random Forest Regressor  1.964026e+06  1030.270000  0.3268       0.5920"
      ]
     },
     "execution_count": 48,
     "metadata": {},
     "output_type": "execute_result"
    }
   ],
   "source": [
    "MAE= [LR_MAE,RFR_MAE,LS_MAE,xgb_mae]\n",
    "MSE= [LR_MSE,RFR_MSE,LS_MSE,rmse]\n",
    "R_2= [LR_R_2,RFR_R_2,LS_R_2,xgb_R_2]\n",
    "Cross_score= [LR_CS,RFR_CS,LS_CS,xgb_CS]\n",
    "\n",
    "Models = pd.DataFrame({\n",
    "    'models': [\"Linear Regression\",\"Random Forest Regressor\",\"Lasso Regressor\",\"xgboost\"],\n",
    "    'MSE': MSE,'MAE':MAE,'R_2':R_2,'Cross_score':Cross_score })\n",
    "Models.sort_values(by='Cross_score', ascending=True)"
   ]
  },
  {
   "cell_type": "markdown",
   "metadata": {},
   "source": [
    "### conclusion"
   ]
  },
  {
   "cell_type": "markdown",
   "metadata": {},
   "source": [
    "- by the above summary we can find all the rmsc,cross_score values of all the 4 models (linear regressor,linear regressor with regulization,random forest regressor,xgboost)in ascending order"
   ]
  }
 ],
 "metadata": {
  "kernelspec": {
   "display_name": "Python 3 (ipykernel)",
   "language": "python",
   "name": "python3"
  },
  "language_info": {
   "codemirror_mode": {
    "name": "ipython",
    "version": 3
   },
   "file_extension": ".py",
   "mimetype": "text/x-python",
   "name": "python",
   "nbconvert_exporter": "python",
   "pygments_lexer": "ipython3",
   "version": "3.9.12"
  }
 },
 "nbformat": 4,
 "nbformat_minor": 4
}
