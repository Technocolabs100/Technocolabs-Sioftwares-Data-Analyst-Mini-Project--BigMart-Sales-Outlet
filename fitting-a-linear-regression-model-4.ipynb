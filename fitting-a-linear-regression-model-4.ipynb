{
 "cells": [
  {
   "cell_type": "code",
   "execution_count": 1,
   "id": "0b2fb0e9",
   "metadata": {
    "_cell_guid": "b1076dfc-b9ad-4769-8c92-a6c4dae69d19",
    "_uuid": "8f2839f25d086af736a60e9eeb907d3b93b6e0e5",
    "execution": {
     "iopub.execute_input": "2023-02-05T21:10:20.756010Z",
     "iopub.status.busy": "2023-02-05T21:10:20.755507Z",
     "iopub.status.idle": "2023-02-05T21:10:21.946754Z",
     "shell.execute_reply": "2023-02-05T21:10:21.945529Z"
    },
    "papermill": {
     "duration": 1.209428,
     "end_time": "2023-02-05T21:10:21.949336",
     "exception": false,
     "start_time": "2023-02-05T21:10:20.739908",
     "status": "completed"
    },
    "tags": []
   },
   "outputs": [
    {
     "name": "stdout",
     "output_type": "stream",
     "text": [
      "Setup Complete\n"
     ]
    }
   ],
   "source": [
    "import pandas as pd\n",
    "import numpy as np\n",
    "pd.plotting.register_matplotlib_converters()\n",
    "import matplotlib.pyplot as plt\n",
    "%matplotlib inline\n",
    "import seaborn as sns\n",
    "import sklearn\n",
    "print(\"Setup Complete\")"
   ]
  },
  {
   "cell_type": "code",
   "execution_count": 2,
   "id": "a0612c35",
   "metadata": {
    "execution": {
     "iopub.execute_input": "2023-02-05T21:10:21.973627Z",
     "iopub.status.busy": "2023-02-05T21:10:21.973171Z",
     "iopub.status.idle": "2023-02-05T21:10:22.052109Z",
     "shell.execute_reply": "2023-02-05T21:10:22.050913Z"
    },
    "papermill": {
     "duration": 0.094537,
     "end_time": "2023-02-05T21:10:22.055142",
     "exception": false,
     "start_time": "2023-02-05T21:10:21.960605",
     "status": "completed"
    },
    "tags": []
   },
   "outputs": [],
   "source": [
    "train_path = \"/kaggle/input/data-clean-2/data_clean_2.csv\"\n",
    "\n",
    "train_data = pd.read_csv(train_path)"
   ]
  },
  {
   "cell_type": "code",
   "execution_count": 3,
   "id": "b214983c",
   "metadata": {
    "execution": {
     "iopub.execute_input": "2023-02-05T21:10:22.079644Z",
     "iopub.status.busy": "2023-02-05T21:10:22.079179Z",
     "iopub.status.idle": "2023-02-05T21:10:22.115487Z",
     "shell.execute_reply": "2023-02-05T21:10:22.114603Z"
    },
    "papermill": {
     "duration": 0.051369,
     "end_time": "2023-02-05T21:10:22.117749",
     "exception": false,
     "start_time": "2023-02-05T21:10:22.066380",
     "status": "completed"
    },
    "tags": []
   },
   "outputs": [
    {
     "data": {
      "text/html": [
       "<div>\n",
       "<style scoped>\n",
       "    .dataframe tbody tr th:only-of-type {\n",
       "        vertical-align: middle;\n",
       "    }\n",
       "\n",
       "    .dataframe tbody tr th {\n",
       "        vertical-align: top;\n",
       "    }\n",
       "\n",
       "    .dataframe thead th {\n",
       "        text-align: right;\n",
       "    }\n",
       "</style>\n",
       "<table border=\"1\" class=\"dataframe\">\n",
       "  <thead>\n",
       "    <tr style=\"text-align: right;\">\n",
       "      <th></th>\n",
       "      <th>Unnamed: 0</th>\n",
       "      <th>Item_Identifier</th>\n",
       "      <th>Item_Weight</th>\n",
       "      <th>Item_Visibility</th>\n",
       "      <th>Item_Type</th>\n",
       "      <th>Item_MRP</th>\n",
       "      <th>Outlet_Identifier</th>\n",
       "      <th>Outlet_Establishment_Year</th>\n",
       "      <th>Item_Outlet_Sales</th>\n",
       "      <th>Item_Fat_Content_0</th>\n",
       "      <th>...</th>\n",
       "      <th>Outlet_Location_Type_0</th>\n",
       "      <th>Outlet_Location_Type_1</th>\n",
       "      <th>Outlet_Location_Type_2</th>\n",
       "      <th>Outlet_Type_0</th>\n",
       "      <th>Outlet_Type_1</th>\n",
       "      <th>Outlet_Type_2</th>\n",
       "      <th>Outlet_Type_3</th>\n",
       "      <th>Item_Type_Combined_0</th>\n",
       "      <th>Item_Type_Combined_1</th>\n",
       "      <th>Item_Type_Combined_2</th>\n",
       "    </tr>\n",
       "  </thead>\n",
       "  <tbody>\n",
       "    <tr>\n",
       "      <th>0</th>\n",
       "      <td>0</td>\n",
       "      <td>FDA15</td>\n",
       "      <td>9.30</td>\n",
       "      <td>0.016047</td>\n",
       "      <td>Dairy</td>\n",
       "      <td>249.8092</td>\n",
       "      <td>OUT049</td>\n",
       "      <td>1999</td>\n",
       "      <td>3735.1380</td>\n",
       "      <td>1</td>\n",
       "      <td>...</td>\n",
       "      <td>1</td>\n",
       "      <td>0</td>\n",
       "      <td>0</td>\n",
       "      <td>0</td>\n",
       "      <td>1</td>\n",
       "      <td>0</td>\n",
       "      <td>0</td>\n",
       "      <td>0</td>\n",
       "      <td>1</td>\n",
       "      <td>0</td>\n",
       "    </tr>\n",
       "    <tr>\n",
       "      <th>1</th>\n",
       "      <td>1</td>\n",
       "      <td>DRC01</td>\n",
       "      <td>5.92</td>\n",
       "      <td>0.019278</td>\n",
       "      <td>Soft Drinks</td>\n",
       "      <td>48.2692</td>\n",
       "      <td>OUT018</td>\n",
       "      <td>2009</td>\n",
       "      <td>443.4228</td>\n",
       "      <td>0</td>\n",
       "      <td>...</td>\n",
       "      <td>0</td>\n",
       "      <td>0</td>\n",
       "      <td>1</td>\n",
       "      <td>0</td>\n",
       "      <td>0</td>\n",
       "      <td>1</td>\n",
       "      <td>0</td>\n",
       "      <td>1</td>\n",
       "      <td>0</td>\n",
       "      <td>0</td>\n",
       "    </tr>\n",
       "    <tr>\n",
       "      <th>2</th>\n",
       "      <td>2</td>\n",
       "      <td>FDN15</td>\n",
       "      <td>17.50</td>\n",
       "      <td>0.016760</td>\n",
       "      <td>Meat</td>\n",
       "      <td>141.6180</td>\n",
       "      <td>OUT049</td>\n",
       "      <td>1999</td>\n",
       "      <td>2097.2700</td>\n",
       "      <td>1</td>\n",
       "      <td>...</td>\n",
       "      <td>1</td>\n",
       "      <td>0</td>\n",
       "      <td>0</td>\n",
       "      <td>0</td>\n",
       "      <td>1</td>\n",
       "      <td>0</td>\n",
       "      <td>0</td>\n",
       "      <td>0</td>\n",
       "      <td>1</td>\n",
       "      <td>0</td>\n",
       "    </tr>\n",
       "    <tr>\n",
       "      <th>3</th>\n",
       "      <td>3</td>\n",
       "      <td>FDX07</td>\n",
       "      <td>19.20</td>\n",
       "      <td>0.017834</td>\n",
       "      <td>Fruits and Vegetables</td>\n",
       "      <td>182.0950</td>\n",
       "      <td>OUT010</td>\n",
       "      <td>1998</td>\n",
       "      <td>732.3800</td>\n",
       "      <td>0</td>\n",
       "      <td>...</td>\n",
       "      <td>0</td>\n",
       "      <td>0</td>\n",
       "      <td>1</td>\n",
       "      <td>1</td>\n",
       "      <td>0</td>\n",
       "      <td>0</td>\n",
       "      <td>0</td>\n",
       "      <td>0</td>\n",
       "      <td>1</td>\n",
       "      <td>0</td>\n",
       "    </tr>\n",
       "    <tr>\n",
       "      <th>4</th>\n",
       "      <td>4</td>\n",
       "      <td>NCD19</td>\n",
       "      <td>8.93</td>\n",
       "      <td>0.009780</td>\n",
       "      <td>Household</td>\n",
       "      <td>53.8614</td>\n",
       "      <td>OUT013</td>\n",
       "      <td>1987</td>\n",
       "      <td>994.7052</td>\n",
       "      <td>1</td>\n",
       "      <td>...</td>\n",
       "      <td>0</td>\n",
       "      <td>0</td>\n",
       "      <td>1</td>\n",
       "      <td>0</td>\n",
       "      <td>1</td>\n",
       "      <td>0</td>\n",
       "      <td>0</td>\n",
       "      <td>0</td>\n",
       "      <td>0</td>\n",
       "      <td>1</td>\n",
       "    </tr>\n",
       "  </tbody>\n",
       "</table>\n",
       "<p>5 rows × 24 columns</p>\n",
       "</div>"
      ],
      "text/plain": [
       "   Unnamed: 0 Item_Identifier  Item_Weight  Item_Visibility  \\\n",
       "0           0           FDA15         9.30         0.016047   \n",
       "1           1           DRC01         5.92         0.019278   \n",
       "2           2           FDN15        17.50         0.016760   \n",
       "3           3           FDX07        19.20         0.017834   \n",
       "4           4           NCD19         8.93         0.009780   \n",
       "\n",
       "               Item_Type  Item_MRP Outlet_Identifier  \\\n",
       "0                  Dairy  249.8092            OUT049   \n",
       "1            Soft Drinks   48.2692            OUT018   \n",
       "2                   Meat  141.6180            OUT049   \n",
       "3  Fruits and Vegetables  182.0950            OUT010   \n",
       "4              Household   53.8614            OUT013   \n",
       "\n",
       "   Outlet_Establishment_Year  Item_Outlet_Sales  Item_Fat_Content_0  ...  \\\n",
       "0                       1999          3735.1380                   1  ...   \n",
       "1                       2009           443.4228                   0  ...   \n",
       "2                       1999          2097.2700                   1  ...   \n",
       "3                       1998           732.3800                   0  ...   \n",
       "4                       1987           994.7052                   1  ...   \n",
       "\n",
       "   Outlet_Location_Type_0  Outlet_Location_Type_1  Outlet_Location_Type_2  \\\n",
       "0                       1                       0                       0   \n",
       "1                       0                       0                       1   \n",
       "2                       1                       0                       0   \n",
       "3                       0                       0                       1   \n",
       "4                       0                       0                       1   \n",
       "\n",
       "   Outlet_Type_0  Outlet_Type_1  Outlet_Type_2  Outlet_Type_3  \\\n",
       "0              0              1              0              0   \n",
       "1              0              0              1              0   \n",
       "2              0              1              0              0   \n",
       "3              1              0              0              0   \n",
       "4              0              1              0              0   \n",
       "\n",
       "   Item_Type_Combined_0  Item_Type_Combined_1  Item_Type_Combined_2  \n",
       "0                     0                     1                     0  \n",
       "1                     1                     0                     0  \n",
       "2                     0                     1                     0  \n",
       "3                     0                     1                     0  \n",
       "4                     0                     0                     1  \n",
       "\n",
       "[5 rows x 24 columns]"
      ]
     },
     "execution_count": 3,
     "metadata": {},
     "output_type": "execute_result"
    }
   ],
   "source": [
    "train_data.head()"
   ]
  },
  {
   "cell_type": "code",
   "execution_count": 4,
   "id": "1b889c6a",
   "metadata": {
    "execution": {
     "iopub.execute_input": "2023-02-05T21:10:22.145235Z",
     "iopub.status.busy": "2023-02-05T21:10:22.144020Z",
     "iopub.status.idle": "2023-02-05T21:10:22.151372Z",
     "shell.execute_reply": "2023-02-05T21:10:22.150437Z"
    },
    "papermill": {
     "duration": 0.022573,
     "end_time": "2023-02-05T21:10:22.153635",
     "exception": false,
     "start_time": "2023-02-05T21:10:22.131062",
     "status": "completed"
    },
    "tags": []
   },
   "outputs": [
    {
     "data": {
      "text/plain": [
       "(14204, 24)"
      ]
     },
     "execution_count": 4,
     "metadata": {},
     "output_type": "execute_result"
    }
   ],
   "source": [
    "train_data.shape"
   ]
  },
  {
   "cell_type": "code",
   "execution_count": 5,
   "id": "7086ad97",
   "metadata": {
    "execution": {
     "iopub.execute_input": "2023-02-05T21:10:22.179198Z",
     "iopub.status.busy": "2023-02-05T21:10:22.178507Z",
     "iopub.status.idle": "2023-02-05T21:10:22.205830Z",
     "shell.execute_reply": "2023-02-05T21:10:22.204147Z"
    },
    "papermill": {
     "duration": 0.043737,
     "end_time": "2023-02-05T21:10:22.209072",
     "exception": false,
     "start_time": "2023-02-05T21:10:22.165335",
     "status": "completed"
    },
    "tags": []
   },
   "outputs": [
    {
     "name": "stdout",
     "output_type": "stream",
     "text": [
      "<class 'pandas.core.frame.DataFrame'>\n",
      "RangeIndex: 14204 entries, 0 to 14203\n",
      "Data columns (total 24 columns):\n",
      " #   Column                     Non-Null Count  Dtype  \n",
      "---  ------                     --------------  -----  \n",
      " 0   Unnamed: 0                 14204 non-null  int64  \n",
      " 1   Item_Identifier            14204 non-null  object \n",
      " 2   Item_Weight                14204 non-null  float64\n",
      " 3   Item_Visibility            14204 non-null  float64\n",
      " 4   Item_Type                  14204 non-null  object \n",
      " 5   Item_MRP                   14204 non-null  float64\n",
      " 6   Outlet_Identifier          14204 non-null  object \n",
      " 7   Outlet_Establishment_Year  14204 non-null  int64  \n",
      " 8   Item_Outlet_Sales          14204 non-null  float64\n",
      " 9   Item_Fat_Content_0         14204 non-null  int64  \n",
      " 10  Item_Fat_Content_1         14204 non-null  int64  \n",
      " 11  Outlet_Size_0              14204 non-null  int64  \n",
      " 12  Outlet_Size_1              14204 non-null  int64  \n",
      " 13  Outlet_Size_2              14204 non-null  int64  \n",
      " 14  Outlet_Location_Type_0     14204 non-null  int64  \n",
      " 15  Outlet_Location_Type_1     14204 non-null  int64  \n",
      " 16  Outlet_Location_Type_2     14204 non-null  int64  \n",
      " 17  Outlet_Type_0              14204 non-null  int64  \n",
      " 18  Outlet_Type_1              14204 non-null  int64  \n",
      " 19  Outlet_Type_2              14204 non-null  int64  \n",
      " 20  Outlet_Type_3              14204 non-null  int64  \n",
      " 21  Item_Type_Combined_0       14204 non-null  int64  \n",
      " 22  Item_Type_Combined_1       14204 non-null  int64  \n",
      " 23  Item_Type_Combined_2       14204 non-null  int64  \n",
      "dtypes: float64(4), int64(17), object(3)\n",
      "memory usage: 2.6+ MB\n"
     ]
    }
   ],
   "source": [
    "train_data.info()"
   ]
  },
  {
   "cell_type": "code",
   "execution_count": 6,
   "id": "ae8facca",
   "metadata": {
    "execution": {
     "iopub.execute_input": "2023-02-05T21:10:22.236777Z",
     "iopub.status.busy": "2023-02-05T21:10:22.236320Z",
     "iopub.status.idle": "2023-02-05T21:10:22.248899Z",
     "shell.execute_reply": "2023-02-05T21:10:22.247763Z"
    },
    "papermill": {
     "duration": 0.029173,
     "end_time": "2023-02-05T21:10:22.251273",
     "exception": false,
     "start_time": "2023-02-05T21:10:22.222100",
     "status": "completed"
    },
    "tags": []
   },
   "outputs": [
    {
     "data": {
      "text/plain": [
       "Unnamed: 0                   0\n",
       "Item_Identifier              0\n",
       "Item_Weight                  0\n",
       "Item_Visibility              0\n",
       "Item_Type                    0\n",
       "Item_MRP                     0\n",
       "Outlet_Identifier            0\n",
       "Outlet_Establishment_Year    0\n",
       "Item_Outlet_Sales            0\n",
       "Item_Fat_Content_0           0\n",
       "Item_Fat_Content_1           0\n",
       "Outlet_Size_0                0\n",
       "Outlet_Size_1                0\n",
       "Outlet_Size_2                0\n",
       "Outlet_Location_Type_0       0\n",
       "Outlet_Location_Type_1       0\n",
       "Outlet_Location_Type_2       0\n",
       "Outlet_Type_0                0\n",
       "Outlet_Type_1                0\n",
       "Outlet_Type_2                0\n",
       "Outlet_Type_3                0\n",
       "Item_Type_Combined_0         0\n",
       "Item_Type_Combined_1         0\n",
       "Item_Type_Combined_2         0\n",
       "dtype: int64"
      ]
     },
     "execution_count": 6,
     "metadata": {},
     "output_type": "execute_result"
    }
   ],
   "source": [
    "train_data.isnull().sum()"
   ]
  },
  {
   "cell_type": "code",
   "execution_count": 7,
   "id": "0ca5362e",
   "metadata": {
    "execution": {
     "iopub.execute_input": "2023-02-05T21:10:22.278107Z",
     "iopub.status.busy": "2023-02-05T21:10:22.277668Z",
     "iopub.status.idle": "2023-02-05T21:10:22.358852Z",
     "shell.execute_reply": "2023-02-05T21:10:22.357599Z"
    },
    "papermill": {
     "duration": 0.097446,
     "end_time": "2023-02-05T21:10:22.361329",
     "exception": false,
     "start_time": "2023-02-05T21:10:22.263883",
     "status": "completed"
    },
    "tags": []
   },
   "outputs": [
    {
     "data": {
      "text/html": [
       "<div>\n",
       "<style scoped>\n",
       "    .dataframe tbody tr th:only-of-type {\n",
       "        vertical-align: middle;\n",
       "    }\n",
       "\n",
       "    .dataframe tbody tr th {\n",
       "        vertical-align: top;\n",
       "    }\n",
       "\n",
       "    .dataframe thead th {\n",
       "        text-align: right;\n",
       "    }\n",
       "</style>\n",
       "<table border=\"1\" class=\"dataframe\">\n",
       "  <thead>\n",
       "    <tr style=\"text-align: right;\">\n",
       "      <th></th>\n",
       "      <th>Unnamed: 0</th>\n",
       "      <th>Item_Weight</th>\n",
       "      <th>Item_Visibility</th>\n",
       "      <th>Item_MRP</th>\n",
       "      <th>Outlet_Establishment_Year</th>\n",
       "      <th>Item_Outlet_Sales</th>\n",
       "      <th>Item_Fat_Content_0</th>\n",
       "      <th>Item_Fat_Content_1</th>\n",
       "      <th>Outlet_Size_0</th>\n",
       "      <th>Outlet_Size_1</th>\n",
       "      <th>...</th>\n",
       "      <th>Outlet_Location_Type_0</th>\n",
       "      <th>Outlet_Location_Type_1</th>\n",
       "      <th>Outlet_Location_Type_2</th>\n",
       "      <th>Outlet_Type_0</th>\n",
       "      <th>Outlet_Type_1</th>\n",
       "      <th>Outlet_Type_2</th>\n",
       "      <th>Outlet_Type_3</th>\n",
       "      <th>Item_Type_Combined_0</th>\n",
       "      <th>Item_Type_Combined_1</th>\n",
       "      <th>Item_Type_Combined_2</th>\n",
       "    </tr>\n",
       "  </thead>\n",
       "  <tbody>\n",
       "    <tr>\n",
       "      <th>count</th>\n",
       "      <td>14204.000000</td>\n",
       "      <td>14204.000000</td>\n",
       "      <td>14204.000000</td>\n",
       "      <td>14204.000000</td>\n",
       "      <td>14204.000000</td>\n",
       "      <td>14204.000000</td>\n",
       "      <td>14204.000000</td>\n",
       "      <td>14204.000000</td>\n",
       "      <td>14204.000000</td>\n",
       "      <td>14204.000000</td>\n",
       "      <td>...</td>\n",
       "      <td>14204.000000</td>\n",
       "      <td>14204.000000</td>\n",
       "      <td>14204.000000</td>\n",
       "      <td>14204.000000</td>\n",
       "      <td>14204.000000</td>\n",
       "      <td>14204.000000</td>\n",
       "      <td>14204.000000</td>\n",
       "      <td>14204.00000</td>\n",
       "      <td>14204.000000</td>\n",
       "      <td>14204.000000</td>\n",
       "    </tr>\n",
       "    <tr>\n",
       "      <th>mean</th>\n",
       "      <td>7101.500000</td>\n",
       "      <td>12.792854</td>\n",
       "      <td>0.069710</td>\n",
       "      <td>141.004977</td>\n",
       "      <td>1997.830681</td>\n",
       "      <td>2026.522094</td>\n",
       "      <td>0.646649</td>\n",
       "      <td>0.353351</td>\n",
       "      <td>0.109335</td>\n",
       "      <td>0.610462</td>\n",
       "      <td>...</td>\n",
       "      <td>0.280203</td>\n",
       "      <td>0.326739</td>\n",
       "      <td>0.393058</td>\n",
       "      <td>0.127077</td>\n",
       "      <td>0.654323</td>\n",
       "      <td>0.108843</td>\n",
       "      <td>0.109758</td>\n",
       "      <td>0.09272</td>\n",
       "      <td>0.718178</td>\n",
       "      <td>0.189102</td>\n",
       "    </tr>\n",
       "    <tr>\n",
       "      <th>std</th>\n",
       "      <td>4100.485947</td>\n",
       "      <td>4.234226</td>\n",
       "      <td>0.049728</td>\n",
       "      <td>62.086938</td>\n",
       "      <td>8.371664</td>\n",
       "      <td>1335.388924</td>\n",
       "      <td>0.478027</td>\n",
       "      <td>0.478027</td>\n",
       "      <td>0.312071</td>\n",
       "      <td>0.487663</td>\n",
       "      <td>...</td>\n",
       "      <td>0.449114</td>\n",
       "      <td>0.469037</td>\n",
       "      <td>0.488447</td>\n",
       "      <td>0.333071</td>\n",
       "      <td>0.475605</td>\n",
       "      <td>0.311453</td>\n",
       "      <td>0.312599</td>\n",
       "      <td>0.29005</td>\n",
       "      <td>0.449903</td>\n",
       "      <td>0.391603</td>\n",
       "    </tr>\n",
       "    <tr>\n",
       "      <th>min</th>\n",
       "      <td>0.000000</td>\n",
       "      <td>4.555000</td>\n",
       "      <td>0.003575</td>\n",
       "      <td>31.290000</td>\n",
       "      <td>1985.000000</td>\n",
       "      <td>33.290000</td>\n",
       "      <td>0.000000</td>\n",
       "      <td>0.000000</td>\n",
       "      <td>0.000000</td>\n",
       "      <td>0.000000</td>\n",
       "      <td>...</td>\n",
       "      <td>0.000000</td>\n",
       "      <td>0.000000</td>\n",
       "      <td>0.000000</td>\n",
       "      <td>0.000000</td>\n",
       "      <td>0.000000</td>\n",
       "      <td>0.000000</td>\n",
       "      <td>0.000000</td>\n",
       "      <td>0.00000</td>\n",
       "      <td>0.000000</td>\n",
       "      <td>0.000000</td>\n",
       "    </tr>\n",
       "    <tr>\n",
       "      <th>25%</th>\n",
       "      <td>3550.750000</td>\n",
       "      <td>9.300000</td>\n",
       "      <td>0.031145</td>\n",
       "      <td>94.012000</td>\n",
       "      <td>1987.000000</td>\n",
       "      <td>1468.089000</td>\n",
       "      <td>0.000000</td>\n",
       "      <td>0.000000</td>\n",
       "      <td>0.000000</td>\n",
       "      <td>0.000000</td>\n",
       "      <td>...</td>\n",
       "      <td>0.000000</td>\n",
       "      <td>0.000000</td>\n",
       "      <td>0.000000</td>\n",
       "      <td>0.000000</td>\n",
       "      <td>0.000000</td>\n",
       "      <td>0.000000</td>\n",
       "      <td>0.000000</td>\n",
       "      <td>0.00000</td>\n",
       "      <td>0.000000</td>\n",
       "      <td>0.000000</td>\n",
       "    </tr>\n",
       "    <tr>\n",
       "      <th>50%</th>\n",
       "      <td>7101.500000</td>\n",
       "      <td>12.792854</td>\n",
       "      <td>0.057194</td>\n",
       "      <td>142.247000</td>\n",
       "      <td>1999.000000</td>\n",
       "      <td>1794.331000</td>\n",
       "      <td>1.000000</td>\n",
       "      <td>0.000000</td>\n",
       "      <td>0.000000</td>\n",
       "      <td>1.000000</td>\n",
       "      <td>...</td>\n",
       "      <td>0.000000</td>\n",
       "      <td>0.000000</td>\n",
       "      <td>0.000000</td>\n",
       "      <td>0.000000</td>\n",
       "      <td>1.000000</td>\n",
       "      <td>0.000000</td>\n",
       "      <td>0.000000</td>\n",
       "      <td>0.00000</td>\n",
       "      <td>1.000000</td>\n",
       "      <td>0.000000</td>\n",
       "    </tr>\n",
       "    <tr>\n",
       "      <th>75%</th>\n",
       "      <td>10652.250000</td>\n",
       "      <td>16.000000</td>\n",
       "      <td>0.096930</td>\n",
       "      <td>185.855600</td>\n",
       "      <td>2004.000000</td>\n",
       "      <td>2163.184200</td>\n",
       "      <td>1.000000</td>\n",
       "      <td>1.000000</td>\n",
       "      <td>0.000000</td>\n",
       "      <td>1.000000</td>\n",
       "      <td>...</td>\n",
       "      <td>1.000000</td>\n",
       "      <td>1.000000</td>\n",
       "      <td>1.000000</td>\n",
       "      <td>0.000000</td>\n",
       "      <td>1.000000</td>\n",
       "      <td>0.000000</td>\n",
       "      <td>0.000000</td>\n",
       "      <td>0.00000</td>\n",
       "      <td>1.000000</td>\n",
       "      <td>0.000000</td>\n",
       "    </tr>\n",
       "    <tr>\n",
       "      <th>max</th>\n",
       "      <td>14203.000000</td>\n",
       "      <td>21.350000</td>\n",
       "      <td>0.328391</td>\n",
       "      <td>266.888400</td>\n",
       "      <td>2009.000000</td>\n",
       "      <td>13086.964800</td>\n",
       "      <td>1.000000</td>\n",
       "      <td>1.000000</td>\n",
       "      <td>1.000000</td>\n",
       "      <td>1.000000</td>\n",
       "      <td>...</td>\n",
       "      <td>1.000000</td>\n",
       "      <td>1.000000</td>\n",
       "      <td>1.000000</td>\n",
       "      <td>1.000000</td>\n",
       "      <td>1.000000</td>\n",
       "      <td>1.000000</td>\n",
       "      <td>1.000000</td>\n",
       "      <td>1.00000</td>\n",
       "      <td>1.000000</td>\n",
       "      <td>1.000000</td>\n",
       "    </tr>\n",
       "  </tbody>\n",
       "</table>\n",
       "<p>8 rows × 21 columns</p>\n",
       "</div>"
      ],
      "text/plain": [
       "         Unnamed: 0   Item_Weight  Item_Visibility      Item_MRP  \\\n",
       "count  14204.000000  14204.000000     14204.000000  14204.000000   \n",
       "mean    7101.500000     12.792854         0.069710    141.004977   \n",
       "std     4100.485947      4.234226         0.049728     62.086938   \n",
       "min        0.000000      4.555000         0.003575     31.290000   \n",
       "25%     3550.750000      9.300000         0.031145     94.012000   \n",
       "50%     7101.500000     12.792854         0.057194    142.247000   \n",
       "75%    10652.250000     16.000000         0.096930    185.855600   \n",
       "max    14203.000000     21.350000         0.328391    266.888400   \n",
       "\n",
       "       Outlet_Establishment_Year  Item_Outlet_Sales  Item_Fat_Content_0  \\\n",
       "count               14204.000000       14204.000000        14204.000000   \n",
       "mean                 1997.830681        2026.522094            0.646649   \n",
       "std                     8.371664        1335.388924            0.478027   \n",
       "min                  1985.000000          33.290000            0.000000   \n",
       "25%                  1987.000000        1468.089000            0.000000   \n",
       "50%                  1999.000000        1794.331000            1.000000   \n",
       "75%                  2004.000000        2163.184200            1.000000   \n",
       "max                  2009.000000       13086.964800            1.000000   \n",
       "\n",
       "       Item_Fat_Content_1  Outlet_Size_0  Outlet_Size_1  ...  \\\n",
       "count        14204.000000   14204.000000   14204.000000  ...   \n",
       "mean             0.353351       0.109335       0.610462  ...   \n",
       "std              0.478027       0.312071       0.487663  ...   \n",
       "min              0.000000       0.000000       0.000000  ...   \n",
       "25%              0.000000       0.000000       0.000000  ...   \n",
       "50%              0.000000       0.000000       1.000000  ...   \n",
       "75%              1.000000       0.000000       1.000000  ...   \n",
       "max              1.000000       1.000000       1.000000  ...   \n",
       "\n",
       "       Outlet_Location_Type_0  Outlet_Location_Type_1  Outlet_Location_Type_2  \\\n",
       "count            14204.000000            14204.000000            14204.000000   \n",
       "mean                 0.280203                0.326739                0.393058   \n",
       "std                  0.449114                0.469037                0.488447   \n",
       "min                  0.000000                0.000000                0.000000   \n",
       "25%                  0.000000                0.000000                0.000000   \n",
       "50%                  0.000000                0.000000                0.000000   \n",
       "75%                  1.000000                1.000000                1.000000   \n",
       "max                  1.000000                1.000000                1.000000   \n",
       "\n",
       "       Outlet_Type_0  Outlet_Type_1  Outlet_Type_2  Outlet_Type_3  \\\n",
       "count   14204.000000   14204.000000   14204.000000   14204.000000   \n",
       "mean        0.127077       0.654323       0.108843       0.109758   \n",
       "std         0.333071       0.475605       0.311453       0.312599   \n",
       "min         0.000000       0.000000       0.000000       0.000000   \n",
       "25%         0.000000       0.000000       0.000000       0.000000   \n",
       "50%         0.000000       1.000000       0.000000       0.000000   \n",
       "75%         0.000000       1.000000       0.000000       0.000000   \n",
       "max         1.000000       1.000000       1.000000       1.000000   \n",
       "\n",
       "       Item_Type_Combined_0  Item_Type_Combined_1  Item_Type_Combined_2  \n",
       "count           14204.00000          14204.000000          14204.000000  \n",
       "mean                0.09272              0.718178              0.189102  \n",
       "std                 0.29005              0.449903              0.391603  \n",
       "min                 0.00000              0.000000              0.000000  \n",
       "25%                 0.00000              0.000000              0.000000  \n",
       "50%                 0.00000              1.000000              0.000000  \n",
       "75%                 0.00000              1.000000              0.000000  \n",
       "max                 1.00000              1.000000              1.000000  \n",
       "\n",
       "[8 rows x 21 columns]"
      ]
     },
     "execution_count": 7,
     "metadata": {},
     "output_type": "execute_result"
    }
   ],
   "source": [
    "train_data.describe()"
   ]
  },
  {
   "cell_type": "markdown",
   "id": "49389f86",
   "metadata": {
    "papermill": {
     "duration": 0.012074,
     "end_time": "2023-02-05T21:10:22.385900",
     "exception": false,
     "start_time": "2023-02-05T21:10:22.373826",
     "status": "completed"
    },
    "tags": []
   },
   "source": [
    "# **PreProcessing Data**"
   ]
  },
  {
   "cell_type": "markdown",
   "id": "6f2db845",
   "metadata": {
    "papermill": {
     "duration": 0.0123,
     "end_time": "2023-02-05T21:10:22.410621",
     "exception": false,
     "start_time": "2023-02-05T21:10:22.398321",
     "status": "completed"
    },
    "tags": []
   },
   "source": [
    "> **Created a list remove_cols to remove those columns which doesn't required for Model Building**"
   ]
  },
  {
   "cell_type": "code",
   "execution_count": 8,
   "id": "659f6ea3",
   "metadata": {
    "execution": {
     "iopub.execute_input": "2023-02-05T21:10:22.438313Z",
     "iopub.status.busy": "2023-02-05T21:10:22.437921Z",
     "iopub.status.idle": "2023-02-05T21:10:22.459047Z",
     "shell.execute_reply": "2023-02-05T21:10:22.458134Z"
    },
    "papermill": {
     "duration": 0.037757,
     "end_time": "2023-02-05T21:10:22.461384",
     "exception": false,
     "start_time": "2023-02-05T21:10:22.423627",
     "status": "completed"
    },
    "tags": []
   },
   "outputs": [
    {
     "data": {
      "text/html": [
       "<div>\n",
       "<style scoped>\n",
       "    .dataframe tbody tr th:only-of-type {\n",
       "        vertical-align: middle;\n",
       "    }\n",
       "\n",
       "    .dataframe tbody tr th {\n",
       "        vertical-align: top;\n",
       "    }\n",
       "\n",
       "    .dataframe thead th {\n",
       "        text-align: right;\n",
       "    }\n",
       "</style>\n",
       "<table border=\"1\" class=\"dataframe\">\n",
       "  <thead>\n",
       "    <tr style=\"text-align: right;\">\n",
       "      <th></th>\n",
       "      <th>Unnamed: 0</th>\n",
       "      <th>Item_Weight</th>\n",
       "      <th>Item_Visibility</th>\n",
       "      <th>Item_MRP</th>\n",
       "      <th>Item_Outlet_Sales</th>\n",
       "      <th>Item_Fat_Content_0</th>\n",
       "      <th>Item_Fat_Content_1</th>\n",
       "      <th>Outlet_Size_0</th>\n",
       "      <th>Outlet_Size_1</th>\n",
       "      <th>Outlet_Size_2</th>\n",
       "      <th>Outlet_Location_Type_0</th>\n",
       "      <th>Outlet_Location_Type_1</th>\n",
       "      <th>Outlet_Location_Type_2</th>\n",
       "      <th>Outlet_Type_0</th>\n",
       "      <th>Outlet_Type_1</th>\n",
       "      <th>Outlet_Type_2</th>\n",
       "      <th>Outlet_Type_3</th>\n",
       "      <th>Item_Type_Combined_0</th>\n",
       "      <th>Item_Type_Combined_1</th>\n",
       "      <th>Item_Type_Combined_2</th>\n",
       "    </tr>\n",
       "  </thead>\n",
       "  <tbody>\n",
       "    <tr>\n",
       "      <th>0</th>\n",
       "      <td>0</td>\n",
       "      <td>9.30</td>\n",
       "      <td>0.016047</td>\n",
       "      <td>249.8092</td>\n",
       "      <td>3735.1380</td>\n",
       "      <td>1</td>\n",
       "      <td>0</td>\n",
       "      <td>0</td>\n",
       "      <td>1</td>\n",
       "      <td>0</td>\n",
       "      <td>1</td>\n",
       "      <td>0</td>\n",
       "      <td>0</td>\n",
       "      <td>0</td>\n",
       "      <td>1</td>\n",
       "      <td>0</td>\n",
       "      <td>0</td>\n",
       "      <td>0</td>\n",
       "      <td>1</td>\n",
       "      <td>0</td>\n",
       "    </tr>\n",
       "    <tr>\n",
       "      <th>1</th>\n",
       "      <td>1</td>\n",
       "      <td>5.92</td>\n",
       "      <td>0.019278</td>\n",
       "      <td>48.2692</td>\n",
       "      <td>443.4228</td>\n",
       "      <td>0</td>\n",
       "      <td>1</td>\n",
       "      <td>0</td>\n",
       "      <td>1</td>\n",
       "      <td>0</td>\n",
       "      <td>0</td>\n",
       "      <td>0</td>\n",
       "      <td>1</td>\n",
       "      <td>0</td>\n",
       "      <td>0</td>\n",
       "      <td>1</td>\n",
       "      <td>0</td>\n",
       "      <td>1</td>\n",
       "      <td>0</td>\n",
       "      <td>0</td>\n",
       "    </tr>\n",
       "    <tr>\n",
       "      <th>2</th>\n",
       "      <td>2</td>\n",
       "      <td>17.50</td>\n",
       "      <td>0.016760</td>\n",
       "      <td>141.6180</td>\n",
       "      <td>2097.2700</td>\n",
       "      <td>1</td>\n",
       "      <td>0</td>\n",
       "      <td>0</td>\n",
       "      <td>1</td>\n",
       "      <td>0</td>\n",
       "      <td>1</td>\n",
       "      <td>0</td>\n",
       "      <td>0</td>\n",
       "      <td>0</td>\n",
       "      <td>1</td>\n",
       "      <td>0</td>\n",
       "      <td>0</td>\n",
       "      <td>0</td>\n",
       "      <td>1</td>\n",
       "      <td>0</td>\n",
       "    </tr>\n",
       "    <tr>\n",
       "      <th>3</th>\n",
       "      <td>3</td>\n",
       "      <td>19.20</td>\n",
       "      <td>0.017834</td>\n",
       "      <td>182.0950</td>\n",
       "      <td>732.3800</td>\n",
       "      <td>0</td>\n",
       "      <td>1</td>\n",
       "      <td>0</td>\n",
       "      <td>1</td>\n",
       "      <td>0</td>\n",
       "      <td>0</td>\n",
       "      <td>0</td>\n",
       "      <td>1</td>\n",
       "      <td>1</td>\n",
       "      <td>0</td>\n",
       "      <td>0</td>\n",
       "      <td>0</td>\n",
       "      <td>0</td>\n",
       "      <td>1</td>\n",
       "      <td>0</td>\n",
       "    </tr>\n",
       "    <tr>\n",
       "      <th>4</th>\n",
       "      <td>4</td>\n",
       "      <td>8.93</td>\n",
       "      <td>0.009780</td>\n",
       "      <td>53.8614</td>\n",
       "      <td>994.7052</td>\n",
       "      <td>1</td>\n",
       "      <td>0</td>\n",
       "      <td>1</td>\n",
       "      <td>0</td>\n",
       "      <td>0</td>\n",
       "      <td>0</td>\n",
       "      <td>0</td>\n",
       "      <td>1</td>\n",
       "      <td>0</td>\n",
       "      <td>1</td>\n",
       "      <td>0</td>\n",
       "      <td>0</td>\n",
       "      <td>0</td>\n",
       "      <td>0</td>\n",
       "      <td>1</td>\n",
       "    </tr>\n",
       "  </tbody>\n",
       "</table>\n",
       "</div>"
      ],
      "text/plain": [
       "   Unnamed: 0  Item_Weight  Item_Visibility  Item_MRP  Item_Outlet_Sales  \\\n",
       "0           0         9.30         0.016047  249.8092          3735.1380   \n",
       "1           1         5.92         0.019278   48.2692           443.4228   \n",
       "2           2        17.50         0.016760  141.6180          2097.2700   \n",
       "3           3        19.20         0.017834  182.0950           732.3800   \n",
       "4           4         8.93         0.009780   53.8614           994.7052   \n",
       "\n",
       "   Item_Fat_Content_0  Item_Fat_Content_1  Outlet_Size_0  Outlet_Size_1  \\\n",
       "0                   1                   0              0              1   \n",
       "1                   0                   1              0              1   \n",
       "2                   1                   0              0              1   \n",
       "3                   0                   1              0              1   \n",
       "4                   1                   0              1              0   \n",
       "\n",
       "   Outlet_Size_2  Outlet_Location_Type_0  Outlet_Location_Type_1  \\\n",
       "0              0                       1                       0   \n",
       "1              0                       0                       0   \n",
       "2              0                       1                       0   \n",
       "3              0                       0                       0   \n",
       "4              0                       0                       0   \n",
       "\n",
       "   Outlet_Location_Type_2  Outlet_Type_0  Outlet_Type_1  Outlet_Type_2  \\\n",
       "0                       0              0              1              0   \n",
       "1                       1              0              0              1   \n",
       "2                       0              0              1              0   \n",
       "3                       1              1              0              0   \n",
       "4                       1              0              1              0   \n",
       "\n",
       "   Outlet_Type_3  Item_Type_Combined_0  Item_Type_Combined_1  \\\n",
       "0              0                     0                     1   \n",
       "1              0                     1                     0   \n",
       "2              0                     0                     1   \n",
       "3              0                     0                     1   \n",
       "4              0                     0                     0   \n",
       "\n",
       "   Item_Type_Combined_2  \n",
       "0                     0  \n",
       "1                     0  \n",
       "2                     0  \n",
       "3                     0  \n",
       "4                     1  "
      ]
     },
     "execution_count": 8,
     "metadata": {},
     "output_type": "execute_result"
    }
   ],
   "source": [
    "remove_cols = ['Item_Identifier','Item_Type','Outlet_Identifier','Outlet_Establishment_Year']\n",
    "train_data = train_data.drop(remove_cols,axis =1)\n",
    "train_data.head()"
   ]
  },
  {
   "cell_type": "code",
   "execution_count": 9,
   "id": "059fae4a",
   "metadata": {
    "execution": {
     "iopub.execute_input": "2023-02-05T21:10:22.489023Z",
     "iopub.status.busy": "2023-02-05T21:10:22.488598Z",
     "iopub.status.idle": "2023-02-05T21:10:22.495316Z",
     "shell.execute_reply": "2023-02-05T21:10:22.494048Z"
    },
    "papermill": {
     "duration": 0.023282,
     "end_time": "2023-02-05T21:10:22.497573",
     "exception": false,
     "start_time": "2023-02-05T21:10:22.474291",
     "status": "completed"
    },
    "tags": []
   },
   "outputs": [],
   "source": [
    "x = train_data.drop('Item_Outlet_Sales',axis = 1)\n",
    "y = train_data['Item_Outlet_Sales']"
   ]
  },
  {
   "cell_type": "code",
   "execution_count": 10,
   "id": "a9349215",
   "metadata": {
    "execution": {
     "iopub.execute_input": "2023-02-05T21:10:22.525333Z",
     "iopub.status.busy": "2023-02-05T21:10:22.524283Z",
     "iopub.status.idle": "2023-02-05T21:10:22.530168Z",
     "shell.execute_reply": "2023-02-05T21:10:22.528946Z"
    },
    "papermill": {
     "duration": 0.021915,
     "end_time": "2023-02-05T21:10:22.532223",
     "exception": false,
     "start_time": "2023-02-05T21:10:22.510308",
     "status": "completed"
    },
    "tags": []
   },
   "outputs": [
    {
     "name": "stdout",
     "output_type": "stream",
     "text": [
      "(14204, 19) (14204,)\n"
     ]
    }
   ],
   "source": [
    "print(x.shape,y.shape)"
   ]
  },
  {
   "cell_type": "code",
   "execution_count": 11,
   "id": "5c313f21",
   "metadata": {
    "execution": {
     "iopub.execute_input": "2023-02-05T21:10:22.559759Z",
     "iopub.status.busy": "2023-02-05T21:10:22.559287Z",
     "iopub.status.idle": "2023-02-05T21:10:22.577424Z",
     "shell.execute_reply": "2023-02-05T21:10:22.576233Z"
    },
    "papermill": {
     "duration": 0.034962,
     "end_time": "2023-02-05T21:10:22.580078",
     "exception": false,
     "start_time": "2023-02-05T21:10:22.545116",
     "status": "completed"
    },
    "tags": []
   },
   "outputs": [
    {
     "data": {
      "text/html": [
       "<div>\n",
       "<style scoped>\n",
       "    .dataframe tbody tr th:only-of-type {\n",
       "        vertical-align: middle;\n",
       "    }\n",
       "\n",
       "    .dataframe tbody tr th {\n",
       "        vertical-align: top;\n",
       "    }\n",
       "\n",
       "    .dataframe thead th {\n",
       "        text-align: right;\n",
       "    }\n",
       "</style>\n",
       "<table border=\"1\" class=\"dataframe\">\n",
       "  <thead>\n",
       "    <tr style=\"text-align: right;\">\n",
       "      <th></th>\n",
       "      <th>Unnamed: 0</th>\n",
       "      <th>Item_Weight</th>\n",
       "      <th>Item_Visibility</th>\n",
       "      <th>Item_MRP</th>\n",
       "      <th>Item_Fat_Content_0</th>\n",
       "      <th>Item_Fat_Content_1</th>\n",
       "      <th>Outlet_Size_0</th>\n",
       "      <th>Outlet_Size_1</th>\n",
       "      <th>Outlet_Size_2</th>\n",
       "      <th>Outlet_Location_Type_0</th>\n",
       "      <th>Outlet_Location_Type_1</th>\n",
       "      <th>Outlet_Location_Type_2</th>\n",
       "      <th>Outlet_Type_0</th>\n",
       "      <th>Outlet_Type_1</th>\n",
       "      <th>Outlet_Type_2</th>\n",
       "      <th>Outlet_Type_3</th>\n",
       "      <th>Item_Type_Combined_0</th>\n",
       "      <th>Item_Type_Combined_1</th>\n",
       "      <th>Item_Type_Combined_2</th>\n",
       "    </tr>\n",
       "  </thead>\n",
       "  <tbody>\n",
       "    <tr>\n",
       "      <th>0</th>\n",
       "      <td>0</td>\n",
       "      <td>9.30</td>\n",
       "      <td>0.016047</td>\n",
       "      <td>249.8092</td>\n",
       "      <td>1</td>\n",
       "      <td>0</td>\n",
       "      <td>0</td>\n",
       "      <td>1</td>\n",
       "      <td>0</td>\n",
       "      <td>1</td>\n",
       "      <td>0</td>\n",
       "      <td>0</td>\n",
       "      <td>0</td>\n",
       "      <td>1</td>\n",
       "      <td>0</td>\n",
       "      <td>0</td>\n",
       "      <td>0</td>\n",
       "      <td>1</td>\n",
       "      <td>0</td>\n",
       "    </tr>\n",
       "    <tr>\n",
       "      <th>1</th>\n",
       "      <td>1</td>\n",
       "      <td>5.92</td>\n",
       "      <td>0.019278</td>\n",
       "      <td>48.2692</td>\n",
       "      <td>0</td>\n",
       "      <td>1</td>\n",
       "      <td>0</td>\n",
       "      <td>1</td>\n",
       "      <td>0</td>\n",
       "      <td>0</td>\n",
       "      <td>0</td>\n",
       "      <td>1</td>\n",
       "      <td>0</td>\n",
       "      <td>0</td>\n",
       "      <td>1</td>\n",
       "      <td>0</td>\n",
       "      <td>1</td>\n",
       "      <td>0</td>\n",
       "      <td>0</td>\n",
       "    </tr>\n",
       "    <tr>\n",
       "      <th>2</th>\n",
       "      <td>2</td>\n",
       "      <td>17.50</td>\n",
       "      <td>0.016760</td>\n",
       "      <td>141.6180</td>\n",
       "      <td>1</td>\n",
       "      <td>0</td>\n",
       "      <td>0</td>\n",
       "      <td>1</td>\n",
       "      <td>0</td>\n",
       "      <td>1</td>\n",
       "      <td>0</td>\n",
       "      <td>0</td>\n",
       "      <td>0</td>\n",
       "      <td>1</td>\n",
       "      <td>0</td>\n",
       "      <td>0</td>\n",
       "      <td>0</td>\n",
       "      <td>1</td>\n",
       "      <td>0</td>\n",
       "    </tr>\n",
       "    <tr>\n",
       "      <th>3</th>\n",
       "      <td>3</td>\n",
       "      <td>19.20</td>\n",
       "      <td>0.017834</td>\n",
       "      <td>182.0950</td>\n",
       "      <td>0</td>\n",
       "      <td>1</td>\n",
       "      <td>0</td>\n",
       "      <td>1</td>\n",
       "      <td>0</td>\n",
       "      <td>0</td>\n",
       "      <td>0</td>\n",
       "      <td>1</td>\n",
       "      <td>1</td>\n",
       "      <td>0</td>\n",
       "      <td>0</td>\n",
       "      <td>0</td>\n",
       "      <td>0</td>\n",
       "      <td>1</td>\n",
       "      <td>0</td>\n",
       "    </tr>\n",
       "    <tr>\n",
       "      <th>4</th>\n",
       "      <td>4</td>\n",
       "      <td>8.93</td>\n",
       "      <td>0.009780</td>\n",
       "      <td>53.8614</td>\n",
       "      <td>1</td>\n",
       "      <td>0</td>\n",
       "      <td>1</td>\n",
       "      <td>0</td>\n",
       "      <td>0</td>\n",
       "      <td>0</td>\n",
       "      <td>0</td>\n",
       "      <td>1</td>\n",
       "      <td>0</td>\n",
       "      <td>1</td>\n",
       "      <td>0</td>\n",
       "      <td>0</td>\n",
       "      <td>0</td>\n",
       "      <td>0</td>\n",
       "      <td>1</td>\n",
       "    </tr>\n",
       "  </tbody>\n",
       "</table>\n",
       "</div>"
      ],
      "text/plain": [
       "   Unnamed: 0  Item_Weight  Item_Visibility  Item_MRP  Item_Fat_Content_0  \\\n",
       "0           0         9.30         0.016047  249.8092                   1   \n",
       "1           1         5.92         0.019278   48.2692                   0   \n",
       "2           2        17.50         0.016760  141.6180                   1   \n",
       "3           3        19.20         0.017834  182.0950                   0   \n",
       "4           4         8.93         0.009780   53.8614                   1   \n",
       "\n",
       "   Item_Fat_Content_1  Outlet_Size_0  Outlet_Size_1  Outlet_Size_2  \\\n",
       "0                   0              0              1              0   \n",
       "1                   1              0              1              0   \n",
       "2                   0              0              1              0   \n",
       "3                   1              0              1              0   \n",
       "4                   0              1              0              0   \n",
       "\n",
       "   Outlet_Location_Type_0  Outlet_Location_Type_1  Outlet_Location_Type_2  \\\n",
       "0                       1                       0                       0   \n",
       "1                       0                       0                       1   \n",
       "2                       1                       0                       0   \n",
       "3                       0                       0                       1   \n",
       "4                       0                       0                       1   \n",
       "\n",
       "   Outlet_Type_0  Outlet_Type_1  Outlet_Type_2  Outlet_Type_3  \\\n",
       "0              0              1              0              0   \n",
       "1              0              0              1              0   \n",
       "2              0              1              0              0   \n",
       "3              1              0              0              0   \n",
       "4              0              1              0              0   \n",
       "\n",
       "   Item_Type_Combined_0  Item_Type_Combined_1  Item_Type_Combined_2  \n",
       "0                     0                     1                     0  \n",
       "1                     1                     0                     0  \n",
       "2                     0                     1                     0  \n",
       "3                     0                     1                     0  \n",
       "4                     0                     0                     1  "
      ]
     },
     "execution_count": 11,
     "metadata": {},
     "output_type": "execute_result"
    }
   ],
   "source": [
    "x.head()"
   ]
  },
  {
   "cell_type": "code",
   "execution_count": 12,
   "id": "d6a1a95d",
   "metadata": {
    "execution": {
     "iopub.execute_input": "2023-02-05T21:10:22.608969Z",
     "iopub.status.busy": "2023-02-05T21:10:22.608142Z",
     "iopub.status.idle": "2023-02-05T21:10:22.616577Z",
     "shell.execute_reply": "2023-02-05T21:10:22.615636Z"
    },
    "papermill": {
     "duration": 0.025573,
     "end_time": "2023-02-05T21:10:22.618901",
     "exception": false,
     "start_time": "2023-02-05T21:10:22.593328",
     "status": "completed"
    },
    "tags": []
   },
   "outputs": [
    {
     "data": {
      "text/plain": [
       "0    3735.1380\n",
       "1     443.4228\n",
       "2    2097.2700\n",
       "3     732.3800\n",
       "4     994.7052\n",
       "Name: Item_Outlet_Sales, dtype: float64"
      ]
     },
     "execution_count": 12,
     "metadata": {},
     "output_type": "execute_result"
    }
   ],
   "source": [
    "y.head()"
   ]
  },
  {
   "cell_type": "markdown",
   "id": "11241eb8",
   "metadata": {
    "papermill": {
     "duration": 0.013302,
     "end_time": "2023-02-05T21:10:22.645718",
     "exception": false,
     "start_time": "2023-02-05T21:10:22.632416",
     "status": "completed"
    },
    "tags": []
   },
   "source": [
    "# **Modeling**"
   ]
  },
  {
   "cell_type": "code",
   "execution_count": 13,
   "id": "d0277366",
   "metadata": {
    "execution": {
     "iopub.execute_input": "2023-02-05T21:10:22.675328Z",
     "iopub.status.busy": "2023-02-05T21:10:22.674465Z",
     "iopub.status.idle": "2023-02-05T21:10:22.783766Z",
     "shell.execute_reply": "2023-02-05T21:10:22.782609Z"
    },
    "papermill": {
     "duration": 0.127227,
     "end_time": "2023-02-05T21:10:22.786753",
     "exception": false,
     "start_time": "2023-02-05T21:10:22.659526",
     "status": "completed"
    },
    "tags": []
   },
   "outputs": [],
   "source": [
    "from sklearn.model_selection import train_test_split\n",
    "from sklearn.metrics import mean_squared_error,mean_absolute_error,accuracy_score,classification_report,confusion_matrix"
   ]
  },
  {
   "cell_type": "markdown",
   "id": "5f3a5b95",
   "metadata": {
    "papermill": {
     "duration": 0.013193,
     "end_time": "2023-02-05T21:10:22.814823",
     "exception": false,
     "start_time": "2023-02-05T21:10:22.801630",
     "status": "completed"
    },
    "tags": []
   },
   "source": [
    "**Splitting Training And Test Data**"
   ]
  },
  {
   "cell_type": "code",
   "execution_count": 14,
   "id": "de0d32ea",
   "metadata": {
    "execution": {
     "iopub.execute_input": "2023-02-05T21:10:22.845038Z",
     "iopub.status.busy": "2023-02-05T21:10:22.843838Z",
     "iopub.status.idle": "2023-02-05T21:10:22.854119Z",
     "shell.execute_reply": "2023-02-05T21:10:22.852909Z"
    },
    "papermill": {
     "duration": 0.027689,
     "end_time": "2023-02-05T21:10:22.856814",
     "exception": false,
     "start_time": "2023-02-05T21:10:22.829125",
     "status": "completed"
    },
    "tags": []
   },
   "outputs": [],
   "source": [
    "x_train,x_test,y_train,y_test=train_test_split(x,y,test_size=0.2)"
   ]
  },
  {
   "cell_type": "code",
   "execution_count": 15,
   "id": "4b8293c3",
   "metadata": {
    "execution": {
     "iopub.execute_input": "2023-02-05T21:10:22.885621Z",
     "iopub.status.busy": "2023-02-05T21:10:22.884924Z",
     "iopub.status.idle": "2023-02-05T21:10:22.890049Z",
     "shell.execute_reply": "2023-02-05T21:10:22.889151Z"
    },
    "papermill": {
     "duration": 0.022313,
     "end_time": "2023-02-05T21:10:22.892425",
     "exception": false,
     "start_time": "2023-02-05T21:10:22.870112",
     "status": "completed"
    },
    "tags": []
   },
   "outputs": [],
   "source": [
    "from sklearn.preprocessing import RobustScaler\n",
    "\n",
    "robust_scaler = RobustScaler()"
   ]
  },
  {
   "cell_type": "code",
   "execution_count": 16,
   "id": "311c7d54",
   "metadata": {
    "execution": {
     "iopub.execute_input": "2023-02-05T21:10:22.921274Z",
     "iopub.status.busy": "2023-02-05T21:10:22.920615Z",
     "iopub.status.idle": "2023-02-05T21:10:22.944983Z",
     "shell.execute_reply": "2023-02-05T21:10:22.943761Z"
    },
    "papermill": {
     "duration": 0.041438,
     "end_time": "2023-02-05T21:10:22.947459",
     "exception": false,
     "start_time": "2023-02-05T21:10:22.906021",
     "status": "completed"
    },
    "tags": []
   },
   "outputs": [
    {
     "data": {
      "text/plain": [
       "RobustScaler()"
      ]
     },
     "execution_count": 16,
     "metadata": {},
     "output_type": "execute_result"
    }
   ],
   "source": [
    "# calculate median and IQR  \n",
    "robust_scaler.fit(train_data)"
   ]
  },
  {
   "cell_type": "code",
   "execution_count": 17,
   "id": "c9028105",
   "metadata": {
    "execution": {
     "iopub.execute_input": "2023-02-05T21:10:22.976107Z",
     "iopub.status.busy": "2023-02-05T21:10:22.975121Z",
     "iopub.status.idle": "2023-02-05T21:10:22.985734Z",
     "shell.execute_reply": "2023-02-05T21:10:22.984615Z"
    },
    "papermill": {
     "duration": 0.027386,
     "end_time": "2023-02-05T21:10:22.988190",
     "exception": false,
     "start_time": "2023-02-05T21:10:22.960804",
     "status": "completed"
    },
    "tags": []
   },
   "outputs": [],
   "source": [
    "robust_scaled_data = robust_scaler.transform(train_data)"
   ]
  },
  {
   "cell_type": "code",
   "execution_count": 18,
   "id": "acaa4b86",
   "metadata": {
    "execution": {
     "iopub.execute_input": "2023-02-05T21:10:23.016458Z",
     "iopub.status.busy": "2023-02-05T21:10:23.016018Z",
     "iopub.status.idle": "2023-02-05T21:10:23.037422Z",
     "shell.execute_reply": "2023-02-05T21:10:23.036251Z"
    },
    "papermill": {
     "duration": 0.03879,
     "end_time": "2023-02-05T21:10:23.040176",
     "exception": false,
     "start_time": "2023-02-05T21:10:23.001386",
     "status": "completed"
    },
    "tags": []
   },
   "outputs": [],
   "source": [
    "from sklearn.preprocessing import StandardScaler\n",
    "\n",
    "standard_scaler = StandardScaler()\n",
    "# combine both fit & transform into one call\n",
    "standard_scaled_data = standard_scaler.fit_transform(train_data)\n",
    "\n",
    "# dataframe with both standard and robust scaled values\n",
    "scaled_values = pd.DataFrame({\n",
    "    'Standard': standard_scaled_data.reshape(-1),\n",
    "    'Robust': robust_scaled_data.reshape(-1)\n",
    "})"
   ]
  },
  {
   "cell_type": "markdown",
   "id": "1b2837de",
   "metadata": {
    "papermill": {
     "duration": 0.012979,
     "end_time": "2023-02-05T21:10:23.066688",
     "exception": false,
     "start_time": "2023-02-05T21:10:23.053709",
     "status": "completed"
    },
    "tags": []
   },
   "source": [
    "# **Standard Scaling 06m Robust Scaling**"
   ]
  },
  {
   "cell_type": "markdown",
   "id": "621bcf1e",
   "metadata": {
    "papermill": {
     "duration": 0.013067,
     "end_time": "2023-02-05T21:10:23.093051",
     "exception": false,
     "start_time": "2023-02-05T21:10:23.079984",
     "status": "completed"
    },
    "tags": []
   },
   "source": [
    "# **Linear Regression**"
   ]
  },
  {
   "cell_type": "markdown",
   "id": "605aba55",
   "metadata": {
    "papermill": {
     "duration": 0.013166,
     "end_time": "2023-02-05T21:10:23.119609",
     "exception": false,
     "start_time": "2023-02-05T21:10:23.106443",
     "status": "completed"
    },
    "tags": []
   },
   "source": [
    "**Create a model and fit it**"
   ]
  },
  {
   "cell_type": "code",
   "execution_count": 19,
   "id": "600e0d41",
   "metadata": {
    "execution": {
     "iopub.execute_input": "2023-02-05T21:10:23.149482Z",
     "iopub.status.busy": "2023-02-05T21:10:23.148366Z",
     "iopub.status.idle": "2023-02-05T21:10:23.230697Z",
     "shell.execute_reply": "2023-02-05T21:10:23.229416Z"
    },
    "papermill": {
     "duration": 0.100415,
     "end_time": "2023-02-05T21:10:23.233571",
     "exception": false,
     "start_time": "2023-02-05T21:10:23.133156",
     "status": "completed"
    },
    "tags": []
   },
   "outputs": [],
   "source": [
    "from sklearn.linear_model import LinearRegression"
   ]
  },
  {
   "cell_type": "code",
   "execution_count": 20,
   "id": "5cd46e21",
   "metadata": {
    "execution": {
     "iopub.execute_input": "2023-02-05T21:10:23.269681Z",
     "iopub.status.busy": "2023-02-05T21:10:23.268933Z",
     "iopub.status.idle": "2023-02-05T21:10:23.275223Z",
     "shell.execute_reply": "2023-02-05T21:10:23.273979Z"
    },
    "papermill": {
     "duration": 0.027137,
     "end_time": "2023-02-05T21:10:23.277732",
     "exception": false,
     "start_time": "2023-02-05T21:10:23.250595",
     "status": "completed"
    },
    "tags": []
   },
   "outputs": [],
   "source": [
    "model = LinearRegression()"
   ]
  },
  {
   "cell_type": "code",
   "execution_count": 21,
   "id": "3c7bf142",
   "metadata": {
    "execution": {
     "iopub.execute_input": "2023-02-05T21:10:23.313039Z",
     "iopub.status.busy": "2023-02-05T21:10:23.312629Z",
     "iopub.status.idle": "2023-02-05T21:10:23.349531Z",
     "shell.execute_reply": "2023-02-05T21:10:23.348236Z"
    },
    "papermill": {
     "duration": 0.059441,
     "end_time": "2023-02-05T21:10:23.352753",
     "exception": false,
     "start_time": "2023-02-05T21:10:23.293312",
     "status": "completed"
    },
    "tags": []
   },
   "outputs": [
    {
     "data": {
      "text/plain": [
       "LinearRegression()"
      ]
     },
     "execution_count": 21,
     "metadata": {},
     "output_type": "execute_result"
    }
   ],
   "source": [
    "model.fit(x_train,y_train)"
   ]
  },
  {
   "cell_type": "code",
   "execution_count": 22,
   "id": "4456aa5c",
   "metadata": {
    "execution": {
     "iopub.execute_input": "2023-02-05T21:10:23.398597Z",
     "iopub.status.busy": "2023-02-05T21:10:23.397932Z",
     "iopub.status.idle": "2023-02-05T21:10:23.416211Z",
     "shell.execute_reply": "2023-02-05T21:10:23.414698Z"
    },
    "papermill": {
     "duration": 0.045082,
     "end_time": "2023-02-05T21:10:23.419706",
     "exception": false,
     "start_time": "2023-02-05T21:10:23.374624",
     "status": "completed"
    },
    "tags": []
   },
   "outputs": [],
   "source": [
    "predicted= model.predict(x_test)"
   ]
  },
  {
   "cell_type": "code",
   "execution_count": 23,
   "id": "527be10b",
   "metadata": {
    "execution": {
     "iopub.execute_input": "2023-02-05T21:10:23.478118Z",
     "iopub.status.busy": "2023-02-05T21:10:23.477481Z",
     "iopub.status.idle": "2023-02-05T21:10:23.501570Z",
     "shell.execute_reply": "2023-02-05T21:10:23.499258Z"
    },
    "papermill": {
     "duration": 0.058788,
     "end_time": "2023-02-05T21:10:23.506427",
     "exception": false,
     "start_time": "2023-02-05T21:10:23.447639",
     "status": "completed"
    },
    "tags": []
   },
   "outputs": [
    {
     "name": "stdout",
     "output_type": "stream",
     "text": [
      "MEAN SQUARED ERROR(MSE):  1210166.2874939414\n",
      "MEAN ABSOLUTE ERROR(MAE):  818.9023795005764\n",
      "ROOT MEAN SQUARED ERROR(RMSE):  1.4151591099935255\n",
      "SCORE:  0.33153956619102964\n"
     ]
    }
   ],
   "source": [
    "print(\"MEAN SQUARED ERROR(MSE): \",mean_squared_error(y_test,predicted))\n",
    "print(\"MEAN ABSOLUTE ERROR(MAE): \",mean_absolute_error(y_test,predicted))\n",
    "rsme_model = np.sqrt(np.mean(np.square(((y_test- predicted) / y_test)), axis=0))\n",
    "print(\"ROOT MEAN SQUARED ERROR(RMSE): \",rsme_model)\n",
    "print(\"SCORE: \",model.score(x_test,y_test))"
   ]
  },
  {
   "cell_type": "markdown",
   "id": "c0c5d2f4",
   "metadata": {
    "papermill": {
     "duration": 0.021919,
     "end_time": "2023-02-05T21:10:23.551958",
     "exception": false,
     "start_time": "2023-02-05T21:10:23.530039",
     "status": "completed"
    },
    "tags": []
   },
   "source": [
    "# **Random Forest**"
   ]
  },
  {
   "cell_type": "code",
   "execution_count": 24,
   "id": "12382492",
   "metadata": {
    "execution": {
     "iopub.execute_input": "2023-02-05T21:10:23.598656Z",
     "iopub.status.busy": "2023-02-05T21:10:23.598056Z",
     "iopub.status.idle": "2023-02-05T21:10:23.751071Z",
     "shell.execute_reply": "2023-02-05T21:10:23.749834Z"
    },
    "papermill": {
     "duration": 0.180071,
     "end_time": "2023-02-05T21:10:23.753913",
     "exception": false,
     "start_time": "2023-02-05T21:10:23.573842",
     "status": "completed"
    },
    "tags": []
   },
   "outputs": [],
   "source": [
    "from sklearn.ensemble import RandomForestRegressor"
   ]
  },
  {
   "cell_type": "code",
   "execution_count": 25,
   "id": "feadb057",
   "metadata": {
    "execution": {
     "iopub.execute_input": "2023-02-05T21:10:23.782969Z",
     "iopub.status.busy": "2023-02-05T21:10:23.782287Z",
     "iopub.status.idle": "2023-02-05T21:10:23.787712Z",
     "shell.execute_reply": "2023-02-05T21:10:23.786542Z"
    },
    "papermill": {
     "duration": 0.02259,
     "end_time": "2023-02-05T21:10:23.789951",
     "exception": false,
     "start_time": "2023-02-05T21:10:23.767361",
     "status": "completed"
    },
    "tags": []
   },
   "outputs": [],
   "source": [
    "rfg=RandomForestRegressor()"
   ]
  },
  {
   "cell_type": "code",
   "execution_count": 26,
   "id": "f4e5b5c4",
   "metadata": {
    "execution": {
     "iopub.execute_input": "2023-02-05T21:10:23.818962Z",
     "iopub.status.busy": "2023-02-05T21:10:23.818136Z",
     "iopub.status.idle": "2023-02-05T21:10:28.474714Z",
     "shell.execute_reply": "2023-02-05T21:10:28.473431Z"
    },
    "papermill": {
     "duration": 4.673736,
     "end_time": "2023-02-05T21:10:28.477421",
     "exception": false,
     "start_time": "2023-02-05T21:10:23.803685",
     "status": "completed"
    },
    "tags": []
   },
   "outputs": [
    {
     "data": {
      "text/plain": [
       "RandomForestRegressor()"
      ]
     },
     "execution_count": 26,
     "metadata": {},
     "output_type": "execute_result"
    }
   ],
   "source": [
    "rfg.fit(x_train,y_train)"
   ]
  },
  {
   "cell_type": "code",
   "execution_count": 27,
   "id": "0ae7657c",
   "metadata": {
    "execution": {
     "iopub.execute_input": "2023-02-05T21:10:28.506191Z",
     "iopub.status.busy": "2023-02-05T21:10:28.505787Z",
     "iopub.status.idle": "2023-02-05T21:10:28.588305Z",
     "shell.execute_reply": "2023-02-05T21:10:28.587059Z"
    },
    "papermill": {
     "duration": 0.099973,
     "end_time": "2023-02-05T21:10:28.591016",
     "exception": false,
     "start_time": "2023-02-05T21:10:28.491043",
     "status": "completed"
    },
    "tags": []
   },
   "outputs": [],
   "source": [
    "predicted= rfg.predict(x_test)"
   ]
  },
  {
   "cell_type": "code",
   "execution_count": 28,
   "id": "1ee6b0f6",
   "metadata": {
    "execution": {
     "iopub.execute_input": "2023-02-05T21:10:28.620371Z",
     "iopub.status.busy": "2023-02-05T21:10:28.619073Z",
     "iopub.status.idle": "2023-02-05T21:10:28.705491Z",
     "shell.execute_reply": "2023-02-05T21:10:28.704245Z"
    },
    "papermill": {
     "duration": 0.103711,
     "end_time": "2023-02-05T21:10:28.708327",
     "exception": false,
     "start_time": "2023-02-05T21:10:28.604616",
     "status": "completed"
    },
    "tags": []
   },
   "outputs": [
    {
     "name": "stdout",
     "output_type": "stream",
     "text": [
      "MEAN SQUARED ERROR(MSE):  798662.5303878655\n",
      "MEAN ABSOLUTE ERROR(MAE):  479.3824728602667\n",
      "ROOT MEAN SQUARED ERROR(RMSE):  0.8649997150025815\n",
      "SCORE:  0.5588421962773316\n"
     ]
    }
   ],
   "source": [
    "print(\"MEAN SQUARED ERROR(MSE): \",mean_squared_error(y_test,predicted))\n",
    "print(\"MEAN ABSOLUTE ERROR(MAE): \",mean_absolute_error(y_test,predicted))\n",
    "rsme_rfg = np.sqrt(np.mean(np.square(((y_test- predicted) / y_test)), axis=0))\n",
    "print(\"ROOT MEAN SQUARED ERROR(RMSE): \",rsme_rfg)\n",
    "print(\"SCORE: \",rfg.score(x_test,y_test))"
   ]
  },
  {
   "cell_type": "markdown",
   "id": "bd5af540",
   "metadata": {
    "papermill": {
     "duration": 0.013368,
     "end_time": "2023-02-05T21:10:28.735642",
     "exception": false,
     "start_time": "2023-02-05T21:10:28.722274",
     "status": "completed"
    },
    "tags": []
   },
   "source": [
    "# **Regularized Linear Regression**"
   ]
  },
  {
   "cell_type": "markdown",
   "id": "5d0ecf11",
   "metadata": {
    "papermill": {
     "duration": 0.013193,
     "end_time": "2023-02-05T21:10:28.762306",
     "exception": false,
     "start_time": "2023-02-05T21:10:28.749113",
     "status": "completed"
    },
    "tags": []
   },
   "source": [
    "**Ridge Regression**"
   ]
  },
  {
   "cell_type": "code",
   "execution_count": 29,
   "id": "1cedcdee",
   "metadata": {
    "execution": {
     "iopub.execute_input": "2023-02-05T21:10:28.791615Z",
     "iopub.status.busy": "2023-02-05T21:10:28.790903Z",
     "iopub.status.idle": "2023-02-05T21:10:28.795454Z",
     "shell.execute_reply": "2023-02-05T21:10:28.794619Z"
    },
    "papermill": {
     "duration": 0.021913,
     "end_time": "2023-02-05T21:10:28.797754",
     "exception": false,
     "start_time": "2023-02-05T21:10:28.775841",
     "status": "completed"
    },
    "tags": []
   },
   "outputs": [],
   "source": [
    "from sklearn.linear_model import Ridge\n",
    "model_ridge = Ridge(alpha=0.05,normalize=True)"
   ]
  },
  {
   "cell_type": "code",
   "execution_count": 30,
   "id": "bfcafd34",
   "metadata": {
    "execution": {
     "iopub.execute_input": "2023-02-05T21:10:28.827606Z",
     "iopub.status.busy": "2023-02-05T21:10:28.826882Z",
     "iopub.status.idle": "2023-02-05T21:10:28.860674Z",
     "shell.execute_reply": "2023-02-05T21:10:28.859404Z"
    },
    "papermill": {
     "duration": 0.054486,
     "end_time": "2023-02-05T21:10:28.865912",
     "exception": false,
     "start_time": "2023-02-05T21:10:28.811426",
     "status": "completed"
    },
    "tags": []
   },
   "outputs": [
    {
     "name": "stderr",
     "output_type": "stream",
     "text": [
      "/opt/conda/lib/python3.7/site-packages/sklearn/linear_model/_base.py:145: FutureWarning: 'normalize' was deprecated in version 1.0 and will be removed in 1.2.\n",
      "If you wish to scale the data, use Pipeline with a StandardScaler in a preprocessing stage. To reproduce the previous behavior:\n",
      "\n",
      "from sklearn.pipeline import make_pipeline\n",
      "\n",
      "model = make_pipeline(StandardScaler(with_mean=False), Ridge())\n",
      "\n",
      "If you wish to pass a sample_weight parameter, you need to pass it as a fit parameter to each step of the pipeline as follows:\n",
      "\n",
      "kwargs = {s[0] + '__sample_weight': sample_weight for s in model.steps}\n",
      "model.fit(X, y, **kwargs)\n",
      "\n",
      "Set parameter alpha to: original_alpha * n_samples. \n",
      "  FutureWarning,\n"
     ]
    },
    {
     "data": {
      "text/plain": [
       "Ridge(alpha=0.05, normalize=True)"
      ]
     },
     "execution_count": 30,
     "metadata": {},
     "output_type": "execute_result"
    }
   ],
   "source": [
    "model_ridge.fit(x_train,y_train)"
   ]
  },
  {
   "cell_type": "code",
   "execution_count": 31,
   "id": "ddcccd42",
   "metadata": {
    "execution": {
     "iopub.execute_input": "2023-02-05T21:10:28.912266Z",
     "iopub.status.busy": "2023-02-05T21:10:28.911580Z",
     "iopub.status.idle": "2023-02-05T21:10:28.923698Z",
     "shell.execute_reply": "2023-02-05T21:10:28.922325Z"
    },
    "papermill": {
     "duration": 0.03897,
     "end_time": "2023-02-05T21:10:28.926888",
     "exception": false,
     "start_time": "2023-02-05T21:10:28.887918",
     "status": "completed"
    },
    "tags": []
   },
   "outputs": [],
   "source": [
    "predicted= model_ridge.predict(x_test)"
   ]
  },
  {
   "cell_type": "code",
   "execution_count": 32,
   "id": "6f8ac7b9",
   "metadata": {
    "execution": {
     "iopub.execute_input": "2023-02-05T21:10:28.973395Z",
     "iopub.status.busy": "2023-02-05T21:10:28.972810Z",
     "iopub.status.idle": "2023-02-05T21:10:28.989300Z",
     "shell.execute_reply": "2023-02-05T21:10:28.988048Z"
    },
    "papermill": {
     "duration": 0.044869,
     "end_time": "2023-02-05T21:10:28.994012",
     "exception": false,
     "start_time": "2023-02-05T21:10:28.949143",
     "status": "completed"
    },
    "tags": []
   },
   "outputs": [
    {
     "name": "stdout",
     "output_type": "stream",
     "text": [
      "MEAN SQUARED ERROR(MSE):  1208660.391391039\n",
      "MEAN ABSOLUTE ERROR(MAE):  815.0084502748227\n",
      "ROOT MEAN SQUARED ERROR(RMSE):  1.465241826365008\n",
      "SCORE:  0.3323713791184102\n"
     ]
    }
   ],
   "source": [
    "print(\"MEAN SQUARED ERROR(MSE): \",mean_squared_error(y_test,predicted))\n",
    "print(\"MEAN ABSOLUTE ERROR(MAE): \",mean_absolute_error(y_test,predicted))\n",
    "rsme_model_ridge = np.sqrt(np.mean(np.square(((y_test- predicted) / y_test)), axis=0))\n",
    "print(\"ROOT MEAN SQUARED ERROR(RMSE): \",rsme_model_ridge)\n",
    "print(\"SCORE: \",model_ridge.score(x_test,y_test))"
   ]
  },
  {
   "cell_type": "markdown",
   "id": "81d1992e",
   "metadata": {
    "papermill": {
     "duration": 0.022012,
     "end_time": "2023-02-05T21:10:29.039010",
     "exception": false,
     "start_time": "2023-02-05T21:10:29.016998",
     "status": "completed"
    },
    "tags": []
   },
   "source": [
    "# **XGBoost**"
   ]
  },
  {
   "cell_type": "code",
   "execution_count": 33,
   "id": "cc894dc4",
   "metadata": {
    "execution": {
     "iopub.execute_input": "2023-02-05T21:10:29.086190Z",
     "iopub.status.busy": "2023-02-05T21:10:29.085601Z",
     "iopub.status.idle": "2023-02-05T21:10:29.185923Z",
     "shell.execute_reply": "2023-02-05T21:10:29.184853Z"
    },
    "papermill": {
     "duration": 0.127638,
     "end_time": "2023-02-05T21:10:29.189240",
     "exception": false,
     "start_time": "2023-02-05T21:10:29.061602",
     "status": "completed"
    },
    "tags": []
   },
   "outputs": [],
   "source": [
    "import xgboost \n",
    "from xgboost import XGBRegressor"
   ]
  },
  {
   "cell_type": "code",
   "execution_count": 34,
   "id": "75f134bc",
   "metadata": {
    "execution": {
     "iopub.execute_input": "2023-02-05T21:10:29.218730Z",
     "iopub.status.busy": "2023-02-05T21:10:29.218314Z",
     "iopub.status.idle": "2023-02-05T21:10:29.223956Z",
     "shell.execute_reply": "2023-02-05T21:10:29.222608Z"
    },
    "papermill": {
     "duration": 0.022983,
     "end_time": "2023-02-05T21:10:29.226202",
     "exception": false,
     "start_time": "2023-02-05T21:10:29.203219",
     "status": "completed"
    },
    "tags": []
   },
   "outputs": [],
   "source": [
    "xgb = XGBRegressor()\n",
    "     \n",
    "xgb = XGBRegressor(n_estimators=1000, max_depth=7, eta=0.1, subsample=0.7, colsample_bytree=0.8)"
   ]
  },
  {
   "cell_type": "code",
   "execution_count": 35,
   "id": "ff4dbb1b",
   "metadata": {
    "execution": {
     "iopub.execute_input": "2023-02-05T21:10:29.256111Z",
     "iopub.status.busy": "2023-02-05T21:10:29.255718Z",
     "iopub.status.idle": "2023-02-05T21:10:42.901732Z",
     "shell.execute_reply": "2023-02-05T21:10:42.900681Z"
    },
    "papermill": {
     "duration": 13.664154,
     "end_time": "2023-02-05T21:10:42.904189",
     "exception": false,
     "start_time": "2023-02-05T21:10:29.240035",
     "status": "completed"
    },
    "tags": []
   },
   "outputs": [
    {
     "data": {
      "text/plain": [
       "XGBRegressor(base_score=0.5, booster='gbtree', callbacks=None,\n",
       "             colsample_bylevel=1, colsample_bynode=1, colsample_bytree=0.8,\n",
       "             early_stopping_rounds=None, enable_categorical=False, eta=0.1,\n",
       "             eval_metric=None, gamma=0, gpu_id=-1, grow_policy='depthwise',\n",
       "             importance_type=None, interaction_constraints='',\n",
       "             learning_rate=0.100000001, max_bin=256, max_cat_to_onehot=4,\n",
       "             max_delta_step=0, max_depth=7, max_leaves=0, min_child_weight=1,\n",
       "             missing=nan, monotone_constraints='()', n_estimators=1000,\n",
       "             n_jobs=0, num_parallel_tree=1, predictor='auto', random_state=0,\n",
       "             reg_alpha=0, ...)"
      ]
     },
     "execution_count": 35,
     "metadata": {},
     "output_type": "execute_result"
    }
   ],
   "source": [
    "xgb.fit(x_train,y_train)"
   ]
  },
  {
   "cell_type": "code",
   "execution_count": 36,
   "id": "f809605c",
   "metadata": {
    "execution": {
     "iopub.execute_input": "2023-02-05T21:10:42.935153Z",
     "iopub.status.busy": "2023-02-05T21:10:42.933969Z",
     "iopub.status.idle": "2023-02-05T21:10:42.985578Z",
     "shell.execute_reply": "2023-02-05T21:10:42.984504Z"
    },
    "papermill": {
     "duration": 0.069989,
     "end_time": "2023-02-05T21:10:42.988268",
     "exception": false,
     "start_time": "2023-02-05T21:10:42.918279",
     "status": "completed"
    },
    "tags": []
   },
   "outputs": [],
   "source": [
    "predicted= xgb.predict(x_test)"
   ]
  },
  {
   "cell_type": "code",
   "execution_count": 37,
   "id": "55de8973",
   "metadata": {
    "execution": {
     "iopub.execute_input": "2023-02-05T21:10:43.018523Z",
     "iopub.status.busy": "2023-02-05T21:10:43.017695Z",
     "iopub.status.idle": "2023-02-05T21:10:43.074574Z",
     "shell.execute_reply": "2023-02-05T21:10:43.073283Z"
    },
    "papermill": {
     "duration": 0.07504,
     "end_time": "2023-02-05T21:10:43.077288",
     "exception": false,
     "start_time": "2023-02-05T21:10:43.002248",
     "status": "completed"
    },
    "tags": []
   },
   "outputs": [
    {
     "name": "stdout",
     "output_type": "stream",
     "text": [
      "MEAN SQUARED ERROR(MSE):  894198.1216053636\n",
      "MEAN ABSOLUTE ERROR(MAE):  552.503970043994\n",
      "ROOT MEAN SQUARED ERROR(RMSE):  1.0703714730714213\n",
      "SCORE:  0.5060711321604385\n"
     ]
    }
   ],
   "source": [
    "print(\"MEAN SQUARED ERROR(MSE): \",mean_squared_error(y_test,predicted))\n",
    "print(\"MEAN ABSOLUTE ERROR(MAE): \",mean_absolute_error(y_test,predicted))\n",
    "rsme_xgb = np.sqrt(np.mean(np.square(((y_test- predicted) / y_test)), axis=0))\n",
    "print(\"ROOT MEAN SQUARED ERROR(RMSE): \",rsme_xgb)\n",
    "print(\"SCORE: \",xgb.score(x_test,y_test))"
   ]
  },
  {
   "cell_type": "markdown",
   "id": "a299114e",
   "metadata": {
    "papermill": {
     "duration": 0.013797,
     "end_time": "2023-02-05T21:10:43.105322",
     "exception": false,
     "start_time": "2023-02-05T21:10:43.091525",
     "status": "completed"
    },
    "tags": []
   },
   "source": [
    "# **Final Predictions & It's Visualization**"
   ]
  },
  {
   "cell_type": "code",
   "execution_count": 38,
   "id": "14916d8e",
   "metadata": {
    "execution": {
     "iopub.execute_input": "2023-02-05T21:10:43.135855Z",
     "iopub.status.busy": "2023-02-05T21:10:43.135037Z",
     "iopub.status.idle": "2023-02-05T21:10:43.141488Z",
     "shell.execute_reply": "2023-02-05T21:10:43.140597Z"
    },
    "papermill": {
     "duration": 0.024581,
     "end_time": "2023-02-05T21:10:43.143922",
     "exception": false,
     "start_time": "2023-02-05T21:10:43.119341",
     "status": "completed"
    },
    "tags": []
   },
   "outputs": [],
   "source": [
    "model = pd.DataFrame({'Model': ['Linear Regression', 'Random Forest','Regularized Linear Regression','XGBoost'],'RMSE_mean': [rsme_model,rsme_rfg,rsme_model_ridge,rsme_xgb]})"
   ]
  },
  {
   "cell_type": "code",
   "execution_count": 39,
   "id": "8bfb634d",
   "metadata": {
    "execution": {
     "iopub.execute_input": "2023-02-05T21:10:43.174744Z",
     "iopub.status.busy": "2023-02-05T21:10:43.174031Z",
     "iopub.status.idle": "2023-02-05T21:10:43.465113Z",
     "shell.execute_reply": "2023-02-05T21:10:43.463636Z"
    },
    "papermill": {
     "duration": 0.309869,
     "end_time": "2023-02-05T21:10:43.467794",
     "exception": false,
     "start_time": "2023-02-05T21:10:43.157925",
     "status": "completed"
    },
    "tags": []
   },
   "outputs": [
    {
     "name": "stderr",
     "output_type": "stream",
     "text": [
      "/opt/conda/lib/python3.7/site-packages/seaborn/categorical.py:3717: UserWarning: The `factorplot` function has been renamed to `catplot`. The original name will be removed in a future release. Please update your code. Note that the default `kind` in `factorplot` (`'point'`) has changed `'strip'` in `catplot`.\n",
      "  warnings.warn(msg)\n",
      "/opt/conda/lib/python3.7/site-packages/seaborn/categorical.py:3723: UserWarning: The `size` parameter has been renamed to `height`; please update your code.\n",
      "  warnings.warn(msg, UserWarning)\n"
     ]
    },
    {
     "data": {
      "text/plain": [
       "Text(0.5, 1.0, 'Plotting based on Model and RSME')"
      ]
     },
     "execution_count": 39,
     "metadata": {},
     "output_type": "execute_result"
    },
    {
     "data": {
      "image/png": "[encoded data removed]",
      "text/plain": [
       "<Figure size 864x216 with 1 Axes>"
      ]
     },
     "metadata": {
      "needs_background": "light"
     },
     "output_type": "display_data"
    }
   ],
   "source": [
    "sns.factorplot(x= 'Model', y= 'RMSE_mean', kind='bar',data= model, size=3, aspect=4)\n",
    "plt.title('Plotting based on Model and RSME')"
   ]
  },
  {
   "cell_type": "code",
   "execution_count": null,
   "id": "f363d2e6",
   "metadata": {
    "papermill": {
     "duration": 0.014495,
     "end_time": "2023-02-05T21:10:43.497443",
     "exception": false,
     "start_time": "2023-02-05T21:10:43.482948",
     "status": "completed"
    },
    "tags": []
   },
   "outputs": [],
   "source": []
  }
 ],
 "metadata": {
  "kernelspec": {
   "display_name": "Python 3",
   "language": "python",
   "name": "python3"
  },
  "language_info": {
   "codemirror_mode": {
    "name": "ipython",
    "version": 3
   },
   "file_extension": ".py",
   "mimetype": "text/x-python",
   "name": "python",
   "nbconvert_exporter": "python",
   "pygments_lexer": "ipython3",
   "version": "3.7.12"
  },
  "papermill": {
   "default_parameters": {},
   "duration": 32.231793,
   "end_time": "2023-02-05T21:10:44.335304",
   "environment_variables": {},
   "exception": null,
   "input_path": "__notebook__.ipynb",
   "output_path": "__notebook__.ipynb",
   "parameters": {},
   "start_time": "2023-02-05T21:10:12.103511",
   "version": "2.3.4"
  }
 },
 "nbformat": 4,
 "nbformat_minor": 5
}
