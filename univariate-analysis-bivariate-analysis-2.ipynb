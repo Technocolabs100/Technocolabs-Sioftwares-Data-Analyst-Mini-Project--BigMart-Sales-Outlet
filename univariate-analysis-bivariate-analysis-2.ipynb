{
 "cells": [
  {
   "cell_type": "code",
   "execution_count": 1,
   "id": "fa196e20",
   "metadata": {
    "_cell_guid": "b1076dfc-b9ad-4769-8c92-a6c4dae69d19",
    "_uuid": "8f2839f25d086af736a60e9eeb907d3b93b6e0e5",
    "execution": {
     "iopub.execute_input": "2023-02-05T20:38:48.660897Z",
     "iopub.status.busy": "2023-02-05T20:38:48.660327Z",
     "iopub.status.idle": "2023-02-05T20:38:49.856680Z",
     "shell.execute_reply": "2023-02-05T20:38:49.854351Z"
    },
    "papermill": {
     "duration": 1.210211,
     "end_time": "2023-02-05T20:38:49.859695",
     "exception": false,
     "start_time": "2023-02-05T20:38:48.649484",
     "status": "completed"
    },
    "tags": []
   },
   "outputs": [
    {
     "name": "stdout",
     "output_type": "stream",
     "text": [
      "Setup Complete\n"
     ]
    }
   ],
   "source": [
    "import pandas as pd\n",
    "import numpy as np\n",
    "pd.plotting.register_matplotlib_converters()\n",
    "import matplotlib.pyplot as plt\n",
    "%matplotlib inline\n",
    "import seaborn as sns\n",
    "print(\"Setup Complete\")"
   ]
  },
  {
   "cell_type": "code",
   "execution_count": 2,
   "id": "d60145d7",
   "metadata": {
    "execution": {
     "iopub.execute_input": "2023-02-05T20:38:49.878880Z",
     "iopub.status.busy": "2023-02-05T20:38:49.878388Z",
     "iopub.status.idle": "2023-02-05T20:38:49.938506Z",
     "shell.execute_reply": "2023-02-05T20:38:49.937057Z"
    },
    "papermill": {
     "duration": 0.072955,
     "end_time": "2023-02-05T20:38:49.941349",
     "exception": false,
     "start_time": "2023-02-05T20:38:49.868394",
     "status": "completed"
    },
    "tags": []
   },
   "outputs": [],
   "source": [
    "train_path = \"/kaggle/input/data-clean-1/data_clean_1.csv\"\n",
    "\n",
    "train_data = pd.read_csv(train_path)"
   ]
  },
  {
   "cell_type": "code",
   "execution_count": 3,
   "id": "fa7c9573",
   "metadata": {
    "execution": {
     "iopub.execute_input": "2023-02-05T20:38:49.961150Z",
     "iopub.status.busy": "2023-02-05T20:38:49.959722Z",
     "iopub.status.idle": "2023-02-05T20:38:49.987313Z",
     "shell.execute_reply": "2023-02-05T20:38:49.985985Z"
    },
    "papermill": {
     "duration": 0.039296,
     "end_time": "2023-02-05T20:38:49.989809",
     "exception": false,
     "start_time": "2023-02-05T20:38:49.950513",
     "status": "completed"
    },
    "tags": []
   },
   "outputs": [
    {
     "data": {
      "text/html": [
       "<div>\n",
       "<style scoped>\n",
       "    .dataframe tbody tr th:only-of-type {\n",
       "        vertical-align: middle;\n",
       "    }\n",
       "\n",
       "    .dataframe tbody tr th {\n",
       "        vertical-align: top;\n",
       "    }\n",
       "\n",
       "    .dataframe thead th {\n",
       "        text-align: right;\n",
       "    }\n",
       "</style>\n",
       "<table border=\"1\" class=\"dataframe\">\n",
       "  <thead>\n",
       "    <tr style=\"text-align: right;\">\n",
       "      <th></th>\n",
       "      <th>Item_Identifier</th>\n",
       "      <th>Item_Weight</th>\n",
       "      <th>Item_Fat_Content</th>\n",
       "      <th>Item_Visibility</th>\n",
       "      <th>Item_Type</th>\n",
       "      <th>Item_MRP</th>\n",
       "      <th>Outlet_Identifier</th>\n",
       "      <th>Outlet_Establishment_Year</th>\n",
       "      <th>Outlet_Size</th>\n",
       "      <th>Outlet_Location_Type</th>\n",
       "      <th>Outlet_Type</th>\n",
       "      <th>Item_Outlet_Sales</th>\n",
       "    </tr>\n",
       "  </thead>\n",
       "  <tbody>\n",
       "    <tr>\n",
       "      <th>0</th>\n",
       "      <td>FDA15</td>\n",
       "      <td>9.30</td>\n",
       "      <td>Low Fat</td>\n",
       "      <td>0.016047</td>\n",
       "      <td>Dairy</td>\n",
       "      <td>249.8092</td>\n",
       "      <td>OUT049</td>\n",
       "      <td>1999</td>\n",
       "      <td>Medium</td>\n",
       "      <td>Tier 1</td>\n",
       "      <td>Supermarket Type1</td>\n",
       "      <td>3735.1380</td>\n",
       "    </tr>\n",
       "    <tr>\n",
       "      <th>1</th>\n",
       "      <td>DRC01</td>\n",
       "      <td>5.92</td>\n",
       "      <td>Regular</td>\n",
       "      <td>0.019278</td>\n",
       "      <td>Soft Drinks</td>\n",
       "      <td>48.2692</td>\n",
       "      <td>OUT018</td>\n",
       "      <td>2009</td>\n",
       "      <td>Medium</td>\n",
       "      <td>Tier 3</td>\n",
       "      <td>Supermarket Type2</td>\n",
       "      <td>443.4228</td>\n",
       "    </tr>\n",
       "    <tr>\n",
       "      <th>2</th>\n",
       "      <td>FDN15</td>\n",
       "      <td>17.50</td>\n",
       "      <td>Low Fat</td>\n",
       "      <td>0.016760</td>\n",
       "      <td>Meat</td>\n",
       "      <td>141.6180</td>\n",
       "      <td>OUT049</td>\n",
       "      <td>1999</td>\n",
       "      <td>Medium</td>\n",
       "      <td>Tier 1</td>\n",
       "      <td>Supermarket Type1</td>\n",
       "      <td>2097.2700</td>\n",
       "    </tr>\n",
       "    <tr>\n",
       "      <th>3</th>\n",
       "      <td>FDX07</td>\n",
       "      <td>19.20</td>\n",
       "      <td>Regular</td>\n",
       "      <td>0.000000</td>\n",
       "      <td>Fruits and Vegetables</td>\n",
       "      <td>182.0950</td>\n",
       "      <td>OUT010</td>\n",
       "      <td>1998</td>\n",
       "      <td>Medium</td>\n",
       "      <td>Tier 3</td>\n",
       "      <td>Grocery Store</td>\n",
       "      <td>732.3800</td>\n",
       "    </tr>\n",
       "    <tr>\n",
       "      <th>4</th>\n",
       "      <td>NCD19</td>\n",
       "      <td>8.93</td>\n",
       "      <td>Low Fat</td>\n",
       "      <td>0.000000</td>\n",
       "      <td>Household</td>\n",
       "      <td>53.8614</td>\n",
       "      <td>OUT013</td>\n",
       "      <td>1987</td>\n",
       "      <td>High</td>\n",
       "      <td>Tier 3</td>\n",
       "      <td>Supermarket Type1</td>\n",
       "      <td>994.7052</td>\n",
       "    </tr>\n",
       "  </tbody>\n",
       "</table>\n",
       "</div>"
      ],
      "text/plain": [
       "  Item_Identifier  Item_Weight Item_Fat_Content  Item_Visibility  \\\n",
       "0           FDA15         9.30          Low Fat         0.016047   \n",
       "1           DRC01         5.92          Regular         0.019278   \n",
       "2           FDN15        17.50          Low Fat         0.016760   \n",
       "3           FDX07        19.20          Regular         0.000000   \n",
       "4           NCD19         8.93          Low Fat         0.000000   \n",
       "\n",
       "               Item_Type  Item_MRP Outlet_Identifier  \\\n",
       "0                  Dairy  249.8092            OUT049   \n",
       "1            Soft Drinks   48.2692            OUT018   \n",
       "2                   Meat  141.6180            OUT049   \n",
       "3  Fruits and Vegetables  182.0950            OUT010   \n",
       "4              Household   53.8614            OUT013   \n",
       "\n",
       "   Outlet_Establishment_Year Outlet_Size Outlet_Location_Type  \\\n",
       "0                       1999      Medium               Tier 1   \n",
       "1                       2009      Medium               Tier 3   \n",
       "2                       1999      Medium               Tier 1   \n",
       "3                       1998      Medium               Tier 3   \n",
       "4                       1987        High               Tier 3   \n",
       "\n",
       "         Outlet_Type  Item_Outlet_Sales  \n",
       "0  Supermarket Type1          3735.1380  \n",
       "1  Supermarket Type2           443.4228  \n",
       "2  Supermarket Type1          2097.2700  \n",
       "3      Grocery Store           732.3800  \n",
       "4  Supermarket Type1           994.7052  "
      ]
     },
     "execution_count": 3,
     "metadata": {},
     "output_type": "execute_result"
    }
   ],
   "source": [
    "train_data.head()"
   ]
  },
  {
   "cell_type": "code",
   "execution_count": 4,
   "id": "d067cc9d",
   "metadata": {
    "execution": {
     "iopub.execute_input": "2023-02-05T20:38:50.009115Z",
     "iopub.status.busy": "2023-02-05T20:38:50.008743Z",
     "iopub.status.idle": "2023-02-05T20:38:50.016156Z",
     "shell.execute_reply": "2023-02-05T20:38:50.014895Z"
    },
    "papermill": {
     "duration": 0.019799,
     "end_time": "2023-02-05T20:38:50.018097",
     "exception": false,
     "start_time": "2023-02-05T20:38:49.998298",
     "status": "completed"
    },
    "tags": []
   },
   "outputs": [
    {
     "data": {
      "text/plain": [
       "(14204, 12)"
      ]
     },
     "execution_count": 4,
     "metadata": {},
     "output_type": "execute_result"
    }
   ],
   "source": [
    "train_data.shape"
   ]
  },
  {
   "cell_type": "code",
   "execution_count": 5,
   "id": "a5074bd2",
   "metadata": {
    "execution": {
     "iopub.execute_input": "2023-02-05T20:38:50.037420Z",
     "iopub.status.busy": "2023-02-05T20:38:50.036691Z",
     "iopub.status.idle": "2023-02-05T20:38:50.069152Z",
     "shell.execute_reply": "2023-02-05T20:38:50.066788Z"
    },
    "papermill": {
     "duration": 0.045031,
     "end_time": "2023-02-05T20:38:50.071739",
     "exception": false,
     "start_time": "2023-02-05T20:38:50.026708",
     "status": "completed"
    },
    "tags": []
   },
   "outputs": [
    {
     "name": "stdout",
     "output_type": "stream",
     "text": [
      "<class 'pandas.core.frame.DataFrame'>\n",
      "RangeIndex: 14204 entries, 0 to 14203\n",
      "Data columns (total 12 columns):\n",
      " #   Column                     Non-Null Count  Dtype  \n",
      "---  ------                     --------------  -----  \n",
      " 0   Item_Identifier            14204 non-null  object \n",
      " 1   Item_Weight                14204 non-null  float64\n",
      " 2   Item_Fat_Content           14204 non-null  object \n",
      " 3   Item_Visibility            14204 non-null  float64\n",
      " 4   Item_Type                  14204 non-null  object \n",
      " 5   Item_MRP                   14204 non-null  float64\n",
      " 6   Outlet_Identifier          14204 non-null  object \n",
      " 7   Outlet_Establishment_Year  14204 non-null  int64  \n",
      " 8   Outlet_Size                14204 non-null  object \n",
      " 9   Outlet_Location_Type       14204 non-null  object \n",
      " 10  Outlet_Type                14204 non-null  object \n",
      " 11  Item_Outlet_Sales          14204 non-null  float64\n",
      "dtypes: float64(4), int64(1), object(7)\n",
      "memory usage: 1.3+ MB\n"
     ]
    }
   ],
   "source": [
    "train_data.info()"
   ]
  },
  {
   "cell_type": "markdown",
   "id": "405816cd",
   "metadata": {
    "papermill": {
     "duration": 0.008401,
     "end_time": "2023-02-05T20:38:50.090063",
     "exception": false,
     "start_time": "2023-02-05T20:38:50.081662",
     "status": "completed"
    },
    "tags": []
   },
   "source": [
    "# **Univariate Analysis**"
   ]
  },
  {
   "cell_type": "markdown",
   "id": "4aea1d59",
   "metadata": {
    "papermill": {
     "duration": 0.008286,
     "end_time": "2023-02-05T20:38:50.106963",
     "exception": false,
     "start_time": "2023-02-05T20:38:50.098677",
     "status": "completed"
    },
    "tags": []
   },
   "source": [
    "**1. Summary statistics**"
   ]
  },
  {
   "cell_type": "code",
   "execution_count": 6,
   "id": "3ed3ab4d",
   "metadata": {
    "execution": {
     "iopub.execute_input": "2023-02-05T20:38:50.127220Z",
     "iopub.status.busy": "2023-02-05T20:38:50.125412Z",
     "iopub.status.idle": "2023-02-05T20:38:50.153935Z",
     "shell.execute_reply": "2023-02-05T20:38:50.152939Z"
    },
    "papermill": {
     "duration": 0.040325,
     "end_time": "2023-02-05T20:38:50.155961",
     "exception": false,
     "start_time": "2023-02-05T20:38:50.115636",
     "status": "completed"
    },
    "tags": []
   },
   "outputs": [
    {
     "data": {
      "text/html": [
       "<div>\n",
       "<style scoped>\n",
       "    .dataframe tbody tr th:only-of-type {\n",
       "        vertical-align: middle;\n",
       "    }\n",
       "\n",
       "    .dataframe tbody tr th {\n",
       "        vertical-align: top;\n",
       "    }\n",
       "\n",
       "    .dataframe thead th {\n",
       "        text-align: right;\n",
       "    }\n",
       "</style>\n",
       "<table border=\"1\" class=\"dataframe\">\n",
       "  <thead>\n",
       "    <tr style=\"text-align: right;\">\n",
       "      <th></th>\n",
       "      <th>Item_Weight</th>\n",
       "      <th>Item_Visibility</th>\n",
       "      <th>Item_MRP</th>\n",
       "      <th>Outlet_Establishment_Year</th>\n",
       "      <th>Item_Outlet_Sales</th>\n",
       "    </tr>\n",
       "  </thead>\n",
       "  <tbody>\n",
       "    <tr>\n",
       "      <th>count</th>\n",
       "      <td>14204.000000</td>\n",
       "      <td>14204.000000</td>\n",
       "      <td>14204.000000</td>\n",
       "      <td>14204.000000</td>\n",
       "      <td>14204.000000</td>\n",
       "    </tr>\n",
       "    <tr>\n",
       "      <th>mean</th>\n",
       "      <td>12.792854</td>\n",
       "      <td>0.065953</td>\n",
       "      <td>141.004977</td>\n",
       "      <td>1997.830681</td>\n",
       "      <td>2026.522094</td>\n",
       "    </tr>\n",
       "    <tr>\n",
       "      <th>std</th>\n",
       "      <td>4.234226</td>\n",
       "      <td>0.051459</td>\n",
       "      <td>62.086938</td>\n",
       "      <td>8.371664</td>\n",
       "      <td>1335.388924</td>\n",
       "    </tr>\n",
       "    <tr>\n",
       "      <th>min</th>\n",
       "      <td>4.555000</td>\n",
       "      <td>0.000000</td>\n",
       "      <td>31.290000</td>\n",
       "      <td>1985.000000</td>\n",
       "      <td>33.290000</td>\n",
       "    </tr>\n",
       "    <tr>\n",
       "      <th>25%</th>\n",
       "      <td>9.300000</td>\n",
       "      <td>0.027036</td>\n",
       "      <td>94.012000</td>\n",
       "      <td>1987.000000</td>\n",
       "      <td>1468.089000</td>\n",
       "    </tr>\n",
       "    <tr>\n",
       "      <th>50%</th>\n",
       "      <td>12.792854</td>\n",
       "      <td>0.054021</td>\n",
       "      <td>142.247000</td>\n",
       "      <td>1999.000000</td>\n",
       "      <td>1794.331000</td>\n",
       "    </tr>\n",
       "    <tr>\n",
       "      <th>75%</th>\n",
       "      <td>16.000000</td>\n",
       "      <td>0.094037</td>\n",
       "      <td>185.855600</td>\n",
       "      <td>2004.000000</td>\n",
       "      <td>2163.184200</td>\n",
       "    </tr>\n",
       "    <tr>\n",
       "      <th>max</th>\n",
       "      <td>21.350000</td>\n",
       "      <td>0.328391</td>\n",
       "      <td>266.888400</td>\n",
       "      <td>2009.000000</td>\n",
       "      <td>13086.964800</td>\n",
       "    </tr>\n",
       "  </tbody>\n",
       "</table>\n",
       "</div>"
      ],
      "text/plain": [
       "        Item_Weight  Item_Visibility      Item_MRP  Outlet_Establishment_Year  \\\n",
       "count  14204.000000     14204.000000  14204.000000               14204.000000   \n",
       "mean      12.792854         0.065953    141.004977                1997.830681   \n",
       "std        4.234226         0.051459     62.086938                   8.371664   \n",
       "min        4.555000         0.000000     31.290000                1985.000000   \n",
       "25%        9.300000         0.027036     94.012000                1987.000000   \n",
       "50%       12.792854         0.054021    142.247000                1999.000000   \n",
       "75%       16.000000         0.094037    185.855600                2004.000000   \n",
       "max       21.350000         0.328391    266.888400                2009.000000   \n",
       "\n",
       "       Item_Outlet_Sales  \n",
       "count       14204.000000  \n",
       "mean         2026.522094  \n",
       "std          1335.388924  \n",
       "min            33.290000  \n",
       "25%          1468.089000  \n",
       "50%          1794.331000  \n",
       "75%          2163.184200  \n",
       "max         13086.964800  "
      ]
     },
     "execution_count": 6,
     "metadata": {},
     "output_type": "execute_result"
    }
   ],
   "source": [
    "train_data.describe()"
   ]
  },
  {
   "cell_type": "markdown",
   "id": "54ac9717",
   "metadata": {
    "papermill": {
     "duration": 0.008586,
     "end_time": "2023-02-05T20:38:50.173349",
     "exception": false,
     "start_time": "2023-02-05T20:38:50.164763",
     "status": "completed"
    },
    "tags": []
   },
   "source": [
    "**2. Create Frequency Table**"
   ]
  },
  {
   "cell_type": "markdown",
   "id": "1b8c5d4d",
   "metadata": {
    "papermill": {
     "duration": 0.008493,
     "end_time": "2023-02-05T20:38:50.190603",
     "exception": false,
     "start_time": "2023-02-05T20:38:50.182110",
     "status": "completed"
    },
    "tags": []
   },
   "source": [
    "> One-way frequency table using pandas.crosstab() method"
   ]
  },
  {
   "cell_type": "code",
   "execution_count": 7,
   "id": "49518df0",
   "metadata": {
    "execution": {
     "iopub.execute_input": "2023-02-05T20:38:50.210902Z",
     "iopub.status.busy": "2023-02-05T20:38:50.209730Z",
     "iopub.status.idle": "2023-02-05T20:38:50.218360Z",
     "shell.execute_reply": "2023-02-05T20:38:50.216916Z"
    },
    "papermill": {
     "duration": 0.022353,
     "end_time": "2023-02-05T20:38:50.221756",
     "exception": false,
     "start_time": "2023-02-05T20:38:50.199403",
     "status": "completed"
    },
    "tags": []
   },
   "outputs": [
    {
     "data": {
      "text/plain": [
       "Index(['Item_Identifier', 'Item_Weight', 'Item_Fat_Content', 'Item_Visibility',\n",
       "       'Item_Type', 'Item_MRP', 'Outlet_Identifier',\n",
       "       'Outlet_Establishment_Year', 'Outlet_Size', 'Outlet_Location_Type',\n",
       "       'Outlet_Type', 'Item_Outlet_Sales'],\n",
       "      dtype='object')"
      ]
     },
     "execution_count": 7,
     "metadata": {},
     "output_type": "execute_result"
    }
   ],
   "source": [
    "train_data.columns"
   ]
  },
  {
   "cell_type": "code",
   "execution_count": 8,
   "id": "526b049f",
   "metadata": {
    "execution": {
     "iopub.execute_input": "2023-02-05T20:38:50.242012Z",
     "iopub.status.busy": "2023-02-05T20:38:50.241573Z",
     "iopub.status.idle": "2023-02-05T20:38:50.286955Z",
     "shell.execute_reply": "2023-02-05T20:38:50.285677Z"
    },
    "papermill": {
     "duration": 0.058117,
     "end_time": "2023-02-05T20:38:50.289152",
     "exception": false,
     "start_time": "2023-02-05T20:38:50.231035",
     "status": "completed"
    },
    "tags": []
   },
   "outputs": [
    {
     "data": {
      "text/html": [
       "<div>\n",
       "<style scoped>\n",
       "    .dataframe tbody tr th:only-of-type {\n",
       "        vertical-align: middle;\n",
       "    }\n",
       "\n",
       "    .dataframe tbody tr th {\n",
       "        vertical-align: top;\n",
       "    }\n",
       "\n",
       "    .dataframe thead th {\n",
       "        text-align: right;\n",
       "    }\n",
       "</style>\n",
       "<table border=\"1\" class=\"dataframe\">\n",
       "  <thead>\n",
       "    <tr style=\"text-align: right;\">\n",
       "      <th>col_0</th>\n",
       "      <th>Item_Identifier_freq</th>\n",
       "    </tr>\n",
       "    <tr>\n",
       "      <th>Item_Identifier</th>\n",
       "      <th></th>\n",
       "    </tr>\n",
       "  </thead>\n",
       "  <tbody>\n",
       "    <tr>\n",
       "      <th>DRA12</th>\n",
       "      <td>9</td>\n",
       "    </tr>\n",
       "    <tr>\n",
       "      <th>DRA24</th>\n",
       "      <td>10</td>\n",
       "    </tr>\n",
       "    <tr>\n",
       "      <th>DRA59</th>\n",
       "      <td>10</td>\n",
       "    </tr>\n",
       "    <tr>\n",
       "      <th>DRB01</th>\n",
       "      <td>8</td>\n",
       "    </tr>\n",
       "    <tr>\n",
       "      <th>DRB13</th>\n",
       "      <td>9</td>\n",
       "    </tr>\n",
       "    <tr>\n",
       "      <th>...</th>\n",
       "      <td>...</td>\n",
       "    </tr>\n",
       "    <tr>\n",
       "      <th>NCZ30</th>\n",
       "      <td>10</td>\n",
       "    </tr>\n",
       "    <tr>\n",
       "      <th>NCZ41</th>\n",
       "      <td>8</td>\n",
       "    </tr>\n",
       "    <tr>\n",
       "      <th>NCZ42</th>\n",
       "      <td>10</td>\n",
       "    </tr>\n",
       "    <tr>\n",
       "      <th>NCZ53</th>\n",
       "      <td>9</td>\n",
       "    </tr>\n",
       "    <tr>\n",
       "      <th>NCZ54</th>\n",
       "      <td>10</td>\n",
       "    </tr>\n",
       "  </tbody>\n",
       "</table>\n",
       "<p>1559 rows × 1 columns</p>\n",
       "</div>"
      ],
      "text/plain": [
       "col_0            Item_Identifier_freq\n",
       "Item_Identifier                      \n",
       "DRA12                               9\n",
       "DRA24                              10\n",
       "DRA59                              10\n",
       "DRB01                               8\n",
       "DRB13                               9\n",
       "...                               ...\n",
       "NCZ30                              10\n",
       "NCZ41                               8\n",
       "NCZ42                              10\n",
       "NCZ53                               9\n",
       "NCZ54                              10\n",
       "\n",
       "[1559 rows x 1 columns]"
      ]
     },
     "execution_count": 8,
     "metadata": {},
     "output_type": "execute_result"
    }
   ],
   "source": [
    "pd.crosstab(train_data['Item_Identifier'], 'Item_Identifier_freq')"
   ]
  },
  {
   "cell_type": "code",
   "execution_count": 9,
   "id": "09e518c8",
   "metadata": {
    "execution": {
     "iopub.execute_input": "2023-02-05T20:38:50.311525Z",
     "iopub.status.busy": "2023-02-05T20:38:50.310819Z",
     "iopub.status.idle": "2023-02-05T20:38:50.338614Z",
     "shell.execute_reply": "2023-02-05T20:38:50.337754Z"
    },
    "papermill": {
     "duration": 0.04221,
     "end_time": "2023-02-05T20:38:50.340595",
     "exception": false,
     "start_time": "2023-02-05T20:38:50.298385",
     "status": "completed"
    },
    "tags": []
   },
   "outputs": [
    {
     "data": {
      "text/html": [
       "<div>\n",
       "<style scoped>\n",
       "    .dataframe tbody tr th:only-of-type {\n",
       "        vertical-align: middle;\n",
       "    }\n",
       "\n",
       "    .dataframe tbody tr th {\n",
       "        vertical-align: top;\n",
       "    }\n",
       "\n",
       "    .dataframe thead th {\n",
       "        text-align: right;\n",
       "    }\n",
       "</style>\n",
       "<table border=\"1\" class=\"dataframe\">\n",
       "  <thead>\n",
       "    <tr style=\"text-align: right;\">\n",
       "      <th>col_0</th>\n",
       "      <th>Item_Weight_freq</th>\n",
       "    </tr>\n",
       "    <tr>\n",
       "      <th>Item_Weight</th>\n",
       "      <th></th>\n",
       "    </tr>\n",
       "  </thead>\n",
       "  <tbody>\n",
       "    <tr>\n",
       "      <th>4.555</th>\n",
       "      <td>7</td>\n",
       "    </tr>\n",
       "    <tr>\n",
       "      <th>4.590</th>\n",
       "      <td>7</td>\n",
       "    </tr>\n",
       "    <tr>\n",
       "      <th>4.610</th>\n",
       "      <td>8</td>\n",
       "    </tr>\n",
       "    <tr>\n",
       "      <th>4.615</th>\n",
       "      <td>6</td>\n",
       "    </tr>\n",
       "    <tr>\n",
       "      <th>4.635</th>\n",
       "      <td>7</td>\n",
       "    </tr>\n",
       "    <tr>\n",
       "      <th>...</th>\n",
       "      <td>...</td>\n",
       "    </tr>\n",
       "    <tr>\n",
       "      <th>21.000</th>\n",
       "      <td>8</td>\n",
       "    </tr>\n",
       "    <tr>\n",
       "      <th>21.100</th>\n",
       "      <td>30</td>\n",
       "    </tr>\n",
       "    <tr>\n",
       "      <th>21.200</th>\n",
       "      <td>15</td>\n",
       "    </tr>\n",
       "    <tr>\n",
       "      <th>21.250</th>\n",
       "      <td>36</td>\n",
       "    </tr>\n",
       "    <tr>\n",
       "      <th>21.350</th>\n",
       "      <td>16</td>\n",
       "    </tr>\n",
       "  </tbody>\n",
       "</table>\n",
       "<p>416 rows × 1 columns</p>\n",
       "</div>"
      ],
      "text/plain": [
       "col_0        Item_Weight_freq\n",
       "Item_Weight                  \n",
       "4.555                       7\n",
       "4.590                       7\n",
       "4.610                       8\n",
       "4.615                       6\n",
       "4.635                       7\n",
       "...                       ...\n",
       "21.000                      8\n",
       "21.100                     30\n",
       "21.200                     15\n",
       "21.250                     36\n",
       "21.350                     16\n",
       "\n",
       "[416 rows x 1 columns]"
      ]
     },
     "execution_count": 9,
     "metadata": {},
     "output_type": "execute_result"
    }
   ],
   "source": [
    "pd.crosstab(train_data['Item_Weight'], 'Item_Weight_freq')"
   ]
  },
  {
   "cell_type": "code",
   "execution_count": 10,
   "id": "e93b2058",
   "metadata": {
    "execution": {
     "iopub.execute_input": "2023-02-05T20:38:50.361890Z",
     "iopub.status.busy": "2023-02-05T20:38:50.361128Z",
     "iopub.status.idle": "2023-02-05T20:38:50.383044Z",
     "shell.execute_reply": "2023-02-05T20:38:50.381289Z"
    },
    "papermill": {
     "duration": 0.035301,
     "end_time": "2023-02-05T20:38:50.385341",
     "exception": false,
     "start_time": "2023-02-05T20:38:50.350040",
     "status": "completed"
    },
    "tags": []
   },
   "outputs": [
    {
     "data": {
      "text/html": [
       "<div>\n",
       "<style scoped>\n",
       "    .dataframe tbody tr th:only-of-type {\n",
       "        vertical-align: middle;\n",
       "    }\n",
       "\n",
       "    .dataframe tbody tr th {\n",
       "        vertical-align: top;\n",
       "    }\n",
       "\n",
       "    .dataframe thead th {\n",
       "        text-align: right;\n",
       "    }\n",
       "</style>\n",
       "<table border=\"1\" class=\"dataframe\">\n",
       "  <thead>\n",
       "    <tr style=\"text-align: right;\">\n",
       "      <th>col_0</th>\n",
       "      <th>Item_Fat_Content_freq</th>\n",
       "    </tr>\n",
       "    <tr>\n",
       "      <th>Item_Fat_Content</th>\n",
       "      <th></th>\n",
       "    </tr>\n",
       "  </thead>\n",
       "  <tbody>\n",
       "    <tr>\n",
       "      <th>LF</th>\n",
       "      <td>522</td>\n",
       "    </tr>\n",
       "    <tr>\n",
       "      <th>Low Fat</th>\n",
       "      <td>8485</td>\n",
       "    </tr>\n",
       "    <tr>\n",
       "      <th>Regular</th>\n",
       "      <td>4824</td>\n",
       "    </tr>\n",
       "    <tr>\n",
       "      <th>low fat</th>\n",
       "      <td>178</td>\n",
       "    </tr>\n",
       "    <tr>\n",
       "      <th>reg</th>\n",
       "      <td>195</td>\n",
       "    </tr>\n",
       "  </tbody>\n",
       "</table>\n",
       "</div>"
      ],
      "text/plain": [
       "col_0             Item_Fat_Content_freq\n",
       "Item_Fat_Content                       \n",
       "LF                                  522\n",
       "Low Fat                            8485\n",
       "Regular                            4824\n",
       "low fat                             178\n",
       "reg                                 195"
      ]
     },
     "execution_count": 10,
     "metadata": {},
     "output_type": "execute_result"
    }
   ],
   "source": [
    "pd.crosstab(train_data['Item_Fat_Content'], 'Item_Fat_Content_freq')"
   ]
  },
  {
   "cell_type": "code",
   "execution_count": 11,
   "id": "59a525ce",
   "metadata": {
    "execution": {
     "iopub.execute_input": "2023-02-05T20:38:50.406635Z",
     "iopub.status.busy": "2023-02-05T20:38:50.406204Z",
     "iopub.status.idle": "2023-02-05T20:38:50.489290Z",
     "shell.execute_reply": "2023-02-05T20:38:50.487711Z"
    },
    "papermill": {
     "duration": 0.096476,
     "end_time": "2023-02-05T20:38:50.491575",
     "exception": false,
     "start_time": "2023-02-05T20:38:50.395099",
     "status": "completed"
    },
    "tags": []
   },
   "outputs": [
    {
     "data": {
      "text/html": [
       "<div>\n",
       "<style scoped>\n",
       "    .dataframe tbody tr th:only-of-type {\n",
       "        vertical-align: middle;\n",
       "    }\n",
       "\n",
       "    .dataframe tbody tr th {\n",
       "        vertical-align: top;\n",
       "    }\n",
       "\n",
       "    .dataframe thead th {\n",
       "        text-align: right;\n",
       "    }\n",
       "</style>\n",
       "<table border=\"1\" class=\"dataframe\">\n",
       "  <thead>\n",
       "    <tr style=\"text-align: right;\">\n",
       "      <th>col_0</th>\n",
       "      <th>Item_Visibility_freq</th>\n",
       "    </tr>\n",
       "    <tr>\n",
       "      <th>Item_Visibility</th>\n",
       "      <th></th>\n",
       "    </tr>\n",
       "  </thead>\n",
       "  <tbody>\n",
       "    <tr>\n",
       "      <th>0.000000</th>\n",
       "      <td>879</td>\n",
       "    </tr>\n",
       "    <tr>\n",
       "      <th>0.003575</th>\n",
       "      <td>1</td>\n",
       "    </tr>\n",
       "    <tr>\n",
       "      <th>0.003589</th>\n",
       "      <td>1</td>\n",
       "    </tr>\n",
       "    <tr>\n",
       "      <th>0.003591</th>\n",
       "      <td>1</td>\n",
       "    </tr>\n",
       "    <tr>\n",
       "      <th>0.003592</th>\n",
       "      <td>1</td>\n",
       "    </tr>\n",
       "    <tr>\n",
       "      <th>...</th>\n",
       "      <td>...</td>\n",
       "    </tr>\n",
       "    <tr>\n",
       "      <th>0.313935</th>\n",
       "      <td>1</td>\n",
       "    </tr>\n",
       "    <tr>\n",
       "      <th>0.321115</th>\n",
       "      <td>1</td>\n",
       "    </tr>\n",
       "    <tr>\n",
       "      <th>0.323637</th>\n",
       "      <td>1</td>\n",
       "    </tr>\n",
       "    <tr>\n",
       "      <th>0.325781</th>\n",
       "      <td>1</td>\n",
       "    </tr>\n",
       "    <tr>\n",
       "      <th>0.328391</th>\n",
       "      <td>1</td>\n",
       "    </tr>\n",
       "  </tbody>\n",
       "</table>\n",
       "<p>13006 rows × 1 columns</p>\n",
       "</div>"
      ],
      "text/plain": [
       "col_0            Item_Visibility_freq\n",
       "Item_Visibility                      \n",
       "0.000000                          879\n",
       "0.003575                            1\n",
       "0.003589                            1\n",
       "0.003591                            1\n",
       "0.003592                            1\n",
       "...                               ...\n",
       "0.313935                            1\n",
       "0.321115                            1\n",
       "0.323637                            1\n",
       "0.325781                            1\n",
       "0.328391                            1\n",
       "\n",
       "[13006 rows x 1 columns]"
      ]
     },
     "execution_count": 11,
     "metadata": {},
     "output_type": "execute_result"
    }
   ],
   "source": [
    "pd.crosstab(train_data['Item_Visibility'], 'Item_Visibility_freq')"
   ]
  },
  {
   "cell_type": "code",
   "execution_count": 12,
   "id": "de667d20",
   "metadata": {
    "execution": {
     "iopub.execute_input": "2023-02-05T20:38:50.512773Z",
     "iopub.status.busy": "2023-02-05T20:38:50.512327Z",
     "iopub.status.idle": "2023-02-05T20:38:50.534893Z",
     "shell.execute_reply": "2023-02-05T20:38:50.533663Z"
    },
    "papermill": {
     "duration": 0.03579,
     "end_time": "2023-02-05T20:38:50.537043",
     "exception": false,
     "start_time": "2023-02-05T20:38:50.501253",
     "status": "completed"
    },
    "tags": []
   },
   "outputs": [
    {
     "data": {
      "text/html": [
       "<div>\n",
       "<style scoped>\n",
       "    .dataframe tbody tr th:only-of-type {\n",
       "        vertical-align: middle;\n",
       "    }\n",
       "\n",
       "    .dataframe tbody tr th {\n",
       "        vertical-align: top;\n",
       "    }\n",
       "\n",
       "    .dataframe thead th {\n",
       "        text-align: right;\n",
       "    }\n",
       "</style>\n",
       "<table border=\"1\" class=\"dataframe\">\n",
       "  <thead>\n",
       "    <tr style=\"text-align: right;\">\n",
       "      <th>col_0</th>\n",
       "      <th>Item_Type_freq</th>\n",
       "    </tr>\n",
       "    <tr>\n",
       "      <th>Item_Type</th>\n",
       "      <th></th>\n",
       "    </tr>\n",
       "  </thead>\n",
       "  <tbody>\n",
       "    <tr>\n",
       "      <th>Baking Goods</th>\n",
       "      <td>1086</td>\n",
       "    </tr>\n",
       "    <tr>\n",
       "      <th>Breads</th>\n",
       "      <td>416</td>\n",
       "    </tr>\n",
       "    <tr>\n",
       "      <th>Breakfast</th>\n",
       "      <td>186</td>\n",
       "    </tr>\n",
       "    <tr>\n",
       "      <th>Canned</th>\n",
       "      <td>1084</td>\n",
       "    </tr>\n",
       "    <tr>\n",
       "      <th>Dairy</th>\n",
       "      <td>1136</td>\n",
       "    </tr>\n",
       "    <tr>\n",
       "      <th>Frozen Foods</th>\n",
       "      <td>1426</td>\n",
       "    </tr>\n",
       "    <tr>\n",
       "      <th>Fruits and Vegetables</th>\n",
       "      <td>2013</td>\n",
       "    </tr>\n",
       "    <tr>\n",
       "      <th>Hard Drinks</th>\n",
       "      <td>362</td>\n",
       "    </tr>\n",
       "    <tr>\n",
       "      <th>Health and Hygiene</th>\n",
       "      <td>858</td>\n",
       "    </tr>\n",
       "    <tr>\n",
       "      <th>Household</th>\n",
       "      <td>1548</td>\n",
       "    </tr>\n",
       "    <tr>\n",
       "      <th>Meat</th>\n",
       "      <td>736</td>\n",
       "    </tr>\n",
       "    <tr>\n",
       "      <th>Others</th>\n",
       "      <td>280</td>\n",
       "    </tr>\n",
       "    <tr>\n",
       "      <th>Seafood</th>\n",
       "      <td>89</td>\n",
       "    </tr>\n",
       "    <tr>\n",
       "      <th>Snack Foods</th>\n",
       "      <td>1989</td>\n",
       "    </tr>\n",
       "    <tr>\n",
       "      <th>Soft Drinks</th>\n",
       "      <td>726</td>\n",
       "    </tr>\n",
       "    <tr>\n",
       "      <th>Starchy Foods</th>\n",
       "      <td>269</td>\n",
       "    </tr>\n",
       "  </tbody>\n",
       "</table>\n",
       "</div>"
      ],
      "text/plain": [
       "col_0                  Item_Type_freq\n",
       "Item_Type                            \n",
       "Baking Goods                     1086\n",
       "Breads                            416\n",
       "Breakfast                         186\n",
       "Canned                           1084\n",
       "Dairy                            1136\n",
       "Frozen Foods                     1426\n",
       "Fruits and Vegetables            2013\n",
       "Hard Drinks                       362\n",
       "Health and Hygiene                858\n",
       "Household                        1548\n",
       "Meat                              736\n",
       "Others                            280\n",
       "Seafood                            89\n",
       "Snack Foods                      1989\n",
       "Soft Drinks                       726\n",
       "Starchy Foods                     269"
      ]
     },
     "execution_count": 12,
     "metadata": {},
     "output_type": "execute_result"
    }
   ],
   "source": [
    "pd.crosstab(train_data['Item_Type'], 'Item_Type_freq')"
   ]
  },
  {
   "cell_type": "code",
   "execution_count": 13,
   "id": "fcc7cc71",
   "metadata": {
    "execution": {
     "iopub.execute_input": "2023-02-05T20:38:50.561359Z",
     "iopub.status.busy": "2023-02-05T20:38:50.559987Z",
     "iopub.status.idle": "2023-02-05T20:38:50.622099Z",
     "shell.execute_reply": "2023-02-05T20:38:50.621219Z"
    },
    "papermill": {
     "duration": 0.077051,
     "end_time": "2023-02-05T20:38:50.624671",
     "exception": false,
     "start_time": "2023-02-05T20:38:50.547620",
     "status": "completed"
    },
    "tags": []
   },
   "outputs": [
    {
     "data": {
      "text/html": [
       "<div>\n",
       "<style scoped>\n",
       "    .dataframe tbody tr th:only-of-type {\n",
       "        vertical-align: middle;\n",
       "    }\n",
       "\n",
       "    .dataframe tbody tr th {\n",
       "        vertical-align: top;\n",
       "    }\n",
       "\n",
       "    .dataframe thead th {\n",
       "        text-align: right;\n",
       "    }\n",
       "</style>\n",
       "<table border=\"1\" class=\"dataframe\">\n",
       "  <thead>\n",
       "    <tr style=\"text-align: right;\">\n",
       "      <th>col_0</th>\n",
       "      <th>Item_MRP_freq</th>\n",
       "    </tr>\n",
       "    <tr>\n",
       "      <th>Item_MRP</th>\n",
       "      <th></th>\n",
       "    </tr>\n",
       "  </thead>\n",
       "  <tbody>\n",
       "    <tr>\n",
       "      <th>31.2900</th>\n",
       "      <td>1</td>\n",
       "    </tr>\n",
       "    <tr>\n",
       "      <th>31.4900</th>\n",
       "      <td>1</td>\n",
       "    </tr>\n",
       "    <tr>\n",
       "      <th>31.8900</th>\n",
       "      <td>1</td>\n",
       "    </tr>\n",
       "    <tr>\n",
       "      <th>31.9558</th>\n",
       "      <td>2</td>\n",
       "    </tr>\n",
       "    <tr>\n",
       "      <th>31.9900</th>\n",
       "      <td>1</td>\n",
       "    </tr>\n",
       "    <tr>\n",
       "      <th>...</th>\n",
       "      <td>...</td>\n",
       "    </tr>\n",
       "    <tr>\n",
       "      <th>266.3226</th>\n",
       "      <td>1</td>\n",
       "    </tr>\n",
       "    <tr>\n",
       "      <th>266.4884</th>\n",
       "      <td>1</td>\n",
       "    </tr>\n",
       "    <tr>\n",
       "      <th>266.5884</th>\n",
       "      <td>3</td>\n",
       "    </tr>\n",
       "    <tr>\n",
       "      <th>266.6884</th>\n",
       "      <td>2</td>\n",
       "    </tr>\n",
       "    <tr>\n",
       "      <th>266.8884</th>\n",
       "      <td>2</td>\n",
       "    </tr>\n",
       "  </tbody>\n",
       "</table>\n",
       "<p>8052 rows × 1 columns</p>\n",
       "</div>"
      ],
      "text/plain": [
       "col_0     Item_MRP_freq\n",
       "Item_MRP               \n",
       "31.2900               1\n",
       "31.4900               1\n",
       "31.8900               1\n",
       "31.9558               2\n",
       "31.9900               1\n",
       "...                 ...\n",
       "266.3226              1\n",
       "266.4884              1\n",
       "266.5884              3\n",
       "266.6884              2\n",
       "266.8884              2\n",
       "\n",
       "[8052 rows x 1 columns]"
      ]
     },
     "execution_count": 13,
     "metadata": {},
     "output_type": "execute_result"
    }
   ],
   "source": [
    "pd.crosstab(train_data['Item_MRP'], 'Item_MRP_freq')"
   ]
  },
  {
   "cell_type": "code",
   "execution_count": 14,
   "id": "c5fed4fc",
   "metadata": {
    "execution": {
     "iopub.execute_input": "2023-02-05T20:38:50.648771Z",
     "iopub.status.busy": "2023-02-05T20:38:50.648242Z",
     "iopub.status.idle": "2023-02-05T20:38:50.670069Z",
     "shell.execute_reply": "2023-02-05T20:38:50.668709Z"
    },
    "papermill": {
     "duration": 0.037042,
     "end_time": "2023-02-05T20:38:50.672129",
     "exception": false,
     "start_time": "2023-02-05T20:38:50.635087",
     "status": "completed"
    },
    "tags": []
   },
   "outputs": [
    {
     "data": {
      "text/html": [
       "<div>\n",
       "<style scoped>\n",
       "    .dataframe tbody tr th:only-of-type {\n",
       "        vertical-align: middle;\n",
       "    }\n",
       "\n",
       "    .dataframe tbody tr th {\n",
       "        vertical-align: top;\n",
       "    }\n",
       "\n",
       "    .dataframe thead th {\n",
       "        text-align: right;\n",
       "    }\n",
       "</style>\n",
       "<table border=\"1\" class=\"dataframe\">\n",
       "  <thead>\n",
       "    <tr style=\"text-align: right;\">\n",
       "      <th>col_0</th>\n",
       "      <th>Outlet_Identifier_freq</th>\n",
       "    </tr>\n",
       "    <tr>\n",
       "      <th>Outlet_Identifier</th>\n",
       "      <th></th>\n",
       "    </tr>\n",
       "  </thead>\n",
       "  <tbody>\n",
       "    <tr>\n",
       "      <th>OUT010</th>\n",
       "      <td>925</td>\n",
       "    </tr>\n",
       "    <tr>\n",
       "      <th>OUT013</th>\n",
       "      <td>1553</td>\n",
       "    </tr>\n",
       "    <tr>\n",
       "      <th>OUT017</th>\n",
       "      <td>1543</td>\n",
       "    </tr>\n",
       "    <tr>\n",
       "      <th>OUT018</th>\n",
       "      <td>1546</td>\n",
       "    </tr>\n",
       "    <tr>\n",
       "      <th>OUT019</th>\n",
       "      <td>880</td>\n",
       "    </tr>\n",
       "    <tr>\n",
       "      <th>OUT027</th>\n",
       "      <td>1559</td>\n",
       "    </tr>\n",
       "    <tr>\n",
       "      <th>OUT035</th>\n",
       "      <td>1550</td>\n",
       "    </tr>\n",
       "    <tr>\n",
       "      <th>OUT045</th>\n",
       "      <td>1548</td>\n",
       "    </tr>\n",
       "    <tr>\n",
       "      <th>OUT046</th>\n",
       "      <td>1550</td>\n",
       "    </tr>\n",
       "    <tr>\n",
       "      <th>OUT049</th>\n",
       "      <td>1550</td>\n",
       "    </tr>\n",
       "  </tbody>\n",
       "</table>\n",
       "</div>"
      ],
      "text/plain": [
       "col_0              Outlet_Identifier_freq\n",
       "Outlet_Identifier                        \n",
       "OUT010                                925\n",
       "OUT013                               1553\n",
       "OUT017                               1543\n",
       "OUT018                               1546\n",
       "OUT019                                880\n",
       "OUT027                               1559\n",
       "OUT035                               1550\n",
       "OUT045                               1548\n",
       "OUT046                               1550\n",
       "OUT049                               1550"
      ]
     },
     "execution_count": 14,
     "metadata": {},
     "output_type": "execute_result"
    }
   ],
   "source": [
    "pd.crosstab(train_data['Outlet_Identifier'], 'Outlet_Identifier_freq')"
   ]
  },
  {
   "cell_type": "code",
   "execution_count": 15,
   "id": "fc177d98",
   "metadata": {
    "execution": {
     "iopub.execute_input": "2023-02-05T20:38:50.695614Z",
     "iopub.status.busy": "2023-02-05T20:38:50.694923Z",
     "iopub.status.idle": "2023-02-05T20:38:50.718566Z",
     "shell.execute_reply": "2023-02-05T20:38:50.716731Z"
    },
    "papermill": {
     "duration": 0.039383,
     "end_time": "2023-02-05T20:38:50.721809",
     "exception": false,
     "start_time": "2023-02-05T20:38:50.682426",
     "status": "completed"
    },
    "tags": []
   },
   "outputs": [
    {
     "data": {
      "text/html": [
       "<div>\n",
       "<style scoped>\n",
       "    .dataframe tbody tr th:only-of-type {\n",
       "        vertical-align: middle;\n",
       "    }\n",
       "\n",
       "    .dataframe tbody tr th {\n",
       "        vertical-align: top;\n",
       "    }\n",
       "\n",
       "    .dataframe thead th {\n",
       "        text-align: right;\n",
       "    }\n",
       "</style>\n",
       "<table border=\"1\" class=\"dataframe\">\n",
       "  <thead>\n",
       "    <tr style=\"text-align: right;\">\n",
       "      <th>col_0</th>\n",
       "      <th>Outlet_Establishment_Year_freq</th>\n",
       "    </tr>\n",
       "    <tr>\n",
       "      <th>Outlet_Establishment_Year</th>\n",
       "      <th></th>\n",
       "    </tr>\n",
       "  </thead>\n",
       "  <tbody>\n",
       "    <tr>\n",
       "      <th>1985</th>\n",
       "      <td>2439</td>\n",
       "    </tr>\n",
       "    <tr>\n",
       "      <th>1987</th>\n",
       "      <td>1553</td>\n",
       "    </tr>\n",
       "    <tr>\n",
       "      <th>1997</th>\n",
       "      <td>1550</td>\n",
       "    </tr>\n",
       "    <tr>\n",
       "      <th>1998</th>\n",
       "      <td>925</td>\n",
       "    </tr>\n",
       "    <tr>\n",
       "      <th>1999</th>\n",
       "      <td>1550</td>\n",
       "    </tr>\n",
       "    <tr>\n",
       "      <th>2002</th>\n",
       "      <td>1548</td>\n",
       "    </tr>\n",
       "    <tr>\n",
       "      <th>2004</th>\n",
       "      <td>1550</td>\n",
       "    </tr>\n",
       "    <tr>\n",
       "      <th>2007</th>\n",
       "      <td>1543</td>\n",
       "    </tr>\n",
       "    <tr>\n",
       "      <th>2009</th>\n",
       "      <td>1546</td>\n",
       "    </tr>\n",
       "  </tbody>\n",
       "</table>\n",
       "</div>"
      ],
      "text/plain": [
       "col_0                      Outlet_Establishment_Year_freq\n",
       "Outlet_Establishment_Year                                \n",
       "1985                                                 2439\n",
       "1987                                                 1553\n",
       "1997                                                 1550\n",
       "1998                                                  925\n",
       "1999                                                 1550\n",
       "2002                                                 1548\n",
       "2004                                                 1550\n",
       "2007                                                 1543\n",
       "2009                                                 1546"
      ]
     },
     "execution_count": 15,
     "metadata": {},
     "output_type": "execute_result"
    }
   ],
   "source": [
    "pd.crosstab(train_data['Outlet_Establishment_Year'], 'Outlet_Establishment_Year_freq')"
   ]
  },
  {
   "cell_type": "code",
   "execution_count": 16,
   "id": "467e3b6d",
   "metadata": {
    "execution": {
     "iopub.execute_input": "2023-02-05T20:38:50.748079Z",
     "iopub.status.busy": "2023-02-05T20:38:50.747373Z",
     "iopub.status.idle": "2023-02-05T20:38:50.769555Z",
     "shell.execute_reply": "2023-02-05T20:38:50.768265Z"
    },
    "papermill": {
     "duration": 0.038241,
     "end_time": "2023-02-05T20:38:50.771757",
     "exception": false,
     "start_time": "2023-02-05T20:38:50.733516",
     "status": "completed"
    },
    "tags": []
   },
   "outputs": [
    {
     "data": {
      "text/html": [
       "<div>\n",
       "<style scoped>\n",
       "    .dataframe tbody tr th:only-of-type {\n",
       "        vertical-align: middle;\n",
       "    }\n",
       "\n",
       "    .dataframe tbody tr th {\n",
       "        vertical-align: top;\n",
       "    }\n",
       "\n",
       "    .dataframe thead th {\n",
       "        text-align: right;\n",
       "    }\n",
       "</style>\n",
       "<table border=\"1\" class=\"dataframe\">\n",
       "  <thead>\n",
       "    <tr style=\"text-align: right;\">\n",
       "      <th>col_0</th>\n",
       "      <th>Outlet_Size_freq</th>\n",
       "    </tr>\n",
       "    <tr>\n",
       "      <th>Outlet_Size</th>\n",
       "      <th></th>\n",
       "    </tr>\n",
       "  </thead>\n",
       "  <tbody>\n",
       "    <tr>\n",
       "      <th>High</th>\n",
       "      <td>1553</td>\n",
       "    </tr>\n",
       "    <tr>\n",
       "      <th>Medium</th>\n",
       "      <td>8671</td>\n",
       "    </tr>\n",
       "    <tr>\n",
       "      <th>Small</th>\n",
       "      <td>3980</td>\n",
       "    </tr>\n",
       "  </tbody>\n",
       "</table>\n",
       "</div>"
      ],
      "text/plain": [
       "col_0        Outlet_Size_freq\n",
       "Outlet_Size                  \n",
       "High                     1553\n",
       "Medium                   8671\n",
       "Small                    3980"
      ]
     },
     "execution_count": 16,
     "metadata": {},
     "output_type": "execute_result"
    }
   ],
   "source": [
    "pd.crosstab(train_data['Outlet_Size'], 'Outlet_Size_freq')"
   ]
  },
  {
   "cell_type": "code",
   "execution_count": 17,
   "id": "fa1b4ffc",
   "metadata": {
    "execution": {
     "iopub.execute_input": "2023-02-05T20:38:50.794690Z",
     "iopub.status.busy": "2023-02-05T20:38:50.794328Z",
     "iopub.status.idle": "2023-02-05T20:38:50.816792Z",
     "shell.execute_reply": "2023-02-05T20:38:50.815531Z"
    },
    "papermill": {
     "duration": 0.037173,
     "end_time": "2023-02-05T20:38:50.819409",
     "exception": false,
     "start_time": "2023-02-05T20:38:50.782236",
     "status": "completed"
    },
    "tags": []
   },
   "outputs": [
    {
     "data": {
      "text/html": [
       "<div>\n",
       "<style scoped>\n",
       "    .dataframe tbody tr th:only-of-type {\n",
       "        vertical-align: middle;\n",
       "    }\n",
       "\n",
       "    .dataframe tbody tr th {\n",
       "        vertical-align: top;\n",
       "    }\n",
       "\n",
       "    .dataframe thead th {\n",
       "        text-align: right;\n",
       "    }\n",
       "</style>\n",
       "<table border=\"1\" class=\"dataframe\">\n",
       "  <thead>\n",
       "    <tr style=\"text-align: right;\">\n",
       "      <th>col_0</th>\n",
       "      <th>Outlet_Location_Type_freq</th>\n",
       "    </tr>\n",
       "    <tr>\n",
       "      <th>Outlet_Location_Type</th>\n",
       "      <th></th>\n",
       "    </tr>\n",
       "  </thead>\n",
       "  <tbody>\n",
       "    <tr>\n",
       "      <th>Tier 1</th>\n",
       "      <td>3980</td>\n",
       "    </tr>\n",
       "    <tr>\n",
       "      <th>Tier 2</th>\n",
       "      <td>4641</td>\n",
       "    </tr>\n",
       "    <tr>\n",
       "      <th>Tier 3</th>\n",
       "      <td>5583</td>\n",
       "    </tr>\n",
       "  </tbody>\n",
       "</table>\n",
       "</div>"
      ],
      "text/plain": [
       "col_0                 Outlet_Location_Type_freq\n",
       "Outlet_Location_Type                           \n",
       "Tier 1                                     3980\n",
       "Tier 2                                     4641\n",
       "Tier 3                                     5583"
      ]
     },
     "execution_count": 17,
     "metadata": {},
     "output_type": "execute_result"
    }
   ],
   "source": [
    "pd.crosstab(train_data['Outlet_Location_Type'], 'Outlet_Location_Type_freq')"
   ]
  },
  {
   "cell_type": "code",
   "execution_count": 18,
   "id": "326a7a8f",
   "metadata": {
    "execution": {
     "iopub.execute_input": "2023-02-05T20:38:50.844762Z",
     "iopub.status.busy": "2023-02-05T20:38:50.844314Z",
     "iopub.status.idle": "2023-02-05T20:38:50.867027Z",
     "shell.execute_reply": "2023-02-05T20:38:50.865670Z"
    },
    "papermill": {
     "duration": 0.038095,
     "end_time": "2023-02-05T20:38:50.869318",
     "exception": false,
     "start_time": "2023-02-05T20:38:50.831223",
     "status": "completed"
    },
    "tags": []
   },
   "outputs": [
    {
     "data": {
      "text/html": [
       "<div>\n",
       "<style scoped>\n",
       "    .dataframe tbody tr th:only-of-type {\n",
       "        vertical-align: middle;\n",
       "    }\n",
       "\n",
       "    .dataframe tbody tr th {\n",
       "        vertical-align: top;\n",
       "    }\n",
       "\n",
       "    .dataframe thead th {\n",
       "        text-align: right;\n",
       "    }\n",
       "</style>\n",
       "<table border=\"1\" class=\"dataframe\">\n",
       "  <thead>\n",
       "    <tr style=\"text-align: right;\">\n",
       "      <th>col_0</th>\n",
       "      <th>Outlet_Type_freq</th>\n",
       "    </tr>\n",
       "    <tr>\n",
       "      <th>Outlet_Type</th>\n",
       "      <th></th>\n",
       "    </tr>\n",
       "  </thead>\n",
       "  <tbody>\n",
       "    <tr>\n",
       "      <th>Grocery Store</th>\n",
       "      <td>1805</td>\n",
       "    </tr>\n",
       "    <tr>\n",
       "      <th>Supermarket Type1</th>\n",
       "      <td>9294</td>\n",
       "    </tr>\n",
       "    <tr>\n",
       "      <th>Supermarket Type2</th>\n",
       "      <td>1546</td>\n",
       "    </tr>\n",
       "    <tr>\n",
       "      <th>Supermarket Type3</th>\n",
       "      <td>1559</td>\n",
       "    </tr>\n",
       "  </tbody>\n",
       "</table>\n",
       "</div>"
      ],
      "text/plain": [
       "col_0              Outlet_Type_freq\n",
       "Outlet_Type                        \n",
       "Grocery Store                  1805\n",
       "Supermarket Type1              9294\n",
       "Supermarket Type2              1546\n",
       "Supermarket Type3              1559"
      ]
     },
     "execution_count": 18,
     "metadata": {},
     "output_type": "execute_result"
    }
   ],
   "source": [
    "pd.crosstab(train_data['Outlet_Type'], 'Outlet_Type_freq')"
   ]
  },
  {
   "cell_type": "code",
   "execution_count": 19,
   "id": "8f571286",
   "metadata": {
    "execution": {
     "iopub.execute_input": "2023-02-05T20:38:50.894106Z",
     "iopub.status.busy": "2023-02-05T20:38:50.893718Z",
     "iopub.status.idle": "2023-02-05T20:38:50.933260Z",
     "shell.execute_reply": "2023-02-05T20:38:50.932062Z"
    },
    "papermill": {
     "duration": 0.055233,
     "end_time": "2023-02-05T20:38:50.936131",
     "exception": false,
     "start_time": "2023-02-05T20:38:50.880898",
     "status": "completed"
    },
    "tags": []
   },
   "outputs": [
    {
     "data": {
      "text/html": [
       "<div>\n",
       "<style scoped>\n",
       "    .dataframe tbody tr th:only-of-type {\n",
       "        vertical-align: middle;\n",
       "    }\n",
       "\n",
       "    .dataframe tbody tr th {\n",
       "        vertical-align: top;\n",
       "    }\n",
       "\n",
       "    .dataframe thead th {\n",
       "        text-align: right;\n",
       "    }\n",
       "</style>\n",
       "<table border=\"1\" class=\"dataframe\">\n",
       "  <thead>\n",
       "    <tr style=\"text-align: right;\">\n",
       "      <th>col_0</th>\n",
       "      <th>Item_Outlet_Sales_freq</th>\n",
       "    </tr>\n",
       "    <tr>\n",
       "      <th>Item_Outlet_Sales</th>\n",
       "      <th></th>\n",
       "    </tr>\n",
       "  </thead>\n",
       "  <tbody>\n",
       "    <tr>\n",
       "      <th>33.2900</th>\n",
       "      <td>2</td>\n",
       "    </tr>\n",
       "    <tr>\n",
       "      <th>33.9558</th>\n",
       "      <td>1</td>\n",
       "    </tr>\n",
       "    <tr>\n",
       "      <th>34.6216</th>\n",
       "      <td>1</td>\n",
       "    </tr>\n",
       "    <tr>\n",
       "      <th>35.2874</th>\n",
       "      <td>1</td>\n",
       "    </tr>\n",
       "    <tr>\n",
       "      <th>36.6190</th>\n",
       "      <td>2</td>\n",
       "    </tr>\n",
       "    <tr>\n",
       "      <th>...</th>\n",
       "      <td>...</td>\n",
       "    </tr>\n",
       "    <tr>\n",
       "      <th>10306.5840</th>\n",
       "      <td>1</td>\n",
       "    </tr>\n",
       "    <tr>\n",
       "      <th>10993.6896</th>\n",
       "      <td>1</td>\n",
       "    </tr>\n",
       "    <tr>\n",
       "      <th>11445.1020</th>\n",
       "      <td>1</td>\n",
       "    </tr>\n",
       "    <tr>\n",
       "      <th>12117.5600</th>\n",
       "      <td>1</td>\n",
       "    </tr>\n",
       "    <tr>\n",
       "      <th>13086.9648</th>\n",
       "      <td>1</td>\n",
       "    </tr>\n",
       "  </tbody>\n",
       "</table>\n",
       "<p>3493 rows × 1 columns</p>\n",
       "</div>"
      ],
      "text/plain": [
       "col_0              Item_Outlet_Sales_freq\n",
       "Item_Outlet_Sales                        \n",
       "33.2900                                 2\n",
       "33.9558                                 1\n",
       "34.6216                                 1\n",
       "35.2874                                 1\n",
       "36.6190                                 2\n",
       "...                                   ...\n",
       "10306.5840                              1\n",
       "10993.6896                              1\n",
       "11445.1020                              1\n",
       "12117.5600                              1\n",
       "13086.9648                              1\n",
       "\n",
       "[3493 rows x 1 columns]"
      ]
     },
     "execution_count": 19,
     "metadata": {},
     "output_type": "execute_result"
    }
   ],
   "source": [
    "pd.crosstab(train_data['Item_Outlet_Sales'], 'Item_Outlet_Sales_freq')"
   ]
  },
  {
   "cell_type": "markdown",
   "id": "6ff53ba9",
   "metadata": {
    "papermill": {
     "duration": 0.010798,
     "end_time": "2023-02-05T20:38:50.958288",
     "exception": false,
     "start_time": "2023-02-05T20:38:50.947490",
     "status": "completed"
    },
    "tags": []
   },
   "source": [
    "**3. Create Charts**"
   ]
  },
  {
   "cell_type": "code",
   "execution_count": 20,
   "id": "4912e8da",
   "metadata": {
    "execution": {
     "iopub.execute_input": "2023-02-05T20:38:50.982979Z",
     "iopub.status.busy": "2023-02-05T20:38:50.982446Z",
     "iopub.status.idle": "2023-02-05T20:38:51.223100Z",
     "shell.execute_reply": "2023-02-05T20:38:51.222228Z"
    },
    "papermill": {
     "duration": 0.255611,
     "end_time": "2023-02-05T20:38:51.225180",
     "exception": false,
     "start_time": "2023-02-05T20:38:50.969569",
     "status": "completed"
    },
    "tags": []
   },
   "outputs": [
    {
     "data": {
      "text/plain": [
       "<AxesSubplot:xlabel='Item_Weight', ylabel='Density'>"
      ]
     },
     "execution_count": 20,
     "metadata": {},
     "output_type": "execute_result"
    },
    {
     "data": {
      "image/png": "[encoded data removed]",
      "text/plain": [
       "<Figure size 432x288 with 1 Axes>"
      ]
     },
     "metadata": {
      "needs_background": "light"
     },
     "output_type": "display_data"
    }
   ],
   "source": [
    "sns.kdeplot(train_data['Item_Weight'])"
   ]
  },
  {
   "cell_type": "code",
   "execution_count": 21,
   "id": "55afa6d5",
   "metadata": {
    "execution": {
     "iopub.execute_input": "2023-02-05T20:38:51.251055Z",
     "iopub.status.busy": "2023-02-05T20:38:51.250606Z",
     "iopub.status.idle": "2023-02-05T20:38:51.457554Z",
     "shell.execute_reply": "2023-02-05T20:38:51.456691Z"
    },
    "papermill": {
     "duration": 0.222975,
     "end_time": "2023-02-05T20:38:51.459628",
     "exception": false,
     "start_time": "2023-02-05T20:38:51.236653",
     "status": "completed"
    },
    "tags": []
   },
   "outputs": [
    {
     "data": {
      "text/plain": [
       "<AxesSubplot:xlabel='Item_Visibility', ylabel='Density'>"
      ]
     },
     "execution_count": 21,
     "metadata": {},
     "output_type": "execute_result"
    },
    {
     "data": {
      "image/png": "[encoded data removed]",
      "text/plain": [
       "<Figure size 432x288 with 1 Axes>"
      ]
     },
     "metadata": {
      "needs_background": "light"
     },
     "output_type": "display_data"
    }
   ],
   "source": [
    "sns.kdeplot(train_data['Item_Visibility'])"
   ]
  },
  {
   "cell_type": "code",
   "execution_count": 22,
   "id": "a50ee96a",
   "metadata": {
    "execution": {
     "iopub.execute_input": "2023-02-05T20:38:51.485389Z",
     "iopub.status.busy": "2023-02-05T20:38:51.484911Z",
     "iopub.status.idle": "2023-02-05T20:38:51.690585Z",
     "shell.execute_reply": "2023-02-05T20:38:51.689722Z"
    },
    "papermill": {
     "duration": 0.221107,
     "end_time": "2023-02-05T20:38:51.692757",
     "exception": false,
     "start_time": "2023-02-05T20:38:51.471650",
     "status": "completed"
    },
    "tags": []
   },
   "outputs": [
    {
     "data": {
      "text/plain": [
       "<AxesSubplot:xlabel='Item_MRP', ylabel='Density'>"
      ]
     },
     "execution_count": 22,
     "metadata": {},
     "output_type": "execute_result"
    },
    {
     "data": {
      "image/png": "[encoded data removed]",
      "text/plain": [
       "<Figure size 432x288 with 1 Axes>"
      ]
     },
     "metadata": {
      "needs_background": "light"
     },
     "output_type": "display_data"
    }
   ],
   "source": [
    "sns.kdeplot(train_data['Item_MRP'])"
   ]
  },
  {
   "cell_type": "code",
   "execution_count": 23,
   "id": "eefd6980",
   "metadata": {
    "execution": {
     "iopub.execute_input": "2023-02-05T20:38:51.719895Z",
     "iopub.status.busy": "2023-02-05T20:38:51.719447Z",
     "iopub.status.idle": "2023-02-05T20:38:51.934280Z",
     "shell.execute_reply": "2023-02-05T20:38:51.933269Z"
    },
    "papermill": {
     "duration": 0.231982,
     "end_time": "2023-02-05T20:38:51.936885",
     "exception": false,
     "start_time": "2023-02-05T20:38:51.704903",
     "status": "completed"
    },
    "tags": []
   },
   "outputs": [
    {
     "data": {
      "text/plain": [
       "<AxesSubplot:xlabel='Outlet_Establishment_Year', ylabel='Density'>"
      ]
     },
     "execution_count": 23,
     "metadata": {},
     "output_type": "execute_result"
    },
    {
     "data": {
      "image/png": "[encoded data removed]",
      "text/plain": [
       "<Figure size 432x288 with 1 Axes>"
      ]
     },
     "metadata": {
      "needs_background": "light"
     },
     "output_type": "display_data"
    }
   ],
   "source": [
    "sns.kdeplot(train_data['Outlet_Establishment_Year'])"
   ]
  },
  {
   "cell_type": "code",
   "execution_count": 24,
   "id": "7befe2e1",
   "metadata": {
    "execution": {
     "iopub.execute_input": "2023-02-05T20:38:51.964382Z",
     "iopub.status.busy": "2023-02-05T20:38:51.963768Z",
     "iopub.status.idle": "2023-02-05T20:38:52.166967Z",
     "shell.execute_reply": "2023-02-05T20:38:52.165372Z"
    },
    "papermill": {
     "duration": 0.220132,
     "end_time": "2023-02-05T20:38:52.169844",
     "exception": false,
     "start_time": "2023-02-05T20:38:51.949712",
     "status": "completed"
    },
    "tags": []
   },
   "outputs": [
    {
     "data": {
      "text/plain": [
       "<AxesSubplot:xlabel='Outlet_Establishment_Year', ylabel='Density'>"
      ]
     },
     "execution_count": 24,
     "metadata": {},
     "output_type": "execute_result"
    },
    {
     "data": {
      "image/png": "[encoded data removed]",
      "text/plain": [
       "<Figure size 432x288 with 1 Axes>"
      ]
     },
     "metadata": {
      "needs_background": "light"
     },
     "output_type": "display_data"
    }
   ],
   "source": [
    "sns.kdeplot(train_data['Outlet_Establishment_Year'])"
   ]
  },
  {
   "cell_type": "code",
   "execution_count": 25,
   "id": "69001a57",
   "metadata": {
    "execution": {
     "iopub.execute_input": "2023-02-05T20:38:52.197955Z",
     "iopub.status.busy": "2023-02-05T20:38:52.197142Z",
     "iopub.status.idle": "2023-02-05T20:38:52.408397Z",
     "shell.execute_reply": "2023-02-05T20:38:52.407543Z"
    },
    "papermill": {
     "duration": 0.227959,
     "end_time": "2023-02-05T20:38:52.410914",
     "exception": false,
     "start_time": "2023-02-05T20:38:52.182955",
     "status": "completed"
    },
    "tags": []
   },
   "outputs": [
    {
     "data": {
      "text/plain": [
       "<AxesSubplot:xlabel='Item_Outlet_Sales', ylabel='Density'>"
      ]
     },
     "execution_count": 25,
     "metadata": {},
     "output_type": "execute_result"
    },
    {
     "data": {
      "image/png": "[encoded data removed]",
      "text/plain": [
       "<Figure size 432x288 with 1 Axes>"
      ]
     },
     "metadata": {
      "needs_background": "light"
     },
     "output_type": "display_data"
    }
   ],
   "source": [
    "sns.kdeplot(train_data['Item_Outlet_Sales'])"
   ]
  },
  {
   "cell_type": "code",
   "execution_count": 26,
   "id": "d89b615f",
   "metadata": {
    "execution": {
     "iopub.execute_input": "2023-02-05T20:38:52.439462Z",
     "iopub.status.busy": "2023-02-05T20:38:52.439037Z",
     "iopub.status.idle": "2023-02-05T20:38:53.001519Z",
     "shell.execute_reply": "2023-02-05T20:38:53.000033Z"
    },
    "papermill": {
     "duration": 0.580152,
     "end_time": "2023-02-05T20:38:53.004394",
     "exception": false,
     "start_time": "2023-02-05T20:38:52.424242",
     "status": "completed"
    },
    "tags": []
   },
   "outputs": [
    {
     "data": {
      "text/plain": [
       "<AxesSubplot:ylabel='Item_Outlet_Sales'>"
      ]
     },
     "execution_count": 26,
     "metadata": {},
     "output_type": "execute_result"
    },
    {
     "data": {
      "image/png": "[encoded data removed]",
      "text/plain": [
       "<Figure size 432x288 with 1 Axes>"
      ]
     },
     "metadata": {
      "needs_background": "light"
     },
     "output_type": "display_data"
    }
   ],
   "source": [
    "sns.lineplot(data= train_data['Item_Outlet_Sales'])"
   ]
  },
  {
   "cell_type": "markdown",
   "id": "cd9c0960",
   "metadata": {
    "papermill": {
     "duration": 0.013458,
     "end_time": "2023-02-05T20:38:53.031553",
     "exception": false,
     "start_time": "2023-02-05T20:38:53.018095",
     "status": "completed"
    },
    "tags": []
   },
   "source": [
    "# **Bivariate Analysis**"
   ]
  },
  {
   "cell_type": "markdown",
   "id": "6d3ea9b6",
   "metadata": {
    "papermill": {
     "duration": 0.01349,
     "end_time": "2023-02-05T20:38:53.058696",
     "exception": false,
     "start_time": "2023-02-05T20:38:53.045206",
     "status": "completed"
    },
    "tags": []
   },
   "source": [
    "**1. Scatterplots**"
   ]
  },
  {
   "cell_type": "code",
   "execution_count": 27,
   "id": "7f0c20c7",
   "metadata": {
    "execution": {
     "iopub.execute_input": "2023-02-05T20:38:53.087716Z",
     "iopub.status.busy": "2023-02-05T20:38:53.087339Z",
     "iopub.status.idle": "2023-02-05T20:38:53.292346Z",
     "shell.execute_reply": "2023-02-05T20:38:53.290943Z"
    },
    "papermill": {
     "duration": 0.222372,
     "end_time": "2023-02-05T20:38:53.294642",
     "exception": false,
     "start_time": "2023-02-05T20:38:53.072270",
     "status": "completed"
    },
    "tags": []
   },
   "outputs": [
    {
     "data": {
      "text/plain": [
       "<AxesSubplot:xlabel='Item_Weight', ylabel='Item_Outlet_Sales'>"
      ]
     },
     "execution_count": 27,
     "metadata": {},
     "output_type": "execute_result"
    },
    {
     "data": {
      "image/png": "[encoded data removed]",
      "text/plain": [
       "<Figure size 432x288 with 1 Axes>"
      ]
     },
     "metadata": {
      "needs_background": "light"
     },
     "output_type": "display_data"
    }
   ],
   "source": [
    "sns.scatterplot(x=train_data['Item_Weight'], y=train_data['Item_Outlet_Sales'])"
   ]
  },
  {
   "cell_type": "code",
   "execution_count": 28,
   "id": "6ba4b0fa",
   "metadata": {
    "execution": {
     "iopub.execute_input": "2023-02-05T20:38:53.325859Z",
     "iopub.status.busy": "2023-02-05T20:38:53.325416Z",
     "iopub.status.idle": "2023-02-05T20:38:53.498772Z",
     "shell.execute_reply": "2023-02-05T20:38:53.497574Z"
    },
    "papermill": {
     "duration": 0.191297,
     "end_time": "2023-02-05T20:38:53.500687",
     "exception": false,
     "start_time": "2023-02-05T20:38:53.309390",
     "status": "completed"
    },
    "tags": []
   },
   "outputs": [
    {
     "data": {
      "text/plain": [
       "<AxesSubplot:xlabel='Item_MRP', ylabel='Item_Outlet_Sales'>"
      ]
     },
     "execution_count": 28,
     "metadata": {},
     "output_type": "execute_result"
    },
    {
     "data": {
      "image/png": "[encoded data removed]",
      "text/plain": [
       "<Figure size 432x288 with 1 Axes>"
      ]
     },
     "metadata": {
      "needs_background": "light"
     },
     "output_type": "display_data"
    }
   ],
   "source": [
    "sns.scatterplot(x=train_data['Item_MRP'], y=train_data['Item_Outlet_Sales'])"
   ]
  },
  {
   "cell_type": "code",
   "execution_count": 29,
   "id": "7e8c9bda",
   "metadata": {
    "execution": {
     "iopub.execute_input": "2023-02-05T20:38:53.533400Z",
     "iopub.status.busy": "2023-02-05T20:38:53.532993Z",
     "iopub.status.idle": "2023-02-05T20:52:59.241352Z",
     "shell.execute_reply": "2023-02-05T20:52:59.240422Z"
    },
    "papermill": {
     "duration": 845.727353,
     "end_time": "2023-02-05T20:52:59.243258",
     "exception": false,
     "start_time": "2023-02-05T20:38:53.515905",
     "status": "completed"
    },
    "tags": []
   },
   "outputs": [
    {
     "name": "stderr",
     "output_type": "stream",
     "text": [
      "/opt/conda/lib/python3.7/site-packages/seaborn/categorical.py:1296: UserWarning: 90.4% of the points cannot be placed; you may want to decrease the size of the markers or use stripplot.\n",
      "  warnings.warn(msg, UserWarning)\n",
      "/opt/conda/lib/python3.7/site-packages/seaborn/categorical.py:1296: UserWarning: 91.4% of the points cannot be placed; you may want to decrease the size of the markers or use stripplot.\n",
      "  warnings.warn(msg, UserWarning)\n",
      "/opt/conda/lib/python3.7/site-packages/seaborn/categorical.py:1296: UserWarning: 91.3% of the points cannot be placed; you may want to decrease the size of the markers or use stripplot.\n",
      "  warnings.warn(msg, UserWarning)\n"
     ]
    },
    {
     "data": {
      "text/plain": [
       "<AxesSubplot:xlabel='Outlet_Location_Type', ylabel='Item_Outlet_Sales'>"
      ]
     },
     "execution_count": 29,
     "metadata": {},
     "output_type": "execute_result"
    },
    {
     "data": {
      "image/png": "[encoded data removed]",
      "text/plain": [
       "<Figure size 432x288 with 1 Axes>"
      ]
     },
     "metadata": {
      "needs_background": "light"
     },
     "output_type": "display_data"
    }
   ],
   "source": [
    "sns.swarmplot(x = train_data['Outlet_Location_Type'],y = train_data['Item_Outlet_Sales'])"
   ]
  },
  {
   "cell_type": "code",
   "execution_count": 30,
   "id": "b7f98b5d",
   "metadata": {
    "execution": {
     "iopub.execute_input": "2023-02-05T20:52:59.279793Z",
     "iopub.status.busy": "2023-02-05T20:52:59.279131Z",
     "iopub.status.idle": "2023-02-05T20:52:59.649975Z",
     "shell.execute_reply": "2023-02-05T20:52:59.649036Z"
    },
    "papermill": {
     "duration": 0.393177,
     "end_time": "2023-02-05T20:52:59.653111",
     "exception": false,
     "start_time": "2023-02-05T20:52:59.259934",
     "status": "completed"
    },
    "tags": []
   },
   "outputs": [
    {
     "data": {
      "text/plain": [
       "(array([0, 1, 2, 3]),\n",
       " [Text(0, 0, 'Supermarket Type1'),\n",
       "  Text(1, 0, 'Supermarket Type2'),\n",
       "  Text(2, 0, 'Grocery Store'),\n",
       "  Text(3, 0, 'Supermarket Type3')])"
      ]
     },
     "execution_count": 30,
     "metadata": {},
     "output_type": "execute_result"
    },
    {
     "data": {
      "image/png": "[encoded data removed]",
      "text/plain": [
       "<Figure size 432x288 with 1 Axes>"
      ]
     },
     "metadata": {
      "needs_background": "light"
     },
     "output_type": "display_data"
    }
   ],
   "source": [
    "sns.barplot(x=train_data['Outlet_Type'], y=train_data['Item_Outlet_Sales'])\n",
    "plt.xticks(rotation=90)"
   ]
  },
  {
   "cell_type": "markdown",
   "id": "ce89ac8e",
   "metadata": {
    "papermill": {
     "duration": 0.017235,
     "end_time": "2023-02-05T20:52:59.691687",
     "exception": false,
     "start_time": "2023-02-05T20:52:59.674452",
     "status": "completed"
    },
    "tags": []
   },
   "source": [
    "**2. Correlation Coefficients**"
   ]
  },
  {
   "cell_type": "code",
   "execution_count": 31,
   "id": "58fea331",
   "metadata": {
    "execution": {
     "iopub.execute_input": "2023-02-05T20:52:59.731896Z",
     "iopub.status.busy": "2023-02-05T20:52:59.731457Z",
     "iopub.status.idle": "2023-02-05T20:52:59.745444Z",
     "shell.execute_reply": "2023-02-05T20:52:59.744459Z"
    },
    "papermill": {
     "duration": 0.036906,
     "end_time": "2023-02-05T20:52:59.747630",
     "exception": false,
     "start_time": "2023-02-05T20:52:59.710724",
     "status": "completed"
    },
    "tags": []
   },
   "outputs": [
    {
     "data": {
      "text/html": [
       "<div>\n",
       "<style scoped>\n",
       "    .dataframe tbody tr th:only-of-type {\n",
       "        vertical-align: middle;\n",
       "    }\n",
       "\n",
       "    .dataframe tbody tr th {\n",
       "        vertical-align: top;\n",
       "    }\n",
       "\n",
       "    .dataframe thead th {\n",
       "        text-align: right;\n",
       "    }\n",
       "</style>\n",
       "<table border=\"1\" class=\"dataframe\">\n",
       "  <thead>\n",
       "    <tr style=\"text-align: right;\">\n",
       "      <th></th>\n",
       "      <th>Item_Weight</th>\n",
       "      <th>Item_Visibility</th>\n",
       "      <th>Item_MRP</th>\n",
       "      <th>Outlet_Establishment_Year</th>\n",
       "      <th>Item_Outlet_Sales</th>\n",
       "    </tr>\n",
       "  </thead>\n",
       "  <tbody>\n",
       "    <tr>\n",
       "      <th>Item_Weight</th>\n",
       "      <td>1.000000</td>\n",
       "      <td>-0.013641</td>\n",
       "      <td>0.033002</td>\n",
       "      <td>0.000462</td>\n",
       "      <td>0.010686</td>\n",
       "    </tr>\n",
       "    <tr>\n",
       "      <th>Item_Visibility</th>\n",
       "      <td>-0.013641</td>\n",
       "      <td>1.000000</td>\n",
       "      <td>-0.006351</td>\n",
       "      <td>-0.083678</td>\n",
       "      <td>-0.098285</td>\n",
       "    </tr>\n",
       "    <tr>\n",
       "      <th>Item_MRP</th>\n",
       "      <td>0.033002</td>\n",
       "      <td>-0.006351</td>\n",
       "      <td>1.000000</td>\n",
       "      <td>0.000141</td>\n",
       "      <td>0.436478</td>\n",
       "    </tr>\n",
       "    <tr>\n",
       "      <th>Outlet_Establishment_Year</th>\n",
       "      <td>0.000462</td>\n",
       "      <td>-0.083678</td>\n",
       "      <td>0.000141</td>\n",
       "      <td>1.000000</td>\n",
       "      <td>-0.037651</td>\n",
       "    </tr>\n",
       "    <tr>\n",
       "      <th>Item_Outlet_Sales</th>\n",
       "      <td>0.010686</td>\n",
       "      <td>-0.098285</td>\n",
       "      <td>0.436478</td>\n",
       "      <td>-0.037651</td>\n",
       "      <td>1.000000</td>\n",
       "    </tr>\n",
       "  </tbody>\n",
       "</table>\n",
       "</div>"
      ],
      "text/plain": [
       "                           Item_Weight  Item_Visibility  Item_MRP  \\\n",
       "Item_Weight                   1.000000        -0.013641  0.033002   \n",
       "Item_Visibility              -0.013641         1.000000 -0.006351   \n",
       "Item_MRP                      0.033002        -0.006351  1.000000   \n",
       "Outlet_Establishment_Year     0.000462        -0.083678  0.000141   \n",
       "Item_Outlet_Sales             0.010686        -0.098285  0.436478   \n",
       "\n",
       "                           Outlet_Establishment_Year  Item_Outlet_Sales  \n",
       "Item_Weight                                 0.000462           0.010686  \n",
       "Item_Visibility                            -0.083678          -0.098285  \n",
       "Item_MRP                                    0.000141           0.436478  \n",
       "Outlet_Establishment_Year                   1.000000          -0.037651  \n",
       "Item_Outlet_Sales                          -0.037651           1.000000  "
      ]
     },
     "execution_count": 31,
     "metadata": {},
     "output_type": "execute_result"
    }
   ],
   "source": [
    "train_data.corr()"
   ]
  },
  {
   "cell_type": "code",
   "execution_count": 32,
   "id": "554cb3fd",
   "metadata": {
    "execution": {
     "iopub.execute_input": "2023-02-05T20:52:59.785006Z",
     "iopub.status.busy": "2023-02-05T20:52:59.784368Z",
     "iopub.status.idle": "2023-02-05T20:53:00.062711Z",
     "shell.execute_reply": "2023-02-05T20:53:00.060923Z"
    },
    "papermill": {
     "duration": 0.299395,
     "end_time": "2023-02-05T20:53:00.065118",
     "exception": false,
     "start_time": "2023-02-05T20:52:59.765723",
     "status": "completed"
    },
    "tags": []
   },
   "outputs": [
    {
     "data": {
      "text/plain": [
       "<AxesSubplot:>"
      ]
     },
     "execution_count": 32,
     "metadata": {},
     "output_type": "execute_result"
    },
    {
     "data": {
      "image/png": "[encoded data removed]",
      "text/plain": [
       "<Figure size 720x720 with 2 Axes>"
      ]
     },
     "metadata": {
      "needs_background": "light"
     },
     "output_type": "display_data"
    }
   ],
   "source": [
    "plt.figure(figsize = (10,10))\n",
    "sns.heatmap(train_data.corr(),annot = True)"
   ]
  },
  {
   "cell_type": "code",
   "execution_count": null,
   "id": "f40d5bf6",
   "metadata": {
    "papermill": {
     "duration": 0.017769,
     "end_time": "2023-02-05T20:53:00.100870",
     "exception": false,
     "start_time": "2023-02-05T20:53:00.083101",
     "status": "completed"
    },
    "tags": []
   },
   "outputs": [],
   "source": []
  }
 ],
 "metadata": {
  "kernelspec": {
   "display_name": "Python 3",
   "language": "python",
   "name": "python3"
  },
  "language_info": {
   "codemirror_mode": {
    "name": "ipython",
    "version": 3
   },
   "file_extension": ".py",
   "mimetype": "text/x-python",
   "name": "python",
   "nbconvert_exporter": "python",
   "pygments_lexer": "ipython3",
   "version": "3.7.12"
  },
  "papermill": {
   "default_parameters": {},
   "duration": 860.482437,
   "end_time": "2023-02-05T20:53:00.946150",
   "environment_variables": {},
   "exception": null,
   "input_path": "__notebook__.ipynb",
   "output_path": "__notebook__.ipynb",
   "parameters": {},
   "start_time": "2023-02-05T20:38:40.463713",
   "version": "2.3.4"
  }
 },
 "nbformat": 4,
 "nbformat_minor": 5
}
