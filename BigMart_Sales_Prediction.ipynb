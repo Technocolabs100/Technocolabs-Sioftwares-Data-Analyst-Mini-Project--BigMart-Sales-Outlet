{
 "cells": [
  {
   "cell_type": "markdown",
   "id": "b5ff9a36",
   "metadata": {},
   "source": [
    "## Step 1: Importing Data and performing EDA"
   ]
  },
  {
   "cell_type": "code",
   "execution_count": 1,
   "id": "833c7b1f",
   "metadata": {},
   "outputs": [],
   "source": [
    "import pandas as pd\n",
    "import numpy as np\n",
    "import matplotlib.pyplot as plt\n",
    "import seaborn as sns"
   ]
  },
  {
   "cell_type": "code",
   "execution_count": 2,
   "id": "1b28d090",
   "metadata": {},
   "outputs": [],
   "source": [
    "df = pd.read_csv('C:/Users/atharv/Downloads/9961_14084_bundle_archive/Train.csv')"
   ]
  },
  {
   "cell_type": "code",
   "execution_count": 3,
   "id": "a97fd823",
   "metadata": {},
   "outputs": [],
   "source": [
    "df2 = pd.read_csv('C:/Users/atharv/Downloads/9961_14084_bundle_archive/Test.csv')"
   ]
  },
  {
   "cell_type": "code",
   "execution_count": 4,
   "id": "14880448",
   "metadata": {},
   "outputs": [
    {
     "data": {
      "text/html": [
       "<div>\n",
       "<style scoped>\n",
       "    .dataframe tbody tr th:only-of-type {\n",
       "        vertical-align: middle;\n",
       "    }\n",
       "\n",
       "    .dataframe tbody tr th {\n",
       "        vertical-align: top;\n",
       "    }\n",
       "\n",
       "    .dataframe thead th {\n",
       "        text-align: right;\n",
       "    }\n",
       "</style>\n",
       "<table border=\"1\" class=\"dataframe\">\n",
       "  <thead>\n",
       "    <tr style=\"text-align: right;\">\n",
       "      <th></th>\n",
       "      <th>Item_Identifier</th>\n",
       "      <th>Item_Weight</th>\n",
       "      <th>Item_Fat_Content</th>\n",
       "      <th>Item_Visibility</th>\n",
       "      <th>Item_Type</th>\n",
       "      <th>Item_MRP</th>\n",
       "      <th>Outlet_Identifier</th>\n",
       "      <th>Outlet_Establishment_Year</th>\n",
       "      <th>Outlet_Size</th>\n",
       "      <th>Outlet_Location_Type</th>\n",
       "      <th>Outlet_Type</th>\n",
       "      <th>Item_Outlet_Sales</th>\n",
       "    </tr>\n",
       "  </thead>\n",
       "  <tbody>\n",
       "    <tr>\n",
       "      <th>0</th>\n",
       "      <td>FDA15</td>\n",
       "      <td>9.300</td>\n",
       "      <td>Low Fat</td>\n",
       "      <td>0.016047</td>\n",
       "      <td>Dairy</td>\n",
       "      <td>249.8092</td>\n",
       "      <td>OUT049</td>\n",
       "      <td>1999</td>\n",
       "      <td>Medium</td>\n",
       "      <td>Tier 1</td>\n",
       "      <td>Supermarket Type1</td>\n",
       "      <td>3735.1380</td>\n",
       "    </tr>\n",
       "    <tr>\n",
       "      <th>1</th>\n",
       "      <td>DRC01</td>\n",
       "      <td>5.920</td>\n",
       "      <td>Regular</td>\n",
       "      <td>0.019278</td>\n",
       "      <td>Soft Drinks</td>\n",
       "      <td>48.2692</td>\n",
       "      <td>OUT018</td>\n",
       "      <td>2009</td>\n",
       "      <td>Medium</td>\n",
       "      <td>Tier 3</td>\n",
       "      <td>Supermarket Type2</td>\n",
       "      <td>443.4228</td>\n",
       "    </tr>\n",
       "    <tr>\n",
       "      <th>2</th>\n",
       "      <td>FDN15</td>\n",
       "      <td>17.500</td>\n",
       "      <td>Low Fat</td>\n",
       "      <td>0.016760</td>\n",
       "      <td>Meat</td>\n",
       "      <td>141.6180</td>\n",
       "      <td>OUT049</td>\n",
       "      <td>1999</td>\n",
       "      <td>Medium</td>\n",
       "      <td>Tier 1</td>\n",
       "      <td>Supermarket Type1</td>\n",
       "      <td>2097.2700</td>\n",
       "    </tr>\n",
       "    <tr>\n",
       "      <th>3</th>\n",
       "      <td>FDX07</td>\n",
       "      <td>19.200</td>\n",
       "      <td>Regular</td>\n",
       "      <td>0.000000</td>\n",
       "      <td>Fruits and Vegetables</td>\n",
       "      <td>182.0950</td>\n",
       "      <td>OUT010</td>\n",
       "      <td>1998</td>\n",
       "      <td>NaN</td>\n",
       "      <td>Tier 3</td>\n",
       "      <td>Grocery Store</td>\n",
       "      <td>732.3800</td>\n",
       "    </tr>\n",
       "    <tr>\n",
       "      <th>4</th>\n",
       "      <td>NCD19</td>\n",
       "      <td>8.930</td>\n",
       "      <td>Low Fat</td>\n",
       "      <td>0.000000</td>\n",
       "      <td>Household</td>\n",
       "      <td>53.8614</td>\n",
       "      <td>OUT013</td>\n",
       "      <td>1987</td>\n",
       "      <td>High</td>\n",
       "      <td>Tier 3</td>\n",
       "      <td>Supermarket Type1</td>\n",
       "      <td>994.7052</td>\n",
       "    </tr>\n",
       "    <tr>\n",
       "      <th>...</th>\n",
       "      <td>...</td>\n",
       "      <td>...</td>\n",
       "      <td>...</td>\n",
       "      <td>...</td>\n",
       "      <td>...</td>\n",
       "      <td>...</td>\n",
       "      <td>...</td>\n",
       "      <td>...</td>\n",
       "      <td>...</td>\n",
       "      <td>...</td>\n",
       "      <td>...</td>\n",
       "      <td>...</td>\n",
       "    </tr>\n",
       "    <tr>\n",
       "      <th>8518</th>\n",
       "      <td>FDF22</td>\n",
       "      <td>6.865</td>\n",
       "      <td>Low Fat</td>\n",
       "      <td>0.056783</td>\n",
       "      <td>Snack Foods</td>\n",
       "      <td>214.5218</td>\n",
       "      <td>OUT013</td>\n",
       "      <td>1987</td>\n",
       "      <td>High</td>\n",
       "      <td>Tier 3</td>\n",
       "      <td>Supermarket Type1</td>\n",
       "      <td>2778.3834</td>\n",
       "    </tr>\n",
       "    <tr>\n",
       "      <th>8519</th>\n",
       "      <td>FDS36</td>\n",
       "      <td>8.380</td>\n",
       "      <td>Regular</td>\n",
       "      <td>0.046982</td>\n",
       "      <td>Baking Goods</td>\n",
       "      <td>108.1570</td>\n",
       "      <td>OUT045</td>\n",
       "      <td>2002</td>\n",
       "      <td>NaN</td>\n",
       "      <td>Tier 2</td>\n",
       "      <td>Supermarket Type1</td>\n",
       "      <td>549.2850</td>\n",
       "    </tr>\n",
       "    <tr>\n",
       "      <th>8520</th>\n",
       "      <td>NCJ29</td>\n",
       "      <td>10.600</td>\n",
       "      <td>Low Fat</td>\n",
       "      <td>0.035186</td>\n",
       "      <td>Health and Hygiene</td>\n",
       "      <td>85.1224</td>\n",
       "      <td>OUT035</td>\n",
       "      <td>2004</td>\n",
       "      <td>Small</td>\n",
       "      <td>Tier 2</td>\n",
       "      <td>Supermarket Type1</td>\n",
       "      <td>1193.1136</td>\n",
       "    </tr>\n",
       "    <tr>\n",
       "      <th>8521</th>\n",
       "      <td>FDN46</td>\n",
       "      <td>7.210</td>\n",
       "      <td>Regular</td>\n",
       "      <td>0.145221</td>\n",
       "      <td>Snack Foods</td>\n",
       "      <td>103.1332</td>\n",
       "      <td>OUT018</td>\n",
       "      <td>2009</td>\n",
       "      <td>Medium</td>\n",
       "      <td>Tier 3</td>\n",
       "      <td>Supermarket Type2</td>\n",
       "      <td>1845.5976</td>\n",
       "    </tr>\n",
       "    <tr>\n",
       "      <th>8522</th>\n",
       "      <td>DRG01</td>\n",
       "      <td>14.800</td>\n",
       "      <td>Low Fat</td>\n",
       "      <td>0.044878</td>\n",
       "      <td>Soft Drinks</td>\n",
       "      <td>75.4670</td>\n",
       "      <td>OUT046</td>\n",
       "      <td>1997</td>\n",
       "      <td>Small</td>\n",
       "      <td>Tier 1</td>\n",
       "      <td>Supermarket Type1</td>\n",
       "      <td>765.6700</td>\n",
       "    </tr>\n",
       "  </tbody>\n",
       "</table>\n",
       "<p>8523 rows × 12 columns</p>\n",
       "</div>"
      ],
      "text/plain": [
       "     Item_Identifier  Item_Weight Item_Fat_Content  Item_Visibility  \\\n",
       "0              FDA15        9.300          Low Fat         0.016047   \n",
       "1              DRC01        5.920          Regular         0.019278   \n",
       "2              FDN15       17.500          Low Fat         0.016760   \n",
       "3              FDX07       19.200          Regular         0.000000   \n",
       "4              NCD19        8.930          Low Fat         0.000000   \n",
       "...              ...          ...              ...              ...   \n",
       "8518           FDF22        6.865          Low Fat         0.056783   \n",
       "8519           FDS36        8.380          Regular         0.046982   \n",
       "8520           NCJ29       10.600          Low Fat         0.035186   \n",
       "8521           FDN46        7.210          Regular         0.145221   \n",
       "8522           DRG01       14.800          Low Fat         0.044878   \n",
       "\n",
       "                  Item_Type  Item_MRP Outlet_Identifier  \\\n",
       "0                     Dairy  249.8092            OUT049   \n",
       "1               Soft Drinks   48.2692            OUT018   \n",
       "2                      Meat  141.6180            OUT049   \n",
       "3     Fruits and Vegetables  182.0950            OUT010   \n",
       "4                 Household   53.8614            OUT013   \n",
       "...                     ...       ...               ...   \n",
       "8518            Snack Foods  214.5218            OUT013   \n",
       "8519           Baking Goods  108.1570            OUT045   \n",
       "8520     Health and Hygiene   85.1224            OUT035   \n",
       "8521            Snack Foods  103.1332            OUT018   \n",
       "8522            Soft Drinks   75.4670            OUT046   \n",
       "\n",
       "      Outlet_Establishment_Year Outlet_Size Outlet_Location_Type  \\\n",
       "0                          1999      Medium               Tier 1   \n",
       "1                          2009      Medium               Tier 3   \n",
       "2                          1999      Medium               Tier 1   \n",
       "3                          1998         NaN               Tier 3   \n",
       "4                          1987        High               Tier 3   \n",
       "...                         ...         ...                  ...   \n",
       "8518                       1987        High               Tier 3   \n",
       "8519                       2002         NaN               Tier 2   \n",
       "8520                       2004       Small               Tier 2   \n",
       "8521                       2009      Medium               Tier 3   \n",
       "8522                       1997       Small               Tier 1   \n",
       "\n",
       "            Outlet_Type  Item_Outlet_Sales  \n",
       "0     Supermarket Type1          3735.1380  \n",
       "1     Supermarket Type2           443.4228  \n",
       "2     Supermarket Type1          2097.2700  \n",
       "3         Grocery Store           732.3800  \n",
       "4     Supermarket Type1           994.7052  \n",
       "...                 ...                ...  \n",
       "8518  Supermarket Type1          2778.3834  \n",
       "8519  Supermarket Type1           549.2850  \n",
       "8520  Supermarket Type1          1193.1136  \n",
       "8521  Supermarket Type2          1845.5976  \n",
       "8522  Supermarket Type1           765.6700  \n",
       "\n",
       "[8523 rows x 12 columns]"
      ]
     },
     "execution_count": 4,
     "metadata": {},
     "output_type": "execute_result"
    }
   ],
   "source": [
    "df"
   ]
  },
  {
   "cell_type": "code",
   "execution_count": 5,
   "id": "2a1ba46a",
   "metadata": {},
   "outputs": [
    {
     "data": {
      "text/html": [
       "<div>\n",
       "<style scoped>\n",
       "    .dataframe tbody tr th:only-of-type {\n",
       "        vertical-align: middle;\n",
       "    }\n",
       "\n",
       "    .dataframe tbody tr th {\n",
       "        vertical-align: top;\n",
       "    }\n",
       "\n",
       "    .dataframe thead th {\n",
       "        text-align: right;\n",
       "    }\n",
       "</style>\n",
       "<table border=\"1\" class=\"dataframe\">\n",
       "  <thead>\n",
       "    <tr style=\"text-align: right;\">\n",
       "      <th></th>\n",
       "      <th>Item_Identifier</th>\n",
       "      <th>Item_Weight</th>\n",
       "      <th>Item_Fat_Content</th>\n",
       "      <th>Item_Visibility</th>\n",
       "      <th>Item_Type</th>\n",
       "      <th>Item_MRP</th>\n",
       "      <th>Outlet_Identifier</th>\n",
       "      <th>Outlet_Establishment_Year</th>\n",
       "      <th>Outlet_Size</th>\n",
       "      <th>Outlet_Location_Type</th>\n",
       "      <th>Outlet_Type</th>\n",
       "    </tr>\n",
       "  </thead>\n",
       "  <tbody>\n",
       "    <tr>\n",
       "      <th>0</th>\n",
       "      <td>FDW58</td>\n",
       "      <td>20.750</td>\n",
       "      <td>Low Fat</td>\n",
       "      <td>0.007565</td>\n",
       "      <td>Snack Foods</td>\n",
       "      <td>107.8622</td>\n",
       "      <td>OUT049</td>\n",
       "      <td>1999</td>\n",
       "      <td>Medium</td>\n",
       "      <td>Tier 1</td>\n",
       "      <td>Supermarket Type1</td>\n",
       "    </tr>\n",
       "    <tr>\n",
       "      <th>1</th>\n",
       "      <td>FDW14</td>\n",
       "      <td>8.300</td>\n",
       "      <td>reg</td>\n",
       "      <td>0.038428</td>\n",
       "      <td>Dairy</td>\n",
       "      <td>87.3198</td>\n",
       "      <td>OUT017</td>\n",
       "      <td>2007</td>\n",
       "      <td>NaN</td>\n",
       "      <td>Tier 2</td>\n",
       "      <td>Supermarket Type1</td>\n",
       "    </tr>\n",
       "    <tr>\n",
       "      <th>2</th>\n",
       "      <td>NCN55</td>\n",
       "      <td>14.600</td>\n",
       "      <td>Low Fat</td>\n",
       "      <td>0.099575</td>\n",
       "      <td>Others</td>\n",
       "      <td>241.7538</td>\n",
       "      <td>OUT010</td>\n",
       "      <td>1998</td>\n",
       "      <td>NaN</td>\n",
       "      <td>Tier 3</td>\n",
       "      <td>Grocery Store</td>\n",
       "    </tr>\n",
       "    <tr>\n",
       "      <th>3</th>\n",
       "      <td>FDQ58</td>\n",
       "      <td>7.315</td>\n",
       "      <td>Low Fat</td>\n",
       "      <td>0.015388</td>\n",
       "      <td>Snack Foods</td>\n",
       "      <td>155.0340</td>\n",
       "      <td>OUT017</td>\n",
       "      <td>2007</td>\n",
       "      <td>NaN</td>\n",
       "      <td>Tier 2</td>\n",
       "      <td>Supermarket Type1</td>\n",
       "    </tr>\n",
       "    <tr>\n",
       "      <th>4</th>\n",
       "      <td>FDY38</td>\n",
       "      <td>NaN</td>\n",
       "      <td>Regular</td>\n",
       "      <td>0.118599</td>\n",
       "      <td>Dairy</td>\n",
       "      <td>234.2300</td>\n",
       "      <td>OUT027</td>\n",
       "      <td>1985</td>\n",
       "      <td>Medium</td>\n",
       "      <td>Tier 3</td>\n",
       "      <td>Supermarket Type3</td>\n",
       "    </tr>\n",
       "    <tr>\n",
       "      <th>...</th>\n",
       "      <td>...</td>\n",
       "      <td>...</td>\n",
       "      <td>...</td>\n",
       "      <td>...</td>\n",
       "      <td>...</td>\n",
       "      <td>...</td>\n",
       "      <td>...</td>\n",
       "      <td>...</td>\n",
       "      <td>...</td>\n",
       "      <td>...</td>\n",
       "      <td>...</td>\n",
       "    </tr>\n",
       "    <tr>\n",
       "      <th>5676</th>\n",
       "      <td>FDB58</td>\n",
       "      <td>10.500</td>\n",
       "      <td>Regular</td>\n",
       "      <td>0.013496</td>\n",
       "      <td>Snack Foods</td>\n",
       "      <td>141.3154</td>\n",
       "      <td>OUT046</td>\n",
       "      <td>1997</td>\n",
       "      <td>Small</td>\n",
       "      <td>Tier 1</td>\n",
       "      <td>Supermarket Type1</td>\n",
       "    </tr>\n",
       "    <tr>\n",
       "      <th>5677</th>\n",
       "      <td>FDD47</td>\n",
       "      <td>7.600</td>\n",
       "      <td>Regular</td>\n",
       "      <td>0.142991</td>\n",
       "      <td>Starchy Foods</td>\n",
       "      <td>169.1448</td>\n",
       "      <td>OUT018</td>\n",
       "      <td>2009</td>\n",
       "      <td>Medium</td>\n",
       "      <td>Tier 3</td>\n",
       "      <td>Supermarket Type2</td>\n",
       "    </tr>\n",
       "    <tr>\n",
       "      <th>5678</th>\n",
       "      <td>NCO17</td>\n",
       "      <td>10.000</td>\n",
       "      <td>Low Fat</td>\n",
       "      <td>0.073529</td>\n",
       "      <td>Health and Hygiene</td>\n",
       "      <td>118.7440</td>\n",
       "      <td>OUT045</td>\n",
       "      <td>2002</td>\n",
       "      <td>NaN</td>\n",
       "      <td>Tier 2</td>\n",
       "      <td>Supermarket Type1</td>\n",
       "    </tr>\n",
       "    <tr>\n",
       "      <th>5679</th>\n",
       "      <td>FDJ26</td>\n",
       "      <td>15.300</td>\n",
       "      <td>Regular</td>\n",
       "      <td>0.000000</td>\n",
       "      <td>Canned</td>\n",
       "      <td>214.6218</td>\n",
       "      <td>OUT017</td>\n",
       "      <td>2007</td>\n",
       "      <td>NaN</td>\n",
       "      <td>Tier 2</td>\n",
       "      <td>Supermarket Type1</td>\n",
       "    </tr>\n",
       "    <tr>\n",
       "      <th>5680</th>\n",
       "      <td>FDU37</td>\n",
       "      <td>9.500</td>\n",
       "      <td>Regular</td>\n",
       "      <td>0.104720</td>\n",
       "      <td>Canned</td>\n",
       "      <td>79.7960</td>\n",
       "      <td>OUT045</td>\n",
       "      <td>2002</td>\n",
       "      <td>NaN</td>\n",
       "      <td>Tier 2</td>\n",
       "      <td>Supermarket Type1</td>\n",
       "    </tr>\n",
       "  </tbody>\n",
       "</table>\n",
       "<p>5681 rows × 11 columns</p>\n",
       "</div>"
      ],
      "text/plain": [
       "     Item_Identifier  Item_Weight Item_Fat_Content  Item_Visibility  \\\n",
       "0              FDW58       20.750          Low Fat         0.007565   \n",
       "1              FDW14        8.300              reg         0.038428   \n",
       "2              NCN55       14.600          Low Fat         0.099575   \n",
       "3              FDQ58        7.315          Low Fat         0.015388   \n",
       "4              FDY38          NaN          Regular         0.118599   \n",
       "...              ...          ...              ...              ...   \n",
       "5676           FDB58       10.500          Regular         0.013496   \n",
       "5677           FDD47        7.600          Regular         0.142991   \n",
       "5678           NCO17       10.000          Low Fat         0.073529   \n",
       "5679           FDJ26       15.300          Regular         0.000000   \n",
       "5680           FDU37        9.500          Regular         0.104720   \n",
       "\n",
       "               Item_Type  Item_MRP Outlet_Identifier  \\\n",
       "0            Snack Foods  107.8622            OUT049   \n",
       "1                  Dairy   87.3198            OUT017   \n",
       "2                 Others  241.7538            OUT010   \n",
       "3            Snack Foods  155.0340            OUT017   \n",
       "4                  Dairy  234.2300            OUT027   \n",
       "...                  ...       ...               ...   \n",
       "5676         Snack Foods  141.3154            OUT046   \n",
       "5677       Starchy Foods  169.1448            OUT018   \n",
       "5678  Health and Hygiene  118.7440            OUT045   \n",
       "5679              Canned  214.6218            OUT017   \n",
       "5680              Canned   79.7960            OUT045   \n",
       "\n",
       "      Outlet_Establishment_Year Outlet_Size Outlet_Location_Type  \\\n",
       "0                          1999      Medium               Tier 1   \n",
       "1                          2007         NaN               Tier 2   \n",
       "2                          1998         NaN               Tier 3   \n",
       "3                          2007         NaN               Tier 2   \n",
       "4                          1985      Medium               Tier 3   \n",
       "...                         ...         ...                  ...   \n",
       "5676                       1997       Small               Tier 1   \n",
       "5677                       2009      Medium               Tier 3   \n",
       "5678                       2002         NaN               Tier 2   \n",
       "5679                       2007         NaN               Tier 2   \n",
       "5680                       2002         NaN               Tier 2   \n",
       "\n",
       "            Outlet_Type  \n",
       "0     Supermarket Type1  \n",
       "1     Supermarket Type1  \n",
       "2         Grocery Store  \n",
       "3     Supermarket Type1  \n",
       "4     Supermarket Type3  \n",
       "...                 ...  \n",
       "5676  Supermarket Type1  \n",
       "5677  Supermarket Type2  \n",
       "5678  Supermarket Type1  \n",
       "5679  Supermarket Type1  \n",
       "5680  Supermarket Type1  \n",
       "\n",
       "[5681 rows x 11 columns]"
      ]
     },
     "execution_count": 5,
     "metadata": {},
     "output_type": "execute_result"
    }
   ],
   "source": [
    "df2"
   ]
  },
  {
   "cell_type": "code",
   "execution_count": 6,
   "id": "c6355d37",
   "metadata": {},
   "outputs": [
    {
     "name": "stdout",
     "output_type": "stream",
     "text": [
      "<class 'pandas.core.frame.DataFrame'>\n",
      "RangeIndex: 8523 entries, 0 to 8522\n",
      "Data columns (total 12 columns):\n",
      " #   Column                     Non-Null Count  Dtype  \n",
      "---  ------                     --------------  -----  \n",
      " 0   Item_Identifier            8523 non-null   object \n",
      " 1   Item_Weight                7060 non-null   float64\n",
      " 2   Item_Fat_Content           8523 non-null   object \n",
      " 3   Item_Visibility            8523 non-null   float64\n",
      " 4   Item_Type                  8523 non-null   object \n",
      " 5   Item_MRP                   8523 non-null   float64\n",
      " 6   Outlet_Identifier          8523 non-null   object \n",
      " 7   Outlet_Establishment_Year  8523 non-null   int64  \n",
      " 8   Outlet_Size                6113 non-null   object \n",
      " 9   Outlet_Location_Type       8523 non-null   object \n",
      " 10  Outlet_Type                8523 non-null   object \n",
      " 11  Item_Outlet_Sales          8523 non-null   float64\n",
      "dtypes: float64(4), int64(1), object(7)\n",
      "memory usage: 799.2+ KB\n"
     ]
    }
   ],
   "source": [
    "df.info()"
   ]
  },
  {
   "cell_type": "code",
   "execution_count": 7,
   "id": "19be8e6c",
   "metadata": {},
   "outputs": [
    {
     "data": {
      "text/plain": [
       "Item_Identifier               0.000000\n",
       "Item_Weight                  17.165317\n",
       "Item_Fat_Content              0.000000\n",
       "Item_Visibility               0.000000\n",
       "Item_Type                     0.000000\n",
       "Item_MRP                      0.000000\n",
       "Outlet_Identifier             0.000000\n",
       "Outlet_Establishment_Year     0.000000\n",
       "Outlet_Size                  28.276428\n",
       "Outlet_Location_Type          0.000000\n",
       "Outlet_Type                   0.000000\n",
       "Item_Outlet_Sales             0.000000\n",
       "dtype: float64"
      ]
     },
     "execution_count": 7,
     "metadata": {},
     "output_type": "execute_result"
    }
   ],
   "source": [
    "df.isnull().mean()*100"
   ]
  },
  {
   "cell_type": "code",
   "execution_count": 8,
   "id": "1058c3eb",
   "metadata": {},
   "outputs": [
    {
     "data": {
      "text/plain": [
       "Item_Identifier               0.000000\n",
       "Item_Weight                  17.180074\n",
       "Item_Fat_Content              0.000000\n",
       "Item_Visibility               0.000000\n",
       "Item_Type                     0.000000\n",
       "Item_MRP                      0.000000\n",
       "Outlet_Identifier             0.000000\n",
       "Outlet_Establishment_Year     0.000000\n",
       "Outlet_Size                  28.269671\n",
       "Outlet_Location_Type          0.000000\n",
       "Outlet_Type                   0.000000\n",
       "dtype: float64"
      ]
     },
     "execution_count": 8,
     "metadata": {},
     "output_type": "execute_result"
    }
   ],
   "source": [
    "df2.isnull().mean()*100"
   ]
  },
  {
   "cell_type": "code",
   "execution_count": 9,
   "id": "cd877705",
   "metadata": {},
   "outputs": [
    {
     "data": {
      "text/html": [
       "<div>\n",
       "<style scoped>\n",
       "    .dataframe tbody tr th:only-of-type {\n",
       "        vertical-align: middle;\n",
       "    }\n",
       "\n",
       "    .dataframe tbody tr th {\n",
       "        vertical-align: top;\n",
       "    }\n",
       "\n",
       "    .dataframe thead th {\n",
       "        text-align: right;\n",
       "    }\n",
       "</style>\n",
       "<table border=\"1\" class=\"dataframe\">\n",
       "  <thead>\n",
       "    <tr style=\"text-align: right;\">\n",
       "      <th></th>\n",
       "      <th>Item_Weight</th>\n",
       "      <th>Item_Visibility</th>\n",
       "      <th>Item_MRP</th>\n",
       "      <th>Outlet_Establishment_Year</th>\n",
       "      <th>Item_Outlet_Sales</th>\n",
       "    </tr>\n",
       "  </thead>\n",
       "  <tbody>\n",
       "    <tr>\n",
       "      <th>count</th>\n",
       "      <td>7060.000000</td>\n",
       "      <td>8523.000000</td>\n",
       "      <td>8523.000000</td>\n",
       "      <td>8523.000000</td>\n",
       "      <td>8523.000000</td>\n",
       "    </tr>\n",
       "    <tr>\n",
       "      <th>mean</th>\n",
       "      <td>12.857645</td>\n",
       "      <td>0.066132</td>\n",
       "      <td>140.992782</td>\n",
       "      <td>1997.831867</td>\n",
       "      <td>2181.288914</td>\n",
       "    </tr>\n",
       "    <tr>\n",
       "      <th>std</th>\n",
       "      <td>4.643456</td>\n",
       "      <td>0.051598</td>\n",
       "      <td>62.275067</td>\n",
       "      <td>8.371760</td>\n",
       "      <td>1706.499616</td>\n",
       "    </tr>\n",
       "    <tr>\n",
       "      <th>min</th>\n",
       "      <td>4.555000</td>\n",
       "      <td>0.000000</td>\n",
       "      <td>31.290000</td>\n",
       "      <td>1985.000000</td>\n",
       "      <td>33.290000</td>\n",
       "    </tr>\n",
       "    <tr>\n",
       "      <th>25%</th>\n",
       "      <td>8.773750</td>\n",
       "      <td>0.026989</td>\n",
       "      <td>93.826500</td>\n",
       "      <td>1987.000000</td>\n",
       "      <td>834.247400</td>\n",
       "    </tr>\n",
       "    <tr>\n",
       "      <th>50%</th>\n",
       "      <td>12.600000</td>\n",
       "      <td>0.053931</td>\n",
       "      <td>143.012800</td>\n",
       "      <td>1999.000000</td>\n",
       "      <td>1794.331000</td>\n",
       "    </tr>\n",
       "    <tr>\n",
       "      <th>75%</th>\n",
       "      <td>16.850000</td>\n",
       "      <td>0.094585</td>\n",
       "      <td>185.643700</td>\n",
       "      <td>2004.000000</td>\n",
       "      <td>3101.296400</td>\n",
       "    </tr>\n",
       "    <tr>\n",
       "      <th>max</th>\n",
       "      <td>21.350000</td>\n",
       "      <td>0.328391</td>\n",
       "      <td>266.888400</td>\n",
       "      <td>2009.000000</td>\n",
       "      <td>13086.964800</td>\n",
       "    </tr>\n",
       "  </tbody>\n",
       "</table>\n",
       "</div>"
      ],
      "text/plain": [
       "       Item_Weight  Item_Visibility     Item_MRP  Outlet_Establishment_Year  \\\n",
       "count  7060.000000      8523.000000  8523.000000                8523.000000   \n",
       "mean     12.857645         0.066132   140.992782                1997.831867   \n",
       "std       4.643456         0.051598    62.275067                   8.371760   \n",
       "min       4.555000         0.000000    31.290000                1985.000000   \n",
       "25%       8.773750         0.026989    93.826500                1987.000000   \n",
       "50%      12.600000         0.053931   143.012800                1999.000000   \n",
       "75%      16.850000         0.094585   185.643700                2004.000000   \n",
       "max      21.350000         0.328391   266.888400                2009.000000   \n",
       "\n",
       "       Item_Outlet_Sales  \n",
       "count        8523.000000  \n",
       "mean         2181.288914  \n",
       "std          1706.499616  \n",
       "min            33.290000  \n",
       "25%           834.247400  \n",
       "50%          1794.331000  \n",
       "75%          3101.296400  \n",
       "max         13086.964800  "
      ]
     },
     "execution_count": 9,
     "metadata": {},
     "output_type": "execute_result"
    }
   ],
   "source": [
    "df.describe()"
   ]
  },
  {
   "cell_type": "code",
   "execution_count": 10,
   "id": "76f187c3",
   "metadata": {},
   "outputs": [
    {
     "data": {
      "text/plain": [
       "0"
      ]
     },
     "execution_count": 10,
     "metadata": {},
     "output_type": "execute_result"
    }
   ],
   "source": [
    "df.duplicated().sum()"
   ]
  },
  {
   "cell_type": "code",
   "execution_count": 11,
   "id": "a0dca4a6",
   "metadata": {},
   "outputs": [
    {
     "data": {
      "text/plain": [
       "Item_Weight                  0.014123\n",
       "Item_Visibility             -0.128625\n",
       "Item_MRP                     0.567574\n",
       "Outlet_Establishment_Year   -0.049135\n",
       "Item_Outlet_Sales            1.000000\n",
       "Name: Item_Outlet_Sales, dtype: float64"
      ]
     },
     "execution_count": 11,
     "metadata": {},
     "output_type": "execute_result"
    }
   ],
   "source": [
    "df.corr()['Item_Outlet_Sales']"
   ]
  },
  {
   "cell_type": "code",
   "execution_count": 12,
   "id": "d07c15dd",
   "metadata": {},
   "outputs": [
    {
     "data": {
      "text/plain": [
       "Low Fat    5089\n",
       "Regular    2889\n",
       "LF          316\n",
       "reg         117\n",
       "low fat     112\n",
       "Name: Item_Fat_Content, dtype: int64"
      ]
     },
     "execution_count": 12,
     "metadata": {},
     "output_type": "execute_result"
    }
   ],
   "source": [
    "df['Item_Fat_Content'].value_counts()"
   ]
  },
  {
   "cell_type": "code",
   "execution_count": 13,
   "id": "fd65c3f4",
   "metadata": {},
   "outputs": [
    {
     "data": {
      "text/plain": [
       "Low Fat    3396\n",
       "Regular    1935\n",
       "LF          206\n",
       "reg          78\n",
       "low fat      66\n",
       "Name: Item_Fat_Content, dtype: int64"
      ]
     },
     "execution_count": 13,
     "metadata": {},
     "output_type": "execute_result"
    }
   ],
   "source": [
    "df2['Item_Fat_Content'].value_counts()"
   ]
  },
  {
   "cell_type": "code",
   "execution_count": 14,
   "id": "c15f0b2f",
   "metadata": {},
   "outputs": [
    {
     "data": {
      "text/plain": [
       "<AxesSubplot:ylabel='Item_Fat_Content'>"
      ]
     },
     "execution_count": 14,
     "metadata": {},
     "output_type": "execute_result"
    },
    {
     "data": {
      "image/png": "[encoded data removed]",
      "text/plain": [
       "<Figure size 432x288 with 1 Axes>"
      ]
     },
     "metadata": {},
     "output_type": "display_data"
    }
   ],
   "source": [
    "df['Item_Fat_Content'].value_counts().plot(kind='pie',autopct='%.2f')"
   ]
  },
  {
   "cell_type": "code",
   "execution_count": 15,
   "id": "65c0f182",
   "metadata": {},
   "outputs": [],
   "source": [
    "df['Item_Fat_Content']=df['Item_Fat_Content'].str.replace('low fat','Low Fat')\n",
    "df['Item_Fat_Content']=df['Item_Fat_Content'].str.replace('LF','Low Fat')\n",
    "df['Item_Fat_Content']=df['Item_Fat_Content'].str.replace('reg','Regular')\n",
    "\n",
    "df2['Item_Fat_Content']=df2['Item_Fat_Content'].str.replace('low fat','Low Fat')\n",
    "df2['Item_Fat_Content']=df2['Item_Fat_Content'].str.replace('LF','Low Fat')\n",
    "df2['Item_Fat_Content']=df2['Item_Fat_Content'].str.replace('reg','Regular')"
   ]
  },
  {
   "cell_type": "code",
   "execution_count": 16,
   "id": "aff280b0",
   "metadata": {},
   "outputs": [
    {
     "data": {
      "text/plain": [
       "Low Fat    5517\n",
       "Regular    3006\n",
       "Name: Item_Fat_Content, dtype: int64"
      ]
     },
     "execution_count": 16,
     "metadata": {},
     "output_type": "execute_result"
    }
   ],
   "source": [
    "df['Item_Fat_Content'].value_counts()"
   ]
  },
  {
   "cell_type": "code",
   "execution_count": 17,
   "id": "f03a594d",
   "metadata": {},
   "outputs": [
    {
     "data": {
      "text/plain": [
       "Low Fat    3668\n",
       "Regular    2013\n",
       "Name: Item_Fat_Content, dtype: int64"
      ]
     },
     "execution_count": 17,
     "metadata": {},
     "output_type": "execute_result"
    }
   ],
   "source": [
    "df2['Item_Fat_Content'].value_counts()"
   ]
  },
  {
   "cell_type": "code",
   "execution_count": 18,
   "id": "049b4252",
   "metadata": {},
   "outputs": [
    {
     "data": {
      "text/plain": [
       "<AxesSubplot:ylabel='Item_Fat_Content'>"
      ]
     },
     "execution_count": 18,
     "metadata": {},
     "output_type": "execute_result"
    },
    {
     "data": {
      "image/png": "[encoded data removed]",
      "text/plain": [
       "<Figure size 432x288 with 1 Axes>"
      ]
     },
     "metadata": {},
     "output_type": "display_data"
    }
   ],
   "source": [
    "df['Item_Fat_Content'].value_counts().plot(kind='pie',autopct='%.2f')"
   ]
  },
  {
   "cell_type": "code",
   "execution_count": 19,
   "id": "5d4b5d6b",
   "metadata": {},
   "outputs": [],
   "source": [
    "a=set(df['Item_Type'].unique().tolist())"
   ]
  },
  {
   "cell_type": "code",
   "execution_count": 20,
   "id": "2978596b",
   "metadata": {},
   "outputs": [],
   "source": [
    "b=set(df2['Item_Type'].unique().tolist())"
   ]
  },
  {
   "cell_type": "code",
   "execution_count": 21,
   "id": "5767f565",
   "metadata": {},
   "outputs": [
    {
     "data": {
      "text/plain": [
       "True"
      ]
     },
     "execution_count": 21,
     "metadata": {},
     "output_type": "execute_result"
    }
   ],
   "source": [
    "a==b"
   ]
  },
  {
   "cell_type": "code",
   "execution_count": 22,
   "id": "96dbbddd",
   "metadata": {},
   "outputs": [
    {
     "data": {
      "text/plain": [
       "1985    1463\n",
       "1987     932\n",
       "1999     930\n",
       "1997     930\n",
       "2004     930\n",
       "2002     929\n",
       "2009     928\n",
       "2007     926\n",
       "1998     555\n",
       "Name: Outlet_Establishment_Year, dtype: int64"
      ]
     },
     "execution_count": 22,
     "metadata": {},
     "output_type": "execute_result"
    }
   ],
   "source": [
    "df['Outlet_Establishment_Year'].value_counts()"
   ]
  },
  {
   "cell_type": "code",
   "execution_count": 23,
   "id": "0c6e75f0",
   "metadata": {},
   "outputs": [
    {
     "data": {
      "text/plain": [
       "1985    976\n",
       "1987    621\n",
       "1999    620\n",
       "1997    620\n",
       "2004    620\n",
       "2002    619\n",
       "2009    618\n",
       "2007    617\n",
       "1998    370\n",
       "Name: Outlet_Establishment_Year, dtype: int64"
      ]
     },
     "execution_count": 23,
     "metadata": {},
     "output_type": "execute_result"
    }
   ],
   "source": [
    "df2['Outlet_Establishment_Year'].value_counts()"
   ]
  },
  {
   "cell_type": "code",
   "execution_count": 24,
   "id": "bc9ec564",
   "metadata": {},
   "outputs": [
    {
     "data": {
      "text/plain": [
       "<AxesSubplot:ylabel='Outlet_Establishment_Year'>"
      ]
     },
     "execution_count": 24,
     "metadata": {},
     "output_type": "execute_result"
    },
    {
     "data": {
      "image/png": "[encoded data removed]",
      "text/plain": [
       "<Figure size 432x288 with 1 Axes>"
      ]
     },
     "metadata": {},
     "output_type": "display_data"
    }
   ],
   "source": [
    "df['Outlet_Establishment_Year'].value_counts().plot(kind='pie',autopct='%.2f')"
   ]
  },
  {
   "cell_type": "code",
   "execution_count": 25,
   "id": "6a816f89",
   "metadata": {},
   "outputs": [
    {
     "data": {
      "text/plain": [
       "<AxesSubplot:ylabel='Outlet_Establishment_Year'>"
      ]
     },
     "execution_count": 25,
     "metadata": {},
     "output_type": "execute_result"
    },
    {
     "data": {
      "image/png": "[encoded data removed]",
      "text/plain": [
       "<Figure size 432x288 with 1 Axes>"
      ]
     },
     "metadata": {},
     "output_type": "display_data"
    }
   ],
   "source": [
    "df2['Outlet_Establishment_Year'].value_counts().plot(kind='pie',autopct='%.2f')"
   ]
  },
  {
   "cell_type": "code",
   "execution_count": 26,
   "id": "03ddb805",
   "metadata": {},
   "outputs": [
    {
     "data": {
      "text/plain": [
       "1985    976\n",
       "1987    621\n",
       "1999    620\n",
       "1997    620\n",
       "2004    620\n",
       "2002    619\n",
       "2009    618\n",
       "2007    617\n",
       "1998    370\n",
       "Name: Outlet_Establishment_Year, dtype: int64"
      ]
     },
     "execution_count": 26,
     "metadata": {},
     "output_type": "execute_result"
    }
   ],
   "source": [
    "df2['Outlet_Establishment_Year'].value_counts()"
   ]
  },
  {
   "cell_type": "code",
   "execution_count": 27,
   "id": "190e900f",
   "metadata": {},
   "outputs": [
    {
     "data": {
      "text/plain": [
       "1985    1463\n",
       "1987     932\n",
       "1999     930\n",
       "1997     930\n",
       "2004     930\n",
       "2002     929\n",
       "2009     928\n",
       "2007     926\n",
       "1998     555\n",
       "Name: Outlet_Establishment_Year, dtype: int64"
      ]
     },
     "execution_count": 27,
     "metadata": {},
     "output_type": "execute_result"
    }
   ],
   "source": [
    "df['Outlet_Establishment_Year'].value_counts()"
   ]
  },
  {
   "cell_type": "code",
   "execution_count": 28,
   "id": "1b754862",
   "metadata": {},
   "outputs": [
    {
     "data": {
      "text/plain": [
       "<AxesSubplot:>"
      ]
     },
     "execution_count": 28,
     "metadata": {},
     "output_type": "execute_result"
    },
    {
     "data": {
      "image/png": "[encoded data removed]",
      "text/plain": [
       "<Figure size 432x288 with 1 Axes>"
      ]
     },
     "metadata": {
      "needs_background": "light"
     },
     "output_type": "display_data"
    }
   ],
   "source": [
    "df['Outlet_Establishment_Year'].value_counts().plot(kind='bar')"
   ]
  },
  {
   "cell_type": "code",
   "execution_count": 29,
   "id": "e011363f",
   "metadata": {},
   "outputs": [
    {
     "data": {
      "text/plain": [
       "True"
      ]
     },
     "execution_count": 29,
     "metadata": {},
     "output_type": "execute_result"
    }
   ],
   "source": [
    "a=set(df['Outlet_Establishment_Year'].unique().tolist())\n",
    "b=set(df2['Outlet_Establishment_Year'].unique().tolist())\n",
    "a==b"
   ]
  },
  {
   "cell_type": "code",
   "execution_count": 30,
   "id": "84ae51fb",
   "metadata": {},
   "outputs": [
    {
     "data": {
      "text/plain": [
       "Supermarket Type1    5577\n",
       "Grocery Store        1083\n",
       "Supermarket Type3     935\n",
       "Supermarket Type2     928\n",
       "Name: Outlet_Type, dtype: int64"
      ]
     },
     "execution_count": 30,
     "metadata": {},
     "output_type": "execute_result"
    }
   ],
   "source": [
    "df['Outlet_Type'].value_counts()"
   ]
  },
  {
   "cell_type": "code",
   "execution_count": 31,
   "id": "01a77937",
   "metadata": {},
   "outputs": [
    {
     "data": {
      "text/plain": [
       "<AxesSubplot:ylabel='Outlet_Type'>"
      ]
     },
     "execution_count": 31,
     "metadata": {},
     "output_type": "execute_result"
    },
    {
     "data": {
      "image/png": "[encoded data removed]",
      "text/plain": [
       "<Figure size 432x288 with 1 Axes>"
      ]
     },
     "metadata": {},
     "output_type": "display_data"
    }
   ],
   "source": [
    "df2['Outlet_Type'].value_counts().plot(kind='pie',autopct='%.2f')"
   ]
  },
  {
   "cell_type": "code",
   "execution_count": 32,
   "id": "ffd45ea8",
   "metadata": {},
   "outputs": [
    {
     "data": {
      "text/plain": [
       "Supermarket Type1    3717\n",
       "Grocery Store         722\n",
       "Supermarket Type3     624\n",
       "Supermarket Type2     618\n",
       "Name: Outlet_Type, dtype: int64"
      ]
     },
     "execution_count": 32,
     "metadata": {},
     "output_type": "execute_result"
    }
   ],
   "source": [
    "df2['Outlet_Type'].value_counts()"
   ]
  },
  {
   "cell_type": "code",
   "execution_count": 33,
   "id": "f372defd",
   "metadata": {},
   "outputs": [
    {
     "data": {
      "text/plain": [
       "Supermarket Type1    5577\n",
       "Grocery Store        1083\n",
       "Supermarket Type3     935\n",
       "Supermarket Type2     928\n",
       "Name: Outlet_Type, dtype: int64"
      ]
     },
     "execution_count": 33,
     "metadata": {},
     "output_type": "execute_result"
    }
   ],
   "source": [
    "df['Outlet_Type'].value_counts()"
   ]
  },
  {
   "cell_type": "code",
   "execution_count": 34,
   "id": "9f1196a7",
   "metadata": {},
   "outputs": [
    {
     "data": {
      "text/plain": [
       "<AxesSubplot:ylabel='Outlet_Size'>"
      ]
     },
     "execution_count": 34,
     "metadata": {},
     "output_type": "execute_result"
    },
    {
     "data": {
      "image/png": "[encoded data removed]",
      "text/plain": [
       "<Figure size 432x288 with 1 Axes>"
      ]
     },
     "metadata": {},
     "output_type": "display_data"
    }
   ],
   "source": [
    "df['Outlet_Size'].value_counts().plot(kind='pie',autopct='%.2f')"
   ]
  },
  {
   "cell_type": "code",
   "execution_count": 35,
   "id": "7c1a8a24",
   "metadata": {},
   "outputs": [
    {
     "data": {
      "text/plain": [
       "Medium    2793\n",
       "Small     2388\n",
       "High       932\n",
       "Name: Outlet_Size, dtype: int64"
      ]
     },
     "execution_count": 35,
     "metadata": {},
     "output_type": "execute_result"
    }
   ],
   "source": [
    "df['Outlet_Size'].value_counts()"
   ]
  },
  {
   "cell_type": "code",
   "execution_count": 36,
   "id": "0ae4413c",
   "metadata": {},
   "outputs": [
    {
     "data": {
      "text/plain": [
       "Medium    1862\n",
       "Small     1592\n",
       "High       621\n",
       "Name: Outlet_Size, dtype: int64"
      ]
     },
     "execution_count": 36,
     "metadata": {},
     "output_type": "execute_result"
    }
   ],
   "source": [
    "df2['Outlet_Size'].value_counts()"
   ]
  },
  {
   "cell_type": "code",
   "execution_count": 37,
   "id": "3bbbfddc",
   "metadata": {},
   "outputs": [],
   "source": [
    "df['Outlet_Size'].fillna('Missing',inplace=True)\n",
    "df2['Outlet_Size'].fillna('Missing',inplace=True)\n"
   ]
  },
  {
   "cell_type": "code",
   "execution_count": 38,
   "id": "347bc314",
   "metadata": {},
   "outputs": [
    {
     "data": {
      "text/plain": [
       "Medium     2793\n",
       "Missing    2410\n",
       "Small      2388\n",
       "High        932\n",
       "Name: Outlet_Size, dtype: int64"
      ]
     },
     "execution_count": 38,
     "metadata": {},
     "output_type": "execute_result"
    }
   ],
   "source": [
    "df['Outlet_Size'].value_counts()"
   ]
  },
  {
   "cell_type": "code",
   "execution_count": 39,
   "id": "d3f64819",
   "metadata": {},
   "outputs": [
    {
     "data": {
      "text/plain": [
       "Medium     1862\n",
       "Missing    1606\n",
       "Small      1592\n",
       "High        621\n",
       "Name: Outlet_Size, dtype: int64"
      ]
     },
     "execution_count": 39,
     "metadata": {},
     "output_type": "execute_result"
    }
   ],
   "source": [
    "df2['Outlet_Size'].value_counts()"
   ]
  },
  {
   "cell_type": "code",
   "execution_count": 40,
   "id": "9000abde",
   "metadata": {},
   "outputs": [
    {
     "data": {
      "text/plain": [
       "<AxesSubplot:ylabel='Outlet_Size'>"
      ]
     },
     "execution_count": 40,
     "metadata": {},
     "output_type": "execute_result"
    },
    {
     "data": {
      "image/png": "[encoded data removed]",
      "text/plain": [
       "<Figure size 432x288 with 1 Axes>"
      ]
     },
     "metadata": {},
     "output_type": "display_data"
    }
   ],
   "source": [
    "df['Outlet_Size'].value_counts().plot(kind='pie',autopct='%.2f')"
   ]
  },
  {
   "cell_type": "code",
   "execution_count": 41,
   "id": "cd9ec6b4",
   "metadata": {},
   "outputs": [
    {
     "data": {
      "text/plain": [
       "<AxesSubplot:>"
      ]
     },
     "execution_count": 41,
     "metadata": {},
     "output_type": "execute_result"
    },
    {
     "data": {
      "image/png": "[encoded data removed]",
      "text/plain": [
       "<Figure size 432x288 with 1 Axes>"
      ]
     },
     "metadata": {
      "needs_background": "light"
     },
     "output_type": "display_data"
    }
   ],
   "source": [
    "df['Outlet_Location_Type'].value_counts().plot(kind='bar')"
   ]
  },
  {
   "cell_type": "code",
   "execution_count": 42,
   "id": "ce662c43",
   "metadata": {},
   "outputs": [
    {
     "data": {
      "text/plain": [
       "Tier 3    3350\n",
       "Tier 2    2785\n",
       "Tier 1    2388\n",
       "Name: Outlet_Location_Type, dtype: int64"
      ]
     },
     "execution_count": 42,
     "metadata": {},
     "output_type": "execute_result"
    }
   ],
   "source": [
    "df['Outlet_Location_Type'].value_counts()"
   ]
  },
  {
   "cell_type": "code",
   "execution_count": 43,
   "id": "36991f10",
   "metadata": {},
   "outputs": [
    {
     "data": {
      "text/plain": [
       "Tier 3    2233\n",
       "Tier 2    1856\n",
       "Tier 1    1592\n",
       "Name: Outlet_Location_Type, dtype: int64"
      ]
     },
     "execution_count": 43,
     "metadata": {},
     "output_type": "execute_result"
    }
   ],
   "source": [
    "df2['Outlet_Location_Type'].value_counts()"
   ]
  },
  {
   "cell_type": "code",
   "execution_count": 44,
   "id": "3ffce070",
   "metadata": {},
   "outputs": [
    {
     "data": {
      "text/plain": [
       "(array([483., 870., 865., 664., 779., 629., 755., 735., 677., 603.]),\n",
       " array([ 4.555 ,  6.2345,  7.914 ,  9.5935, 11.273 , 12.9525, 14.632 ,\n",
       "        16.3115, 17.991 , 19.6705, 21.35  ]),\n",
       " <BarContainer object of 10 artists>)"
      ]
     },
     "execution_count": 44,
     "metadata": {},
     "output_type": "execute_result"
    },
    {
     "data": {
      "image/png": "[encoded data removed]",
      "text/plain": [
       "<Figure size 432x288 with 1 Axes>"
      ]
     },
     "metadata": {
      "needs_background": "light"
     },
     "output_type": "display_data"
    }
   ],
   "source": [
    "plt.hist(df['Item_Weight'])"
   ]
  },
  {
   "cell_type": "code",
   "execution_count": 45,
   "id": "ec230a31",
   "metadata": {},
   "outputs": [
    {
     "data": {
      "text/plain": [
       "(array([ 923.,  573., 1053., 1248.,  804., 1098., 1200.,  480.,  557.,\n",
       "         587.]),\n",
       " array([ 31.29   ,  54.84984,  78.40968, 101.96952, 125.52936, 149.0892 ,\n",
       "        172.64904, 196.20888, 219.76872, 243.32856, 266.8884 ]),\n",
       " <BarContainer object of 10 artists>)"
      ]
     },
     "execution_count": 45,
     "metadata": {},
     "output_type": "execute_result"
    },
    {
     "data": {
      "image/png": "[encoded data removed]",
      "text/plain": [
       "<Figure size 432x288 with 1 Axes>"
      ]
     },
     "metadata": {
      "needs_background": "light"
     },
     "output_type": "display_data"
    }
   ],
   "source": [
    "plt.hist(df['Item_MRP'])"
   ]
  },
  {
   "cell_type": "code",
   "execution_count": 46,
   "id": "e921be3d",
   "metadata": {},
   "outputs": [
    {
     "name": "stderr",
     "output_type": "stream",
     "text": [
      "<ipython-input-46-686ffc08fab6>:1: UserWarning: \n",
      "\n",
      "`distplot` is a deprecated function and will be removed in seaborn v0.14.0.\n",
      "\n",
      "Please adapt your code to use either `displot` (a figure-level function with\n",
      "similar flexibility) or `histplot` (an axes-level function for histograms).\n",
      "\n",
      "For a guide to updating your code to use the new functions, please see\n",
      "https://gist.github.com/mwaskom/de44147ed2974457ad6372750bbe5751\n",
      "\n",
      "  sns.distplot(df['Item_Visibility'])\n"
     ]
    },
    {
     "data": {
      "text/plain": [
       "<AxesSubplot:xlabel='Item_Visibility', ylabel='Density'>"
      ]
     },
     "execution_count": 46,
     "metadata": {},
     "output_type": "execute_result"
    },
    {
     "data": {
      "image/png": "[encoded data removed]",
      "text/plain": [
       "<Figure size 432x288 with 1 Axes>"
      ]
     },
     "metadata": {
      "needs_background": "light"
     },
     "output_type": "display_data"
    }
   ],
   "source": [
    "sns.distplot(df['Item_Visibility'])"
   ]
  },
  {
   "cell_type": "code",
   "execution_count": 47,
   "id": "4395493c",
   "metadata": {},
   "outputs": [
    {
     "data": {
      "text/plain": [
       "<AxesSubplot:>"
      ]
     },
     "execution_count": 47,
     "metadata": {},
     "output_type": "execute_result"
    },
    {
     "data": {
      "image/png": "[encoded data removed]",
      "text/plain": [
       "<Figure size 432x288 with 1 Axes>"
      ]
     },
     "metadata": {
      "needs_background": "light"
     },
     "output_type": "display_data"
    }
   ],
   "source": [
    "sns.boxplot(df['Item_MRP'])"
   ]
  },
  {
   "cell_type": "code",
   "execution_count": 48,
   "id": "f2ce5968",
   "metadata": {},
   "outputs": [
    {
     "data": {
      "text/plain": [
       "<AxesSubplot:>"
      ]
     },
     "execution_count": 48,
     "metadata": {},
     "output_type": "execute_result"
    },
    {
     "data": {
      "image/png": "[encoded data removed]",
      "text/plain": [
       "<Figure size 432x288 with 1 Axes>"
      ]
     },
     "metadata": {
      "needs_background": "light"
     },
     "output_type": "display_data"
    }
   ],
   "source": [
    "sns.boxplot(df['Item_Weight'])"
   ]
  },
  {
   "cell_type": "code",
   "execution_count": 49,
   "id": "ca89d4b2",
   "metadata": {},
   "outputs": [
    {
     "data": {
      "text/plain": [
       "<AxesSubplot:>"
      ]
     },
     "execution_count": 49,
     "metadata": {},
     "output_type": "execute_result"
    },
    {
     "data": {
      "image/png": "[encoded data removed]",
      "text/plain": [
       "<Figure size 432x288 with 1 Axes>"
      ]
     },
     "metadata": {
      "needs_background": "light"
     },
     "output_type": "display_data"
    }
   ],
   "source": [
    "sns.boxplot(df['Item_Visibility'])"
   ]
  },
  {
   "cell_type": "code",
   "execution_count": 50,
   "id": "580a9349",
   "metadata": {},
   "outputs": [
    {
     "data": {
      "text/plain": [
       "<matplotlib.collections.PathCollection at 0x1f2670d62b0>"
      ]
     },
     "execution_count": 50,
     "metadata": {},
     "output_type": "execute_result"
    },
    {
     "data": {
      "image/png": "[encoded data removed]",
      "text/plain": [
       "<Figure size 432x288 with 1 Axes>"
      ]
     },
     "metadata": {
      "needs_background": "light"
     },
     "output_type": "display_data"
    }
   ],
   "source": [
    "plt.scatter(df['Item_Weight'],df['Item_Outlet_Sales'],marker='*')"
   ]
  },
  {
   "cell_type": "code",
   "execution_count": 51,
   "id": "e387fec0",
   "metadata": {
    "scrolled": false
   },
   "outputs": [
    {
     "data": {
      "text/plain": [
       "<AxesSubplot:ylabel='Density'>"
      ]
     },
     "execution_count": 51,
     "metadata": {},
     "output_type": "execute_result"
    },
    {
     "data": {
      "image/png": "[encoded data removed]",
      "text/plain": [
       "<Figure size 432x288 with 1 Axes>"
      ]
     },
     "metadata": {
      "needs_background": "light"
     },
     "output_type": "display_data"
    }
   ],
   "source": [
    "df['Item_Weight'].plot(kind='kde')"
   ]
  },
  {
   "cell_type": "markdown",
   "id": "dd34596c",
   "metadata": {},
   "source": [
    "## Step 2: Missing Value Treatment"
   ]
  },
  {
   "cell_type": "code",
   "execution_count": 52,
   "id": "d1f27082",
   "metadata": {},
   "outputs": [],
   "source": [
    "df5=df[['Item_Weight','Item_Visibility','Item_MRP']]\n",
    "df6=df2[['Item_Weight','Item_Visibility','Item_MRP']]"
   ]
  },
  {
   "cell_type": "code",
   "execution_count": 53,
   "id": "817bfb90",
   "metadata": {},
   "outputs": [],
   "source": [
    "from sklearn.impute import KNNImputer\n",
    "knn = KNNImputer(n_neighbors=1)\n",
    "\n",
    "X_train_trf= knn.fit_transform(df5.iloc[:,:])\n",
    "X_test_trf=knn.transform(df6.iloc[:,:])\n",
    "df5_train_later=pd.DataFrame(X_train_trf,columns=df5.iloc[:,:].columns)\n",
    "df6_test_later=pd.DataFrame(X_test_trf,columns=df6.iloc[:,:].columns)"
   ]
  },
  {
   "cell_type": "code",
   "execution_count": 54,
   "id": "70147310",
   "metadata": {},
   "outputs": [],
   "source": [
    "df['Item_Weight']=df5_train_later['Item_Weight']"
   ]
  },
  {
   "cell_type": "code",
   "execution_count": 55,
   "id": "95cecb37",
   "metadata": {},
   "outputs": [],
   "source": [
    "df2['Item_Weight']=df6_test_later['Item_Weight']"
   ]
  },
  {
   "cell_type": "markdown",
   "id": "257de923",
   "metadata": {},
   "source": [
    "## Step 3: Outlier detection and elimination"
   ]
  },
  {
   "cell_type": "code",
   "execution_count": 56,
   "id": "700d6d7c",
   "metadata": {},
   "outputs": [
    {
     "data": {
      "text/plain": [
       "1.1670905496918396"
      ]
     },
     "execution_count": 56,
     "metadata": {},
     "output_type": "execute_result"
    }
   ],
   "source": [
    "df5_train_later['Item_Visibility'].skew()"
   ]
  },
  {
   "cell_type": "code",
   "execution_count": 57,
   "id": "743f8b3b",
   "metadata": {},
   "outputs": [],
   "source": [
    "per25=df5_train_later['Item_Visibility'].quantile(0.25)\n",
    "per75=df5_train_later['Item_Visibility'].quantile(0.75)\n"
   ]
  },
  {
   "cell_type": "code",
   "execution_count": 58,
   "id": "2289ba91",
   "metadata": {},
   "outputs": [],
   "source": [
    "\n",
    "iqr = per75-per25\n",
    "upper=per75+1.5*iqr\n",
    "lower=per25-1.5*iqr"
   ]
  },
  {
   "cell_type": "code",
   "execution_count": 59,
   "id": "c3afd7e8",
   "metadata": {},
   "outputs": [],
   "source": [
    "df5_train_later = df5_train_later[df5_train_later['Item_Visibility']<upper]"
   ]
  },
  {
   "cell_type": "code",
   "execution_count": 60,
   "id": "4ac21ca3",
   "metadata": {},
   "outputs": [
    {
     "data": {
      "text/plain": [
       "(8379, 3)"
      ]
     },
     "execution_count": 60,
     "metadata": {},
     "output_type": "execute_result"
    }
   ],
   "source": [
    "df5_train_later.shape"
   ]
  },
  {
   "cell_type": "code",
   "execution_count": 61,
   "id": "865bed33",
   "metadata": {},
   "outputs": [],
   "source": [
    "df=df[df.Item_Visibility<upper]\n"
   ]
  },
  {
   "cell_type": "markdown",
   "id": "c9cf2321",
   "metadata": {},
   "source": [
    "## Step 4: Applying Encoding Techniques"
   ]
  },
  {
   "cell_type": "code",
   "execution_count": 62,
   "id": "8fc6934e",
   "metadata": {},
   "outputs": [],
   "source": [
    "from sklearn.preprocessing import OneHotEncoder"
   ]
  },
  {
   "cell_type": "code",
   "execution_count": 63,
   "id": "432c60a9",
   "metadata": {},
   "outputs": [],
   "source": [
    "ohe = OneHotEncoder()"
   ]
  },
  {
   "cell_type": "code",
   "execution_count": 64,
   "id": "e2fe7ee1",
   "metadata": {},
   "outputs": [],
   "source": [
    "X_train_new=ohe.fit_transform(df[['Item_Fat_Content','Item_Type','Outlet_Type']]).toarray()"
   ]
  },
  {
   "cell_type": "code",
   "execution_count": 65,
   "id": "48e4aaf0",
   "metadata": {},
   "outputs": [
    {
     "data": {
      "text/plain": [
       "(8379, 22)"
      ]
     },
     "execution_count": 65,
     "metadata": {},
     "output_type": "execute_result"
    }
   ],
   "source": [
    "X_train_new.shape"
   ]
  },
  {
   "cell_type": "code",
   "execution_count": 66,
   "id": "11d62036",
   "metadata": {},
   "outputs": [],
   "source": [
    "X_test_new=ohe.fit_transform(df2[['Item_Fat_Content','Item_Type','Outlet_Type']]).toarray()"
   ]
  },
  {
   "cell_type": "code",
   "execution_count": 67,
   "id": "2c35896f",
   "metadata": {},
   "outputs": [
    {
     "data": {
      "text/plain": [
       "(5681, 22)"
      ]
     },
     "execution_count": 67,
     "metadata": {},
     "output_type": "execute_result"
    }
   ],
   "source": [
    "X_test_new.shape"
   ]
  },
  {
   "cell_type": "code",
   "execution_count": 68,
   "id": "19ced849",
   "metadata": {},
   "outputs": [],
   "source": [
    "Nominal_encoding_train=pd.DataFrame(X_train_new)\n",
    "Nominal_encoding_test=pd.DataFrame(X_test_new)"
   ]
  },
  {
   "cell_type": "code",
   "execution_count": 69,
   "id": "ac6424f8",
   "metadata": {},
   "outputs": [],
   "source": [
    "XX_train=df[['Outlet_Size','Outlet_Location_Type']]\n",
    "XX_test=df2[['Outlet_Size','Outlet_Location_Type']]"
   ]
  },
  {
   "cell_type": "code",
   "execution_count": 70,
   "id": "c7528290",
   "metadata": {},
   "outputs": [
    {
     "data": {
      "text/plain": [
       "(8379, 2)"
      ]
     },
     "execution_count": 70,
     "metadata": {},
     "output_type": "execute_result"
    }
   ],
   "source": [
    "XX_train.shape"
   ]
  },
  {
   "cell_type": "code",
   "execution_count": 71,
   "id": "0a36a41d",
   "metadata": {},
   "outputs": [
    {
     "data": {
      "text/plain": [
       "(5681, 2)"
      ]
     },
     "execution_count": 71,
     "metadata": {},
     "output_type": "execute_result"
    }
   ],
   "source": [
    "XX_test.shape"
   ]
  },
  {
   "cell_type": "code",
   "execution_count": 72,
   "id": "a1db978b",
   "metadata": {},
   "outputs": [
    {
     "data": {
      "text/html": [
       "<div>\n",
       "<style scoped>\n",
       "    .dataframe tbody tr th:only-of-type {\n",
       "        vertical-align: middle;\n",
       "    }\n",
       "\n",
       "    .dataframe tbody tr th {\n",
       "        vertical-align: top;\n",
       "    }\n",
       "\n",
       "    .dataframe thead th {\n",
       "        text-align: right;\n",
       "    }\n",
       "</style>\n",
       "<table border=\"1\" class=\"dataframe\">\n",
       "  <thead>\n",
       "    <tr style=\"text-align: right;\">\n",
       "      <th></th>\n",
       "      <th>Outlet_Size</th>\n",
       "      <th>Outlet_Location_Type</th>\n",
       "    </tr>\n",
       "  </thead>\n",
       "  <tbody>\n",
       "    <tr>\n",
       "      <th>1055</th>\n",
       "      <td>Small</td>\n",
       "      <td>Tier 2</td>\n",
       "    </tr>\n",
       "    <tr>\n",
       "      <th>7055</th>\n",
       "      <td>High</td>\n",
       "      <td>Tier 3</td>\n",
       "    </tr>\n",
       "    <tr>\n",
       "      <th>2155</th>\n",
       "      <td>Small</td>\n",
       "      <td>Tier 1</td>\n",
       "    </tr>\n",
       "    <tr>\n",
       "      <th>35</th>\n",
       "      <td>Medium</td>\n",
       "      <td>Tier 1</td>\n",
       "    </tr>\n",
       "    <tr>\n",
       "      <th>3200</th>\n",
       "      <td>Small</td>\n",
       "      <td>Tier 2</td>\n",
       "    </tr>\n",
       "    <tr>\n",
       "      <th>6415</th>\n",
       "      <td>Missing</td>\n",
       "      <td>Tier 3</td>\n",
       "    </tr>\n",
       "    <tr>\n",
       "      <th>1294</th>\n",
       "      <td>Small</td>\n",
       "      <td>Tier 2</td>\n",
       "    </tr>\n",
       "    <tr>\n",
       "      <th>3810</th>\n",
       "      <td>Missing</td>\n",
       "      <td>Tier 3</td>\n",
       "    </tr>\n",
       "    <tr>\n",
       "      <th>4709</th>\n",
       "      <td>Missing</td>\n",
       "      <td>Tier 2</td>\n",
       "    </tr>\n",
       "    <tr>\n",
       "      <th>4426</th>\n",
       "      <td>Small</td>\n",
       "      <td>Tier 2</td>\n",
       "    </tr>\n",
       "  </tbody>\n",
       "</table>\n",
       "</div>"
      ],
      "text/plain": [
       "     Outlet_Size Outlet_Location_Type\n",
       "1055       Small               Tier 2\n",
       "7055        High               Tier 3\n",
       "2155       Small               Tier 1\n",
       "35        Medium               Tier 1\n",
       "3200       Small               Tier 2\n",
       "6415     Missing               Tier 3\n",
       "1294       Small               Tier 2\n",
       "3810     Missing               Tier 3\n",
       "4709     Missing               Tier 2\n",
       "4426       Small               Tier 2"
      ]
     },
     "execution_count": 72,
     "metadata": {},
     "output_type": "execute_result"
    }
   ],
   "source": [
    "XX_train.sample(10)"
   ]
  },
  {
   "cell_type": "code",
   "execution_count": 73,
   "id": "3f2992e7",
   "metadata": {},
   "outputs": [
    {
     "data": {
      "text/html": [
       "<div>\n",
       "<style scoped>\n",
       "    .dataframe tbody tr th:only-of-type {\n",
       "        vertical-align: middle;\n",
       "    }\n",
       "\n",
       "    .dataframe tbody tr th {\n",
       "        vertical-align: top;\n",
       "    }\n",
       "\n",
       "    .dataframe thead th {\n",
       "        text-align: right;\n",
       "    }\n",
       "</style>\n",
       "<table border=\"1\" class=\"dataframe\">\n",
       "  <thead>\n",
       "    <tr style=\"text-align: right;\">\n",
       "      <th></th>\n",
       "      <th>Outlet_Size</th>\n",
       "      <th>Outlet_Location_Type</th>\n",
       "    </tr>\n",
       "  </thead>\n",
       "  <tbody>\n",
       "    <tr>\n",
       "      <th>0</th>\n",
       "      <td>Medium</td>\n",
       "      <td>Tier 1</td>\n",
       "    </tr>\n",
       "    <tr>\n",
       "      <th>1</th>\n",
       "      <td>Missing</td>\n",
       "      <td>Tier 2</td>\n",
       "    </tr>\n",
       "    <tr>\n",
       "      <th>2</th>\n",
       "      <td>Missing</td>\n",
       "      <td>Tier 3</td>\n",
       "    </tr>\n",
       "    <tr>\n",
       "      <th>3</th>\n",
       "      <td>Missing</td>\n",
       "      <td>Tier 2</td>\n",
       "    </tr>\n",
       "    <tr>\n",
       "      <th>4</th>\n",
       "      <td>Medium</td>\n",
       "      <td>Tier 3</td>\n",
       "    </tr>\n",
       "    <tr>\n",
       "      <th>...</th>\n",
       "      <td>...</td>\n",
       "      <td>...</td>\n",
       "    </tr>\n",
       "    <tr>\n",
       "      <th>5676</th>\n",
       "      <td>Small</td>\n",
       "      <td>Tier 1</td>\n",
       "    </tr>\n",
       "    <tr>\n",
       "      <th>5677</th>\n",
       "      <td>Medium</td>\n",
       "      <td>Tier 3</td>\n",
       "    </tr>\n",
       "    <tr>\n",
       "      <th>5678</th>\n",
       "      <td>Missing</td>\n",
       "      <td>Tier 2</td>\n",
       "    </tr>\n",
       "    <tr>\n",
       "      <th>5679</th>\n",
       "      <td>Missing</td>\n",
       "      <td>Tier 2</td>\n",
       "    </tr>\n",
       "    <tr>\n",
       "      <th>5680</th>\n",
       "      <td>Missing</td>\n",
       "      <td>Tier 2</td>\n",
       "    </tr>\n",
       "  </tbody>\n",
       "</table>\n",
       "<p>5681 rows × 2 columns</p>\n",
       "</div>"
      ],
      "text/plain": [
       "     Outlet_Size Outlet_Location_Type\n",
       "0         Medium               Tier 1\n",
       "1        Missing               Tier 2\n",
       "2        Missing               Tier 3\n",
       "3        Missing               Tier 2\n",
       "4         Medium               Tier 3\n",
       "...          ...                  ...\n",
       "5676       Small               Tier 1\n",
       "5677      Medium               Tier 3\n",
       "5678     Missing               Tier 2\n",
       "5679     Missing               Tier 2\n",
       "5680     Missing               Tier 2\n",
       "\n",
       "[5681 rows x 2 columns]"
      ]
     },
     "execution_count": 73,
     "metadata": {},
     "output_type": "execute_result"
    }
   ],
   "source": [
    "XX_test"
   ]
  },
  {
   "cell_type": "code",
   "execution_count": 74,
   "id": "8fe994ad",
   "metadata": {},
   "outputs": [],
   "source": [
    "from sklearn.preprocessing import OrdinalEncoder"
   ]
  },
  {
   "cell_type": "code",
   "execution_count": 75,
   "id": "c29070b1",
   "metadata": {},
   "outputs": [],
   "source": [
    "oe=OrdinalEncoder(categories=[['Missing','Small','Medium','High'],['Tier 3','Tier 2','Tier 1']])"
   ]
  },
  {
   "cell_type": "code",
   "execution_count": 76,
   "id": "8e4ebc20",
   "metadata": {},
   "outputs": [
    {
     "data": {
      "text/plain": [
       "OrdinalEncoder(categories=[['Missing', 'Small', 'Medium', 'High'],\n",
       "                           ['Tier 3', 'Tier 2', 'Tier 1']])"
      ]
     },
     "execution_count": 76,
     "metadata": {},
     "output_type": "execute_result"
    }
   ],
   "source": [
    "oe.fit(XX_train)\n",
    "oe.fit(XX_test)"
   ]
  },
  {
   "cell_type": "code",
   "execution_count": 77,
   "id": "63d99c8c",
   "metadata": {},
   "outputs": [],
   "source": [
    "XX_train = oe.transform(XX_train)\n",
    "XX_test = oe.transform(XX_test)"
   ]
  },
  {
   "cell_type": "code",
   "execution_count": 78,
   "id": "4b85ca65",
   "metadata": {},
   "outputs": [],
   "source": [
    "Ordinal_encoding_train=pd.DataFrame(XX_train)\n",
    "Ordinal_encoding_test=pd.DataFrame(XX_test)"
   ]
  },
  {
   "cell_type": "markdown",
   "id": "dad218a8",
   "metadata": {},
   "source": [
    "## Step 5: Feature Scaling"
   ]
  },
  {
   "cell_type": "code",
   "execution_count": 79,
   "id": "86e8407d",
   "metadata": {},
   "outputs": [],
   "source": [
    "d1_train=df5_train_later\n",
    "d2_train=Nominal_encoding_train\n",
    "d3_train=Ordinal_encoding_train\n",
    "d4_train=df[['Item_Outlet_Sales']]\n",
    "d1_test=df6_test_later\n",
    "d2_test=Nominal_encoding_test\n",
    "d3_test=Ordinal_encoding_test"
   ]
  },
  {
   "cell_type": "code",
   "execution_count": 80,
   "id": "71cd39dc",
   "metadata": {},
   "outputs": [
    {
     "data": {
      "text/plain": [
       "(5681, 2)"
      ]
     },
     "execution_count": 80,
     "metadata": {},
     "output_type": "execute_result"
    }
   ],
   "source": [
    "d3_test.shape"
   ]
  },
  {
   "cell_type": "code",
   "execution_count": 81,
   "id": "aa192a21",
   "metadata": {},
   "outputs": [],
   "source": [
    "Final_train=np.hstack((d1_train.values,d2_train.values,d3_train.values,d4_train))\n",
    "Final_test=np.hstack((d1_test.values,d2_test.values,d3_test.values))"
   ]
  },
  {
   "cell_type": "code",
   "execution_count": 82,
   "id": "26b886df",
   "metadata": {},
   "outputs": [],
   "source": [
    "exp=pd.DataFrame(Final_train[:,-1])"
   ]
  },
  {
   "cell_type": "code",
   "execution_count": 83,
   "id": "5c83d51c",
   "metadata": {},
   "outputs": [
    {
     "data": {
      "text/html": [
       "<div>\n",
       "<style scoped>\n",
       "    .dataframe tbody tr th:only-of-type {\n",
       "        vertical-align: middle;\n",
       "    }\n",
       "\n",
       "    .dataframe tbody tr th {\n",
       "        vertical-align: top;\n",
       "    }\n",
       "\n",
       "    .dataframe thead th {\n",
       "        text-align: right;\n",
       "    }\n",
       "</style>\n",
       "<table border=\"1\" class=\"dataframe\">\n",
       "  <thead>\n",
       "    <tr style=\"text-align: right;\">\n",
       "      <th></th>\n",
       "      <th>0</th>\n",
       "    </tr>\n",
       "  </thead>\n",
       "  <tbody>\n",
       "    <tr>\n",
       "      <th>0</th>\n",
       "      <td>3735.1380</td>\n",
       "    </tr>\n",
       "    <tr>\n",
       "      <th>1</th>\n",
       "      <td>443.4228</td>\n",
       "    </tr>\n",
       "    <tr>\n",
       "      <th>2</th>\n",
       "      <td>2097.2700</td>\n",
       "    </tr>\n",
       "    <tr>\n",
       "      <th>3</th>\n",
       "      <td>732.3800</td>\n",
       "    </tr>\n",
       "    <tr>\n",
       "      <th>4</th>\n",
       "      <td>994.7052</td>\n",
       "    </tr>\n",
       "    <tr>\n",
       "      <th>...</th>\n",
       "      <td>...</td>\n",
       "    </tr>\n",
       "    <tr>\n",
       "      <th>8374</th>\n",
       "      <td>2778.3834</td>\n",
       "    </tr>\n",
       "    <tr>\n",
       "      <th>8375</th>\n",
       "      <td>549.2850</td>\n",
       "    </tr>\n",
       "    <tr>\n",
       "      <th>8376</th>\n",
       "      <td>1193.1136</td>\n",
       "    </tr>\n",
       "    <tr>\n",
       "      <th>8377</th>\n",
       "      <td>1845.5976</td>\n",
       "    </tr>\n",
       "    <tr>\n",
       "      <th>8378</th>\n",
       "      <td>765.6700</td>\n",
       "    </tr>\n",
       "  </tbody>\n",
       "</table>\n",
       "<p>8379 rows × 1 columns</p>\n",
       "</div>"
      ],
      "text/plain": [
       "              0\n",
       "0     3735.1380\n",
       "1      443.4228\n",
       "2     2097.2700\n",
       "3      732.3800\n",
       "4      994.7052\n",
       "...         ...\n",
       "8374  2778.3834\n",
       "8375   549.2850\n",
       "8376  1193.1136\n",
       "8377  1845.5976\n",
       "8378   765.6700\n",
       "\n",
       "[8379 rows x 1 columns]"
      ]
     },
     "execution_count": 83,
     "metadata": {},
     "output_type": "execute_result"
    }
   ],
   "source": [
    "exp"
   ]
  },
  {
   "cell_type": "code",
   "execution_count": 84,
   "id": "eebd5300",
   "metadata": {},
   "outputs": [],
   "source": [
    "kk_Final_train=Final_train[:,:-1]"
   ]
  },
  {
   "cell_type": "code",
   "execution_count": 85,
   "id": "d7151be4",
   "metadata": {},
   "outputs": [
    {
     "data": {
      "text/plain": [
       "(8379, 27)"
      ]
     },
     "execution_count": 85,
     "metadata": {},
     "output_type": "execute_result"
    }
   ],
   "source": [
    "kk_Final_train.shape"
   ]
  },
  {
   "cell_type": "code",
   "execution_count": 86,
   "id": "da8b14c2",
   "metadata": {},
   "outputs": [
    {
     "data": {
      "text/plain": [
       "(5681, 27)"
      ]
     },
     "execution_count": 86,
     "metadata": {},
     "output_type": "execute_result"
    }
   ],
   "source": [
    "Final_test.shape"
   ]
  },
  {
   "cell_type": "code",
   "execution_count": 87,
   "id": "7cf30b65",
   "metadata": {},
   "outputs": [],
   "source": [
    "from sklearn.preprocessing import StandardScaler\n",
    "scaler=StandardScaler()\n",
    "scaler.fit(pd.DataFrame(kk_Final_train))\n",
    "X_train_scaled = scaler.transform(pd.DataFrame(kk_Final_train))\n",
    "X_test_scaled = scaler.transform(pd.DataFrame(Final_test))"
   ]
  },
  {
   "cell_type": "code",
   "execution_count": 88,
   "id": "37c81c26",
   "metadata": {},
   "outputs": [],
   "source": [
    "X_train_scaled = pd.DataFrame(X_train_scaled)"
   ]
  },
  {
   "cell_type": "code",
   "execution_count": 89,
   "id": "41217cf7",
   "metadata": {},
   "outputs": [
    {
     "data": {
      "text/html": [
       "<div>\n",
       "<style scoped>\n",
       "    .dataframe tbody tr th:only-of-type {\n",
       "        vertical-align: middle;\n",
       "    }\n",
       "\n",
       "    .dataframe tbody tr th {\n",
       "        vertical-align: top;\n",
       "    }\n",
       "\n",
       "    .dataframe thead th {\n",
       "        text-align: right;\n",
       "    }\n",
       "</style>\n",
       "<table border=\"1\" class=\"dataframe\">\n",
       "  <thead>\n",
       "    <tr style=\"text-align: right;\">\n",
       "      <th></th>\n",
       "      <th>0</th>\n",
       "      <th>1</th>\n",
       "      <th>2</th>\n",
       "      <th>3</th>\n",
       "      <th>4</th>\n",
       "      <th>5</th>\n",
       "      <th>6</th>\n",
       "      <th>7</th>\n",
       "      <th>8</th>\n",
       "      <th>9</th>\n",
       "      <th>...</th>\n",
       "      <th>17</th>\n",
       "      <th>18</th>\n",
       "      <th>19</th>\n",
       "      <th>20</th>\n",
       "      <th>21</th>\n",
       "      <th>22</th>\n",
       "      <th>23</th>\n",
       "      <th>24</th>\n",
       "      <th>25</th>\n",
       "      <th>26</th>\n",
       "    </tr>\n",
       "  </thead>\n",
       "  <tbody>\n",
       "    <tr>\n",
       "      <th>0</th>\n",
       "      <td>-0.767644</td>\n",
       "      <td>-1.019235</td>\n",
       "      <td>1.747925</td>\n",
       "      <td>0.736563</td>\n",
       "      <td>-0.736563</td>\n",
       "      <td>-0.285378</td>\n",
       "      <td>-0.174644</td>\n",
       "      <td>-0.113193</td>\n",
       "      <td>-0.287086</td>\n",
       "      <td>3.392045</td>\n",
       "      <td>...</td>\n",
       "      <td>-0.085636</td>\n",
       "      <td>-0.405060</td>\n",
       "      <td>-0.235138</td>\n",
       "      <td>-0.131768</td>\n",
       "      <td>-0.35526</td>\n",
       "      <td>0.708816</td>\n",
       "      <td>-0.352912</td>\n",
       "      <td>-0.354407</td>\n",
       "      <td>0.730580</td>\n",
       "      <td>1.379820</td>\n",
       "    </tr>\n",
       "    <tr>\n",
       "      <th>1</th>\n",
       "      <td>-1.495781</td>\n",
       "      <td>-0.949190</td>\n",
       "      <td>-1.488702</td>\n",
       "      <td>-1.357656</td>\n",
       "      <td>1.357656</td>\n",
       "      <td>-0.285378</td>\n",
       "      <td>-0.174644</td>\n",
       "      <td>-0.113193</td>\n",
       "      <td>-0.287086</td>\n",
       "      <td>-0.294807</td>\n",
       "      <td>...</td>\n",
       "      <td>-0.085636</td>\n",
       "      <td>-0.405060</td>\n",
       "      <td>4.252830</td>\n",
       "      <td>-0.131768</td>\n",
       "      <td>-0.35526</td>\n",
       "      <td>-1.410803</td>\n",
       "      <td>2.833566</td>\n",
       "      <td>-0.354407</td>\n",
       "      <td>0.730580</td>\n",
       "      <td>-1.092966</td>\n",
       "    </tr>\n",
       "    <tr>\n",
       "      <th>2</th>\n",
       "      <td>0.998840</td>\n",
       "      <td>-1.003782</td>\n",
       "      <td>0.010431</td>\n",
       "      <td>0.736563</td>\n",
       "      <td>-0.736563</td>\n",
       "      <td>-0.285378</td>\n",
       "      <td>-0.174644</td>\n",
       "      <td>-0.113193</td>\n",
       "      <td>-0.287086</td>\n",
       "      <td>-0.294807</td>\n",
       "      <td>...</td>\n",
       "      <td>-0.085636</td>\n",
       "      <td>-0.405060</td>\n",
       "      <td>-0.235138</td>\n",
       "      <td>-0.131768</td>\n",
       "      <td>-0.35526</td>\n",
       "      <td>0.708816</td>\n",
       "      <td>-0.352912</td>\n",
       "      <td>-0.354407</td>\n",
       "      <td>0.730580</td>\n",
       "      <td>1.379820</td>\n",
       "    </tr>\n",
       "    <tr>\n",
       "      <th>3</th>\n",
       "      <td>1.365062</td>\n",
       "      <td>-1.367130</td>\n",
       "      <td>0.660470</td>\n",
       "      <td>-1.357656</td>\n",
       "      <td>1.357656</td>\n",
       "      <td>-0.285378</td>\n",
       "      <td>-0.174644</td>\n",
       "      <td>-0.113193</td>\n",
       "      <td>-0.287086</td>\n",
       "      <td>-0.294807</td>\n",
       "      <td>...</td>\n",
       "      <td>-0.085636</td>\n",
       "      <td>-0.405060</td>\n",
       "      <td>-0.235138</td>\n",
       "      <td>-0.131768</td>\n",
       "      <td>2.81484</td>\n",
       "      <td>-1.410803</td>\n",
       "      <td>-0.352912</td>\n",
       "      <td>-0.354407</td>\n",
       "      <td>-1.288062</td>\n",
       "      <td>-1.092966</td>\n",
       "    </tr>\n",
       "    <tr>\n",
       "      <th>4</th>\n",
       "      <td>-0.847352</td>\n",
       "      <td>-1.367130</td>\n",
       "      <td>-1.398894</td>\n",
       "      <td>0.736563</td>\n",
       "      <td>-0.736563</td>\n",
       "      <td>-0.285378</td>\n",
       "      <td>-0.174644</td>\n",
       "      <td>-0.113193</td>\n",
       "      <td>-0.287086</td>\n",
       "      <td>-0.294807</td>\n",
       "      <td>...</td>\n",
       "      <td>-0.085636</td>\n",
       "      <td>-0.405060</td>\n",
       "      <td>-0.235138</td>\n",
       "      <td>-0.131768</td>\n",
       "      <td>-0.35526</td>\n",
       "      <td>0.708816</td>\n",
       "      <td>-0.352912</td>\n",
       "      <td>-0.354407</td>\n",
       "      <td>1.739902</td>\n",
       "      <td>-1.092966</td>\n",
       "    </tr>\n",
       "    <tr>\n",
       "      <th>...</th>\n",
       "      <td>...</td>\n",
       "      <td>...</td>\n",
       "      <td>...</td>\n",
       "      <td>...</td>\n",
       "      <td>...</td>\n",
       "      <td>...</td>\n",
       "      <td>...</td>\n",
       "      <td>...</td>\n",
       "      <td>...</td>\n",
       "      <td>...</td>\n",
       "      <td>...</td>\n",
       "      <td>...</td>\n",
       "      <td>...</td>\n",
       "      <td>...</td>\n",
       "      <td>...</td>\n",
       "      <td>...</td>\n",
       "      <td>...</td>\n",
       "      <td>...</td>\n",
       "      <td>...</td>\n",
       "      <td>...</td>\n",
       "      <td>...</td>\n",
       "    </tr>\n",
       "    <tr>\n",
       "      <th>8374</th>\n",
       "      <td>-1.292204</td>\n",
       "      <td>-0.136101</td>\n",
       "      <td>1.181228</td>\n",
       "      <td>0.736563</td>\n",
       "      <td>-0.736563</td>\n",
       "      <td>-0.285378</td>\n",
       "      <td>-0.174644</td>\n",
       "      <td>-0.113193</td>\n",
       "      <td>-0.287086</td>\n",
       "      <td>-0.294807</td>\n",
       "      <td>...</td>\n",
       "      <td>-0.085636</td>\n",
       "      <td>2.468772</td>\n",
       "      <td>-0.235138</td>\n",
       "      <td>-0.131768</td>\n",
       "      <td>-0.35526</td>\n",
       "      <td>0.708816</td>\n",
       "      <td>-0.352912</td>\n",
       "      <td>-0.354407</td>\n",
       "      <td>1.739902</td>\n",
       "      <td>-1.092966</td>\n",
       "    </tr>\n",
       "    <tr>\n",
       "      <th>8375</th>\n",
       "      <td>-0.965835</td>\n",
       "      <td>-0.348580</td>\n",
       "      <td>-0.526935</td>\n",
       "      <td>-1.357656</td>\n",
       "      <td>1.357656</td>\n",
       "      <td>3.504129</td>\n",
       "      <td>-0.174644</td>\n",
       "      <td>-0.113193</td>\n",
       "      <td>-0.287086</td>\n",
       "      <td>-0.294807</td>\n",
       "      <td>...</td>\n",
       "      <td>-0.085636</td>\n",
       "      <td>-0.405060</td>\n",
       "      <td>-0.235138</td>\n",
       "      <td>-0.131768</td>\n",
       "      <td>-0.35526</td>\n",
       "      <td>0.708816</td>\n",
       "      <td>-0.352912</td>\n",
       "      <td>-0.354407</td>\n",
       "      <td>-1.288062</td>\n",
       "      <td>0.143427</td>\n",
       "    </tr>\n",
       "    <tr>\n",
       "      <th>8376</th>\n",
       "      <td>-0.487592</td>\n",
       "      <td>-0.604313</td>\n",
       "      <td>-0.896859</td>\n",
       "      <td>0.736563</td>\n",
       "      <td>-0.736563</td>\n",
       "      <td>-0.285378</td>\n",
       "      <td>-0.174644</td>\n",
       "      <td>-0.113193</td>\n",
       "      <td>-0.287086</td>\n",
       "      <td>-0.294807</td>\n",
       "      <td>...</td>\n",
       "      <td>-0.085636</td>\n",
       "      <td>-0.405060</td>\n",
       "      <td>-0.235138</td>\n",
       "      <td>-0.131768</td>\n",
       "      <td>-0.35526</td>\n",
       "      <td>0.708816</td>\n",
       "      <td>-0.352912</td>\n",
       "      <td>-0.354407</td>\n",
       "      <td>-0.278741</td>\n",
       "      <td>0.143427</td>\n",
       "    </tr>\n",
       "    <tr>\n",
       "      <th>8377</th>\n",
       "      <td>-1.217883</td>\n",
       "      <td>1.781165</td>\n",
       "      <td>-0.607615</td>\n",
       "      <td>-1.357656</td>\n",
       "      <td>1.357656</td>\n",
       "      <td>-0.285378</td>\n",
       "      <td>-0.174644</td>\n",
       "      <td>-0.113193</td>\n",
       "      <td>-0.287086</td>\n",
       "      <td>-0.294807</td>\n",
       "      <td>...</td>\n",
       "      <td>-0.085636</td>\n",
       "      <td>2.468772</td>\n",
       "      <td>-0.235138</td>\n",
       "      <td>-0.131768</td>\n",
       "      <td>-0.35526</td>\n",
       "      <td>-1.410803</td>\n",
       "      <td>2.833566</td>\n",
       "      <td>-0.354407</td>\n",
       "      <td>0.730580</td>\n",
       "      <td>-1.092966</td>\n",
       "    </tr>\n",
       "    <tr>\n",
       "      <th>8378</th>\n",
       "      <td>0.417193</td>\n",
       "      <td>-0.394197</td>\n",
       "      <td>-1.051919</td>\n",
       "      <td>0.736563</td>\n",
       "      <td>-0.736563</td>\n",
       "      <td>-0.285378</td>\n",
       "      <td>-0.174644</td>\n",
       "      <td>-0.113193</td>\n",
       "      <td>-0.287086</td>\n",
       "      <td>-0.294807</td>\n",
       "      <td>...</td>\n",
       "      <td>-0.085636</td>\n",
       "      <td>-0.405060</td>\n",
       "      <td>4.252830</td>\n",
       "      <td>-0.131768</td>\n",
       "      <td>-0.35526</td>\n",
       "      <td>0.708816</td>\n",
       "      <td>-0.352912</td>\n",
       "      <td>-0.354407</td>\n",
       "      <td>-0.278741</td>\n",
       "      <td>1.379820</td>\n",
       "    </tr>\n",
       "  </tbody>\n",
       "</table>\n",
       "<p>8379 rows × 27 columns</p>\n",
       "</div>"
      ],
      "text/plain": [
       "            0         1         2         3         4         5         6   \\\n",
       "0    -0.767644 -1.019235  1.747925  0.736563 -0.736563 -0.285378 -0.174644   \n",
       "1    -1.495781 -0.949190 -1.488702 -1.357656  1.357656 -0.285378 -0.174644   \n",
       "2     0.998840 -1.003782  0.010431  0.736563 -0.736563 -0.285378 -0.174644   \n",
       "3     1.365062 -1.367130  0.660470 -1.357656  1.357656 -0.285378 -0.174644   \n",
       "4    -0.847352 -1.367130 -1.398894  0.736563 -0.736563 -0.285378 -0.174644   \n",
       "...        ...       ...       ...       ...       ...       ...       ...   \n",
       "8374 -1.292204 -0.136101  1.181228  0.736563 -0.736563 -0.285378 -0.174644   \n",
       "8375 -0.965835 -0.348580 -0.526935 -1.357656  1.357656  3.504129 -0.174644   \n",
       "8376 -0.487592 -0.604313 -0.896859  0.736563 -0.736563 -0.285378 -0.174644   \n",
       "8377 -1.217883  1.781165 -0.607615 -1.357656  1.357656 -0.285378 -0.174644   \n",
       "8378  0.417193 -0.394197 -1.051919  0.736563 -0.736563 -0.285378 -0.174644   \n",
       "\n",
       "            7         8         9   ...        17        18        19  \\\n",
       "0    -0.113193 -0.287086  3.392045  ... -0.085636 -0.405060 -0.235138   \n",
       "1    -0.113193 -0.287086 -0.294807  ... -0.085636 -0.405060  4.252830   \n",
       "2    -0.113193 -0.287086 -0.294807  ... -0.085636 -0.405060 -0.235138   \n",
       "3    -0.113193 -0.287086 -0.294807  ... -0.085636 -0.405060 -0.235138   \n",
       "4    -0.113193 -0.287086 -0.294807  ... -0.085636 -0.405060 -0.235138   \n",
       "...        ...       ...       ...  ...       ...       ...       ...   \n",
       "8374 -0.113193 -0.287086 -0.294807  ... -0.085636  2.468772 -0.235138   \n",
       "8375 -0.113193 -0.287086 -0.294807  ... -0.085636 -0.405060 -0.235138   \n",
       "8376 -0.113193 -0.287086 -0.294807  ... -0.085636 -0.405060 -0.235138   \n",
       "8377 -0.113193 -0.287086 -0.294807  ... -0.085636  2.468772 -0.235138   \n",
       "8378 -0.113193 -0.287086 -0.294807  ... -0.085636 -0.405060  4.252830   \n",
       "\n",
       "            20       21        22        23        24        25        26  \n",
       "0    -0.131768 -0.35526  0.708816 -0.352912 -0.354407  0.730580  1.379820  \n",
       "1    -0.131768 -0.35526 -1.410803  2.833566 -0.354407  0.730580 -1.092966  \n",
       "2    -0.131768 -0.35526  0.708816 -0.352912 -0.354407  0.730580  1.379820  \n",
       "3    -0.131768  2.81484 -1.410803 -0.352912 -0.354407 -1.288062 -1.092966  \n",
       "4    -0.131768 -0.35526  0.708816 -0.352912 -0.354407  1.739902 -1.092966  \n",
       "...        ...      ...       ...       ...       ...       ...       ...  \n",
       "8374 -0.131768 -0.35526  0.708816 -0.352912 -0.354407  1.739902 -1.092966  \n",
       "8375 -0.131768 -0.35526  0.708816 -0.352912 -0.354407 -1.288062  0.143427  \n",
       "8376 -0.131768 -0.35526  0.708816 -0.352912 -0.354407 -0.278741  0.143427  \n",
       "8377 -0.131768 -0.35526 -1.410803  2.833566 -0.354407  0.730580 -1.092966  \n",
       "8378 -0.131768 -0.35526  0.708816 -0.352912 -0.354407 -0.278741  1.379820  \n",
       "\n",
       "[8379 rows x 27 columns]"
      ]
     },
     "execution_count": 89,
     "metadata": {},
     "output_type": "execute_result"
    }
   ],
   "source": [
    "X_train_scaled"
   ]
  },
  {
   "cell_type": "code",
   "execution_count": 90,
   "id": "98247e9d",
   "metadata": {},
   "outputs": [],
   "source": [
    "X_test_scaled = pd.DataFrame(X_test_scaled)"
   ]
  },
  {
   "cell_type": "code",
   "execution_count": 91,
   "id": "61be8f22",
   "metadata": {},
   "outputs": [
    {
     "data": {
      "text/html": [
       "<div>\n",
       "<style scoped>\n",
       "    .dataframe tbody tr th:only-of-type {\n",
       "        vertical-align: middle;\n",
       "    }\n",
       "\n",
       "    .dataframe tbody tr th {\n",
       "        vertical-align: top;\n",
       "    }\n",
       "\n",
       "    .dataframe thead th {\n",
       "        text-align: right;\n",
       "    }\n",
       "</style>\n",
       "<table border=\"1\" class=\"dataframe\">\n",
       "  <thead>\n",
       "    <tr style=\"text-align: right;\">\n",
       "      <th></th>\n",
       "      <th>0</th>\n",
       "      <th>1</th>\n",
       "      <th>2</th>\n",
       "      <th>3</th>\n",
       "      <th>4</th>\n",
       "      <th>5</th>\n",
       "      <th>6</th>\n",
       "      <th>7</th>\n",
       "      <th>8</th>\n",
       "      <th>9</th>\n",
       "      <th>...</th>\n",
       "      <th>17</th>\n",
       "      <th>18</th>\n",
       "      <th>19</th>\n",
       "      <th>20</th>\n",
       "      <th>21</th>\n",
       "      <th>22</th>\n",
       "      <th>23</th>\n",
       "      <th>24</th>\n",
       "      <th>25</th>\n",
       "      <th>26</th>\n",
       "    </tr>\n",
       "  </thead>\n",
       "  <tbody>\n",
       "    <tr>\n",
       "      <th>0</th>\n",
       "      <td>1.698971</td>\n",
       "      <td>-1.203129</td>\n",
       "      <td>-0.531669</td>\n",
       "      <td>0.736563</td>\n",
       "      <td>-0.736563</td>\n",
       "      <td>-0.285378</td>\n",
       "      <td>-0.174644</td>\n",
       "      <td>-0.113193</td>\n",
       "      <td>-0.287086</td>\n",
       "      <td>-0.294807</td>\n",
       "      <td>...</td>\n",
       "      <td>-0.085636</td>\n",
       "      <td>2.468772</td>\n",
       "      <td>-0.235138</td>\n",
       "      <td>-0.131768</td>\n",
       "      <td>-0.35526</td>\n",
       "      <td>0.708816</td>\n",
       "      <td>-0.352912</td>\n",
       "      <td>-0.354407</td>\n",
       "      <td>0.730580</td>\n",
       "      <td>1.379820</td>\n",
       "    </tr>\n",
       "    <tr>\n",
       "      <th>1</th>\n",
       "      <td>-0.983069</td>\n",
       "      <td>-0.534042</td>\n",
       "      <td>-0.861569</td>\n",
       "      <td>-1.357656</td>\n",
       "      <td>1.357656</td>\n",
       "      <td>-0.285378</td>\n",
       "      <td>-0.174644</td>\n",
       "      <td>-0.113193</td>\n",
       "      <td>-0.287086</td>\n",
       "      <td>3.392045</td>\n",
       "      <td>...</td>\n",
       "      <td>-0.085636</td>\n",
       "      <td>-0.405060</td>\n",
       "      <td>-0.235138</td>\n",
       "      <td>-0.131768</td>\n",
       "      <td>-0.35526</td>\n",
       "      <td>0.708816</td>\n",
       "      <td>-0.352912</td>\n",
       "      <td>-0.354407</td>\n",
       "      <td>-1.288062</td>\n",
       "      <td>0.143427</td>\n",
       "    </tr>\n",
       "    <tr>\n",
       "      <th>2</th>\n",
       "      <td>0.374108</td>\n",
       "      <td>0.791593</td>\n",
       "      <td>1.618559</td>\n",
       "      <td>0.736563</td>\n",
       "      <td>-0.736563</td>\n",
       "      <td>-0.285378</td>\n",
       "      <td>-0.174644</td>\n",
       "      <td>-0.113193</td>\n",
       "      <td>-0.287086</td>\n",
       "      <td>-0.294807</td>\n",
       "      <td>...</td>\n",
       "      <td>-0.085636</td>\n",
       "      <td>-0.405060</td>\n",
       "      <td>-0.235138</td>\n",
       "      <td>-0.131768</td>\n",
       "      <td>2.81484</td>\n",
       "      <td>-1.410803</td>\n",
       "      <td>-0.352912</td>\n",
       "      <td>-0.354407</td>\n",
       "      <td>-1.288062</td>\n",
       "      <td>-1.092966</td>\n",
       "    </tr>\n",
       "    <tr>\n",
       "      <th>3</th>\n",
       "      <td>-1.195263</td>\n",
       "      <td>-1.033519</td>\n",
       "      <td>0.225885</td>\n",
       "      <td>0.736563</td>\n",
       "      <td>-0.736563</td>\n",
       "      <td>-0.285378</td>\n",
       "      <td>-0.174644</td>\n",
       "      <td>-0.113193</td>\n",
       "      <td>-0.287086</td>\n",
       "      <td>-0.294807</td>\n",
       "      <td>...</td>\n",
       "      <td>-0.085636</td>\n",
       "      <td>2.468772</td>\n",
       "      <td>-0.235138</td>\n",
       "      <td>-0.131768</td>\n",
       "      <td>-0.35526</td>\n",
       "      <td>0.708816</td>\n",
       "      <td>-0.352912</td>\n",
       "      <td>-0.354407</td>\n",
       "      <td>-1.288062</td>\n",
       "      <td>0.143427</td>\n",
       "    </tr>\n",
       "    <tr>\n",
       "      <th>4</th>\n",
       "      <td>1.612801</td>\n",
       "      <td>1.204031</td>\n",
       "      <td>1.497731</td>\n",
       "      <td>-1.357656</td>\n",
       "      <td>1.357656</td>\n",
       "      <td>-0.285378</td>\n",
       "      <td>-0.174644</td>\n",
       "      <td>-0.113193</td>\n",
       "      <td>-0.287086</td>\n",
       "      <td>3.392045</td>\n",
       "      <td>...</td>\n",
       "      <td>-0.085636</td>\n",
       "      <td>-0.405060</td>\n",
       "      <td>-0.235138</td>\n",
       "      <td>-0.131768</td>\n",
       "      <td>-0.35526</td>\n",
       "      <td>-1.410803</td>\n",
       "      <td>-0.352912</td>\n",
       "      <td>2.821613</td>\n",
       "      <td>0.730580</td>\n",
       "      <td>-1.092966</td>\n",
       "    </tr>\n",
       "    <tr>\n",
       "      <th>...</th>\n",
       "      <td>...</td>\n",
       "      <td>...</td>\n",
       "      <td>...</td>\n",
       "      <td>...</td>\n",
       "      <td>...</td>\n",
       "      <td>...</td>\n",
       "      <td>...</td>\n",
       "      <td>...</td>\n",
       "      <td>...</td>\n",
       "      <td>...</td>\n",
       "      <td>...</td>\n",
       "      <td>...</td>\n",
       "      <td>...</td>\n",
       "      <td>...</td>\n",
       "      <td>...</td>\n",
       "      <td>...</td>\n",
       "      <td>...</td>\n",
       "      <td>...</td>\n",
       "      <td>...</td>\n",
       "      <td>...</td>\n",
       "      <td>...</td>\n",
       "    </tr>\n",
       "    <tr>\n",
       "      <th>5676</th>\n",
       "      <td>-0.509135</td>\n",
       "      <td>-1.074535</td>\n",
       "      <td>0.005571</td>\n",
       "      <td>-1.357656</td>\n",
       "      <td>1.357656</td>\n",
       "      <td>-0.285378</td>\n",
       "      <td>-0.174644</td>\n",
       "      <td>-0.113193</td>\n",
       "      <td>-0.287086</td>\n",
       "      <td>-0.294807</td>\n",
       "      <td>...</td>\n",
       "      <td>-0.085636</td>\n",
       "      <td>2.468772</td>\n",
       "      <td>-0.235138</td>\n",
       "      <td>-0.131768</td>\n",
       "      <td>-0.35526</td>\n",
       "      <td>0.708816</td>\n",
       "      <td>-0.352912</td>\n",
       "      <td>-0.354407</td>\n",
       "      <td>-0.278741</td>\n",
       "      <td>1.379820</td>\n",
       "    </tr>\n",
       "    <tr>\n",
       "      <th>5677</th>\n",
       "      <td>-1.133867</td>\n",
       "      <td>1.732825</td>\n",
       "      <td>0.452497</td>\n",
       "      <td>-1.357656</td>\n",
       "      <td>1.357656</td>\n",
       "      <td>-0.285378</td>\n",
       "      <td>-0.174644</td>\n",
       "      <td>-0.113193</td>\n",
       "      <td>-0.287086</td>\n",
       "      <td>-0.294807</td>\n",
       "      <td>...</td>\n",
       "      <td>-0.085636</td>\n",
       "      <td>-0.405060</td>\n",
       "      <td>-0.235138</td>\n",
       "      <td>7.589098</td>\n",
       "      <td>-0.35526</td>\n",
       "      <td>-1.410803</td>\n",
       "      <td>2.833566</td>\n",
       "      <td>-0.354407</td>\n",
       "      <td>0.730580</td>\n",
       "      <td>-1.092966</td>\n",
       "    </tr>\n",
       "    <tr>\n",
       "      <th>5678</th>\n",
       "      <td>-0.616847</td>\n",
       "      <td>0.226924</td>\n",
       "      <td>-0.356913</td>\n",
       "      <td>0.736563</td>\n",
       "      <td>-0.736563</td>\n",
       "      <td>-0.285378</td>\n",
       "      <td>-0.174644</td>\n",
       "      <td>-0.113193</td>\n",
       "      <td>-0.287086</td>\n",
       "      <td>-0.294807</td>\n",
       "      <td>...</td>\n",
       "      <td>-0.085636</td>\n",
       "      <td>-0.405060</td>\n",
       "      <td>-0.235138</td>\n",
       "      <td>-0.131768</td>\n",
       "      <td>-0.35526</td>\n",
       "      <td>0.708816</td>\n",
       "      <td>-0.352912</td>\n",
       "      <td>-0.354407</td>\n",
       "      <td>-1.288062</td>\n",
       "      <td>0.143427</td>\n",
       "    </tr>\n",
       "    <tr>\n",
       "      <th>5679</th>\n",
       "      <td>0.524905</td>\n",
       "      <td>-1.367130</td>\n",
       "      <td>1.182834</td>\n",
       "      <td>-1.357656</td>\n",
       "      <td>1.357656</td>\n",
       "      <td>-0.285378</td>\n",
       "      <td>-0.174644</td>\n",
       "      <td>-0.113193</td>\n",
       "      <td>3.483278</td>\n",
       "      <td>-0.294807</td>\n",
       "      <td>...</td>\n",
       "      <td>-0.085636</td>\n",
       "      <td>-0.405060</td>\n",
       "      <td>-0.235138</td>\n",
       "      <td>-0.131768</td>\n",
       "      <td>-0.35526</td>\n",
       "      <td>0.708816</td>\n",
       "      <td>-0.352912</td>\n",
       "      <td>-0.354407</td>\n",
       "      <td>-1.288062</td>\n",
       "      <td>0.143427</td>\n",
       "    </tr>\n",
       "    <tr>\n",
       "      <th>5680</th>\n",
       "      <td>-0.724559</td>\n",
       "      <td>0.903139</td>\n",
       "      <td>-0.982398</td>\n",
       "      <td>-1.357656</td>\n",
       "      <td>1.357656</td>\n",
       "      <td>-0.285378</td>\n",
       "      <td>-0.174644</td>\n",
       "      <td>-0.113193</td>\n",
       "      <td>3.483278</td>\n",
       "      <td>-0.294807</td>\n",
       "      <td>...</td>\n",
       "      <td>-0.085636</td>\n",
       "      <td>-0.405060</td>\n",
       "      <td>-0.235138</td>\n",
       "      <td>-0.131768</td>\n",
       "      <td>-0.35526</td>\n",
       "      <td>0.708816</td>\n",
       "      <td>-0.352912</td>\n",
       "      <td>-0.354407</td>\n",
       "      <td>-1.288062</td>\n",
       "      <td>0.143427</td>\n",
       "    </tr>\n",
       "  </tbody>\n",
       "</table>\n",
       "<p>5681 rows × 27 columns</p>\n",
       "</div>"
      ],
      "text/plain": [
       "            0         1         2         3         4         5         6   \\\n",
       "0     1.698971 -1.203129 -0.531669  0.736563 -0.736563 -0.285378 -0.174644   \n",
       "1    -0.983069 -0.534042 -0.861569 -1.357656  1.357656 -0.285378 -0.174644   \n",
       "2     0.374108  0.791593  1.618559  0.736563 -0.736563 -0.285378 -0.174644   \n",
       "3    -1.195263 -1.033519  0.225885  0.736563 -0.736563 -0.285378 -0.174644   \n",
       "4     1.612801  1.204031  1.497731 -1.357656  1.357656 -0.285378 -0.174644   \n",
       "...        ...       ...       ...       ...       ...       ...       ...   \n",
       "5676 -0.509135 -1.074535  0.005571 -1.357656  1.357656 -0.285378 -0.174644   \n",
       "5677 -1.133867  1.732825  0.452497 -1.357656  1.357656 -0.285378 -0.174644   \n",
       "5678 -0.616847  0.226924 -0.356913  0.736563 -0.736563 -0.285378 -0.174644   \n",
       "5679  0.524905 -1.367130  1.182834 -1.357656  1.357656 -0.285378 -0.174644   \n",
       "5680 -0.724559  0.903139 -0.982398 -1.357656  1.357656 -0.285378 -0.174644   \n",
       "\n",
       "            7         8         9   ...        17        18        19  \\\n",
       "0    -0.113193 -0.287086 -0.294807  ... -0.085636  2.468772 -0.235138   \n",
       "1    -0.113193 -0.287086  3.392045  ... -0.085636 -0.405060 -0.235138   \n",
       "2    -0.113193 -0.287086 -0.294807  ... -0.085636 -0.405060 -0.235138   \n",
       "3    -0.113193 -0.287086 -0.294807  ... -0.085636  2.468772 -0.235138   \n",
       "4    -0.113193 -0.287086  3.392045  ... -0.085636 -0.405060 -0.235138   \n",
       "...        ...       ...       ...  ...       ...       ...       ...   \n",
       "5676 -0.113193 -0.287086 -0.294807  ... -0.085636  2.468772 -0.235138   \n",
       "5677 -0.113193 -0.287086 -0.294807  ... -0.085636 -0.405060 -0.235138   \n",
       "5678 -0.113193 -0.287086 -0.294807  ... -0.085636 -0.405060 -0.235138   \n",
       "5679 -0.113193  3.483278 -0.294807  ... -0.085636 -0.405060 -0.235138   \n",
       "5680 -0.113193  3.483278 -0.294807  ... -0.085636 -0.405060 -0.235138   \n",
       "\n",
       "            20       21        22        23        24        25        26  \n",
       "0    -0.131768 -0.35526  0.708816 -0.352912 -0.354407  0.730580  1.379820  \n",
       "1    -0.131768 -0.35526  0.708816 -0.352912 -0.354407 -1.288062  0.143427  \n",
       "2    -0.131768  2.81484 -1.410803 -0.352912 -0.354407 -1.288062 -1.092966  \n",
       "3    -0.131768 -0.35526  0.708816 -0.352912 -0.354407 -1.288062  0.143427  \n",
       "4    -0.131768 -0.35526 -1.410803 -0.352912  2.821613  0.730580 -1.092966  \n",
       "...        ...      ...       ...       ...       ...       ...       ...  \n",
       "5676 -0.131768 -0.35526  0.708816 -0.352912 -0.354407 -0.278741  1.379820  \n",
       "5677  7.589098 -0.35526 -1.410803  2.833566 -0.354407  0.730580 -1.092966  \n",
       "5678 -0.131768 -0.35526  0.708816 -0.352912 -0.354407 -1.288062  0.143427  \n",
       "5679 -0.131768 -0.35526  0.708816 -0.352912 -0.354407 -1.288062  0.143427  \n",
       "5680 -0.131768 -0.35526  0.708816 -0.352912 -0.354407 -1.288062  0.143427  \n",
       "\n",
       "[5681 rows x 27 columns]"
      ]
     },
     "execution_count": 91,
     "metadata": {},
     "output_type": "execute_result"
    }
   ],
   "source": [
    "X_test_scaled"
   ]
  },
  {
   "cell_type": "markdown",
   "id": "3a90f906",
   "metadata": {},
   "source": [
    "## Step 6: Model Training and Testing"
   ]
  },
  {
   "cell_type": "code",
   "execution_count": 92,
   "id": "f0e50a0e",
   "metadata": {},
   "outputs": [],
   "source": [
    "XX=X_train_scaled.values\n",
    "YY=exp.values"
   ]
  },
  {
   "cell_type": "code",
   "execution_count": 93,
   "id": "803aad61",
   "metadata": {},
   "outputs": [
    {
     "data": {
      "text/plain": [
       "(8379, 27)"
      ]
     },
     "execution_count": 93,
     "metadata": {},
     "output_type": "execute_result"
    }
   ],
   "source": [
    "XX.shape"
   ]
  },
  {
   "cell_type": "code",
   "execution_count": 94,
   "id": "2771a133",
   "metadata": {},
   "outputs": [
    {
     "data": {
      "text/plain": [
       "(8379, 1)"
      ]
     },
     "execution_count": 94,
     "metadata": {},
     "output_type": "execute_result"
    }
   ],
   "source": [
    "YY.shape"
   ]
  },
  {
   "cell_type": "code",
   "execution_count": 95,
   "id": "3a18e558",
   "metadata": {},
   "outputs": [],
   "source": [
    "from sklearn.model_selection import train_test_split\n",
    "X_trainn,X_testt,y_trainn,y_testt = train_test_split(XX,YY,test_size=0.2,random_state=3)"
   ]
  },
  {
   "cell_type": "code",
   "execution_count": 96,
   "id": "e9e5e901",
   "metadata": {},
   "outputs": [
    {
     "name": "stderr",
     "output_type": "stream",
     "text": [
      "<ipython-input-96-c0f96cc1c384>:4: DataConversionWarning: A column-vector y was passed when a 1d array was expected. Please change the shape of y to (n_samples,), for example using ravel().\n",
      "  model_RFR.fit(X_trainn, y_trainn)\n"
     ]
    },
    {
     "data": {
      "text/plain": [
       "0.6144426356517302"
      ]
     },
     "execution_count": 96,
     "metadata": {},
     "output_type": "execute_result"
    }
   ],
   "source": [
    "from sklearn.ensemble import RandomForestRegressor\n",
    "from sklearn.metrics import mean_absolute_percentage_error\n",
    "model_RFR = RandomForestRegressor(n_estimators=10)\n",
    "model_RFR.fit(X_trainn, y_trainn)\n",
    "Y_pred = model_RFR.predict(X_testt)\n",
    "\n",
    "mean_absolute_percentage_error(y_testt, Y_pred)\n"
   ]
  },
  {
   "cell_type": "code",
   "execution_count": 97,
   "id": "96bede4b",
   "metadata": {},
   "outputs": [
    {
     "data": {
      "text/plain": [
       "<matplotlib.collections.PathCollection at 0x1f269246130>"
      ]
     },
     "execution_count": 97,
     "metadata": {},
     "output_type": "execute_result"
    },
    {
     "data": {
      "image/png": "[encoded data removed]",
      "text/plain": [
       "<Figure size 432x288 with 1 Axes>"
      ]
     },
     "metadata": {
      "needs_background": "light"
     },
     "output_type": "display_data"
    }
   ],
   "source": [
    "plt.scatter(Y_pred,y_testt)"
   ]
  },
  {
   "cell_type": "markdown",
   "id": "384024dd",
   "metadata": {},
   "source": [
    "## Step 7: Making Prediction"
   ]
  },
  {
   "cell_type": "code",
   "execution_count": 98,
   "id": "0dddadbd",
   "metadata": {},
   "outputs": [],
   "source": [
    "Y_ppred = model_RFR.predict(X_test_scaled)"
   ]
  },
  {
   "cell_type": "code",
   "execution_count": 99,
   "id": "6965a567",
   "metadata": {},
   "outputs": [
    {
     "data": {
      "text/plain": [
       "array([1872.49592, 1458.03542,  302.53952, ..., 2267.84796, 3149.83322,\n",
       "       1594.72416])"
      ]
     },
     "execution_count": 99,
     "metadata": {},
     "output_type": "execute_result"
    }
   ],
   "source": [
    "Y_ppred"
   ]
  },
  {
   "cell_type": "code",
   "execution_count": 100,
   "id": "5e582cb6",
   "metadata": {},
   "outputs": [],
   "source": [
    "df2['Outlet_sale_predicted']=pd.DataFrame(Y_ppred)"
   ]
  },
  {
   "cell_type": "code",
   "execution_count": 101,
   "id": "297de469",
   "metadata": {},
   "outputs": [
    {
     "data": {
      "text/html": [
       "<div>\n",
       "<style scoped>\n",
       "    .dataframe tbody tr th:only-of-type {\n",
       "        vertical-align: middle;\n",
       "    }\n",
       "\n",
       "    .dataframe tbody tr th {\n",
       "        vertical-align: top;\n",
       "    }\n",
       "\n",
       "    .dataframe thead th {\n",
       "        text-align: right;\n",
       "    }\n",
       "</style>\n",
       "<table border=\"1\" class=\"dataframe\">\n",
       "  <thead>\n",
       "    <tr style=\"text-align: right;\">\n",
       "      <th></th>\n",
       "      <th>Item_Identifier</th>\n",
       "      <th>Item_Weight</th>\n",
       "      <th>Item_Fat_Content</th>\n",
       "      <th>Item_Visibility</th>\n",
       "      <th>Item_Type</th>\n",
       "      <th>Item_MRP</th>\n",
       "      <th>Outlet_Identifier</th>\n",
       "      <th>Outlet_Establishment_Year</th>\n",
       "      <th>Outlet_Size</th>\n",
       "      <th>Outlet_Location_Type</th>\n",
       "      <th>Outlet_Type</th>\n",
       "      <th>Outlet_sale_predicted</th>\n",
       "    </tr>\n",
       "  </thead>\n",
       "  <tbody>\n",
       "    <tr>\n",
       "      <th>0</th>\n",
       "      <td>FDW58</td>\n",
       "      <td>20.750</td>\n",
       "      <td>Low Fat</td>\n",
       "      <td>0.007565</td>\n",
       "      <td>Snack Foods</td>\n",
       "      <td>107.8622</td>\n",
       "      <td>OUT049</td>\n",
       "      <td>1999</td>\n",
       "      <td>Medium</td>\n",
       "      <td>Tier 1</td>\n",
       "      <td>Supermarket Type1</td>\n",
       "      <td>1872.49592</td>\n",
       "    </tr>\n",
       "    <tr>\n",
       "      <th>1</th>\n",
       "      <td>FDW14</td>\n",
       "      <td>8.300</td>\n",
       "      <td>Regular</td>\n",
       "      <td>0.038428</td>\n",
       "      <td>Dairy</td>\n",
       "      <td>87.3198</td>\n",
       "      <td>OUT017</td>\n",
       "      <td>2007</td>\n",
       "      <td>Missing</td>\n",
       "      <td>Tier 2</td>\n",
       "      <td>Supermarket Type1</td>\n",
       "      <td>1458.03542</td>\n",
       "    </tr>\n",
       "    <tr>\n",
       "      <th>2</th>\n",
       "      <td>NCN55</td>\n",
       "      <td>14.600</td>\n",
       "      <td>Low Fat</td>\n",
       "      <td>0.099575</td>\n",
       "      <td>Others</td>\n",
       "      <td>241.7538</td>\n",
       "      <td>OUT010</td>\n",
       "      <td>1998</td>\n",
       "      <td>Missing</td>\n",
       "      <td>Tier 3</td>\n",
       "      <td>Grocery Store</td>\n",
       "      <td>302.53952</td>\n",
       "    </tr>\n",
       "    <tr>\n",
       "      <th>3</th>\n",
       "      <td>FDQ58</td>\n",
       "      <td>7.315</td>\n",
       "      <td>Low Fat</td>\n",
       "      <td>0.015388</td>\n",
       "      <td>Snack Foods</td>\n",
       "      <td>155.0340</td>\n",
       "      <td>OUT017</td>\n",
       "      <td>2007</td>\n",
       "      <td>Missing</td>\n",
       "      <td>Tier 2</td>\n",
       "      <td>Supermarket Type1</td>\n",
       "      <td>1608.57280</td>\n",
       "    </tr>\n",
       "    <tr>\n",
       "      <th>4</th>\n",
       "      <td>FDY38</td>\n",
       "      <td>20.350</td>\n",
       "      <td>Regular</td>\n",
       "      <td>0.118599</td>\n",
       "      <td>Dairy</td>\n",
       "      <td>234.2300</td>\n",
       "      <td>OUT027</td>\n",
       "      <td>1985</td>\n",
       "      <td>Medium</td>\n",
       "      <td>Tier 3</td>\n",
       "      <td>Supermarket Type3</td>\n",
       "      <td>5444.11344</td>\n",
       "    </tr>\n",
       "    <tr>\n",
       "      <th>...</th>\n",
       "      <td>...</td>\n",
       "      <td>...</td>\n",
       "      <td>...</td>\n",
       "      <td>...</td>\n",
       "      <td>...</td>\n",
       "      <td>...</td>\n",
       "      <td>...</td>\n",
       "      <td>...</td>\n",
       "      <td>...</td>\n",
       "      <td>...</td>\n",
       "      <td>...</td>\n",
       "      <td>...</td>\n",
       "    </tr>\n",
       "    <tr>\n",
       "      <th>5676</th>\n",
       "      <td>FDB58</td>\n",
       "      <td>10.500</td>\n",
       "      <td>Regular</td>\n",
       "      <td>0.013496</td>\n",
       "      <td>Snack Foods</td>\n",
       "      <td>141.3154</td>\n",
       "      <td>OUT046</td>\n",
       "      <td>1997</td>\n",
       "      <td>Small</td>\n",
       "      <td>Tier 1</td>\n",
       "      <td>Supermarket Type1</td>\n",
       "      <td>2815.13556</td>\n",
       "    </tr>\n",
       "    <tr>\n",
       "      <th>5677</th>\n",
       "      <td>FDD47</td>\n",
       "      <td>7.600</td>\n",
       "      <td>Regular</td>\n",
       "      <td>0.142991</td>\n",
       "      <td>Starchy Foods</td>\n",
       "      <td>169.1448</td>\n",
       "      <td>OUT018</td>\n",
       "      <td>2009</td>\n",
       "      <td>Medium</td>\n",
       "      <td>Tier 3</td>\n",
       "      <td>Supermarket Type2</td>\n",
       "      <td>2763.20316</td>\n",
       "    </tr>\n",
       "    <tr>\n",
       "      <th>5678</th>\n",
       "      <td>NCO17</td>\n",
       "      <td>10.000</td>\n",
       "      <td>Low Fat</td>\n",
       "      <td>0.073529</td>\n",
       "      <td>Health and Hygiene</td>\n",
       "      <td>118.7440</td>\n",
       "      <td>OUT045</td>\n",
       "      <td>2002</td>\n",
       "      <td>Missing</td>\n",
       "      <td>Tier 2</td>\n",
       "      <td>Supermarket Type1</td>\n",
       "      <td>2267.84796</td>\n",
       "    </tr>\n",
       "    <tr>\n",
       "      <th>5679</th>\n",
       "      <td>FDJ26</td>\n",
       "      <td>15.300</td>\n",
       "      <td>Regular</td>\n",
       "      <td>0.000000</td>\n",
       "      <td>Canned</td>\n",
       "      <td>214.6218</td>\n",
       "      <td>OUT017</td>\n",
       "      <td>2007</td>\n",
       "      <td>Missing</td>\n",
       "      <td>Tier 2</td>\n",
       "      <td>Supermarket Type1</td>\n",
       "      <td>3149.83322</td>\n",
       "    </tr>\n",
       "    <tr>\n",
       "      <th>5680</th>\n",
       "      <td>FDU37</td>\n",
       "      <td>9.500</td>\n",
       "      <td>Regular</td>\n",
       "      <td>0.104720</td>\n",
       "      <td>Canned</td>\n",
       "      <td>79.7960</td>\n",
       "      <td>OUT045</td>\n",
       "      <td>2002</td>\n",
       "      <td>Missing</td>\n",
       "      <td>Tier 2</td>\n",
       "      <td>Supermarket Type1</td>\n",
       "      <td>1594.72416</td>\n",
       "    </tr>\n",
       "  </tbody>\n",
       "</table>\n",
       "<p>5681 rows × 12 columns</p>\n",
       "</div>"
      ],
      "text/plain": [
       "     Item_Identifier  Item_Weight Item_Fat_Content  Item_Visibility  \\\n",
       "0              FDW58       20.750          Low Fat         0.007565   \n",
       "1              FDW14        8.300          Regular         0.038428   \n",
       "2              NCN55       14.600          Low Fat         0.099575   \n",
       "3              FDQ58        7.315          Low Fat         0.015388   \n",
       "4              FDY38       20.350          Regular         0.118599   \n",
       "...              ...          ...              ...              ...   \n",
       "5676           FDB58       10.500          Regular         0.013496   \n",
       "5677           FDD47        7.600          Regular         0.142991   \n",
       "5678           NCO17       10.000          Low Fat         0.073529   \n",
       "5679           FDJ26       15.300          Regular         0.000000   \n",
       "5680           FDU37        9.500          Regular         0.104720   \n",
       "\n",
       "               Item_Type  Item_MRP Outlet_Identifier  \\\n",
       "0            Snack Foods  107.8622            OUT049   \n",
       "1                  Dairy   87.3198            OUT017   \n",
       "2                 Others  241.7538            OUT010   \n",
       "3            Snack Foods  155.0340            OUT017   \n",
       "4                  Dairy  234.2300            OUT027   \n",
       "...                  ...       ...               ...   \n",
       "5676         Snack Foods  141.3154            OUT046   \n",
       "5677       Starchy Foods  169.1448            OUT018   \n",
       "5678  Health and Hygiene  118.7440            OUT045   \n",
       "5679              Canned  214.6218            OUT017   \n",
       "5680              Canned   79.7960            OUT045   \n",
       "\n",
       "      Outlet_Establishment_Year Outlet_Size Outlet_Location_Type  \\\n",
       "0                          1999      Medium               Tier 1   \n",
       "1                          2007     Missing               Tier 2   \n",
       "2                          1998     Missing               Tier 3   \n",
       "3                          2007     Missing               Tier 2   \n",
       "4                          1985      Medium               Tier 3   \n",
       "...                         ...         ...                  ...   \n",
       "5676                       1997       Small               Tier 1   \n",
       "5677                       2009      Medium               Tier 3   \n",
       "5678                       2002     Missing               Tier 2   \n",
       "5679                       2007     Missing               Tier 2   \n",
       "5680                       2002     Missing               Tier 2   \n",
       "\n",
       "            Outlet_Type  Outlet_sale_predicted  \n",
       "0     Supermarket Type1             1872.49592  \n",
       "1     Supermarket Type1             1458.03542  \n",
       "2         Grocery Store              302.53952  \n",
       "3     Supermarket Type1             1608.57280  \n",
       "4     Supermarket Type3             5444.11344  \n",
       "...                 ...                    ...  \n",
       "5676  Supermarket Type1             2815.13556  \n",
       "5677  Supermarket Type2             2763.20316  \n",
       "5678  Supermarket Type1             2267.84796  \n",
       "5679  Supermarket Type1             3149.83322  \n",
       "5680  Supermarket Type1             1594.72416  \n",
       "\n",
       "[5681 rows x 12 columns]"
      ]
     },
     "execution_count": 101,
     "metadata": {},
     "output_type": "execute_result"
    }
   ],
   "source": [
    "df2"
   ]
  },
  {
   "cell_type": "code",
   "execution_count": 102,
   "id": "a55cc2ad",
   "metadata": {},
   "outputs": [],
   "source": [
    "df2.to_csv('C:/Users/atharv/Downloads/9961_14084_bundle_archive/Result.csv',index=False)"
   ]
  }
 ],
 "metadata": {
  "kernelspec": {
   "display_name": "Python 3",
   "language": "python",
   "name": "python3"
  },
  "language_info": {
   "codemirror_mode": {
    "name": "ipython",
    "version": 3
   },
   "file_extension": ".py",
   "mimetype": "text/x-python",
   "name": "python",
   "nbconvert_exporter": "python",
   "pygments_lexer": "ipython3",
   "version": "3.9.0"
  }
 },
 "nbformat": 4,
 "nbformat_minor": 5
}
