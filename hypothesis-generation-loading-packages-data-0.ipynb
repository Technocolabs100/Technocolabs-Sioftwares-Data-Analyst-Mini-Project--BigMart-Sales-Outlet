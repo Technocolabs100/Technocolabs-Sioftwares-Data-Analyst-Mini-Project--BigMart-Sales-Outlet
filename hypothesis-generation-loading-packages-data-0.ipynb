{
 "cells": [
  {
   "cell_type": "markdown",
   "id": "9ccd8425",
   "metadata": {
    "papermill": {
     "duration": 0.00864,
     "end_time": "2023-02-05T19:48:27.195020",
     "exception": false,
     "start_time": "2023-02-05T19:48:27.186380",
     "status": "completed"
    },
    "tags": []
   },
   "source": [
    "# **Project Description (Problem Statement)**"
   ]
  },
  {
   "cell_type": "markdown",
   "id": "353d6527",
   "metadata": {
    "papermill": {
     "duration": 0.006862,
     "end_time": "2023-02-05T19:48:27.209202",
     "exception": false,
     "start_time": "2023-02-05T19:48:27.202340",
     "status": "completed"
    },
    "tags": []
   },
   "source": [
    "> The data scientists at BigMart have collected 2013 sales data for 1559 products across 10 stores in different cities. Also, certain attributes of each product and store have been defined. The aim of this data science project is to build a predictive model and find out the sales of each product at a particular store.\n",
    "> Using this model, BigMart will try to understand the properties of products and stores which play a key role in increasing sales.\n",
    ">  The data has missing values as some stores do not report all the data due to technical glitches. Hence, it will be required to treat them accordingly."
   ]
  },
  {
   "cell_type": "markdown",
   "id": "ea4597ab",
   "metadata": {
    "papermill": {
     "duration": 0.00676,
     "end_time": "2023-02-05T19:48:27.223012",
     "exception": false,
     "start_time": "2023-02-05T19:48:27.216252",
     "status": "completed"
    },
    "tags": []
   },
   "source": [
    "# **Loading Packages and Data**"
   ]
  },
  {
   "cell_type": "code",
   "execution_count": 1,
   "id": "4c571f8a",
   "metadata": {
    "execution": {
     "iopub.execute_input": "2023-02-05T19:48:27.239265Z",
     "iopub.status.busy": "2023-02-05T19:48:27.238781Z",
     "iopub.status.idle": "2023-02-05T19:48:28.427698Z",
     "shell.execute_reply": "2023-02-05T19:48:28.426481Z"
    },
    "papermill": {
     "duration": 1.200597,
     "end_time": "2023-02-05T19:48:28.430637",
     "exception": false,
     "start_time": "2023-02-05T19:48:27.230040",
     "status": "completed"
    },
    "tags": []
   },
   "outputs": [
    {
     "name": "stdout",
     "output_type": "stream",
     "text": [
      "Setup Complete\n"
     ]
    }
   ],
   "source": [
    "import pandas as pd\n",
    "import numpy as np\n",
    "pd.plotting.register_matplotlib_converters()\n",
    "import matplotlib.pyplot as plt\n",
    "%matplotlib inline\n",
    "import seaborn as sns\n",
    "import sklearn\n",
    "print(\"Setup Complete\")"
   ]
  },
  {
   "cell_type": "code",
   "execution_count": 2,
   "id": "749740bf",
   "metadata": {
    "execution": {
     "iopub.execute_input": "2023-02-05T19:48:28.447581Z",
     "iopub.status.busy": "2023-02-05T19:48:28.446596Z",
     "iopub.status.idle": "2023-02-05T19:48:28.545529Z",
     "shell.execute_reply": "2023-02-05T19:48:28.544455Z"
    },
    "papermill": {
     "duration": 0.1102,
     "end_time": "2023-02-05T19:48:28.548164",
     "exception": false,
     "start_time": "2023-02-05T19:48:28.437964",
     "status": "completed"
    },
    "tags": []
   },
   "outputs": [],
   "source": [
    "test_path = \"/kaggle/input/big-mart-dataset/9961_14084_bundle_archive/Test.csv\"\n",
    "train_path = \"/kaggle/input/big-mart-dataset/9961_14084_bundle_archive/Train.csv\"\n",
    "\n",
    "df1 = pd.read_csv(test_path)\n",
    "df2 = pd.read_csv(train_path)"
   ]
  },
  {
   "cell_type": "code",
   "execution_count": 3,
   "id": "0c4e707e",
   "metadata": {
    "execution": {
     "iopub.execute_input": "2023-02-05T19:48:28.565340Z",
     "iopub.status.busy": "2023-02-05T19:48:28.564662Z",
     "iopub.status.idle": "2023-02-05T19:48:28.587626Z",
     "shell.execute_reply": "2023-02-05T19:48:28.586327Z"
    },
    "papermill": {
     "duration": 0.034623,
     "end_time": "2023-02-05T19:48:28.590195",
     "exception": false,
     "start_time": "2023-02-05T19:48:28.555572",
     "status": "completed"
    },
    "tags": []
   },
   "outputs": [
    {
     "data": {
      "text/plain": [
       "(14204, 12)"
      ]
     },
     "execution_count": 3,
     "metadata": {},
     "output_type": "execute_result"
    }
   ],
   "source": [
    "#Merge Two data sets\n",
    "train_data = pd.concat([df2, df1])\n",
    "train_data.shape"
   ]
  },
  {
   "cell_type": "markdown",
   "id": "091c9cce",
   "metadata": {
    "papermill": {
     "duration": 0.007157,
     "end_time": "2023-02-05T19:48:28.604832",
     "exception": false,
     "start_time": "2023-02-05T19:48:28.597675",
     "status": "completed"
    },
    "tags": []
   },
   "source": [
    "# **Data Structure and Content**"
   ]
  },
  {
   "cell_type": "code",
   "execution_count": 4,
   "id": "e6246bfd",
   "metadata": {
    "execution": {
     "iopub.execute_input": "2023-02-05T19:48:28.622408Z",
     "iopub.status.busy": "2023-02-05T19:48:28.621963Z",
     "iopub.status.idle": "2023-02-05T19:48:28.646735Z",
     "shell.execute_reply": "2023-02-05T19:48:28.645541Z"
    },
    "papermill": {
     "duration": 0.037203,
     "end_time": "2023-02-05T19:48:28.649396",
     "exception": false,
     "start_time": "2023-02-05T19:48:28.612193",
     "status": "completed"
    },
    "tags": []
   },
   "outputs": [
    {
     "data": {
      "text/html": [
       "<div>\n",
       "<style scoped>\n",
       "    .dataframe tbody tr th:only-of-type {\n",
       "        vertical-align: middle;\n",
       "    }\n",
       "\n",
       "    .dataframe tbody tr th {\n",
       "        vertical-align: top;\n",
       "    }\n",
       "\n",
       "    .dataframe thead th {\n",
       "        text-align: right;\n",
       "    }\n",
       "</style>\n",
       "<table border=\"1\" class=\"dataframe\">\n",
       "  <thead>\n",
       "    <tr style=\"text-align: right;\">\n",
       "      <th></th>\n",
       "      <th>Item_Identifier</th>\n",
       "      <th>Item_Weight</th>\n",
       "      <th>Item_Fat_Content</th>\n",
       "      <th>Item_Visibility</th>\n",
       "      <th>Item_Type</th>\n",
       "      <th>Item_MRP</th>\n",
       "      <th>Outlet_Identifier</th>\n",
       "      <th>Outlet_Establishment_Year</th>\n",
       "      <th>Outlet_Size</th>\n",
       "      <th>Outlet_Location_Type</th>\n",
       "      <th>Outlet_Type</th>\n",
       "      <th>Item_Outlet_Sales</th>\n",
       "    </tr>\n",
       "  </thead>\n",
       "  <tbody>\n",
       "    <tr>\n",
       "      <th>0</th>\n",
       "      <td>FDA15</td>\n",
       "      <td>9.30</td>\n",
       "      <td>Low Fat</td>\n",
       "      <td>0.016047</td>\n",
       "      <td>Dairy</td>\n",
       "      <td>249.8092</td>\n",
       "      <td>OUT049</td>\n",
       "      <td>1999</td>\n",
       "      <td>Medium</td>\n",
       "      <td>Tier 1</td>\n",
       "      <td>Supermarket Type1</td>\n",
       "      <td>3735.1380</td>\n",
       "    </tr>\n",
       "    <tr>\n",
       "      <th>1</th>\n",
       "      <td>DRC01</td>\n",
       "      <td>5.92</td>\n",
       "      <td>Regular</td>\n",
       "      <td>0.019278</td>\n",
       "      <td>Soft Drinks</td>\n",
       "      <td>48.2692</td>\n",
       "      <td>OUT018</td>\n",
       "      <td>2009</td>\n",
       "      <td>Medium</td>\n",
       "      <td>Tier 3</td>\n",
       "      <td>Supermarket Type2</td>\n",
       "      <td>443.4228</td>\n",
       "    </tr>\n",
       "    <tr>\n",
       "      <th>2</th>\n",
       "      <td>FDN15</td>\n",
       "      <td>17.50</td>\n",
       "      <td>Low Fat</td>\n",
       "      <td>0.016760</td>\n",
       "      <td>Meat</td>\n",
       "      <td>141.6180</td>\n",
       "      <td>OUT049</td>\n",
       "      <td>1999</td>\n",
       "      <td>Medium</td>\n",
       "      <td>Tier 1</td>\n",
       "      <td>Supermarket Type1</td>\n",
       "      <td>2097.2700</td>\n",
       "    </tr>\n",
       "    <tr>\n",
       "      <th>3</th>\n",
       "      <td>FDX07</td>\n",
       "      <td>19.20</td>\n",
       "      <td>Regular</td>\n",
       "      <td>0.000000</td>\n",
       "      <td>Fruits and Vegetables</td>\n",
       "      <td>182.0950</td>\n",
       "      <td>OUT010</td>\n",
       "      <td>1998</td>\n",
       "      <td>NaN</td>\n",
       "      <td>Tier 3</td>\n",
       "      <td>Grocery Store</td>\n",
       "      <td>732.3800</td>\n",
       "    </tr>\n",
       "    <tr>\n",
       "      <th>4</th>\n",
       "      <td>NCD19</td>\n",
       "      <td>8.93</td>\n",
       "      <td>Low Fat</td>\n",
       "      <td>0.000000</td>\n",
       "      <td>Household</td>\n",
       "      <td>53.8614</td>\n",
       "      <td>OUT013</td>\n",
       "      <td>1987</td>\n",
       "      <td>High</td>\n",
       "      <td>Tier 3</td>\n",
       "      <td>Supermarket Type1</td>\n",
       "      <td>994.7052</td>\n",
       "    </tr>\n",
       "  </tbody>\n",
       "</table>\n",
       "</div>"
      ],
      "text/plain": [
       "  Item_Identifier  Item_Weight Item_Fat_Content  Item_Visibility  \\\n",
       "0           FDA15         9.30          Low Fat         0.016047   \n",
       "1           DRC01         5.92          Regular         0.019278   \n",
       "2           FDN15        17.50          Low Fat         0.016760   \n",
       "3           FDX07        19.20          Regular         0.000000   \n",
       "4           NCD19         8.93          Low Fat         0.000000   \n",
       "\n",
       "               Item_Type  Item_MRP Outlet_Identifier  \\\n",
       "0                  Dairy  249.8092            OUT049   \n",
       "1            Soft Drinks   48.2692            OUT018   \n",
       "2                   Meat  141.6180            OUT049   \n",
       "3  Fruits and Vegetables  182.0950            OUT010   \n",
       "4              Household   53.8614            OUT013   \n",
       "\n",
       "   Outlet_Establishment_Year Outlet_Size Outlet_Location_Type  \\\n",
       "0                       1999      Medium               Tier 1   \n",
       "1                       2009      Medium               Tier 3   \n",
       "2                       1999      Medium               Tier 1   \n",
       "3                       1998         NaN               Tier 3   \n",
       "4                       1987        High               Tier 3   \n",
       "\n",
       "         Outlet_Type  Item_Outlet_Sales  \n",
       "0  Supermarket Type1          3735.1380  \n",
       "1  Supermarket Type2           443.4228  \n",
       "2  Supermarket Type1          2097.2700  \n",
       "3      Grocery Store           732.3800  \n",
       "4  Supermarket Type1           994.7052  "
      ]
     },
     "execution_count": 4,
     "metadata": {},
     "output_type": "execute_result"
    }
   ],
   "source": [
    "train_data.head()"
   ]
  },
  {
   "cell_type": "code",
   "execution_count": 5,
   "id": "2c369707",
   "metadata": {
    "execution": {
     "iopub.execute_input": "2023-02-05T19:48:28.667179Z",
     "iopub.status.busy": "2023-02-05T19:48:28.666750Z",
     "iopub.status.idle": "2023-02-05T19:48:28.685577Z",
     "shell.execute_reply": "2023-02-05T19:48:28.684313Z"
    },
    "papermill": {
     "duration": 0.030729,
     "end_time": "2023-02-05T19:48:28.687956",
     "exception": false,
     "start_time": "2023-02-05T19:48:28.657227",
     "status": "completed"
    },
    "tags": []
   },
   "outputs": [
    {
     "data": {
      "text/html": [
       "<div>\n",
       "<style scoped>\n",
       "    .dataframe tbody tr th:only-of-type {\n",
       "        vertical-align: middle;\n",
       "    }\n",
       "\n",
       "    .dataframe tbody tr th {\n",
       "        vertical-align: top;\n",
       "    }\n",
       "\n",
       "    .dataframe thead th {\n",
       "        text-align: right;\n",
       "    }\n",
       "</style>\n",
       "<table border=\"1\" class=\"dataframe\">\n",
       "  <thead>\n",
       "    <tr style=\"text-align: right;\">\n",
       "      <th></th>\n",
       "      <th>Item_Identifier</th>\n",
       "      <th>Item_Weight</th>\n",
       "      <th>Item_Fat_Content</th>\n",
       "      <th>Item_Visibility</th>\n",
       "      <th>Item_Type</th>\n",
       "      <th>Item_MRP</th>\n",
       "      <th>Outlet_Identifier</th>\n",
       "      <th>Outlet_Establishment_Year</th>\n",
       "      <th>Outlet_Size</th>\n",
       "      <th>Outlet_Location_Type</th>\n",
       "      <th>Outlet_Type</th>\n",
       "      <th>Item_Outlet_Sales</th>\n",
       "    </tr>\n",
       "  </thead>\n",
       "  <tbody>\n",
       "    <tr>\n",
       "      <th>5676</th>\n",
       "      <td>FDB58</td>\n",
       "      <td>10.5</td>\n",
       "      <td>Regular</td>\n",
       "      <td>0.013496</td>\n",
       "      <td>Snack Foods</td>\n",
       "      <td>141.3154</td>\n",
       "      <td>OUT046</td>\n",
       "      <td>1997</td>\n",
       "      <td>Small</td>\n",
       "      <td>Tier 1</td>\n",
       "      <td>Supermarket Type1</td>\n",
       "      <td>NaN</td>\n",
       "    </tr>\n",
       "    <tr>\n",
       "      <th>5677</th>\n",
       "      <td>FDD47</td>\n",
       "      <td>7.6</td>\n",
       "      <td>Regular</td>\n",
       "      <td>0.142991</td>\n",
       "      <td>Starchy Foods</td>\n",
       "      <td>169.1448</td>\n",
       "      <td>OUT018</td>\n",
       "      <td>2009</td>\n",
       "      <td>Medium</td>\n",
       "      <td>Tier 3</td>\n",
       "      <td>Supermarket Type2</td>\n",
       "      <td>NaN</td>\n",
       "    </tr>\n",
       "    <tr>\n",
       "      <th>5678</th>\n",
       "      <td>NCO17</td>\n",
       "      <td>10.0</td>\n",
       "      <td>Low Fat</td>\n",
       "      <td>0.073529</td>\n",
       "      <td>Health and Hygiene</td>\n",
       "      <td>118.7440</td>\n",
       "      <td>OUT045</td>\n",
       "      <td>2002</td>\n",
       "      <td>NaN</td>\n",
       "      <td>Tier 2</td>\n",
       "      <td>Supermarket Type1</td>\n",
       "      <td>NaN</td>\n",
       "    </tr>\n",
       "    <tr>\n",
       "      <th>5679</th>\n",
       "      <td>FDJ26</td>\n",
       "      <td>15.3</td>\n",
       "      <td>Regular</td>\n",
       "      <td>0.000000</td>\n",
       "      <td>Canned</td>\n",
       "      <td>214.6218</td>\n",
       "      <td>OUT017</td>\n",
       "      <td>2007</td>\n",
       "      <td>NaN</td>\n",
       "      <td>Tier 2</td>\n",
       "      <td>Supermarket Type1</td>\n",
       "      <td>NaN</td>\n",
       "    </tr>\n",
       "    <tr>\n",
       "      <th>5680</th>\n",
       "      <td>FDU37</td>\n",
       "      <td>9.5</td>\n",
       "      <td>Regular</td>\n",
       "      <td>0.104720</td>\n",
       "      <td>Canned</td>\n",
       "      <td>79.7960</td>\n",
       "      <td>OUT045</td>\n",
       "      <td>2002</td>\n",
       "      <td>NaN</td>\n",
       "      <td>Tier 2</td>\n",
       "      <td>Supermarket Type1</td>\n",
       "      <td>NaN</td>\n",
       "    </tr>\n",
       "  </tbody>\n",
       "</table>\n",
       "</div>"
      ],
      "text/plain": [
       "     Item_Identifier  Item_Weight Item_Fat_Content  Item_Visibility  \\\n",
       "5676           FDB58         10.5          Regular         0.013496   \n",
       "5677           FDD47          7.6          Regular         0.142991   \n",
       "5678           NCO17         10.0          Low Fat         0.073529   \n",
       "5679           FDJ26         15.3          Regular         0.000000   \n",
       "5680           FDU37          9.5          Regular         0.104720   \n",
       "\n",
       "               Item_Type  Item_MRP Outlet_Identifier  \\\n",
       "5676         Snack Foods  141.3154            OUT046   \n",
       "5677       Starchy Foods  169.1448            OUT018   \n",
       "5678  Health and Hygiene  118.7440            OUT045   \n",
       "5679              Canned  214.6218            OUT017   \n",
       "5680              Canned   79.7960            OUT045   \n",
       "\n",
       "      Outlet_Establishment_Year Outlet_Size Outlet_Location_Type  \\\n",
       "5676                       1997       Small               Tier 1   \n",
       "5677                       2009      Medium               Tier 3   \n",
       "5678                       2002         NaN               Tier 2   \n",
       "5679                       2007         NaN               Tier 2   \n",
       "5680                       2002         NaN               Tier 2   \n",
       "\n",
       "            Outlet_Type  Item_Outlet_Sales  \n",
       "5676  Supermarket Type1                NaN  \n",
       "5677  Supermarket Type2                NaN  \n",
       "5678  Supermarket Type1                NaN  \n",
       "5679  Supermarket Type1                NaN  \n",
       "5680  Supermarket Type1                NaN  "
      ]
     },
     "execution_count": 5,
     "metadata": {},
     "output_type": "execute_result"
    }
   ],
   "source": [
    "train_data.tail()"
   ]
  },
  {
   "cell_type": "code",
   "execution_count": 6,
   "id": "5e1b82d6",
   "metadata": {
    "execution": {
     "iopub.execute_input": "2023-02-05T19:48:28.705801Z",
     "iopub.status.busy": "2023-02-05T19:48:28.705386Z",
     "iopub.status.idle": "2023-02-05T19:48:28.712973Z",
     "shell.execute_reply": "2023-02-05T19:48:28.711744Z"
    },
    "papermill": {
     "duration": 0.019367,
     "end_time": "2023-02-05T19:48:28.715316",
     "exception": false,
     "start_time": "2023-02-05T19:48:28.695949",
     "status": "completed"
    },
    "tags": []
   },
   "outputs": [
    {
     "data": {
      "text/plain": [
       "(14204, 12)"
      ]
     },
     "execution_count": 6,
     "metadata": {},
     "output_type": "execute_result"
    }
   ],
   "source": [
    "train_data.shape"
   ]
  },
  {
   "cell_type": "code",
   "execution_count": 7,
   "id": "4bb78529",
   "metadata": {
    "execution": {
     "iopub.execute_input": "2023-02-05T19:48:28.733440Z",
     "iopub.status.busy": "2023-02-05T19:48:28.733012Z",
     "iopub.status.idle": "2023-02-05T19:48:28.740600Z",
     "shell.execute_reply": "2023-02-05T19:48:28.739338Z"
    },
    "papermill": {
     "duration": 0.019696,
     "end_time": "2023-02-05T19:48:28.743112",
     "exception": false,
     "start_time": "2023-02-05T19:48:28.723416",
     "status": "completed"
    },
    "tags": []
   },
   "outputs": [
    {
     "data": {
      "text/plain": [
       "Index(['Item_Identifier', 'Item_Weight', 'Item_Fat_Content', 'Item_Visibility',\n",
       "       'Item_Type', 'Item_MRP', 'Outlet_Identifier',\n",
       "       'Outlet_Establishment_Year', 'Outlet_Size', 'Outlet_Location_Type',\n",
       "       'Outlet_Type', 'Item_Outlet_Sales'],\n",
       "      dtype='object')"
      ]
     },
     "execution_count": 7,
     "metadata": {},
     "output_type": "execute_result"
    }
   ],
   "source": [
    "train_data.columns"
   ]
  },
  {
   "cell_type": "code",
   "execution_count": 8,
   "id": "f51a6097",
   "metadata": {
    "execution": {
     "iopub.execute_input": "2023-02-05T19:48:28.761540Z",
     "iopub.status.busy": "2023-02-05T19:48:28.761142Z",
     "iopub.status.idle": "2023-02-05T19:48:28.789790Z",
     "shell.execute_reply": "2023-02-05T19:48:28.788585Z"
    },
    "papermill": {
     "duration": 0.040846,
     "end_time": "2023-02-05T19:48:28.792416",
     "exception": false,
     "start_time": "2023-02-05T19:48:28.751570",
     "status": "completed"
    },
    "tags": []
   },
   "outputs": [
    {
     "name": "stdout",
     "output_type": "stream",
     "text": [
      "<class 'pandas.core.frame.DataFrame'>\n",
      "Int64Index: 14204 entries, 0 to 5680\n",
      "Data columns (total 12 columns):\n",
      " #   Column                     Non-Null Count  Dtype  \n",
      "---  ------                     --------------  -----  \n",
      " 0   Item_Identifier            14204 non-null  object \n",
      " 1   Item_Weight                11765 non-null  float64\n",
      " 2   Item_Fat_Content           14204 non-null  object \n",
      " 3   Item_Visibility            14204 non-null  float64\n",
      " 4   Item_Type                  14204 non-null  object \n",
      " 5   Item_MRP                   14204 non-null  float64\n",
      " 6   Outlet_Identifier          14204 non-null  object \n",
      " 7   Outlet_Establishment_Year  14204 non-null  int64  \n",
      " 8   Outlet_Size                10188 non-null  object \n",
      " 9   Outlet_Location_Type       14204 non-null  object \n",
      " 10  Outlet_Type                14204 non-null  object \n",
      " 11  Item_Outlet_Sales          8523 non-null   float64\n",
      "dtypes: float64(4), int64(1), object(7)\n",
      "memory usage: 1.4+ MB\n"
     ]
    }
   ],
   "source": [
    "train_data.info()"
   ]
  },
  {
   "cell_type": "code",
   "execution_count": 9,
   "id": "657c6c09",
   "metadata": {
    "execution": {
     "iopub.execute_input": "2023-02-05T19:48:28.810715Z",
     "iopub.status.busy": "2023-02-05T19:48:28.810329Z",
     "iopub.status.idle": "2023-02-05T19:48:28.845243Z",
     "shell.execute_reply": "2023-02-05T19:48:28.844321Z"
    },
    "papermill": {
     "duration": 0.046538,
     "end_time": "2023-02-05T19:48:28.847351",
     "exception": false,
     "start_time": "2023-02-05T19:48:28.800813",
     "status": "completed"
    },
    "tags": []
   },
   "outputs": [
    {
     "data": {
      "text/html": [
       "<div>\n",
       "<style scoped>\n",
       "    .dataframe tbody tr th:only-of-type {\n",
       "        vertical-align: middle;\n",
       "    }\n",
       "\n",
       "    .dataframe tbody tr th {\n",
       "        vertical-align: top;\n",
       "    }\n",
       "\n",
       "    .dataframe thead th {\n",
       "        text-align: right;\n",
       "    }\n",
       "</style>\n",
       "<table border=\"1\" class=\"dataframe\">\n",
       "  <thead>\n",
       "    <tr style=\"text-align: right;\">\n",
       "      <th></th>\n",
       "      <th>Item_Weight</th>\n",
       "      <th>Item_Visibility</th>\n",
       "      <th>Item_MRP</th>\n",
       "      <th>Outlet_Establishment_Year</th>\n",
       "      <th>Item_Outlet_Sales</th>\n",
       "    </tr>\n",
       "  </thead>\n",
       "  <tbody>\n",
       "    <tr>\n",
       "      <th>count</th>\n",
       "      <td>11765.000000</td>\n",
       "      <td>14204.000000</td>\n",
       "      <td>14204.000000</td>\n",
       "      <td>14204.000000</td>\n",
       "      <td>8523.000000</td>\n",
       "    </tr>\n",
       "    <tr>\n",
       "      <th>mean</th>\n",
       "      <td>12.792854</td>\n",
       "      <td>0.065953</td>\n",
       "      <td>141.004977</td>\n",
       "      <td>1997.830681</td>\n",
       "      <td>2181.288914</td>\n",
       "    </tr>\n",
       "    <tr>\n",
       "      <th>std</th>\n",
       "      <td>4.652502</td>\n",
       "      <td>0.051459</td>\n",
       "      <td>62.086938</td>\n",
       "      <td>8.371664</td>\n",
       "      <td>1706.499616</td>\n",
       "    </tr>\n",
       "    <tr>\n",
       "      <th>min</th>\n",
       "      <td>4.555000</td>\n",
       "      <td>0.000000</td>\n",
       "      <td>31.290000</td>\n",
       "      <td>1985.000000</td>\n",
       "      <td>33.290000</td>\n",
       "    </tr>\n",
       "    <tr>\n",
       "      <th>25%</th>\n",
       "      <td>8.710000</td>\n",
       "      <td>0.027036</td>\n",
       "      <td>94.012000</td>\n",
       "      <td>1987.000000</td>\n",
       "      <td>834.247400</td>\n",
       "    </tr>\n",
       "    <tr>\n",
       "      <th>50%</th>\n",
       "      <td>12.600000</td>\n",
       "      <td>0.054021</td>\n",
       "      <td>142.247000</td>\n",
       "      <td>1999.000000</td>\n",
       "      <td>1794.331000</td>\n",
       "    </tr>\n",
       "    <tr>\n",
       "      <th>75%</th>\n",
       "      <td>16.750000</td>\n",
       "      <td>0.094037</td>\n",
       "      <td>185.855600</td>\n",
       "      <td>2004.000000</td>\n",
       "      <td>3101.296400</td>\n",
       "    </tr>\n",
       "    <tr>\n",
       "      <th>max</th>\n",
       "      <td>21.350000</td>\n",
       "      <td>0.328391</td>\n",
       "      <td>266.888400</td>\n",
       "      <td>2009.000000</td>\n",
       "      <td>13086.964800</td>\n",
       "    </tr>\n",
       "  </tbody>\n",
       "</table>\n",
       "</div>"
      ],
      "text/plain": [
       "        Item_Weight  Item_Visibility      Item_MRP  Outlet_Establishment_Year  \\\n",
       "count  11765.000000     14204.000000  14204.000000               14204.000000   \n",
       "mean      12.792854         0.065953    141.004977                1997.830681   \n",
       "std        4.652502         0.051459     62.086938                   8.371664   \n",
       "min        4.555000         0.000000     31.290000                1985.000000   \n",
       "25%        8.710000         0.027036     94.012000                1987.000000   \n",
       "50%       12.600000         0.054021    142.247000                1999.000000   \n",
       "75%       16.750000         0.094037    185.855600                2004.000000   \n",
       "max       21.350000         0.328391    266.888400                2009.000000   \n",
       "\n",
       "       Item_Outlet_Sales  \n",
       "count        8523.000000  \n",
       "mean         2181.288914  \n",
       "std          1706.499616  \n",
       "min            33.290000  \n",
       "25%           834.247400  \n",
       "50%          1794.331000  \n",
       "75%          3101.296400  \n",
       "max         13086.964800  "
      ]
     },
     "execution_count": 9,
     "metadata": {},
     "output_type": "execute_result"
    }
   ],
   "source": [
    "train_data.describe()"
   ]
  },
  {
   "cell_type": "markdown",
   "id": "66210278",
   "metadata": {
    "papermill": {
     "duration": 0.008119,
     "end_time": "2023-02-05T19:48:28.863852",
     "exception": false,
     "start_time": "2023-02-05T19:48:28.855733",
     "status": "completed"
    },
    "tags": []
   },
   "source": [
    "# **Exploratory Data Analysis**"
   ]
  },
  {
   "cell_type": "markdown",
   "id": "efda936a",
   "metadata": {
    "papermill": {
     "duration": 0.007907,
     "end_time": "2023-02-05T19:48:28.880059",
     "exception": false,
     "start_time": "2023-02-05T19:48:28.872152",
     "status": "completed"
    },
    "tags": []
   },
   "source": [
    "> Item_Identifier column is referenced as Unique Product ID.The remaining columns appear to be our features (independent variables), with the last column being the response variable (dependent variable)."
   ]
  },
  {
   "cell_type": "markdown",
   "id": "abdec6a7",
   "metadata": {
    "papermill": {
     "duration": 0.008124,
     "end_time": "2023-02-05T19:48:28.896721",
     "exception": false,
     "start_time": "2023-02-05T19:48:28.888597",
     "status": "completed"
    },
    "tags": []
   },
   "source": [
    "> * Item_Identifier: Unique product ID\n",
    "> * Item_Weight: Weight of product\n",
    "> * Item_Fat_Content: Whether the product is low fat or not\n",
    "> * Item_Visibility: The % of total display area of all products in a store allocated to the particular product\n",
    "> * Item_Type: The category to which the product belongs\n",
    "> * Item_MRP: Maximum Retail Price (list price) of the product\n",
    "> * Outlet_Identifier: Unique store ID\n",
    "> * Outlet_Establishment_Year: The year in which store was established\n",
    "> * Outlet_Size: The size of the store in terms of ground area covered\n",
    "> * Outlet_Location_Type: The type of city in which the store is located\n",
    "> * Outlet_Type: Whether the outlet is just a grocery store or some sort of supermarket\n",
    "> * Item_Outlet_Sales: Sales of the product in the particulat store. This is the outcome variable to be predicted."
   ]
  },
  {
   "cell_type": "code",
   "execution_count": 10,
   "id": "7b66caeb",
   "metadata": {
    "execution": {
     "iopub.execute_input": "2023-02-05T19:48:28.915870Z",
     "iopub.status.busy": "2023-02-05T19:48:28.915250Z",
     "iopub.status.idle": "2023-02-05T19:48:28.929143Z",
     "shell.execute_reply": "2023-02-05T19:48:28.927893Z"
    },
    "papermill": {
     "duration": 0.027085,
     "end_time": "2023-02-05T19:48:28.932175",
     "exception": false,
     "start_time": "2023-02-05T19:48:28.905090",
     "status": "completed"
    },
    "tags": []
   },
   "outputs": [
    {
     "data": {
      "text/plain": [
       "Item_Identifier                 0\n",
       "Item_Weight                  2439\n",
       "Item_Fat_Content                0\n",
       "Item_Visibility                 0\n",
       "Item_Type                       0\n",
       "Item_MRP                        0\n",
       "Outlet_Identifier               0\n",
       "Outlet_Establishment_Year       0\n",
       "Outlet_Size                  4016\n",
       "Outlet_Location_Type            0\n",
       "Outlet_Type                     0\n",
       "Item_Outlet_Sales            5681\n",
       "dtype: int64"
      ]
     },
     "execution_count": 10,
     "metadata": {},
     "output_type": "execute_result"
    }
   ],
   "source": [
    "# Finding out the missing values for all the columns\n",
    "train_data.isnull().sum()"
   ]
  },
  {
   "cell_type": "code",
   "execution_count": 11,
   "id": "3fa19e3d",
   "metadata": {
    "execution": {
     "iopub.execute_input": "2023-02-05T19:48:28.951272Z",
     "iopub.status.busy": "2023-02-05T19:48:28.950781Z",
     "iopub.status.idle": "2023-02-05T19:48:28.973503Z",
     "shell.execute_reply": "2023-02-05T19:48:28.972144Z"
    },
    "papermill": {
     "duration": 0.035338,
     "end_time": "2023-02-05T19:48:28.976203",
     "exception": false,
     "start_time": "2023-02-05T19:48:28.940865",
     "status": "completed"
    },
    "tags": []
   },
   "outputs": [
    {
     "data": {
      "text/plain": [
       "Item_Identifier               1559\n",
       "Item_Weight                    415\n",
       "Item_Fat_Content                 5\n",
       "Item_Visibility              13006\n",
       "Item_Type                       16\n",
       "Item_MRP                      8052\n",
       "Outlet_Identifier               10\n",
       "Outlet_Establishment_Year        9\n",
       "Outlet_Size                      3\n",
       "Outlet_Location_Type             3\n",
       "Outlet_Type                      4\n",
       "Item_Outlet_Sales             3493\n",
       "dtype: int64"
      ]
     },
     "execution_count": 11,
     "metadata": {},
     "output_type": "execute_result"
    }
   ],
   "source": [
    "# Displaying the Unique data for each column\n",
    "train_data.nunique()"
   ]
  },
  {
   "cell_type": "markdown",
   "id": "a5470586",
   "metadata": {
    "papermill": {
     "duration": 0.008708,
     "end_time": "2023-02-05T19:48:28.993869",
     "exception": false,
     "start_time": "2023-02-05T19:48:28.985161",
     "status": "completed"
    },
    "tags": []
   },
   "source": [
    "# **Evaluating the Categorical Features**"
   ]
  },
  {
   "cell_type": "code",
   "execution_count": 12,
   "id": "f98a0cbb",
   "metadata": {
    "execution": {
     "iopub.execute_input": "2023-02-05T19:48:29.013981Z",
     "iopub.status.busy": "2023-02-05T19:48:29.013297Z",
     "iopub.status.idle": "2023-02-05T19:48:29.024990Z",
     "shell.execute_reply": "2023-02-05T19:48:29.024180Z"
    },
    "papermill": {
     "duration": 0.024714,
     "end_time": "2023-02-05T19:48:29.027279",
     "exception": false,
     "start_time": "2023-02-05T19:48:29.002565",
     "status": "completed"
    },
    "tags": []
   },
   "outputs": [
    {
     "name": "stdout",
     "output_type": "stream",
     "text": [
      "Frequency of Categories for varible Item ID\n"
     ]
    },
    {
     "data": {
      "text/plain": [
       "FDU15    10\n",
       "FDS25    10\n",
       "FDA38    10\n",
       "FDW03    10\n",
       "FDJ10    10\n",
       "         ..\n",
       "FDR51     7\n",
       "FDM52     7\n",
       "DRN11     7\n",
       "FDH58     7\n",
       "NCW54     7\n",
       "Name: Item_Identifier, Length: 1559, dtype: int64"
      ]
     },
     "execution_count": 12,
     "metadata": {},
     "output_type": "execute_result"
    }
   ],
   "source": [
    "print('Frequency of Categories for varible Item ID')\n",
    "train_data['Item_Identifier'].value_counts()"
   ]
  },
  {
   "cell_type": "code",
   "execution_count": 13,
   "id": "b77ebe00",
   "metadata": {
    "execution": {
     "iopub.execute_input": "2023-02-05T19:48:29.047652Z",
     "iopub.status.busy": "2023-02-05T19:48:29.046962Z",
     "iopub.status.idle": "2023-02-05T19:48:29.056551Z",
     "shell.execute_reply": "2023-02-05T19:48:29.055313Z"
    },
    "papermill": {
     "duration": 0.022428,
     "end_time": "2023-02-05T19:48:29.058814",
     "exception": false,
     "start_time": "2023-02-05T19:48:29.036386",
     "status": "completed"
    },
    "tags": []
   },
   "outputs": [
    {
     "name": "stdout",
     "output_type": "stream",
     "text": [
      "Frequency of Categories for varible Item_Fat_Content\n"
     ]
    },
    {
     "data": {
      "text/plain": [
       "Low Fat    8485\n",
       "Regular    4824\n",
       "LF          522\n",
       "reg         195\n",
       "low fat     178\n",
       "Name: Item_Fat_Content, dtype: int64"
      ]
     },
     "execution_count": 13,
     "metadata": {},
     "output_type": "execute_result"
    }
   ],
   "source": [
    "print('Frequency of Categories for varible Item_Fat_Content')\n",
    "train_data['Item_Fat_Content'].value_counts()"
   ]
  },
  {
   "cell_type": "code",
   "execution_count": 14,
   "id": "8686e167",
   "metadata": {
    "execution": {
     "iopub.execute_input": "2023-02-05T19:48:29.079259Z",
     "iopub.status.busy": "2023-02-05T19:48:29.078401Z",
     "iopub.status.idle": "2023-02-05T19:48:29.288846Z",
     "shell.execute_reply": "2023-02-05T19:48:29.288000Z"
    },
    "papermill": {
     "duration": 0.223175,
     "end_time": "2023-02-05T19:48:29.291268",
     "exception": false,
     "start_time": "2023-02-05T19:48:29.068093",
     "status": "completed"
    },
    "tags": []
   },
   "outputs": [
    {
     "name": "stderr",
     "output_type": "stream",
     "text": [
      "/opt/conda/lib/python3.7/site-packages/seaborn/_decorators.py:43: FutureWarning: Pass the following variable as a keyword arg: x. From version 0.12, the only valid positional argument will be `data`, and passing other arguments without an explicit keyword will result in an error or misinterpretation.\n",
      "  FutureWarning\n"
     ]
    },
    {
     "data": {
      "text/plain": [
       "<AxesSubplot:xlabel='Item_Fat_Content', ylabel='count'>"
      ]
     },
     "execution_count": 14,
     "metadata": {},
     "output_type": "execute_result"
    },
    {
     "data": {
      "image/png": "[encoded data removed]",
      "text/plain": [
       "<Figure size 432x288 with 1 Axes>"
      ]
     },
     "metadata": {
      "needs_background": "light"
     },
     "output_type": "display_data"
    }
   ],
   "source": [
    "sns.countplot(train_data.Item_Fat_Content)"
   ]
  },
  {
   "cell_type": "code",
   "execution_count": 15,
   "id": "9ede3f4c",
   "metadata": {
    "execution": {
     "iopub.execute_input": "2023-02-05T19:48:29.312925Z",
     "iopub.status.busy": "2023-02-05T19:48:29.312257Z",
     "iopub.status.idle": "2023-02-05T19:48:29.322590Z",
     "shell.execute_reply": "2023-02-05T19:48:29.321136Z"
    },
    "papermill": {
     "duration": 0.025176,
     "end_time": "2023-02-05T19:48:29.326426",
     "exception": false,
     "start_time": "2023-02-05T19:48:29.301250",
     "status": "completed"
    },
    "tags": []
   },
   "outputs": [
    {
     "name": "stdout",
     "output_type": "stream",
     "text": [
      "Frequency of Categories for varible Item_Type\n"
     ]
    },
    {
     "data": {
      "text/plain": [
       "Fruits and Vegetables    2013\n",
       "Snack Foods              1989\n",
       "Household                1548\n",
       "Frozen Foods             1426\n",
       "Dairy                    1136\n",
       "Baking Goods             1086\n",
       "Canned                   1084\n",
       "Health and Hygiene        858\n",
       "Meat                      736\n",
       "Soft Drinks               726\n",
       "Breads                    416\n",
       "Hard Drinks               362\n",
       "Others                    280\n",
       "Starchy Foods             269\n",
       "Breakfast                 186\n",
       "Seafood                    89\n",
       "Name: Item_Type, dtype: int64"
      ]
     },
     "execution_count": 15,
     "metadata": {},
     "output_type": "execute_result"
    }
   ],
   "source": [
    "print('Frequency of Categories for varible Item_Type')\n",
    "train_data['Item_Type'].value_counts()"
   ]
  },
  {
   "cell_type": "code",
   "execution_count": 16,
   "id": "dafb37b3",
   "metadata": {
    "execution": {
     "iopub.execute_input": "2023-02-05T19:48:29.348327Z",
     "iopub.status.busy": "2023-02-05T19:48:29.347648Z",
     "iopub.status.idle": "2023-02-05T19:48:29.649706Z",
     "shell.execute_reply": "2023-02-05T19:48:29.648522Z"
    },
    "papermill": {
     "duration": 0.315751,
     "end_time": "2023-02-05T19:48:29.652115",
     "exception": false,
     "start_time": "2023-02-05T19:48:29.336364",
     "status": "completed"
    },
    "tags": []
   },
   "outputs": [
    {
     "name": "stderr",
     "output_type": "stream",
     "text": [
      "/opt/conda/lib/python3.7/site-packages/seaborn/_decorators.py:43: FutureWarning: Pass the following variable as a keyword arg: x. From version 0.12, the only valid positional argument will be `data`, and passing other arguments without an explicit keyword will result in an error or misinterpretation.\n",
      "  FutureWarning\n"
     ]
    },
    {
     "data": {
      "text/plain": [
       "(array([ 0,  1,  2,  3,  4,  5,  6,  7,  8,  9, 10, 11, 12, 13, 14, 15]),\n",
       " [Text(0, 0, 'Dairy'),\n",
       "  Text(1, 0, 'Soft Drinks'),\n",
       "  Text(2, 0, 'Meat'),\n",
       "  Text(3, 0, 'Fruits and Vegetables'),\n",
       "  Text(4, 0, 'Household'),\n",
       "  Text(5, 0, 'Baking Goods'),\n",
       "  Text(6, 0, 'Snack Foods'),\n",
       "  Text(7, 0, 'Frozen Foods'),\n",
       "  Text(8, 0, 'Breakfast'),\n",
       "  Text(9, 0, 'Health and Hygiene'),\n",
       "  Text(10, 0, 'Hard Drinks'),\n",
       "  Text(11, 0, 'Canned'),\n",
       "  Text(12, 0, 'Breads'),\n",
       "  Text(13, 0, 'Starchy Foods'),\n",
       "  Text(14, 0, 'Others'),\n",
       "  Text(15, 0, 'Seafood')])"
      ]
     },
     "execution_count": 16,
     "metadata": {},
     "output_type": "execute_result"
    },
    {
     "data": {
      "image/png": "[encoded data removed]",
      "text/plain": [
       "<Figure size 432x288 with 1 Axes>"
      ]
     },
     "metadata": {
      "needs_background": "light"
     },
     "output_type": "display_data"
    }
   ],
   "source": [
    "sns.countplot(train_data.Item_Type)\n",
    "plt.xticks(rotation=90)"
   ]
  },
  {
   "cell_type": "code",
   "execution_count": 17,
   "id": "78075be6",
   "metadata": {
    "execution": {
     "iopub.execute_input": "2023-02-05T19:48:29.675401Z",
     "iopub.status.busy": "2023-02-05T19:48:29.674967Z",
     "iopub.status.idle": "2023-02-05T19:48:29.686743Z",
     "shell.execute_reply": "2023-02-05T19:48:29.684882Z"
    },
    "papermill": {
     "duration": 0.026558,
     "end_time": "2023-02-05T19:48:29.689435",
     "exception": false,
     "start_time": "2023-02-05T19:48:29.662877",
     "status": "completed"
    },
    "tags": []
   },
   "outputs": [
    {
     "name": "stdout",
     "output_type": "stream",
     "text": [
      "Frequency of Categories for varible Outlet ID\n"
     ]
    },
    {
     "data": {
      "text/plain": [
       "OUT027    1559\n",
       "OUT013    1553\n",
       "OUT049    1550\n",
       "OUT046    1550\n",
       "OUT035    1550\n",
       "OUT045    1548\n",
       "OUT018    1546\n",
       "OUT017    1543\n",
       "OUT010     925\n",
       "OUT019     880\n",
       "Name: Outlet_Identifier, dtype: int64"
      ]
     },
     "execution_count": 17,
     "metadata": {},
     "output_type": "execute_result"
    }
   ],
   "source": [
    "print('Frequency of Categories for varible Outlet ID')\n",
    "train_data['Outlet_Identifier'].value_counts()"
   ]
  },
  {
   "cell_type": "code",
   "execution_count": 18,
   "id": "fec1e196",
   "metadata": {
    "execution": {
     "iopub.execute_input": "2023-02-05T19:48:29.712583Z",
     "iopub.status.busy": "2023-02-05T19:48:29.712119Z",
     "iopub.status.idle": "2023-02-05T19:48:29.723320Z",
     "shell.execute_reply": "2023-02-05T19:48:29.721983Z"
    },
    "papermill": {
     "duration": 0.025841,
     "end_time": "2023-02-05T19:48:29.725946",
     "exception": false,
     "start_time": "2023-02-05T19:48:29.700105",
     "status": "completed"
    },
    "tags": []
   },
   "outputs": [
    {
     "name": "stdout",
     "output_type": "stream",
     "text": [
      "Frequency of Categories for varible Outlet_Location_Type\n"
     ]
    },
    {
     "data": {
      "text/plain": [
       "Tier 3    5583\n",
       "Tier 2    4641\n",
       "Tier 1    3980\n",
       "Name: Outlet_Location_Type, dtype: int64"
      ]
     },
     "execution_count": 18,
     "metadata": {},
     "output_type": "execute_result"
    }
   ],
   "source": [
    "print('Frequency of Categories for varible Outlet_Location_Type')\n",
    "train_data['Outlet_Location_Type'].value_counts()"
   ]
  },
  {
   "cell_type": "code",
   "execution_count": 19,
   "id": "4874e596",
   "metadata": {
    "execution": {
     "iopub.execute_input": "2023-02-05T19:48:29.749421Z",
     "iopub.status.busy": "2023-02-05T19:48:29.748980Z",
     "iopub.status.idle": "2023-02-05T19:48:29.938850Z",
     "shell.execute_reply": "2023-02-05T19:48:29.937518Z"
    },
    "papermill": {
     "duration": 0.204728,
     "end_time": "2023-02-05T19:48:29.941574",
     "exception": false,
     "start_time": "2023-02-05T19:48:29.736846",
     "status": "completed"
    },
    "tags": []
   },
   "outputs": [
    {
     "name": "stderr",
     "output_type": "stream",
     "text": [
      "/opt/conda/lib/python3.7/site-packages/seaborn/_decorators.py:43: FutureWarning: Pass the following variable as a keyword arg: x. From version 0.12, the only valid positional argument will be `data`, and passing other arguments without an explicit keyword will result in an error or misinterpretation.\n",
      "  FutureWarning\n"
     ]
    },
    {
     "data": {
      "text/plain": [
       "<AxesSubplot:xlabel='Outlet_Location_Type', ylabel='count'>"
      ]
     },
     "execution_count": 19,
     "metadata": {},
     "output_type": "execute_result"
    },
    {
     "data": {
      "image/png": "[encoded data removed]",
      "text/plain": [
       "<Figure size 432x288 with 1 Axes>"
      ]
     },
     "metadata": {
      "needs_background": "light"
     },
     "output_type": "display_data"
    }
   ],
   "source": [
    "sns.countplot(train_data.Outlet_Location_Type)"
   ]
  },
  {
   "cell_type": "code",
   "execution_count": 20,
   "id": "3a7cddcb",
   "metadata": {
    "execution": {
     "iopub.execute_input": "2023-02-05T19:48:29.965724Z",
     "iopub.status.busy": "2023-02-05T19:48:29.965310Z",
     "iopub.status.idle": "2023-02-05T19:48:29.976249Z",
     "shell.execute_reply": "2023-02-05T19:48:29.974762Z"
    },
    "papermill": {
     "duration": 0.026176,
     "end_time": "2023-02-05T19:48:29.978932",
     "exception": false,
     "start_time": "2023-02-05T19:48:29.952756",
     "status": "completed"
    },
    "tags": []
   },
   "outputs": [
    {
     "name": "stdout",
     "output_type": "stream",
     "text": [
      "Frequency of Categories for varible Outlet_Size\n"
     ]
    },
    {
     "data": {
      "text/plain": [
       "Medium    4655\n",
       "Small     3980\n",
       "High      1553\n",
       "Name: Outlet_Size, dtype: int64"
      ]
     },
     "execution_count": 20,
     "metadata": {},
     "output_type": "execute_result"
    }
   ],
   "source": [
    "print('Frequency of Categories for varible Outlet_Size')\n",
    "train_data['Outlet_Size'].value_counts()"
   ]
  },
  {
   "cell_type": "code",
   "execution_count": 21,
   "id": "4611a6ab",
   "metadata": {
    "execution": {
     "iopub.execute_input": "2023-02-05T19:48:30.002967Z",
     "iopub.status.busy": "2023-02-05T19:48:30.002584Z",
     "iopub.status.idle": "2023-02-05T19:48:30.144768Z",
     "shell.execute_reply": "2023-02-05T19:48:30.143308Z"
    },
    "papermill": {
     "duration": 0.157647,
     "end_time": "2023-02-05T19:48:30.147764",
     "exception": false,
     "start_time": "2023-02-05T19:48:29.990117",
     "status": "completed"
    },
    "tags": []
   },
   "outputs": [
    {
     "name": "stderr",
     "output_type": "stream",
     "text": [
      "/opt/conda/lib/python3.7/site-packages/seaborn/_decorators.py:43: FutureWarning: Pass the following variable as a keyword arg: x. From version 0.12, the only valid positional argument will be `data`, and passing other arguments without an explicit keyword will result in an error or misinterpretation.\n",
      "  FutureWarning\n"
     ]
    },
    {
     "data": {
      "text/plain": [
       "<AxesSubplot:xlabel='Outlet_Size', ylabel='count'>"
      ]
     },
     "execution_count": 21,
     "metadata": {},
     "output_type": "execute_result"
    },
    {
     "data": {
      "image/png": "[encoded data removed]",
      "text/plain": [
       "<Figure size 432x288 with 1 Axes>"
      ]
     },
     "metadata": {
      "needs_background": "light"
     },
     "output_type": "display_data"
    }
   ],
   "source": [
    "sns.countplot(train_data.Outlet_Size)"
   ]
  },
  {
   "cell_type": "code",
   "execution_count": 22,
   "id": "85944a16",
   "metadata": {
    "execution": {
     "iopub.execute_input": "2023-02-05T19:48:30.173521Z",
     "iopub.status.busy": "2023-02-05T19:48:30.173085Z",
     "iopub.status.idle": "2023-02-05T19:48:30.183465Z",
     "shell.execute_reply": "2023-02-05T19:48:30.182418Z"
    },
    "papermill": {
     "duration": 0.026603,
     "end_time": "2023-02-05T19:48:30.186503",
     "exception": false,
     "start_time": "2023-02-05T19:48:30.159900",
     "status": "completed"
    },
    "tags": []
   },
   "outputs": [
    {
     "name": "stdout",
     "output_type": "stream",
     "text": [
      "Frequency of Categories for varible Outlet_Type\n"
     ]
    },
    {
     "data": {
      "text/plain": [
       "Supermarket Type1    9294\n",
       "Grocery Store        1805\n",
       "Supermarket Type3    1559\n",
       "Supermarket Type2    1546\n",
       "Name: Outlet_Type, dtype: int64"
      ]
     },
     "execution_count": 22,
     "metadata": {},
     "output_type": "execute_result"
    }
   ],
   "source": [
    "print('Frequency of Categories for varible Outlet_Type')\n",
    "train_data['Outlet_Type'].value_counts()"
   ]
  },
  {
   "cell_type": "code",
   "execution_count": 23,
   "id": "a67ab57e",
   "metadata": {
    "execution": {
     "iopub.execute_input": "2023-02-05T19:48:30.216691Z",
     "iopub.status.busy": "2023-02-05T19:48:30.216273Z",
     "iopub.status.idle": "2023-02-05T19:48:30.430046Z",
     "shell.execute_reply": "2023-02-05T19:48:30.429129Z"
    },
    "papermill": {
     "duration": 0.232969,
     "end_time": "2023-02-05T19:48:30.432348",
     "exception": false,
     "start_time": "2023-02-05T19:48:30.199379",
     "status": "completed"
    },
    "tags": []
   },
   "outputs": [
    {
     "name": "stderr",
     "output_type": "stream",
     "text": [
      "/opt/conda/lib/python3.7/site-packages/seaborn/_decorators.py:43: FutureWarning: Pass the following variable as a keyword arg: x. From version 0.12, the only valid positional argument will be `data`, and passing other arguments without an explicit keyword will result in an error or misinterpretation.\n",
      "  FutureWarning\n"
     ]
    },
    {
     "data": {
      "text/plain": [
       "(array([0, 1, 2, 3]),\n",
       " [Text(0, 0, 'Supermarket Type1'),\n",
       "  Text(1, 0, 'Supermarket Type2'),\n",
       "  Text(2, 0, 'Grocery Store'),\n",
       "  Text(3, 0, 'Supermarket Type3')])"
      ]
     },
     "execution_count": 23,
     "metadata": {},
     "output_type": "execute_result"
    },
    {
     "data": {
      "image/png": "[encoded data removed]",
      "text/plain": [
       "<Figure size 432x288 with 1 Axes>"
      ]
     },
     "metadata": {
      "needs_background": "light"
     },
     "output_type": "display_data"
    }
   ],
   "source": [
    "sns.countplot(train_data.Outlet_Type)\n",
    "plt.xticks(rotation=90)"
   ]
  },
  {
   "cell_type": "code",
   "execution_count": null,
   "id": "4a8ea4a4",
   "metadata": {
    "papermill": {
     "duration": 0.011949,
     "end_time": "2023-02-05T19:48:30.456481",
     "exception": false,
     "start_time": "2023-02-05T19:48:30.444532",
     "status": "completed"
    },
    "tags": []
   },
   "outputs": [],
   "source": []
  }
 ],
 "metadata": {
  "kernelspec": {
   "display_name": "Python 3",
   "language": "python",
   "name": "python3"
  },
  "language_info": {
   "codemirror_mode": {
    "name": "ipython",
    "version": 3
   },
   "file_extension": ".py",
   "mimetype": "text/x-python",
   "name": "python",
   "nbconvert_exporter": "python",
   "pygments_lexer": "ipython3",
   "version": "3.7.12"
  },
  "papermill": {
   "default_parameters": {},
   "duration": 12.971052,
   "end_time": "2023-02-05T19:48:31.291674",
   "environment_variables": {},
   "exception": null,
   "input_path": "__notebook__.ipynb",
   "output_path": "__notebook__.ipynb",
   "parameters": {},
   "start_time": "2023-02-05T19:48:18.320622",
   "version": "2.3.4"
  }
 },
 "nbformat": 4,
 "nbformat_minor": 5
}
