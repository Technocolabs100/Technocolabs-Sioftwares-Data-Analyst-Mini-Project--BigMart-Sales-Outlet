{
 "cells": [
  {
   "cell_type": "code",
   "execution_count": 1,
   "id": "55681f7c",
   "metadata": {
    "_cell_guid": "b1076dfc-b9ad-4769-8c92-a6c4dae69d19",
    "_uuid": "8f2839f25d086af736a60e9eeb907d3b93b6e0e5",
    "execution": {
     "iopub.execute_input": "2023-02-05T21:03:46.905339Z",
     "iopub.status.busy": "2023-02-05T21:03:46.904680Z",
     "iopub.status.idle": "2023-02-05T21:03:48.111613Z",
     "shell.execute_reply": "2023-02-05T21:03:48.110345Z"
    },
    "papermill": {
     "duration": 1.221407,
     "end_time": "2023-02-05T21:03:48.114490",
     "exception": false,
     "start_time": "2023-02-05T21:03:46.893083",
     "status": "completed"
    },
    "tags": []
   },
   "outputs": [
    {
     "name": "stdout",
     "output_type": "stream",
     "text": [
      "Setup Complete\n"
     ]
    }
   ],
   "source": [
    "import pandas as pd\n",
    "import numpy as np\n",
    "pd.plotting.register_matplotlib_converters()\n",
    "import matplotlib.pyplot as plt\n",
    "%matplotlib inline\n",
    "import seaborn as sns\n",
    "import sklearn\n",
    "print(\"Setup Complete\")"
   ]
  },
  {
   "cell_type": "code",
   "execution_count": 2,
   "id": "4d45f41c",
   "metadata": {
    "execution": {
     "iopub.execute_input": "2023-02-05T21:03:48.132783Z",
     "iopub.status.busy": "2023-02-05T21:03:48.132411Z",
     "iopub.status.idle": "2023-02-05T21:03:48.207176Z",
     "shell.execute_reply": "2023-02-05T21:03:48.206070Z"
    },
    "papermill": {
     "duration": 0.087037,
     "end_time": "2023-02-05T21:03:48.209922",
     "exception": false,
     "start_time": "2023-02-05T21:03:48.122885",
     "status": "completed"
    },
    "tags": []
   },
   "outputs": [],
   "source": [
    "train_path = \"/kaggle/input/data-clean-1/data_clean_1.csv\"\n",
    "\n",
    "train_data = pd.read_csv(train_path)"
   ]
  },
  {
   "cell_type": "code",
   "execution_count": 3,
   "id": "d059f2b2",
   "metadata": {
    "execution": {
     "iopub.execute_input": "2023-02-05T21:03:48.228343Z",
     "iopub.status.busy": "2023-02-05T21:03:48.227914Z",
     "iopub.status.idle": "2023-02-05T21:03:48.253454Z",
     "shell.execute_reply": "2023-02-05T21:03:48.252350Z"
    },
    "papermill": {
     "duration": 0.037434,
     "end_time": "2023-02-05T21:03:48.255718",
     "exception": false,
     "start_time": "2023-02-05T21:03:48.218284",
     "status": "completed"
    },
    "tags": []
   },
   "outputs": [
    {
     "data": {
      "text/html": [
       "<div>\n",
       "<style scoped>\n",
       "    .dataframe tbody tr th:only-of-type {\n",
       "        vertical-align: middle;\n",
       "    }\n",
       "\n",
       "    .dataframe tbody tr th {\n",
       "        vertical-align: top;\n",
       "    }\n",
       "\n",
       "    .dataframe thead th {\n",
       "        text-align: right;\n",
       "    }\n",
       "</style>\n",
       "<table border=\"1\" class=\"dataframe\">\n",
       "  <thead>\n",
       "    <tr style=\"text-align: right;\">\n",
       "      <th></th>\n",
       "      <th>Item_Identifier</th>\n",
       "      <th>Item_Weight</th>\n",
       "      <th>Item_Fat_Content</th>\n",
       "      <th>Item_Visibility</th>\n",
       "      <th>Item_Type</th>\n",
       "      <th>Item_MRP</th>\n",
       "      <th>Outlet_Identifier</th>\n",
       "      <th>Outlet_Establishment_Year</th>\n",
       "      <th>Outlet_Size</th>\n",
       "      <th>Outlet_Location_Type</th>\n",
       "      <th>Outlet_Type</th>\n",
       "      <th>Item_Outlet_Sales</th>\n",
       "    </tr>\n",
       "  </thead>\n",
       "  <tbody>\n",
       "    <tr>\n",
       "      <th>0</th>\n",
       "      <td>FDA15</td>\n",
       "      <td>9.30</td>\n",
       "      <td>Low Fat</td>\n",
       "      <td>0.016047</td>\n",
       "      <td>Dairy</td>\n",
       "      <td>249.8092</td>\n",
       "      <td>OUT049</td>\n",
       "      <td>1999</td>\n",
       "      <td>Medium</td>\n",
       "      <td>Tier 1</td>\n",
       "      <td>Supermarket Type1</td>\n",
       "      <td>3735.1380</td>\n",
       "    </tr>\n",
       "    <tr>\n",
       "      <th>1</th>\n",
       "      <td>DRC01</td>\n",
       "      <td>5.92</td>\n",
       "      <td>Regular</td>\n",
       "      <td>0.019278</td>\n",
       "      <td>Soft Drinks</td>\n",
       "      <td>48.2692</td>\n",
       "      <td>OUT018</td>\n",
       "      <td>2009</td>\n",
       "      <td>Medium</td>\n",
       "      <td>Tier 3</td>\n",
       "      <td>Supermarket Type2</td>\n",
       "      <td>443.4228</td>\n",
       "    </tr>\n",
       "    <tr>\n",
       "      <th>2</th>\n",
       "      <td>FDN15</td>\n",
       "      <td>17.50</td>\n",
       "      <td>Low Fat</td>\n",
       "      <td>0.016760</td>\n",
       "      <td>Meat</td>\n",
       "      <td>141.6180</td>\n",
       "      <td>OUT049</td>\n",
       "      <td>1999</td>\n",
       "      <td>Medium</td>\n",
       "      <td>Tier 1</td>\n",
       "      <td>Supermarket Type1</td>\n",
       "      <td>2097.2700</td>\n",
       "    </tr>\n",
       "    <tr>\n",
       "      <th>3</th>\n",
       "      <td>FDX07</td>\n",
       "      <td>19.20</td>\n",
       "      <td>Regular</td>\n",
       "      <td>0.000000</td>\n",
       "      <td>Fruits and Vegetables</td>\n",
       "      <td>182.0950</td>\n",
       "      <td>OUT010</td>\n",
       "      <td>1998</td>\n",
       "      <td>Medium</td>\n",
       "      <td>Tier 3</td>\n",
       "      <td>Grocery Store</td>\n",
       "      <td>732.3800</td>\n",
       "    </tr>\n",
       "    <tr>\n",
       "      <th>4</th>\n",
       "      <td>NCD19</td>\n",
       "      <td>8.93</td>\n",
       "      <td>Low Fat</td>\n",
       "      <td>0.000000</td>\n",
       "      <td>Household</td>\n",
       "      <td>53.8614</td>\n",
       "      <td>OUT013</td>\n",
       "      <td>1987</td>\n",
       "      <td>High</td>\n",
       "      <td>Tier 3</td>\n",
       "      <td>Supermarket Type1</td>\n",
       "      <td>994.7052</td>\n",
       "    </tr>\n",
       "  </tbody>\n",
       "</table>\n",
       "</div>"
      ],
      "text/plain": [
       "  Item_Identifier  Item_Weight Item_Fat_Content  Item_Visibility  \\\n",
       "0           FDA15         9.30          Low Fat         0.016047   \n",
       "1           DRC01         5.92          Regular         0.019278   \n",
       "2           FDN15        17.50          Low Fat         0.016760   \n",
       "3           FDX07        19.20          Regular         0.000000   \n",
       "4           NCD19         8.93          Low Fat         0.000000   \n",
       "\n",
       "               Item_Type  Item_MRP Outlet_Identifier  \\\n",
       "0                  Dairy  249.8092            OUT049   \n",
       "1            Soft Drinks   48.2692            OUT018   \n",
       "2                   Meat  141.6180            OUT049   \n",
       "3  Fruits and Vegetables  182.0950            OUT010   \n",
       "4              Household   53.8614            OUT013   \n",
       "\n",
       "   Outlet_Establishment_Year Outlet_Size Outlet_Location_Type  \\\n",
       "0                       1999      Medium               Tier 1   \n",
       "1                       2009      Medium               Tier 3   \n",
       "2                       1999      Medium               Tier 1   \n",
       "3                       1998      Medium               Tier 3   \n",
       "4                       1987        High               Tier 3   \n",
       "\n",
       "         Outlet_Type  Item_Outlet_Sales  \n",
       "0  Supermarket Type1          3735.1380  \n",
       "1  Supermarket Type2           443.4228  \n",
       "2  Supermarket Type1          2097.2700  \n",
       "3      Grocery Store           732.3800  \n",
       "4  Supermarket Type1           994.7052  "
      ]
     },
     "execution_count": 3,
     "metadata": {},
     "output_type": "execute_result"
    }
   ],
   "source": [
    "train_data.head()"
   ]
  },
  {
   "cell_type": "code",
   "execution_count": 4,
   "id": "06cb8b2d",
   "metadata": {
    "execution": {
     "iopub.execute_input": "2023-02-05T21:03:48.274962Z",
     "iopub.status.busy": "2023-02-05T21:03:48.274583Z",
     "iopub.status.idle": "2023-02-05T21:03:48.281420Z",
     "shell.execute_reply": "2023-02-05T21:03:48.280253Z"
    },
    "papermill": {
     "duration": 0.018943,
     "end_time": "2023-02-05T21:03:48.283781",
     "exception": false,
     "start_time": "2023-02-05T21:03:48.264838",
     "status": "completed"
    },
    "tags": []
   },
   "outputs": [
    {
     "data": {
      "text/plain": [
       "(14204, 12)"
      ]
     },
     "execution_count": 4,
     "metadata": {},
     "output_type": "execute_result"
    }
   ],
   "source": [
    "train_data.shape"
   ]
  },
  {
   "cell_type": "code",
   "execution_count": 5,
   "id": "4331c92c",
   "metadata": {
    "execution": {
     "iopub.execute_input": "2023-02-05T21:03:48.302884Z",
     "iopub.status.busy": "2023-02-05T21:03:48.302486Z",
     "iopub.status.idle": "2023-02-05T21:03:48.332978Z",
     "shell.execute_reply": "2023-02-05T21:03:48.331121Z"
    },
    "papermill": {
     "duration": 0.043077,
     "end_time": "2023-02-05T21:03:48.335601",
     "exception": false,
     "start_time": "2023-02-05T21:03:48.292524",
     "status": "completed"
    },
    "tags": []
   },
   "outputs": [
    {
     "name": "stdout",
     "output_type": "stream",
     "text": [
      "<class 'pandas.core.frame.DataFrame'>\n",
      "RangeIndex: 14204 entries, 0 to 14203\n",
      "Data columns (total 12 columns):\n",
      " #   Column                     Non-Null Count  Dtype  \n",
      "---  ------                     --------------  -----  \n",
      " 0   Item_Identifier            14204 non-null  object \n",
      " 1   Item_Weight                14204 non-null  float64\n",
      " 2   Item_Fat_Content           14204 non-null  object \n",
      " 3   Item_Visibility            14204 non-null  float64\n",
      " 4   Item_Type                  14204 non-null  object \n",
      " 5   Item_MRP                   14204 non-null  float64\n",
      " 6   Outlet_Identifier          14204 non-null  object \n",
      " 7   Outlet_Establishment_Year  14204 non-null  int64  \n",
      " 8   Outlet_Size                14204 non-null  object \n",
      " 9   Outlet_Location_Type       14204 non-null  object \n",
      " 10  Outlet_Type                14204 non-null  object \n",
      " 11  Item_Outlet_Sales          14204 non-null  float64\n",
      "dtypes: float64(4), int64(1), object(7)\n",
      "memory usage: 1.3+ MB\n"
     ]
    }
   ],
   "source": [
    "train_data.info()"
   ]
  },
  {
   "cell_type": "code",
   "execution_count": 6,
   "id": "04995654",
   "metadata": {
    "execution": {
     "iopub.execute_input": "2023-02-05T21:03:48.354696Z",
     "iopub.status.busy": "2023-02-05T21:03:48.354270Z",
     "iopub.status.idle": "2023-02-05T21:03:48.369210Z",
     "shell.execute_reply": "2023-02-05T21:03:48.368042Z"
    },
    "papermill": {
     "duration": 0.027044,
     "end_time": "2023-02-05T21:03:48.371377",
     "exception": false,
     "start_time": "2023-02-05T21:03:48.344333",
     "status": "completed"
    },
    "tags": []
   },
   "outputs": [
    {
     "data": {
      "text/plain": [
       "Item_Identifier              0\n",
       "Item_Weight                  0\n",
       "Item_Fat_Content             0\n",
       "Item_Visibility              0\n",
       "Item_Type                    0\n",
       "Item_MRP                     0\n",
       "Outlet_Identifier            0\n",
       "Outlet_Establishment_Year    0\n",
       "Outlet_Size                  0\n",
       "Outlet_Location_Type         0\n",
       "Outlet_Type                  0\n",
       "Item_Outlet_Sales            0\n",
       "dtype: int64"
      ]
     },
     "execution_count": 6,
     "metadata": {},
     "output_type": "execute_result"
    }
   ],
   "source": [
    "train_data.isnull().sum()"
   ]
  },
  {
   "cell_type": "code",
   "execution_count": 7,
   "id": "05b47842",
   "metadata": {
    "execution": {
     "iopub.execute_input": "2023-02-05T21:03:48.391081Z",
     "iopub.status.busy": "2023-02-05T21:03:48.390237Z",
     "iopub.status.idle": "2023-02-05T21:03:48.412003Z",
     "shell.execute_reply": "2023-02-05T21:03:48.410957Z"
    },
    "papermill": {
     "duration": 0.034147,
     "end_time": "2023-02-05T21:03:48.414349",
     "exception": false,
     "start_time": "2023-02-05T21:03:48.380202",
     "status": "completed"
    },
    "tags": []
   },
   "outputs": [
    {
     "data": {
      "text/plain": [
       "Item_Identifier               1559\n",
       "Item_Weight                    416\n",
       "Item_Fat_Content                 5\n",
       "Item_Visibility              13006\n",
       "Item_Type                       16\n",
       "Item_MRP                      8052\n",
       "Outlet_Identifier               10\n",
       "Outlet_Establishment_Year        9\n",
       "Outlet_Size                      3\n",
       "Outlet_Location_Type             3\n",
       "Outlet_Type                      4\n",
       "Item_Outlet_Sales             3493\n",
       "dtype: int64"
      ]
     },
     "execution_count": 7,
     "metadata": {},
     "output_type": "execute_result"
    }
   ],
   "source": [
    "train_data.nunique()"
   ]
  },
  {
   "cell_type": "code",
   "execution_count": 8,
   "id": "f22c7a37",
   "metadata": {
    "execution": {
     "iopub.execute_input": "2023-02-05T21:03:48.434370Z",
     "iopub.status.busy": "2023-02-05T21:03:48.433980Z",
     "iopub.status.idle": "2023-02-05T21:03:48.464719Z",
     "shell.execute_reply": "2023-02-05T21:03:48.463731Z"
    },
    "papermill": {
     "duration": 0.042949,
     "end_time": "2023-02-05T21:03:48.467027",
     "exception": false,
     "start_time": "2023-02-05T21:03:48.424078",
     "status": "completed"
    },
    "tags": []
   },
   "outputs": [
    {
     "data": {
      "text/html": [
       "<div>\n",
       "<style scoped>\n",
       "    .dataframe tbody tr th:only-of-type {\n",
       "        vertical-align: middle;\n",
       "    }\n",
       "\n",
       "    .dataframe tbody tr th {\n",
       "        vertical-align: top;\n",
       "    }\n",
       "\n",
       "    .dataframe thead th {\n",
       "        text-align: right;\n",
       "    }\n",
       "</style>\n",
       "<table border=\"1\" class=\"dataframe\">\n",
       "  <thead>\n",
       "    <tr style=\"text-align: right;\">\n",
       "      <th></th>\n",
       "      <th>Item_Weight</th>\n",
       "      <th>Item_Visibility</th>\n",
       "      <th>Item_MRP</th>\n",
       "      <th>Outlet_Establishment_Year</th>\n",
       "      <th>Item_Outlet_Sales</th>\n",
       "    </tr>\n",
       "  </thead>\n",
       "  <tbody>\n",
       "    <tr>\n",
       "      <th>count</th>\n",
       "      <td>14204.000000</td>\n",
       "      <td>14204.000000</td>\n",
       "      <td>14204.000000</td>\n",
       "      <td>14204.000000</td>\n",
       "      <td>14204.000000</td>\n",
       "    </tr>\n",
       "    <tr>\n",
       "      <th>mean</th>\n",
       "      <td>12.792854</td>\n",
       "      <td>0.065953</td>\n",
       "      <td>141.004977</td>\n",
       "      <td>1997.830681</td>\n",
       "      <td>2026.522094</td>\n",
       "    </tr>\n",
       "    <tr>\n",
       "      <th>std</th>\n",
       "      <td>4.234226</td>\n",
       "      <td>0.051459</td>\n",
       "      <td>62.086938</td>\n",
       "      <td>8.371664</td>\n",
       "      <td>1335.388924</td>\n",
       "    </tr>\n",
       "    <tr>\n",
       "      <th>min</th>\n",
       "      <td>4.555000</td>\n",
       "      <td>0.000000</td>\n",
       "      <td>31.290000</td>\n",
       "      <td>1985.000000</td>\n",
       "      <td>33.290000</td>\n",
       "    </tr>\n",
       "    <tr>\n",
       "      <th>25%</th>\n",
       "      <td>9.300000</td>\n",
       "      <td>0.027036</td>\n",
       "      <td>94.012000</td>\n",
       "      <td>1987.000000</td>\n",
       "      <td>1468.089000</td>\n",
       "    </tr>\n",
       "    <tr>\n",
       "      <th>50%</th>\n",
       "      <td>12.792854</td>\n",
       "      <td>0.054021</td>\n",
       "      <td>142.247000</td>\n",
       "      <td>1999.000000</td>\n",
       "      <td>1794.331000</td>\n",
       "    </tr>\n",
       "    <tr>\n",
       "      <th>75%</th>\n",
       "      <td>16.000000</td>\n",
       "      <td>0.094037</td>\n",
       "      <td>185.855600</td>\n",
       "      <td>2004.000000</td>\n",
       "      <td>2163.184200</td>\n",
       "    </tr>\n",
       "    <tr>\n",
       "      <th>max</th>\n",
       "      <td>21.350000</td>\n",
       "      <td>0.328391</td>\n",
       "      <td>266.888400</td>\n",
       "      <td>2009.000000</td>\n",
       "      <td>13086.964800</td>\n",
       "    </tr>\n",
       "  </tbody>\n",
       "</table>\n",
       "</div>"
      ],
      "text/plain": [
       "        Item_Weight  Item_Visibility      Item_MRP  Outlet_Establishment_Year  \\\n",
       "count  14204.000000     14204.000000  14204.000000               14204.000000   \n",
       "mean      12.792854         0.065953    141.004977                1997.830681   \n",
       "std        4.234226         0.051459     62.086938                   8.371664   \n",
       "min        4.555000         0.000000     31.290000                1985.000000   \n",
       "25%        9.300000         0.027036     94.012000                1987.000000   \n",
       "50%       12.792854         0.054021    142.247000                1999.000000   \n",
       "75%       16.000000         0.094037    185.855600                2004.000000   \n",
       "max       21.350000         0.328391    266.888400                2009.000000   \n",
       "\n",
       "       Item_Outlet_Sales  \n",
       "count       14204.000000  \n",
       "mean         2026.522094  \n",
       "std          1335.388924  \n",
       "min            33.290000  \n",
       "25%          1468.089000  \n",
       "50%          1794.331000  \n",
       "75%          2163.184200  \n",
       "max         13086.964800  "
      ]
     },
     "execution_count": 8,
     "metadata": {},
     "output_type": "execute_result"
    }
   ],
   "source": [
    "train_data.describe()"
   ]
  },
  {
   "cell_type": "markdown",
   "id": "e738d96d",
   "metadata": {
    "papermill": {
     "duration": 0.009003,
     "end_time": "2023-02-05T21:03:48.485163",
     "exception": false,
     "start_time": "2023-02-05T21:03:48.476160",
     "status": "completed"
    },
    "tags": []
   },
   "source": [
    "**Modify *Item_Visibility***\n",
    "> We noticed that the minimum value here is 0, which makes no practical sense."
   ]
  },
  {
   "cell_type": "code",
   "execution_count": 9,
   "id": "62037151",
   "metadata": {
    "execution": {
     "iopub.execute_input": "2023-02-05T21:03:48.505542Z",
     "iopub.status.busy": "2023-02-05T21:03:48.504822Z",
     "iopub.status.idle": "2023-02-05T21:03:48.625514Z",
     "shell.execute_reply": "2023-02-05T21:03:48.624574Z"
    },
    "papermill": {
     "duration": 0.133461,
     "end_time": "2023-02-05T21:03:48.627818",
     "exception": false,
     "start_time": "2023-02-05T21:03:48.494357",
     "status": "completed"
    },
    "tags": []
   },
   "outputs": [
    {
     "name": "stdout",
     "output_type": "stream",
     "text": [
      "Number of 0 values initially: 879\n",
      "Number of 0 values after modification: 0\n"
     ]
    }
   ],
   "source": [
    "#Determine average visibility of a product\n",
    "visibility_avg = train_data.pivot_table(values='Item_Visibility', index='Item_Identifier')\n",
    "\n",
    "#Impute 0 values with mean visibility of that product:\n",
    "zero_values = (train_data['Item_Visibility'] == 0)\n",
    "\n",
    "print('Number of 0 values initially: %d'%sum(zero_values))\n",
    "train_data.loc[zero_values,'Item_Visibility'] = train_data.loc[zero_values,'Item_Identifier'].apply(lambda x: visibility_avg.loc[x])\n",
    "print('Number of 0 values after modification: %d'%sum(train_data['Item_Visibility'] == 0))"
   ]
  },
  {
   "cell_type": "code",
   "execution_count": 10,
   "id": "1bcdafde",
   "metadata": {
    "execution": {
     "iopub.execute_input": "2023-02-05T21:03:48.648929Z",
     "iopub.status.busy": "2023-02-05T21:03:48.647890Z",
     "iopub.status.idle": "2023-02-05T21:03:48.659451Z",
     "shell.execute_reply": "2023-02-05T21:03:48.658454Z"
    },
    "papermill": {
     "duration": 0.024155,
     "end_time": "2023-02-05T21:03:48.661673",
     "exception": false,
     "start_time": "2023-02-05T21:03:48.637518",
     "status": "completed"
    },
    "tags": []
   },
   "outputs": [
    {
     "data": {
      "text/plain": [
       "count    14204.000000\n",
       "mean         0.069710\n",
       "std          0.049728\n",
       "min          0.003575\n",
       "25%          0.031145\n",
       "50%          0.057194\n",
       "75%          0.096930\n",
       "max          0.328391\n",
       "Name: Item_Visibility, dtype: float64"
      ]
     },
     "execution_count": 10,
     "metadata": {},
     "output_type": "execute_result"
    }
   ],
   "source": [
    "train_data[\"Item_Visibility\"].describe()"
   ]
  },
  {
   "cell_type": "markdown",
   "id": "43f7dd2f",
   "metadata": {
    "papermill": {
     "duration": 0.008968,
     "end_time": "2023-02-05T21:03:48.679936",
     "exception": false,
     "start_time": "2023-02-05T21:03:48.670968",
     "status": "completed"
    },
    "tags": []
   },
   "source": [
    "**Create a broad category of *Item_Type***"
   ]
  },
  {
   "cell_type": "code",
   "execution_count": 11,
   "id": "9c74631c",
   "metadata": {
    "execution": {
     "iopub.execute_input": "2023-02-05T21:03:48.700463Z",
     "iopub.status.busy": "2023-02-05T21:03:48.700055Z",
     "iopub.status.idle": "2023-02-05T21:03:48.715993Z",
     "shell.execute_reply": "2023-02-05T21:03:48.714850Z"
    },
    "papermill": {
     "duration": 0.029117,
     "end_time": "2023-02-05T21:03:48.718369",
     "exception": false,
     "start_time": "2023-02-05T21:03:48.689252",
     "status": "completed"
    },
    "tags": []
   },
   "outputs": [
    {
     "data": {
      "text/plain": [
       "Item_Identifier  Item_Type         \n",
       "DRA12            Soft Drinks            9\n",
       "DRA24            Soft Drinks           10\n",
       "DRA59            Soft Drinks           10\n",
       "DRB01            Soft Drinks            8\n",
       "DRB13            Soft Drinks            9\n",
       "                                       ..\n",
       "NCZ30            Household             10\n",
       "NCZ41            Health and Hygiene     8\n",
       "NCZ42            Household             10\n",
       "NCZ53            Health and Hygiene     9\n",
       "NCZ54            Household             10\n",
       "Length: 1559, dtype: int64"
      ]
     },
     "execution_count": 11,
     "metadata": {},
     "output_type": "execute_result"
    }
   ],
   "source": [
    "train_data.groupby([\"Item_Identifier\",\"Item_Type\"]).size()"
   ]
  },
  {
   "cell_type": "markdown",
   "id": "ab89b8d6",
   "metadata": {
    "papermill": {
     "duration": 0.009144,
     "end_time": "2023-02-05T21:03:48.737015",
     "exception": false,
     "start_time": "2023-02-05T21:03:48.727871",
     "status": "completed"
    },
    "tags": []
   },
   "source": [
    "> We can clearly observe that the First 2 characters of the Item ID is same for the One kind of Item Type. Example: DR is the code for Soft Drinks, NC is the code of Non- Consumable Products and FD is for Food products"
   ]
  },
  {
   "cell_type": "code",
   "execution_count": 12,
   "id": "af9957d7",
   "metadata": {
    "execution": {
     "iopub.execute_input": "2023-02-05T21:03:48.757839Z",
     "iopub.status.busy": "2023-02-05T21:03:48.757459Z",
     "iopub.status.idle": "2023-02-05T21:03:48.772533Z",
     "shell.execute_reply": "2023-02-05T21:03:48.771749Z"
    },
    "papermill": {
     "duration": 0.028306,
     "end_time": "2023-02-05T21:03:48.774828",
     "exception": false,
     "start_time": "2023-02-05T21:03:48.746522",
     "status": "completed"
    },
    "tags": []
   },
   "outputs": [
    {
     "name": "stdout",
     "output_type": "stream",
     "text": [
      "Food              10201\n",
      "Non-Consumable     2686\n",
      "Drinks             1317\n",
      "Name: Item_Type_Combined, dtype: int64\n"
     ]
    }
   ],
   "source": [
    "#Get the first two characters of ID:\n",
    "train_data['Item_Type_Combined'] = train_data['Item_Identifier'].apply(lambda x: x[0:2])\n",
    "\n",
    "#Rename them to more intuitive categories:\n",
    "train_data['Item_Type_Combined'] = train_data['Item_Type_Combined'].map({'FD':'Food',\n",
    "                                                             'NC':'Non-Consumable',\n",
    "                                                             'DR':'Drinks'})\n",
    "print(train_data['Item_Type_Combined'].value_counts())"
   ]
  },
  {
   "cell_type": "markdown",
   "id": "eb4e4411",
   "metadata": {
    "papermill": {
     "duration": 0.009151,
     "end_time": "2023-02-05T21:03:48.793624",
     "exception": false,
     "start_time": "2023-02-05T21:03:48.784473",
     "status": "completed"
    },
    "tags": []
   },
   "source": [
    "**Modify categories of *Item_Fat_Content***"
   ]
  },
  {
   "cell_type": "code",
   "execution_count": 13,
   "id": "1ca08915",
   "metadata": {
    "execution": {
     "iopub.execute_input": "2023-02-05T21:03:48.814592Z",
     "iopub.status.busy": "2023-02-05T21:03:48.814183Z",
     "iopub.status.idle": "2023-02-05T21:03:48.822060Z",
     "shell.execute_reply": "2023-02-05T21:03:48.821144Z"
    },
    "papermill": {
     "duration": 0.020892,
     "end_time": "2023-02-05T21:03:48.824099",
     "exception": false,
     "start_time": "2023-02-05T21:03:48.803207",
     "status": "completed"
    },
    "tags": []
   },
   "outputs": [
    {
     "data": {
      "text/plain": [
       "array(['Low Fat', 'Regular', 'low fat', 'LF', 'reg'], dtype=object)"
      ]
     },
     "execution_count": 13,
     "metadata": {},
     "output_type": "execute_result"
    }
   ],
   "source": [
    "train_data['Item_Fat_Content'].unique()"
   ]
  },
  {
   "cell_type": "code",
   "execution_count": 14,
   "id": "045c8ded",
   "metadata": {
    "execution": {
     "iopub.execute_input": "2023-02-05T21:03:48.844942Z",
     "iopub.status.busy": "2023-02-05T21:03:48.844555Z",
     "iopub.status.idle": "2023-02-05T21:03:48.858123Z",
     "shell.execute_reply": "2023-02-05T21:03:48.857034Z"
    },
    "papermill": {
     "duration": 0.026801,
     "end_time": "2023-02-05T21:03:48.860584",
     "exception": false,
     "start_time": "2023-02-05T21:03:48.833783",
     "status": "completed"
    },
    "tags": []
   },
   "outputs": [
    {
     "name": "stdout",
     "output_type": "stream",
     "text": [
      "Original Categories:\n",
      "Low Fat    8485\n",
      "Regular    4824\n",
      "LF          522\n",
      "reg         195\n",
      "low fat     178\n",
      "Name: Item_Fat_Content, dtype: int64\n",
      "\n",
      "Modified Categories:\n",
      "Low Fat    9185\n",
      "Regular    5019\n",
      "Name: Item_Fat_Content, dtype: int64\n"
     ]
    }
   ],
   "source": [
    "#Change categories of low fat:\n",
    "print('Original Categories:')\n",
    "print(train_data['Item_Fat_Content'].value_counts())\n",
    "\n",
    "print('\\nModified Categories:')\n",
    "train_data['Item_Fat_Content'] = train_data['Item_Fat_Content'].replace({'LF':'Low Fat','reg':'Regular','low fat':'Low Fat'})\n",
    "print(train_data['Item_Fat_Content'].value_counts())"
   ]
  },
  {
   "cell_type": "markdown",
   "id": "51e10717",
   "metadata": {
    "papermill": {
     "duration": 0.00937,
     "end_time": "2023-02-05T21:03:48.879606",
     "exception": false,
     "start_time": "2023-02-05T21:03:48.870236",
     "status": "completed"
    },
    "tags": []
   },
   "source": [
    "# **Label Encoding**"
   ]
  },
  {
   "cell_type": "code",
   "execution_count": 15,
   "id": "6e4a655d",
   "metadata": {
    "execution": {
     "iopub.execute_input": "2023-02-05T21:03:48.900946Z",
     "iopub.status.busy": "2023-02-05T21:03:48.900579Z",
     "iopub.status.idle": "2023-02-05T21:03:48.909597Z",
     "shell.execute_reply": "2023-02-05T21:03:48.908497Z"
    },
    "papermill": {
     "duration": 0.02264,
     "end_time": "2023-02-05T21:03:48.911980",
     "exception": false,
     "start_time": "2023-02-05T21:03:48.889340",
     "status": "completed"
    },
    "tags": []
   },
   "outputs": [
    {
     "data": {
      "text/plain": [
       "array(['Low Fat', 'Regular'], dtype=object)"
      ]
     },
     "execution_count": 15,
     "metadata": {},
     "output_type": "execute_result"
    }
   ],
   "source": [
    "train_data['Item_Fat_Content'].unique()"
   ]
  },
  {
   "cell_type": "code",
   "execution_count": 16,
   "id": "3f327e34",
   "metadata": {
    "execution": {
     "iopub.execute_input": "2023-02-05T21:03:48.933546Z",
     "iopub.status.busy": "2023-02-05T21:03:48.933147Z",
     "iopub.status.idle": "2023-02-05T21:03:48.940961Z",
     "shell.execute_reply": "2023-02-05T21:03:48.939801Z"
    },
    "papermill": {
     "duration": 0.021311,
     "end_time": "2023-02-05T21:03:48.943240",
     "exception": false,
     "start_time": "2023-02-05T21:03:48.921929",
     "status": "completed"
    },
    "tags": []
   },
   "outputs": [
    {
     "data": {
      "text/plain": [
       "array(['Medium', 'High', 'Small'], dtype=object)"
      ]
     },
     "execution_count": 16,
     "metadata": {},
     "output_type": "execute_result"
    }
   ],
   "source": [
    "train_data['Outlet_Size'].unique()"
   ]
  },
  {
   "cell_type": "code",
   "execution_count": 17,
   "id": "300db7b3",
   "metadata": {
    "execution": {
     "iopub.execute_input": "2023-02-05T21:03:48.965145Z",
     "iopub.status.busy": "2023-02-05T21:03:48.964761Z",
     "iopub.status.idle": "2023-02-05T21:03:48.973280Z",
     "shell.execute_reply": "2023-02-05T21:03:48.972068Z"
    },
    "papermill": {
     "duration": 0.022184,
     "end_time": "2023-02-05T21:03:48.975549",
     "exception": false,
     "start_time": "2023-02-05T21:03:48.953365",
     "status": "completed"
    },
    "tags": []
   },
   "outputs": [
    {
     "data": {
      "text/plain": [
       "array(['Tier 1', 'Tier 3', 'Tier 2'], dtype=object)"
      ]
     },
     "execution_count": 17,
     "metadata": {},
     "output_type": "execute_result"
    }
   ],
   "source": [
    "train_data['Outlet_Location_Type'].unique()"
   ]
  },
  {
   "cell_type": "code",
   "execution_count": 18,
   "id": "5e71edd2",
   "metadata": {
    "execution": {
     "iopub.execute_input": "2023-02-05T21:03:48.997795Z",
     "iopub.status.busy": "2023-02-05T21:03:48.997414Z",
     "iopub.status.idle": "2023-02-05T21:03:49.006367Z",
     "shell.execute_reply": "2023-02-05T21:03:49.005177Z"
    },
    "papermill": {
     "duration": 0.023156,
     "end_time": "2023-02-05T21:03:49.008837",
     "exception": false,
     "start_time": "2023-02-05T21:03:48.985681",
     "status": "completed"
    },
    "tags": []
   },
   "outputs": [
    {
     "data": {
      "text/plain": [
       "array(['Supermarket Type1', 'Supermarket Type2', 'Grocery Store',\n",
       "       'Supermarket Type3'], dtype=object)"
      ]
     },
     "execution_count": 18,
     "metadata": {},
     "output_type": "execute_result"
    }
   ],
   "source": [
    "train_data['Outlet_Type'].unique()"
   ]
  },
  {
   "cell_type": "code",
   "execution_count": 19,
   "id": "48f47843",
   "metadata": {
    "execution": {
     "iopub.execute_input": "2023-02-05T21:03:49.031235Z",
     "iopub.status.busy": "2023-02-05T21:03:49.030856Z",
     "iopub.status.idle": "2023-02-05T21:03:49.064496Z",
     "shell.execute_reply": "2023-02-05T21:03:49.063454Z"
    },
    "papermill": {
     "duration": 0.04794,
     "end_time": "2023-02-05T21:03:49.067079",
     "exception": false,
     "start_time": "2023-02-05T21:03:49.019139",
     "status": "completed"
    },
    "tags": []
   },
   "outputs": [],
   "source": [
    "# Import label encoder\n",
    "from sklearn import preprocessing\n",
    "  \n",
    "# label_encoder object knows how to understand word labels.\n",
    "label_encoder = preprocessing.LabelEncoder()"
   ]
  },
  {
   "cell_type": "code",
   "execution_count": 20,
   "id": "5c014282",
   "metadata": {
    "execution": {
     "iopub.execute_input": "2023-02-05T21:03:49.089885Z",
     "iopub.status.busy": "2023-02-05T21:03:49.089496Z",
     "iopub.status.idle": "2023-02-05T21:03:49.101715Z",
     "shell.execute_reply": "2023-02-05T21:03:49.100556Z"
    },
    "papermill": {
     "duration": 0.026526,
     "end_time": "2023-02-05T21:03:49.103976",
     "exception": false,
     "start_time": "2023-02-05T21:03:49.077450",
     "status": "completed"
    },
    "tags": []
   },
   "outputs": [
    {
     "data": {
      "text/plain": [
       "array([1, 0, 2])"
      ]
     },
     "execution_count": 20,
     "metadata": {},
     "output_type": "execute_result"
    }
   ],
   "source": [
    "train_data['Outlet_Size']= label_encoder.fit_transform(train_data['Outlet_Size'])\n",
    "train_data['Outlet_Size'].unique()"
   ]
  },
  {
   "cell_type": "code",
   "execution_count": 21,
   "id": "30e36914",
   "metadata": {
    "execution": {
     "iopub.execute_input": "2023-02-05T21:03:49.126182Z",
     "iopub.status.busy": "2023-02-05T21:03:49.125803Z",
     "iopub.status.idle": "2023-02-05T21:03:49.138815Z",
     "shell.execute_reply": "2023-02-05T21:03:49.137533Z"
    },
    "papermill": {
     "duration": 0.027112,
     "end_time": "2023-02-05T21:03:49.141316",
     "exception": false,
     "start_time": "2023-02-05T21:03:49.114204",
     "status": "completed"
    },
    "tags": []
   },
   "outputs": [
    {
     "data": {
      "text/plain": [
       "array([0, 2, 1])"
      ]
     },
     "execution_count": 21,
     "metadata": {},
     "output_type": "execute_result"
    }
   ],
   "source": [
    "train_data['Outlet_Location_Type']= label_encoder.fit_transform(train_data['Outlet_Location_Type'])\n",
    "train_data['Outlet_Location_Type'].unique()"
   ]
  },
  {
   "cell_type": "code",
   "execution_count": 22,
   "id": "74cfd4da",
   "metadata": {
    "execution": {
     "iopub.execute_input": "2023-02-05T21:03:49.164042Z",
     "iopub.status.busy": "2023-02-05T21:03:49.163649Z",
     "iopub.status.idle": "2023-02-05T21:03:49.176053Z",
     "shell.execute_reply": "2023-02-05T21:03:49.175027Z"
    },
    "papermill": {
     "duration": 0.026418,
     "end_time": "2023-02-05T21:03:49.178283",
     "exception": false,
     "start_time": "2023-02-05T21:03:49.151865",
     "status": "completed"
    },
    "tags": []
   },
   "outputs": [
    {
     "data": {
      "text/plain": [
       "array([1, 2, 0, 3])"
      ]
     },
     "execution_count": 22,
     "metadata": {},
     "output_type": "execute_result"
    }
   ],
   "source": [
    "train_data['Outlet_Type']= label_encoder.fit_transform(train_data['Outlet_Type'])\n",
    "train_data['Outlet_Type'].unique()"
   ]
  },
  {
   "cell_type": "code",
   "execution_count": 23,
   "id": "aa884f51",
   "metadata": {
    "execution": {
     "iopub.execute_input": "2023-02-05T21:03:49.201402Z",
     "iopub.status.busy": "2023-02-05T21:03:49.200472Z",
     "iopub.status.idle": "2023-02-05T21:03:49.212814Z",
     "shell.execute_reply": "2023-02-05T21:03:49.211723Z"
    },
    "papermill": {
     "duration": 0.026162,
     "end_time": "2023-02-05T21:03:49.214968",
     "exception": false,
     "start_time": "2023-02-05T21:03:49.188806",
     "status": "completed"
    },
    "tags": []
   },
   "outputs": [
    {
     "data": {
      "text/plain": [
       "array([0, 1])"
      ]
     },
     "execution_count": 23,
     "metadata": {},
     "output_type": "execute_result"
    }
   ],
   "source": [
    "train_data['Item_Fat_Content']= label_encoder.fit_transform(train_data['Item_Fat_Content'])\n",
    "train_data['Item_Fat_Content'].unique()"
   ]
  },
  {
   "cell_type": "code",
   "execution_count": 24,
   "id": "039ee557",
   "metadata": {
    "execution": {
     "iopub.execute_input": "2023-02-05T21:03:49.238609Z",
     "iopub.status.busy": "2023-02-05T21:03:49.237541Z",
     "iopub.status.idle": "2023-02-05T21:03:49.250015Z",
     "shell.execute_reply": "2023-02-05T21:03:49.248914Z"
    },
    "papermill": {
     "duration": 0.026575,
     "end_time": "2023-02-05T21:03:49.252215",
     "exception": false,
     "start_time": "2023-02-05T21:03:49.225640",
     "status": "completed"
    },
    "tags": []
   },
   "outputs": [
    {
     "data": {
      "text/plain": [
       "array([1, 0, 2])"
      ]
     },
     "execution_count": 24,
     "metadata": {},
     "output_type": "execute_result"
    }
   ],
   "source": [
    "train_data['Item_Type_Combined']= label_encoder.fit_transform(train_data['Item_Type_Combined'])\n",
    "train_data['Item_Type_Combined'].unique()"
   ]
  },
  {
   "cell_type": "code",
   "execution_count": 25,
   "id": "1c146dc0",
   "metadata": {
    "execution": {
     "iopub.execute_input": "2023-02-05T21:03:49.275783Z",
     "iopub.status.busy": "2023-02-05T21:03:49.275126Z",
     "iopub.status.idle": "2023-02-05T21:03:49.282832Z",
     "shell.execute_reply": "2023-02-05T21:03:49.281677Z"
    },
    "papermill": {
     "duration": 0.022295,
     "end_time": "2023-02-05T21:03:49.285317",
     "exception": false,
     "start_time": "2023-02-05T21:03:49.263022",
     "status": "completed"
    },
    "tags": []
   },
   "outputs": [
    {
     "data": {
      "text/plain": [
       "(14204, 13)"
      ]
     },
     "execution_count": 25,
     "metadata": {},
     "output_type": "execute_result"
    }
   ],
   "source": [
    "train_data.shape"
   ]
  },
  {
   "cell_type": "markdown",
   "id": "f1ab6f05",
   "metadata": {
    "papermill": {
     "duration": 0.010459,
     "end_time": "2023-02-05T21:03:49.307354",
     "exception": false,
     "start_time": "2023-02-05T21:03:49.296895",
     "status": "completed"
    },
    "tags": []
   },
   "source": [
    "# **One-Hot Encoding**"
   ]
  },
  {
   "cell_type": "code",
   "execution_count": 26,
   "id": "552c31bc",
   "metadata": {
    "execution": {
     "iopub.execute_input": "2023-02-05T21:03:49.330646Z",
     "iopub.status.busy": "2023-02-05T21:03:49.330251Z",
     "iopub.status.idle": "2023-02-05T21:03:49.345889Z",
     "shell.execute_reply": "2023-02-05T21:03:49.344919Z"
    },
    "papermill": {
     "duration": 0.030306,
     "end_time": "2023-02-05T21:03:49.348381",
     "exception": false,
     "start_time": "2023-02-05T21:03:49.318075",
     "status": "completed"
    },
    "tags": []
   },
   "outputs": [],
   "source": [
    "#One Hot Coding:\n",
    "train_data = pd.get_dummies(train_data, columns=['Item_Fat_Content','Outlet_Size','Outlet_Location_Type','Outlet_Type','Item_Type_Combined'])"
   ]
  },
  {
   "cell_type": "code",
   "execution_count": 27,
   "id": "e35af331",
   "metadata": {
    "execution": {
     "iopub.execute_input": "2023-02-05T21:03:49.371856Z",
     "iopub.status.busy": "2023-02-05T21:03:49.371332Z",
     "iopub.status.idle": "2023-02-05T21:03:49.394446Z",
     "shell.execute_reply": "2023-02-05T21:03:49.393321Z"
    },
    "papermill": {
     "duration": 0.037236,
     "end_time": "2023-02-05T21:03:49.396572",
     "exception": false,
     "start_time": "2023-02-05T21:03:49.359336",
     "status": "completed"
    },
    "tags": []
   },
   "outputs": [
    {
     "data": {
      "text/html": [
       "<div>\n",
       "<style scoped>\n",
       "    .dataframe tbody tr th:only-of-type {\n",
       "        vertical-align: middle;\n",
       "    }\n",
       "\n",
       "    .dataframe tbody tr th {\n",
       "        vertical-align: top;\n",
       "    }\n",
       "\n",
       "    .dataframe thead th {\n",
       "        text-align: right;\n",
       "    }\n",
       "</style>\n",
       "<table border=\"1\" class=\"dataframe\">\n",
       "  <thead>\n",
       "    <tr style=\"text-align: right;\">\n",
       "      <th></th>\n",
       "      <th>Item_Identifier</th>\n",
       "      <th>Item_Weight</th>\n",
       "      <th>Item_Visibility</th>\n",
       "      <th>Item_Type</th>\n",
       "      <th>Item_MRP</th>\n",
       "      <th>Outlet_Identifier</th>\n",
       "      <th>Outlet_Establishment_Year</th>\n",
       "      <th>Item_Outlet_Sales</th>\n",
       "      <th>Item_Fat_Content_0</th>\n",
       "      <th>Item_Fat_Content_1</th>\n",
       "      <th>...</th>\n",
       "      <th>Outlet_Location_Type_0</th>\n",
       "      <th>Outlet_Location_Type_1</th>\n",
       "      <th>Outlet_Location_Type_2</th>\n",
       "      <th>Outlet_Type_0</th>\n",
       "      <th>Outlet_Type_1</th>\n",
       "      <th>Outlet_Type_2</th>\n",
       "      <th>Outlet_Type_3</th>\n",
       "      <th>Item_Type_Combined_0</th>\n",
       "      <th>Item_Type_Combined_1</th>\n",
       "      <th>Item_Type_Combined_2</th>\n",
       "    </tr>\n",
       "  </thead>\n",
       "  <tbody>\n",
       "    <tr>\n",
       "      <th>0</th>\n",
       "      <td>FDA15</td>\n",
       "      <td>9.30</td>\n",
       "      <td>0.016047</td>\n",
       "      <td>Dairy</td>\n",
       "      <td>249.8092</td>\n",
       "      <td>OUT049</td>\n",
       "      <td>1999</td>\n",
       "      <td>3735.1380</td>\n",
       "      <td>1</td>\n",
       "      <td>0</td>\n",
       "      <td>...</td>\n",
       "      <td>1</td>\n",
       "      <td>0</td>\n",
       "      <td>0</td>\n",
       "      <td>0</td>\n",
       "      <td>1</td>\n",
       "      <td>0</td>\n",
       "      <td>0</td>\n",
       "      <td>0</td>\n",
       "      <td>1</td>\n",
       "      <td>0</td>\n",
       "    </tr>\n",
       "    <tr>\n",
       "      <th>1</th>\n",
       "      <td>DRC01</td>\n",
       "      <td>5.92</td>\n",
       "      <td>0.019278</td>\n",
       "      <td>Soft Drinks</td>\n",
       "      <td>48.2692</td>\n",
       "      <td>OUT018</td>\n",
       "      <td>2009</td>\n",
       "      <td>443.4228</td>\n",
       "      <td>0</td>\n",
       "      <td>1</td>\n",
       "      <td>...</td>\n",
       "      <td>0</td>\n",
       "      <td>0</td>\n",
       "      <td>1</td>\n",
       "      <td>0</td>\n",
       "      <td>0</td>\n",
       "      <td>1</td>\n",
       "      <td>0</td>\n",
       "      <td>1</td>\n",
       "      <td>0</td>\n",
       "      <td>0</td>\n",
       "    </tr>\n",
       "    <tr>\n",
       "      <th>2</th>\n",
       "      <td>FDN15</td>\n",
       "      <td>17.50</td>\n",
       "      <td>0.016760</td>\n",
       "      <td>Meat</td>\n",
       "      <td>141.6180</td>\n",
       "      <td>OUT049</td>\n",
       "      <td>1999</td>\n",
       "      <td>2097.2700</td>\n",
       "      <td>1</td>\n",
       "      <td>0</td>\n",
       "      <td>...</td>\n",
       "      <td>1</td>\n",
       "      <td>0</td>\n",
       "      <td>0</td>\n",
       "      <td>0</td>\n",
       "      <td>1</td>\n",
       "      <td>0</td>\n",
       "      <td>0</td>\n",
       "      <td>0</td>\n",
       "      <td>1</td>\n",
       "      <td>0</td>\n",
       "    </tr>\n",
       "    <tr>\n",
       "      <th>3</th>\n",
       "      <td>FDX07</td>\n",
       "      <td>19.20</td>\n",
       "      <td>0.017834</td>\n",
       "      <td>Fruits and Vegetables</td>\n",
       "      <td>182.0950</td>\n",
       "      <td>OUT010</td>\n",
       "      <td>1998</td>\n",
       "      <td>732.3800</td>\n",
       "      <td>0</td>\n",
       "      <td>1</td>\n",
       "      <td>...</td>\n",
       "      <td>0</td>\n",
       "      <td>0</td>\n",
       "      <td>1</td>\n",
       "      <td>1</td>\n",
       "      <td>0</td>\n",
       "      <td>0</td>\n",
       "      <td>0</td>\n",
       "      <td>0</td>\n",
       "      <td>1</td>\n",
       "      <td>0</td>\n",
       "    </tr>\n",
       "    <tr>\n",
       "      <th>4</th>\n",
       "      <td>NCD19</td>\n",
       "      <td>8.93</td>\n",
       "      <td>0.009780</td>\n",
       "      <td>Household</td>\n",
       "      <td>53.8614</td>\n",
       "      <td>OUT013</td>\n",
       "      <td>1987</td>\n",
       "      <td>994.7052</td>\n",
       "      <td>1</td>\n",
       "      <td>0</td>\n",
       "      <td>...</td>\n",
       "      <td>0</td>\n",
       "      <td>0</td>\n",
       "      <td>1</td>\n",
       "      <td>0</td>\n",
       "      <td>1</td>\n",
       "      <td>0</td>\n",
       "      <td>0</td>\n",
       "      <td>0</td>\n",
       "      <td>0</td>\n",
       "      <td>1</td>\n",
       "    </tr>\n",
       "  </tbody>\n",
       "</table>\n",
       "<p>5 rows × 23 columns</p>\n",
       "</div>"
      ],
      "text/plain": [
       "  Item_Identifier  Item_Weight  Item_Visibility              Item_Type  \\\n",
       "0           FDA15         9.30         0.016047                  Dairy   \n",
       "1           DRC01         5.92         0.019278            Soft Drinks   \n",
       "2           FDN15        17.50         0.016760                   Meat   \n",
       "3           FDX07        19.20         0.017834  Fruits and Vegetables   \n",
       "4           NCD19         8.93         0.009780              Household   \n",
       "\n",
       "   Item_MRP Outlet_Identifier  Outlet_Establishment_Year  Item_Outlet_Sales  \\\n",
       "0  249.8092            OUT049                       1999          3735.1380   \n",
       "1   48.2692            OUT018                       2009           443.4228   \n",
       "2  141.6180            OUT049                       1999          2097.2700   \n",
       "3  182.0950            OUT010                       1998           732.3800   \n",
       "4   53.8614            OUT013                       1987           994.7052   \n",
       "\n",
       "   Item_Fat_Content_0  Item_Fat_Content_1  ...  Outlet_Location_Type_0  \\\n",
       "0                   1                   0  ...                       1   \n",
       "1                   0                   1  ...                       0   \n",
       "2                   1                   0  ...                       1   \n",
       "3                   0                   1  ...                       0   \n",
       "4                   1                   0  ...                       0   \n",
       "\n",
       "   Outlet_Location_Type_1  Outlet_Location_Type_2  Outlet_Type_0  \\\n",
       "0                       0                       0              0   \n",
       "1                       0                       1              0   \n",
       "2                       0                       0              0   \n",
       "3                       0                       1              1   \n",
       "4                       0                       1              0   \n",
       "\n",
       "   Outlet_Type_1  Outlet_Type_2  Outlet_Type_3  Item_Type_Combined_0  \\\n",
       "0              1              0              0                     0   \n",
       "1              0              1              0                     1   \n",
       "2              1              0              0                     0   \n",
       "3              0              0              0                     0   \n",
       "4              1              0              0                     0   \n",
       "\n",
       "   Item_Type_Combined_1  Item_Type_Combined_2  \n",
       "0                     1                     0  \n",
       "1                     0                     0  \n",
       "2                     1                     0  \n",
       "3                     1                     0  \n",
       "4                     0                     1  \n",
       "\n",
       "[5 rows x 23 columns]"
      ]
     },
     "execution_count": 27,
     "metadata": {},
     "output_type": "execute_result"
    }
   ],
   "source": [
    "train_data.head()"
   ]
  },
  {
   "cell_type": "code",
   "execution_count": 28,
   "id": "095b8a85",
   "metadata": {
    "execution": {
     "iopub.execute_input": "2023-02-05T21:03:49.420671Z",
     "iopub.status.busy": "2023-02-05T21:03:49.420270Z",
     "iopub.status.idle": "2023-02-05T21:03:49.427438Z",
     "shell.execute_reply": "2023-02-05T21:03:49.426272Z"
    },
    "papermill": {
     "duration": 0.021818,
     "end_time": "2023-02-05T21:03:49.429681",
     "exception": false,
     "start_time": "2023-02-05T21:03:49.407863",
     "status": "completed"
    },
    "tags": []
   },
   "outputs": [
    {
     "data": {
      "text/plain": [
       "(14204, 23)"
      ]
     },
     "execution_count": 28,
     "metadata": {},
     "output_type": "execute_result"
    }
   ],
   "source": [
    "train_data.shape"
   ]
  },
  {
   "cell_type": "code",
   "execution_count": 29,
   "id": "a829bc3f",
   "metadata": {
    "execution": {
     "iopub.execute_input": "2023-02-05T21:03:49.453947Z",
     "iopub.status.busy": "2023-02-05T21:03:49.453561Z",
     "iopub.status.idle": "2023-02-05T21:03:49.472779Z",
     "shell.execute_reply": "2023-02-05T21:03:49.471365Z"
    },
    "papermill": {
     "duration": 0.034837,
     "end_time": "2023-02-05T21:03:49.475879",
     "exception": false,
     "start_time": "2023-02-05T21:03:49.441042",
     "status": "completed"
    },
    "tags": []
   },
   "outputs": [
    {
     "name": "stdout",
     "output_type": "stream",
     "text": [
      "<class 'pandas.core.frame.DataFrame'>\n",
      "RangeIndex: 14204 entries, 0 to 14203\n",
      "Data columns (total 23 columns):\n",
      " #   Column                     Non-Null Count  Dtype  \n",
      "---  ------                     --------------  -----  \n",
      " 0   Item_Identifier            14204 non-null  object \n",
      " 1   Item_Weight                14204 non-null  float64\n",
      " 2   Item_Visibility            14204 non-null  float64\n",
      " 3   Item_Type                  14204 non-null  object \n",
      " 4   Item_MRP                   14204 non-null  float64\n",
      " 5   Outlet_Identifier          14204 non-null  object \n",
      " 6   Outlet_Establishment_Year  14204 non-null  int64  \n",
      " 7   Item_Outlet_Sales          14204 non-null  float64\n",
      " 8   Item_Fat_Content_0         14204 non-null  uint8  \n",
      " 9   Item_Fat_Content_1         14204 non-null  uint8  \n",
      " 10  Outlet_Size_0              14204 non-null  uint8  \n",
      " 11  Outlet_Size_1              14204 non-null  uint8  \n",
      " 12  Outlet_Size_2              14204 non-null  uint8  \n",
      " 13  Outlet_Location_Type_0     14204 non-null  uint8  \n",
      " 14  Outlet_Location_Type_1     14204 non-null  uint8  \n",
      " 15  Outlet_Location_Type_2     14204 non-null  uint8  \n",
      " 16  Outlet_Type_0              14204 non-null  uint8  \n",
      " 17  Outlet_Type_1              14204 non-null  uint8  \n",
      " 18  Outlet_Type_2              14204 non-null  uint8  \n",
      " 19  Outlet_Type_3              14204 non-null  uint8  \n",
      " 20  Item_Type_Combined_0       14204 non-null  uint8  \n",
      " 21  Item_Type_Combined_1       14204 non-null  uint8  \n",
      " 22  Item_Type_Combined_2       14204 non-null  uint8  \n",
      "dtypes: float64(4), int64(1), object(3), uint8(15)\n",
      "memory usage: 1.1+ MB\n"
     ]
    }
   ],
   "source": [
    "train_data.info()"
   ]
  },
  {
   "cell_type": "code",
   "execution_count": 30,
   "id": "6a7b1f2f",
   "metadata": {
    "execution": {
     "iopub.execute_input": "2023-02-05T21:03:49.501182Z",
     "iopub.status.busy": "2023-02-05T21:03:49.500798Z",
     "iopub.status.idle": "2023-02-05T21:03:49.621173Z",
     "shell.execute_reply": "2023-02-05T21:03:49.620060Z"
    },
    "papermill": {
     "duration": 0.135967,
     "end_time": "2023-02-05T21:03:49.623904",
     "exception": false,
     "start_time": "2023-02-05T21:03:49.487937",
     "status": "completed"
    },
    "tags": []
   },
   "outputs": [],
   "source": [
    "train_data.to_csv(\"data_clean_2.csv\")"
   ]
  },
  {
   "cell_type": "code",
   "execution_count": null,
   "id": "4be55c51",
   "metadata": {
    "papermill": {
     "duration": 0.011469,
     "end_time": "2023-02-05T21:03:49.649230",
     "exception": false,
     "start_time": "2023-02-05T21:03:49.637761",
     "status": "completed"
    },
    "tags": []
   },
   "outputs": [],
   "source": []
  }
 ],
 "metadata": {
  "kernelspec": {
   "display_name": "Python 3",
   "language": "python",
   "name": "python3"
  },
  "language_info": {
   "codemirror_mode": {
    "name": "ipython",
    "version": 3
   },
   "file_extension": ".py",
   "mimetype": "text/x-python",
   "name": "python",
   "nbconvert_exporter": "python",
   "pygments_lexer": "ipython3",
   "version": "3.7.12"
  },
  "papermill": {
   "default_parameters": {},
   "duration": 11.985254,
   "end_time": "2023-02-05T21:03:50.387822",
   "environment_variables": {},
   "exception": null,
   "input_path": "__notebook__.ipynb",
   "output_path": "__notebook__.ipynb",
   "parameters": {},
   "start_time": "2023-02-05T21:03:38.402568",
   "version": "2.3.4"
  }
 },
 "nbformat": 4,
 "nbformat_minor": 5
}
