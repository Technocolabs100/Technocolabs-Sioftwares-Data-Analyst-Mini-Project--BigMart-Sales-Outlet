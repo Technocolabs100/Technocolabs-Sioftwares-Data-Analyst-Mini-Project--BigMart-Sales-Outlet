{
  "cells": [
    {
      "cell_type": "markdown",
      "id": "competitive-keyboard",
      "metadata": {
        "_cell_guid": "b1076dfc-b9ad-4769-8c92-a6c4dae69d19",
        "_uuid": "8f2839f25d086af736a60e9eeb907d3b93b6e0e5",
        "papermill": {
          "duration": 0.025978,
          "end_time": "2021-05-30T20:24:13.644140",
          "exception": false,
          "start_time": "2021-05-30T20:24:13.618162",
          "status": "completed"
        },
        "tags": [],
        "id": "competitive-keyboard"
      },
      "source": [
        "# **Project Scope**\n",
        "\n",
        "Having a well-defined structure before performing a task helps in efficient execution of the task. This is true even in cases of building a machine learning model. Once you have built a model on a dataset, you can easily break down the steps and define a structured Machine learning pipeline.\n",
        "\n",
        "This notebook coveres the process of building an end-to-end Machine Learning pipeline and implementing it on  BigMart sales prediction dataset.\n"
      ]
    },
    {
      "cell_type": "markdown",
      "id": "ranging-chassis",
      "metadata": {
        "papermill": {
          "duration": 0.025093,
          "end_time": "2021-05-30T20:24:13.696281",
          "exception": false,
          "start_time": "2021-05-30T20:24:13.671188",
          "status": "completed"
        },
        "tags": [],
        "id": "ranging-chassis"
      },
      "source": [
        "The dataset contains information about the stores, products and historical sales. We will predict the sales of the products in the stores.\n",
        "\n",
        "We will start by building a prototype machine learning pipeline that will help us define the actual machine learning pipeline."
      ]
    },
    {
      "cell_type": "code",
      "execution_count": 1,
      "id": "binary-innocent",
      "metadata": {
        "execution": {
          "iopub.execute_input": "2021-05-30T20:24:13.752152Z",
          "iopub.status.busy": "2021-05-30T20:24:13.751659Z",
          "iopub.status.idle": "2021-05-30T20:24:13.755670Z",
          "shell.execute_reply": "2021-05-30T20:24:13.755098Z",
          "shell.execute_reply.started": "2021-05-30T20:23:07.524622Z"
        },
        "papermill": {
          "duration": 0.034466,
          "end_time": "2021-05-30T20:24:13.755790",
          "exception": false,
          "start_time": "2021-05-30T20:24:13.721324",
          "status": "completed"
        },
        "tags": [],
        "id": "binary-innocent"
      },
      "outputs": [],
      "source": [
        "#Importing libraries\n",
        "import os\n",
        "import pandas as pd\n",
        "import numpy as np\n",
        "import matplotlib.pyplot as plt\n",
        "%matplotlib inline"
      ]
    },
    {
      "cell_type": "markdown",
      "id": "victorian-object",
      "metadata": {
        "papermill": {
          "duration": 0.024726,
          "end_time": "2021-05-30T20:24:13.806185",
          "exception": false,
          "start_time": "2021-05-30T20:24:13.781459",
          "status": "completed"
        },
        "tags": [],
        "id": "victorian-object"
      },
      "source": [
        "# Data Exploration and Preprocessing"
      ]
    },
    {
      "cell_type": "code",
      "execution_count": 45,
      "id": "ready-jamaica",
      "metadata": {
        "execution": {
          "iopub.execute_input": "2021-05-30T20:24:13.860887Z",
          "iopub.status.busy": "2021-05-30T20:24:13.860366Z",
          "iopub.status.idle": "2021-05-30T20:24:13.906798Z",
          "shell.execute_reply": "2021-05-30T20:24:13.906314Z",
          "shell.execute_reply.started": "2021-05-30T20:23:07.532980Z"
        },
        "papermill": {
          "duration": 0.07513,
          "end_time": "2021-05-30T20:24:13.906920",
          "exception": false,
          "start_time": "2021-05-30T20:24:13.831790",
          "status": "completed"
        },
        "tags": [],
        "id": "ready-jamaica"
      },
      "outputs": [],
      "source": [
        "#loading train data\n",
        "train = pd.read_csv(\"/content/Train.csv\")"
      ]
    },
    {
      "cell_type": "code",
      "execution_count": null,
      "id": "fresh-incidence",
      "metadata": {
        "execution": {
          "iopub.execute_input": "2021-05-30T20:24:13.961199Z",
          "iopub.status.busy": "2021-05-30T20:24:13.960732Z",
          "iopub.status.idle": "2021-05-30T20:24:13.982466Z",
          "shell.execute_reply": "2021-05-30T20:24:13.981908Z",
          "shell.execute_reply.started": "2021-05-30T20:23:07.606098Z"
        },
        "papermill": {
          "duration": 0.05026,
          "end_time": "2021-05-30T20:24:13.982580",
          "exception": false,
          "start_time": "2021-05-30T20:24:13.932320",
          "status": "completed"
        },
        "tags": [],
        "id": "fresh-incidence"
      },
      "outputs": [],
      "source": [
        "#check for missing values\n",
        "train.isnull().sum()"
      ]
    },
    {
      "cell_type": "markdown",
      "id": "attempted-hawaii",
      "metadata": {
        "papermill": {
          "duration": 0.025643,
          "end_time": "2021-05-30T20:24:14.034407",
          "exception": false,
          "start_time": "2021-05-30T20:24:14.008764",
          "status": "completed"
        },
        "tags": [],
        "id": "attempted-hawaii"
      },
      "source": [
        "Only Item_Weight and Outlet_Size have missing values.\n",
        "\n",
        "Item_Weight is a continuous variable. We can use either mean or median to impute the missing values, but here we will use mean.\n",
        "\n",
        "Outlet_Size is a categorical variable so will use mode to impute the missing values in the column."
      ]
    },
    {
      "cell_type": "code",
      "execution_count": 47,
      "id": "coral-strap",
      "metadata": {
        "execution": {
          "iopub.execute_input": "2021-05-30T20:24:14.094910Z",
          "iopub.status.busy": "2021-05-30T20:24:14.094267Z",
          "iopub.status.idle": "2021-05-30T20:24:14.097643Z",
          "shell.execute_reply": "2021-05-30T20:24:14.097159Z",
          "shell.execute_reply.started": "2021-05-30T20:23:07.633265Z"
        },
        "papermill": {
          "duration": 0.037843,
          "end_time": "2021-05-30T20:24:14.097746",
          "exception": false,
          "start_time": "2021-05-30T20:24:14.059903",
          "status": "completed"
        },
        "tags": [],
        "id": "coral-strap",
        "colab": {
          "base_uri": "https://localhost:8080/"
        },
        "outputId": "a9ef6d2a-1eff-4fb2-8569-60a5c0719f92"
      },
      "outputs": [
        {
          "output_type": "execute_result",
          "data": {
            "text/plain": [
              "0        9.300\n",
              "1        5.920\n",
              "2       17.500\n",
              "3       19.200\n",
              "4        8.930\n",
              "         ...  \n",
              "8518     6.865\n",
              "8519     8.380\n",
              "8520    10.600\n",
              "8521     7.210\n",
              "8522    14.800\n",
              "Name: Item_Weight, Length: 8523, dtype: float64"
            ]
          },
          "metadata": {},
          "execution_count": 47
        }
      ],
      "source": [
        "#impute missing values in Item_Weight using mean\n",
        "train['Item_Weight'] = train['Item_Weight'].fillna(train['Item_Weight'].mean()) \n",
        "train['Item_Weight']"
      ]
    },
    {
      "cell_type": "code",
      "execution_count": 48,
      "id": "exterior-floor",
      "metadata": {
        "execution": {
          "iopub.execute_input": "2021-05-30T20:24:14.153609Z",
          "iopub.status.busy": "2021-05-30T20:24:14.152944Z",
          "iopub.status.idle": "2021-05-30T20:24:14.164155Z",
          "shell.execute_reply": "2021-05-30T20:24:14.163728Z",
          "shell.execute_reply.started": "2021-05-30T20:23:07.647762Z"
        },
        "papermill": {
          "duration": 0.03983,
          "end_time": "2021-05-30T20:24:14.164267",
          "exception": false,
          "start_time": "2021-05-30T20:24:14.124437",
          "status": "completed"
        },
        "tags": [],
        "id": "exterior-floor",
        "colab": {
          "base_uri": "https://localhost:8080/"
        },
        "outputId": "a6782446-5c09-4472-b4f6-61b25447b585"
      },
      "outputs": [
        {
          "output_type": "execute_result",
          "data": {
            "text/plain": [
              "0                           Medium\n",
              "1                           Medium\n",
              "2                           Medium\n",
              "3       0    Medium\\ndtype: object\n",
              "4                             High\n",
              "                   ...            \n",
              "8518                          High\n",
              "8519    0    Medium\\ndtype: object\n",
              "8520                         Small\n",
              "8521                        Medium\n",
              "8522                         Small\n",
              "Name: Outlet_Size, Length: 8523, dtype: object"
            ]
          },
          "metadata": {},
          "execution_count": 48
        }
      ],
      "source": [
        "#impute missing values in Outlet_Size using mode\n",
        "train['Outlet_Size'] = train['Outlet_Size'].fillna(str(train['Outlet_Size'].mode()))\n",
        "train['Outlet_Size']"
      ]
    },
    {
      "cell_type": "markdown",
      "id": "israeli-spotlight",
      "metadata": {
        "papermill": {
          "duration": 0.026263,
          "end_time": "2021-05-30T20:24:14.217253",
          "exception": false,
          "start_time": "2021-05-30T20:24:14.190990",
          "status": "completed"
        },
        "tags": [],
        "id": "israeli-spotlight"
      },
      "source": [
        "Machine learning models cannot work with categorical(string) data. We will convert the categorical variables into numeric types."
      ]
    },
    {
      "cell_type": "code",
      "execution_count": 49,
      "id": "academic-choir",
      "metadata": {
        "execution": {
          "iopub.execute_input": "2021-05-30T20:24:14.277971Z",
          "iopub.status.busy": "2021-05-30T20:24:14.277436Z",
          "iopub.status.idle": "2021-05-30T20:24:14.282298Z",
          "shell.execute_reply": "2021-05-30T20:24:14.281829Z",
          "shell.execute_reply.started": "2021-05-30T20:23:07.664111Z"
        },
        "papermill": {
          "duration": 0.038701,
          "end_time": "2021-05-30T20:24:14.282440",
          "exception": false,
          "start_time": "2021-05-30T20:24:14.243739",
          "status": "completed"
        },
        "tags": [],
        "id": "academic-choir",
        "colab": {
          "base_uri": "https://localhost:8080/"
        },
        "outputId": "45717e81-e00e-47be-e9f6-9de8576fecd9"
      },
      "outputs": [
        {
          "output_type": "execute_result",
          "data": {
            "text/plain": [
              "Item_Identifier         object\n",
              "Item_Fat_Content        object\n",
              "Item_Type               object\n",
              "Outlet_Identifier       object\n",
              "Outlet_Size             object\n",
              "Outlet_Location_Type    object\n",
              "Outlet_Type             object\n",
              "dtype: object"
            ]
          },
          "metadata": {},
          "execution_count": 49
        }
      ],
      "source": [
        "#checking categorical variables in the data\n",
        "#Write your code here\n",
        "categorical_columns = train.select_dtypes(include=\"object\")\n",
        "categorical_columns.dtypes"
      ]
    },
    {
      "cell_type": "markdown",
      "id": "julian-account",
      "metadata": {
        "papermill": {
          "duration": 0.025879,
          "end_time": "2021-05-30T20:24:14.334711",
          "exception": false,
          "start_time": "2021-05-30T20:24:14.308832",
          "status": "completed"
        },
        "tags": [],
        "id": "julian-account"
      },
      "source": [
        "Our data has the following categorical variables\n",
        "\n",
        "* Item_Identifier\n",
        "* Item_Fat_Content\n",
        "* Item_Type\n",
        "* Outlet_Identifier\n",
        "* Outlet_Size\n",
        "* Outlet_Type\n",
        "* Outlet_Location_Type\n",
        "\n",
        "We will use the categorical_encorders library to convert these variables into binary variables. We will not convert Item_Identifier."
      ]
    },
    {
      "cell_type": "code",
      "execution_count": 50,
      "id": "cardiac-canberra",
      "metadata": {
        "execution": {
          "iopub.execute_input": "2021-05-30T20:24:14.393549Z",
          "iopub.status.busy": "2021-05-30T20:24:14.392985Z",
          "iopub.status.idle": "2021-05-30T20:24:15.701677Z",
          "shell.execute_reply": "2021-05-30T20:24:15.700500Z",
          "shell.execute_reply.started": "2021-05-30T20:23:07.678230Z"
        },
        "papermill": {
          "duration": 1.339854,
          "end_time": "2021-05-30T20:24:15.701848",
          "exception": false,
          "start_time": "2021-05-30T20:24:14.361994",
          "status": "completed"
        },
        "tags": [],
        "id": "cardiac-canberra"
      },
      "outputs": [],
      "source": [
        "from sklearn.preprocessing import OneHotEncoder,LabelEncoder\n",
        " \n",
        "#create an object of OneHotEncorder\n",
        "#We need to convert some of the categorical data into numerical data so we require label encoder\n",
        "encoder = LabelEncoder()\n",
        "#encode the variables\n",
        "cols_to_encode = ['Item_Identifier', 'Item_Type', 'Outlet_Identifier']\n",
        "for col in cols_to_encode:\n",
        "    train[col] = encoder.fit_transform(train[col])\n",
        "train = pd.get_dummies(train, columns=['Item_Fat_Content', 'Outlet_Size', 'Outlet_Location_Type', 'Outlet_Type'])"
      ]
    },
    {
      "cell_type": "markdown",
      "id": "quality-frame",
      "metadata": {
        "papermill": {
          "duration": 0.040773,
          "end_time": "2021-05-30T20:24:15.871022",
          "exception": false,
          "start_time": "2021-05-30T20:24:15.830249",
          "status": "completed"
        },
        "tags": [],
        "id": "quality-frame"
      },
      "source": [
        "Now that we have taken care of our categorical variables, we move on to the continous variables.\n",
        "We will nnormalize the data in such a way that the range of all variables is almost similar.\n",
        "We will use the StandardScaler function to do this."
      ]
    },
    {
      "cell_type": "code",
      "execution_count": 51,
      "id": "talented-yemen",
      "metadata": {
        "execution": {
          "iopub.execute_input": "2021-05-30T20:24:15.957484Z",
          "iopub.status.busy": "2021-05-30T20:24:15.956938Z",
          "iopub.status.idle": "2021-05-30T20:24:15.996082Z",
          "shell.execute_reply": "2021-05-30T20:24:15.995654Z",
          "shell.execute_reply.started": "2021-05-30T20:23:09.084955Z"
        },
        "papermill": {
          "duration": 0.084227,
          "end_time": "2021-05-30T20:24:15.996197",
          "exception": false,
          "start_time": "2021-05-30T20:24:15.911970",
          "status": "completed"
        },
        "tags": [],
        "id": "talented-yemen",
        "colab": {
          "base_uri": "https://localhost:8080/"
        },
        "outputId": "4807128a-9345-4144-9f17-19618250d1a0"
      },
      "outputs": [
        {
          "output_type": "execute_result",
          "data": {
            "text/plain": [
              "array([[ 1.74745381],\n",
              "       [-1.48902325],\n",
              "       [ 0.01004021],\n",
              "       ...,\n",
              "       [-0.89720755],\n",
              "       [-0.60797692],\n",
              "       [-1.05226104]])"
            ]
          },
          "metadata": {},
          "execution_count": 51
        }
      ],
      "source": [
        "from sklearn.preprocessing import StandardScaler\n",
        "#create an object of the StandardScaler\n",
        "scaler = StandardScaler()\n",
        "#fit with the Item_MRP\n",
        "#transform the data\n",
        "\n",
        "scaled_train = scaler.fit_transform(train['Item_MRP'].values.reshape(-1, 1))\n",
        "scaled_train\n",
        "\n",
        "\n"
      ]
    },
    {
      "cell_type": "code",
      "source": [
        "train.head()"
      ],
      "metadata": {
        "colab": {
          "base_uri": "https://localhost:8080/",
          "height": 317
        },
        "id": "87ApcZ1pF4QR",
        "outputId": "0d85d59e-541b-477e-d754-fcf6a6e587b0"
      },
      "id": "87ApcZ1pF4QR",
      "execution_count": 52,
      "outputs": [
        {
          "output_type": "execute_result",
          "data": {
            "text/plain": [
              "   Item_Identifier  Item_Weight  Item_Visibility  Item_Type  Item_MRP  \\\n",
              "0              156         9.30         0.016047          4  249.8092   \n",
              "1                8         5.92         0.019278         14   48.2692   \n",
              "2              662        17.50         0.016760         10  141.6180   \n",
              "3             1121        19.20         0.000000          6  182.0950   \n",
              "4             1297         8.93         0.000000          9   53.8614   \n",
              "\n",
              "   Outlet_Identifier  Outlet_Establishment_Year  Item_Outlet_Sales  \\\n",
              "0                  9                       1999          3735.1380   \n",
              "1                  3                       2009           443.4228   \n",
              "2                  9                       1999          2097.2700   \n",
              "3                  0                       1998           732.3800   \n",
              "4                  1                       1987           994.7052   \n",
              "\n",
              "   Item_Fat_Content_LF  Item_Fat_Content_Low Fat  ...  Outlet_Size_High  \\\n",
              "0                    0                         1  ...                 0   \n",
              "1                    0                         0  ...                 0   \n",
              "2                    0                         1  ...                 0   \n",
              "3                    0                         0  ...                 0   \n",
              "4                    0                         1  ...                 1   \n",
              "\n",
              "   Outlet_Size_Medium  Outlet_Size_Small  Outlet_Location_Type_Tier 1  \\\n",
              "0                   1                  0                            1   \n",
              "1                   1                  0                            0   \n",
              "2                   1                  0                            1   \n",
              "3                   0                  0                            0   \n",
              "4                   0                  0                            0   \n",
              "\n",
              "   Outlet_Location_Type_Tier 2  Outlet_Location_Type_Tier 3  \\\n",
              "0                            0                            0   \n",
              "1                            0                            1   \n",
              "2                            0                            0   \n",
              "3                            0                            1   \n",
              "4                            0                            1   \n",
              "\n",
              "   Outlet_Type_Grocery Store  Outlet_Type_Supermarket Type1  \\\n",
              "0                          0                              1   \n",
              "1                          0                              0   \n",
              "2                          0                              1   \n",
              "3                          1                              0   \n",
              "4                          0                              1   \n",
              "\n",
              "   Outlet_Type_Supermarket Type2  Outlet_Type_Supermarket Type3  \n",
              "0                              0                              0  \n",
              "1                              1                              0  \n",
              "2                              0                              0  \n",
              "3                              0                              0  \n",
              "4                              0                              0  \n",
              "\n",
              "[5 rows x 24 columns]"
            ],
            "text/html": [
              "\n",
              "  <div id=\"df-4461cceb-49ea-4d46-80aa-7fd74040a3b0\">\n",
              "    <div class=\"colab-df-container\">\n",
              "      <div>\n",
              "<style scoped>\n",
              "    .dataframe tbody tr th:only-of-type {\n",
              "        vertical-align: middle;\n",
              "    }\n",
              "\n",
              "    .dataframe tbody tr th {\n",
              "        vertical-align: top;\n",
              "    }\n",
              "\n",
              "    .dataframe thead th {\n",
              "        text-align: right;\n",
              "    }\n",
              "</style>\n",
              "<table border=\"1\" class=\"dataframe\">\n",
              "  <thead>\n",
              "    <tr style=\"text-align: right;\">\n",
              "      <th></th>\n",
              "      <th>Item_Identifier</th>\n",
              "      <th>Item_Weight</th>\n",
              "      <th>Item_Visibility</th>\n",
              "      <th>Item_Type</th>\n",
              "      <th>Item_MRP</th>\n",
              "      <th>Outlet_Identifier</th>\n",
              "      <th>Outlet_Establishment_Year</th>\n",
              "      <th>Item_Outlet_Sales</th>\n",
              "      <th>Item_Fat_Content_LF</th>\n",
              "      <th>Item_Fat_Content_Low Fat</th>\n",
              "      <th>...</th>\n",
              "      <th>Outlet_Size_High</th>\n",
              "      <th>Outlet_Size_Medium</th>\n",
              "      <th>Outlet_Size_Small</th>\n",
              "      <th>Outlet_Location_Type_Tier 1</th>\n",
              "      <th>Outlet_Location_Type_Tier 2</th>\n",
              "      <th>Outlet_Location_Type_Tier 3</th>\n",
              "      <th>Outlet_Type_Grocery Store</th>\n",
              "      <th>Outlet_Type_Supermarket Type1</th>\n",
              "      <th>Outlet_Type_Supermarket Type2</th>\n",
              "      <th>Outlet_Type_Supermarket Type3</th>\n",
              "    </tr>\n",
              "  </thead>\n",
              "  <tbody>\n",
              "    <tr>\n",
              "      <th>0</th>\n",
              "      <td>156</td>\n",
              "      <td>9.30</td>\n",
              "      <td>0.016047</td>\n",
              "      <td>4</td>\n",
              "      <td>249.8092</td>\n",
              "      <td>9</td>\n",
              "      <td>1999</td>\n",
              "      <td>3735.1380</td>\n",
              "      <td>0</td>\n",
              "      <td>1</td>\n",
              "      <td>...</td>\n",
              "      <td>0</td>\n",
              "      <td>1</td>\n",
              "      <td>0</td>\n",
              "      <td>1</td>\n",
              "      <td>0</td>\n",
              "      <td>0</td>\n",
              "      <td>0</td>\n",
              "      <td>1</td>\n",
              "      <td>0</td>\n",
              "      <td>0</td>\n",
              "    </tr>\n",
              "    <tr>\n",
              "      <th>1</th>\n",
              "      <td>8</td>\n",
              "      <td>5.92</td>\n",
              "      <td>0.019278</td>\n",
              "      <td>14</td>\n",
              "      <td>48.2692</td>\n",
              "      <td>3</td>\n",
              "      <td>2009</td>\n",
              "      <td>443.4228</td>\n",
              "      <td>0</td>\n",
              "      <td>0</td>\n",
              "      <td>...</td>\n",
              "      <td>0</td>\n",
              "      <td>1</td>\n",
              "      <td>0</td>\n",
              "      <td>0</td>\n",
              "      <td>0</td>\n",
              "      <td>1</td>\n",
              "      <td>0</td>\n",
              "      <td>0</td>\n",
              "      <td>1</td>\n",
              "      <td>0</td>\n",
              "    </tr>\n",
              "    <tr>\n",
              "      <th>2</th>\n",
              "      <td>662</td>\n",
              "      <td>17.50</td>\n",
              "      <td>0.016760</td>\n",
              "      <td>10</td>\n",
              "      <td>141.6180</td>\n",
              "      <td>9</td>\n",
              "      <td>1999</td>\n",
              "      <td>2097.2700</td>\n",
              "      <td>0</td>\n",
              "      <td>1</td>\n",
              "      <td>...</td>\n",
              "      <td>0</td>\n",
              "      <td>1</td>\n",
              "      <td>0</td>\n",
              "      <td>1</td>\n",
              "      <td>0</td>\n",
              "      <td>0</td>\n",
              "      <td>0</td>\n",
              "      <td>1</td>\n",
              "      <td>0</td>\n",
              "      <td>0</td>\n",
              "    </tr>\n",
              "    <tr>\n",
              "      <th>3</th>\n",
              "      <td>1121</td>\n",
              "      <td>19.20</td>\n",
              "      <td>0.000000</td>\n",
              "      <td>6</td>\n",
              "      <td>182.0950</td>\n",
              "      <td>0</td>\n",
              "      <td>1998</td>\n",
              "      <td>732.3800</td>\n",
              "      <td>0</td>\n",
              "      <td>0</td>\n",
              "      <td>...</td>\n",
              "      <td>0</td>\n",
              "      <td>0</td>\n",
              "      <td>0</td>\n",
              "      <td>0</td>\n",
              "      <td>0</td>\n",
              "      <td>1</td>\n",
              "      <td>1</td>\n",
              "      <td>0</td>\n",
              "      <td>0</td>\n",
              "      <td>0</td>\n",
              "    </tr>\n",
              "    <tr>\n",
              "      <th>4</th>\n",
              "      <td>1297</td>\n",
              "      <td>8.93</td>\n",
              "      <td>0.000000</td>\n",
              "      <td>9</td>\n",
              "      <td>53.8614</td>\n",
              "      <td>1</td>\n",
              "      <td>1987</td>\n",
              "      <td>994.7052</td>\n",
              "      <td>0</td>\n",
              "      <td>1</td>\n",
              "      <td>...</td>\n",
              "      <td>1</td>\n",
              "      <td>0</td>\n",
              "      <td>0</td>\n",
              "      <td>0</td>\n",
              "      <td>0</td>\n",
              "      <td>1</td>\n",
              "      <td>0</td>\n",
              "      <td>1</td>\n",
              "      <td>0</td>\n",
              "      <td>0</td>\n",
              "    </tr>\n",
              "  </tbody>\n",
              "</table>\n",
              "<p>5 rows × 24 columns</p>\n",
              "</div>\n",
              "      <button class=\"colab-df-convert\" onclick=\"convertToInteractive('df-4461cceb-49ea-4d46-80aa-7fd74040a3b0')\"\n",
              "              title=\"Convert this dataframe to an interactive table.\"\n",
              "              style=\"display:none;\">\n",
              "        \n",
              "  <svg xmlns=\"http://www.w3.org/2000/svg\" height=\"24px\"viewBox=\"0 0 24 24\"\n",
              "       width=\"24px\">\n",
              "    <path d=\"M0 0h24v24H0V0z\" fill=\"none\"/>\n",
              "    <path d=\"M18.56 5.44l.94 2.06.94-2.06 2.06-.94-2.06-.94-.94-2.06-.94 2.06-2.06.94zm-11 1L8.5 8.5l.94-2.06 2.06-.94-2.06-.94L8.5 2.5l-.94 2.06-2.06.94zm10 10l.94 2.06.94-2.06 2.06-.94-2.06-.94-.94-2.06-.94 2.06-2.06.94z\"/><path d=\"M17.41 7.96l-1.37-1.37c-.4-.4-.92-.59-1.43-.59-.52 0-1.04.2-1.43.59L10.3 9.45l-7.72 7.72c-.78.78-.78 2.05 0 2.83L4 21.41c.39.39.9.59 1.41.59.51 0 1.02-.2 1.41-.59l7.78-7.78 2.81-2.81c.8-.78.8-2.07 0-2.86zM5.41 20L4 18.59l7.72-7.72 1.47 1.35L5.41 20z\"/>\n",
              "  </svg>\n",
              "      </button>\n",
              "      \n",
              "  <style>\n",
              "    .colab-df-container {\n",
              "      display:flex;\n",
              "      flex-wrap:wrap;\n",
              "      gap: 12px;\n",
              "    }\n",
              "\n",
              "    .colab-df-convert {\n",
              "      background-color: #E8F0FE;\n",
              "      border: none;\n",
              "      border-radius: 50%;\n",
              "      cursor: pointer;\n",
              "      display: none;\n",
              "      fill: #1967D2;\n",
              "      height: 32px;\n",
              "      padding: 0 0 0 0;\n",
              "      width: 32px;\n",
              "    }\n",
              "\n",
              "    .colab-df-convert:hover {\n",
              "      background-color: #E2EBFA;\n",
              "      box-shadow: 0px 1px 2px rgba(60, 64, 67, 0.3), 0px 1px 3px 1px rgba(60, 64, 67, 0.15);\n",
              "      fill: #174EA6;\n",
              "    }\n",
              "\n",
              "    [theme=dark] .colab-df-convert {\n",
              "      background-color: #3B4455;\n",
              "      fill: #D2E3FC;\n",
              "    }\n",
              "\n",
              "    [theme=dark] .colab-df-convert:hover {\n",
              "      background-color: #434B5C;\n",
              "      box-shadow: 0px 1px 3px 1px rgba(0, 0, 0, 0.15);\n",
              "      filter: drop-shadow(0px 1px 2px rgba(0, 0, 0, 0.3));\n",
              "      fill: #FFFFFF;\n",
              "    }\n",
              "  </style>\n",
              "\n",
              "      <script>\n",
              "        const buttonEl =\n",
              "          document.querySelector('#df-4461cceb-49ea-4d46-80aa-7fd74040a3b0 button.colab-df-convert');\n",
              "        buttonEl.style.display =\n",
              "          google.colab.kernel.accessAllowed ? 'block' : 'none';\n",
              "\n",
              "        async function convertToInteractive(key) {\n",
              "          const element = document.querySelector('#df-4461cceb-49ea-4d46-80aa-7fd74040a3b0');\n",
              "          const dataTable =\n",
              "            await google.colab.kernel.invokeFunction('convertToInteractive',\n",
              "                                                     [key], {});\n",
              "          if (!dataTable) return;\n",
              "\n",
              "          const docLinkHtml = 'Like what you see? Visit the ' +\n",
              "            '<a target=\"_blank\" href=https://colab.research.google.com/notebooks/data_table.ipynb>data table notebook</a>'\n",
              "            + ' to learn more about interactive tables.';\n",
              "          element.innerHTML = '';\n",
              "          dataTable['output_type'] = 'display_data';\n",
              "          await google.colab.output.renderOutput(dataTable, element);\n",
              "          const docLink = document.createElement('div');\n",
              "          docLink.innerHTML = docLinkHtml;\n",
              "          element.appendChild(docLink);\n",
              "        }\n",
              "      </script>\n",
              "    </div>\n",
              "  </div>\n",
              "  "
            ]
          },
          "metadata": {},
          "execution_count": 52
        }
      ]
    },
    {
      "cell_type": "markdown",
      "id": "higher-distance",
      "metadata": {
        "papermill": {
          "duration": 0.032351,
          "end_time": "2021-05-30T20:24:16.055571",
          "exception": false,
          "start_time": "2021-05-30T20:24:16.023220",
          "status": "completed"
        },
        "tags": [],
        "id": "higher-distance"
      },
      "source": [
        "# Building the Model\n",
        "We will use the Linear Regression and the Random Forest Regressor to predict the sales. We will create a validation set using the train_test_split() function.\n",
        "\n",
        "test_size = 0.25 such that the validation set holds 25% of the data points while the train set has 75%."
      ]
    },
    {
      "cell_type": "code",
      "execution_count": 53,
      "id": "enabling-prescription",
      "metadata": {
        "execution": {
          "iopub.execute_input": "2021-05-30T20:24:16.126168Z",
          "iopub.status.busy": "2021-05-30T20:24:16.125620Z",
          "iopub.status.idle": "2021-05-30T20:24:16.442714Z",
          "shell.execute_reply": "2021-05-30T20:24:16.442219Z",
          "shell.execute_reply.started": "2021-05-30T20:23:09.122548Z"
        },
        "papermill": {
          "duration": 0.350674,
          "end_time": "2021-05-30T20:24:16.442823",
          "exception": false,
          "start_time": "2021-05-30T20:24:16.092149",
          "status": "completed"
        },
        "tags": [],
        "id": "enabling-prescription"
      },
      "outputs": [],
      "source": [
        "from sklearn.linear_model import LinearRegression\n",
        "from sklearn.ensemble import RandomForestRegressor\n",
        "from sklearn.model_selection import train_test_split\n",
        "from sklearn.metrics import mean_squared_error\n",
        "\n",
        "#seperate the independent and target variable\n",
        "x=train.drop(columns = [\"Item_Outlet_Sales\"])\n",
        "y=train[\"Item_Outlet_Sales\"]\n",
        "\n",
        "#split the data\n",
        "x_train, x_val, y_train, y_val = train_test_split(x,y, test_size=0.25, random_state=1)\n",
        "\n"
      ]
    },
    {
      "cell_type": "code",
      "source": [
        "train.head()"
      ],
      "metadata": {
        "id": "_y-os99ssK34",
        "colab": {
          "base_uri": "https://localhost:8080/",
          "height": 317
        },
        "outputId": "5ecc530c-47e0-401c-c8ca-4159bfbb30f3"
      },
      "id": "_y-os99ssK34",
      "execution_count": 54,
      "outputs": [
        {
          "output_type": "execute_result",
          "data": {
            "text/plain": [
              "   Item_Identifier  Item_Weight  Item_Visibility  Item_Type  Item_MRP  \\\n",
              "0              156         9.30         0.016047          4  249.8092   \n",
              "1                8         5.92         0.019278         14   48.2692   \n",
              "2              662        17.50         0.016760         10  141.6180   \n",
              "3             1121        19.20         0.000000          6  182.0950   \n",
              "4             1297         8.93         0.000000          9   53.8614   \n",
              "\n",
              "   Outlet_Identifier  Outlet_Establishment_Year  Item_Outlet_Sales  \\\n",
              "0                  9                       1999          3735.1380   \n",
              "1                  3                       2009           443.4228   \n",
              "2                  9                       1999          2097.2700   \n",
              "3                  0                       1998           732.3800   \n",
              "4                  1                       1987           994.7052   \n",
              "\n",
              "   Item_Fat_Content_LF  Item_Fat_Content_Low Fat  ...  Outlet_Size_High  \\\n",
              "0                    0                         1  ...                 0   \n",
              "1                    0                         0  ...                 0   \n",
              "2                    0                         1  ...                 0   \n",
              "3                    0                         0  ...                 0   \n",
              "4                    0                         1  ...                 1   \n",
              "\n",
              "   Outlet_Size_Medium  Outlet_Size_Small  Outlet_Location_Type_Tier 1  \\\n",
              "0                   1                  0                            1   \n",
              "1                   1                  0                            0   \n",
              "2                   1                  0                            1   \n",
              "3                   0                  0                            0   \n",
              "4                   0                  0                            0   \n",
              "\n",
              "   Outlet_Location_Type_Tier 2  Outlet_Location_Type_Tier 3  \\\n",
              "0                            0                            0   \n",
              "1                            0                            1   \n",
              "2                            0                            0   \n",
              "3                            0                            1   \n",
              "4                            0                            1   \n",
              "\n",
              "   Outlet_Type_Grocery Store  Outlet_Type_Supermarket Type1  \\\n",
              "0                          0                              1   \n",
              "1                          0                              0   \n",
              "2                          0                              1   \n",
              "3                          1                              0   \n",
              "4                          0                              1   \n",
              "\n",
              "   Outlet_Type_Supermarket Type2  Outlet_Type_Supermarket Type3  \n",
              "0                              0                              0  \n",
              "1                              1                              0  \n",
              "2                              0                              0  \n",
              "3                              0                              0  \n",
              "4                              0                              0  \n",
              "\n",
              "[5 rows x 24 columns]"
            ],
            "text/html": [
              "\n",
              "  <div id=\"df-b57ff12a-9ef9-4fe6-95f6-d6e67da1b3f1\">\n",
              "    <div class=\"colab-df-container\">\n",
              "      <div>\n",
              "<style scoped>\n",
              "    .dataframe tbody tr th:only-of-type {\n",
              "        vertical-align: middle;\n",
              "    }\n",
              "\n",
              "    .dataframe tbody tr th {\n",
              "        vertical-align: top;\n",
              "    }\n",
              "\n",
              "    .dataframe thead th {\n",
              "        text-align: right;\n",
              "    }\n",
              "</style>\n",
              "<table border=\"1\" class=\"dataframe\">\n",
              "  <thead>\n",
              "    <tr style=\"text-align: right;\">\n",
              "      <th></th>\n",
              "      <th>Item_Identifier</th>\n",
              "      <th>Item_Weight</th>\n",
              "      <th>Item_Visibility</th>\n",
              "      <th>Item_Type</th>\n",
              "      <th>Item_MRP</th>\n",
              "      <th>Outlet_Identifier</th>\n",
              "      <th>Outlet_Establishment_Year</th>\n",
              "      <th>Item_Outlet_Sales</th>\n",
              "      <th>Item_Fat_Content_LF</th>\n",
              "      <th>Item_Fat_Content_Low Fat</th>\n",
              "      <th>...</th>\n",
              "      <th>Outlet_Size_High</th>\n",
              "      <th>Outlet_Size_Medium</th>\n",
              "      <th>Outlet_Size_Small</th>\n",
              "      <th>Outlet_Location_Type_Tier 1</th>\n",
              "      <th>Outlet_Location_Type_Tier 2</th>\n",
              "      <th>Outlet_Location_Type_Tier 3</th>\n",
              "      <th>Outlet_Type_Grocery Store</th>\n",
              "      <th>Outlet_Type_Supermarket Type1</th>\n",
              "      <th>Outlet_Type_Supermarket Type2</th>\n",
              "      <th>Outlet_Type_Supermarket Type3</th>\n",
              "    </tr>\n",
              "  </thead>\n",
              "  <tbody>\n",
              "    <tr>\n",
              "      <th>0</th>\n",
              "      <td>156</td>\n",
              "      <td>9.30</td>\n",
              "      <td>0.016047</td>\n",
              "      <td>4</td>\n",
              "      <td>249.8092</td>\n",
              "      <td>9</td>\n",
              "      <td>1999</td>\n",
              "      <td>3735.1380</td>\n",
              "      <td>0</td>\n",
              "      <td>1</td>\n",
              "      <td>...</td>\n",
              "      <td>0</td>\n",
              "      <td>1</td>\n",
              "      <td>0</td>\n",
              "      <td>1</td>\n",
              "      <td>0</td>\n",
              "      <td>0</td>\n",
              "      <td>0</td>\n",
              "      <td>1</td>\n",
              "      <td>0</td>\n",
              "      <td>0</td>\n",
              "    </tr>\n",
              "    <tr>\n",
              "      <th>1</th>\n",
              "      <td>8</td>\n",
              "      <td>5.92</td>\n",
              "      <td>0.019278</td>\n",
              "      <td>14</td>\n",
              "      <td>48.2692</td>\n",
              "      <td>3</td>\n",
              "      <td>2009</td>\n",
              "      <td>443.4228</td>\n",
              "      <td>0</td>\n",
              "      <td>0</td>\n",
              "      <td>...</td>\n",
              "      <td>0</td>\n",
              "      <td>1</td>\n",
              "      <td>0</td>\n",
              "      <td>0</td>\n",
              "      <td>0</td>\n",
              "      <td>1</td>\n",
              "      <td>0</td>\n",
              "      <td>0</td>\n",
              "      <td>1</td>\n",
              "      <td>0</td>\n",
              "    </tr>\n",
              "    <tr>\n",
              "      <th>2</th>\n",
              "      <td>662</td>\n",
              "      <td>17.50</td>\n",
              "      <td>0.016760</td>\n",
              "      <td>10</td>\n",
              "      <td>141.6180</td>\n",
              "      <td>9</td>\n",
              "      <td>1999</td>\n",
              "      <td>2097.2700</td>\n",
              "      <td>0</td>\n",
              "      <td>1</td>\n",
              "      <td>...</td>\n",
              "      <td>0</td>\n",
              "      <td>1</td>\n",
              "      <td>0</td>\n",
              "      <td>1</td>\n",
              "      <td>0</td>\n",
              "      <td>0</td>\n",
              "      <td>0</td>\n",
              "      <td>1</td>\n",
              "      <td>0</td>\n",
              "      <td>0</td>\n",
              "    </tr>\n",
              "    <tr>\n",
              "      <th>3</th>\n",
              "      <td>1121</td>\n",
              "      <td>19.20</td>\n",
              "      <td>0.000000</td>\n",
              "      <td>6</td>\n",
              "      <td>182.0950</td>\n",
              "      <td>0</td>\n",
              "      <td>1998</td>\n",
              "      <td>732.3800</td>\n",
              "      <td>0</td>\n",
              "      <td>0</td>\n",
              "      <td>...</td>\n",
              "      <td>0</td>\n",
              "      <td>0</td>\n",
              "      <td>0</td>\n",
              "      <td>0</td>\n",
              "      <td>0</td>\n",
              "      <td>1</td>\n",
              "      <td>1</td>\n",
              "      <td>0</td>\n",
              "      <td>0</td>\n",
              "      <td>0</td>\n",
              "    </tr>\n",
              "    <tr>\n",
              "      <th>4</th>\n",
              "      <td>1297</td>\n",
              "      <td>8.93</td>\n",
              "      <td>0.000000</td>\n",
              "      <td>9</td>\n",
              "      <td>53.8614</td>\n",
              "      <td>1</td>\n",
              "      <td>1987</td>\n",
              "      <td>994.7052</td>\n",
              "      <td>0</td>\n",
              "      <td>1</td>\n",
              "      <td>...</td>\n",
              "      <td>1</td>\n",
              "      <td>0</td>\n",
              "      <td>0</td>\n",
              "      <td>0</td>\n",
              "      <td>0</td>\n",
              "      <td>1</td>\n",
              "      <td>0</td>\n",
              "      <td>1</td>\n",
              "      <td>0</td>\n",
              "      <td>0</td>\n",
              "    </tr>\n",
              "  </tbody>\n",
              "</table>\n",
              "<p>5 rows × 24 columns</p>\n",
              "</div>\n",
              "      <button class=\"colab-df-convert\" onclick=\"convertToInteractive('df-b57ff12a-9ef9-4fe6-95f6-d6e67da1b3f1')\"\n",
              "              title=\"Convert this dataframe to an interactive table.\"\n",
              "              style=\"display:none;\">\n",
              "        \n",
              "  <svg xmlns=\"http://www.w3.org/2000/svg\" height=\"24px\"viewBox=\"0 0 24 24\"\n",
              "       width=\"24px\">\n",
              "    <path d=\"M0 0h24v24H0V0z\" fill=\"none\"/>\n",
              "    <path d=\"M18.56 5.44l.94 2.06.94-2.06 2.06-.94-2.06-.94-.94-2.06-.94 2.06-2.06.94zm-11 1L8.5 8.5l.94-2.06 2.06-.94-2.06-.94L8.5 2.5l-.94 2.06-2.06.94zm10 10l.94 2.06.94-2.06 2.06-.94-2.06-.94-.94-2.06-.94 2.06-2.06.94z\"/><path d=\"M17.41 7.96l-1.37-1.37c-.4-.4-.92-.59-1.43-.59-.52 0-1.04.2-1.43.59L10.3 9.45l-7.72 7.72c-.78.78-.78 2.05 0 2.83L4 21.41c.39.39.9.59 1.41.59.51 0 1.02-.2 1.41-.59l7.78-7.78 2.81-2.81c.8-.78.8-2.07 0-2.86zM5.41 20L4 18.59l7.72-7.72 1.47 1.35L5.41 20z\"/>\n",
              "  </svg>\n",
              "      </button>\n",
              "      \n",
              "  <style>\n",
              "    .colab-df-container {\n",
              "      display:flex;\n",
              "      flex-wrap:wrap;\n",
              "      gap: 12px;\n",
              "    }\n",
              "\n",
              "    .colab-df-convert {\n",
              "      background-color: #E8F0FE;\n",
              "      border: none;\n",
              "      border-radius: 50%;\n",
              "      cursor: pointer;\n",
              "      display: none;\n",
              "      fill: #1967D2;\n",
              "      height: 32px;\n",
              "      padding: 0 0 0 0;\n",
              "      width: 32px;\n",
              "    }\n",
              "\n",
              "    .colab-df-convert:hover {\n",
              "      background-color: #E2EBFA;\n",
              "      box-shadow: 0px 1px 2px rgba(60, 64, 67, 0.3), 0px 1px 3px 1px rgba(60, 64, 67, 0.15);\n",
              "      fill: #174EA6;\n",
              "    }\n",
              "\n",
              "    [theme=dark] .colab-df-convert {\n",
              "      background-color: #3B4455;\n",
              "      fill: #D2E3FC;\n",
              "    }\n",
              "\n",
              "    [theme=dark] .colab-df-convert:hover {\n",
              "      background-color: #434B5C;\n",
              "      box-shadow: 0px 1px 3px 1px rgba(0, 0, 0, 0.15);\n",
              "      filter: drop-shadow(0px 1px 2px rgba(0, 0, 0, 0.3));\n",
              "      fill: #FFFFFF;\n",
              "    }\n",
              "  </style>\n",
              "\n",
              "      <script>\n",
              "        const buttonEl =\n",
              "          document.querySelector('#df-b57ff12a-9ef9-4fe6-95f6-d6e67da1b3f1 button.colab-df-convert');\n",
              "        buttonEl.style.display =\n",
              "          google.colab.kernel.accessAllowed ? 'block' : 'none';\n",
              "\n",
              "        async function convertToInteractive(key) {\n",
              "          const element = document.querySelector('#df-b57ff12a-9ef9-4fe6-95f6-d6e67da1b3f1');\n",
              "          const dataTable =\n",
              "            await google.colab.kernel.invokeFunction('convertToInteractive',\n",
              "                                                     [key], {});\n",
              "          if (!dataTable) return;\n",
              "\n",
              "          const docLinkHtml = 'Like what you see? Visit the ' +\n",
              "            '<a target=\"_blank\" href=https://colab.research.google.com/notebooks/data_table.ipynb>data table notebook</a>'\n",
              "            + ' to learn more about interactive tables.';\n",
              "          element.innerHTML = '';\n",
              "          dataTable['output_type'] = 'display_data';\n",
              "          await google.colab.output.renderOutput(dataTable, element);\n",
              "          const docLink = document.createElement('div');\n",
              "          docLink.innerHTML = docLinkHtml;\n",
              "          element.appendChild(docLink);\n",
              "        }\n",
              "      </script>\n",
              "    </div>\n",
              "  </div>\n",
              "  "
            ]
          },
          "metadata": {},
          "execution_count": 54
        }
      ]
    },
    {
      "cell_type": "code",
      "source": [
        "#shape of train test splits\n",
        "print(x_train.shape)\n",
        "print(x_val.shape)\n",
        "print(y_train.shape)\n",
        "print(y_val.shape)"
      ],
      "metadata": {
        "colab": {
          "base_uri": "https://localhost:8080/"
        },
        "id": "k9ApIya8SgIs",
        "outputId": "04bf1595-50d1-4c6d-f17f-bae73095531f"
      },
      "id": "k9ApIya8SgIs",
      "execution_count": 56,
      "outputs": [
        {
          "output_type": "stream",
          "name": "stdout",
          "text": [
            "(6392, 23)\n",
            "(2131, 23)\n",
            "(6392,)\n",
            "(2131,)\n"
          ]
        }
      ]
    },
    {
      "cell_type": "markdown",
      "id": "recognized-blind",
      "metadata": {
        "papermill": {
          "duration": 0.027268,
          "end_time": "2021-05-30T20:24:16.498518",
          "exception": false,
          "start_time": "2021-05-30T20:24:16.471250",
          "status": "completed"
        },
        "tags": [],
        "id": "recognized-blind"
      },
      "source": [
        "Now that we have split our data, we will train a linear regression model on this data and check its performance on the validation set. We will use RMSE as an evaluation metric."
      ]
    },
    {
      "cell_type": "code",
      "execution_count": 57,
      "id": "better-pottery",
      "metadata": {
        "execution": {
          "iopub.execute_input": "2021-05-30T20:24:16.561517Z",
          "iopub.status.busy": "2021-05-30T20:24:16.560788Z",
          "iopub.status.idle": "2021-05-30T20:24:16.657256Z",
          "shell.execute_reply": "2021-05-30T20:24:16.657823Z",
          "shell.execute_reply.started": "2021-05-30T20:23:09.401676Z"
        },
        "papermill": {
          "duration": 0.131627,
          "end_time": "2021-05-30T20:24:16.657987",
          "exception": false,
          "start_time": "2021-05-30T20:24:16.526360",
          "status": "completed"
        },
        "tags": [],
        "id": "better-pottery"
      },
      "outputs": [],
      "source": [
        "#LinearRegression\n",
        "lin_reg = LinearRegression()\n",
        "#fit the model\n",
        "lin_reg.fit(x_train,y_train)\n",
        "\n",
        "#predict the target on train and validation data\n",
        "y_train_pred = lin_reg.predict(x_train)\n",
        "y_val_pred = lin_reg.predict(x_val)\n",
        "\n",
        "# RMSE on train and validation data\n",
        "mse_train = mean_squared_error(y_train, y_train_pred)\n",
        "mse_val = mean_squared_error(y_val, y_val_pred)"
      ]
    },
    {
      "cell_type": "code",
      "source": [
        "print(mse_train, mse_val)"
      ],
      "metadata": {
        "colab": {
          "base_uri": "https://localhost:8080/"
        },
        "id": "KL0Ti6xwNrfn",
        "outputId": "9b6c99ae-77d9-49e2-ded2-d3f0ab6e68f4"
      },
      "id": "KL0Ti6xwNrfn",
      "execution_count": 58,
      "outputs": [
        {
          "output_type": "stream",
          "name": "stdout",
          "text": [
            "1274895.4558601875 1261922.9834175555\n"
          ]
        }
      ]
    },
    {
      "cell_type": "markdown",
      "id": "proper-placement",
      "metadata": {
        "papermill": {
          "duration": 0.036398,
          "end_time": "2021-05-30T20:24:16.755450",
          "exception": false,
          "start_time": "2021-05-30T20:24:16.719052",
          "status": "completed"
        },
        "tags": [],
        "id": "proper-placement"
      },
      "source": [
        "We will train a random forest regressor and see if we can get an improvement on the train and validation errors."
      ]
    },
    {
      "cell_type": "code",
      "execution_count": 59,
      "id": "loved-fourth",
      "metadata": {
        "execution": {
          "iopub.execute_input": "2021-05-30T20:24:16.815559Z",
          "iopub.status.busy": "2021-05-30T20:24:16.814881Z",
          "iopub.status.idle": "2021-05-30T20:24:18.923009Z",
          "shell.execute_reply": "2021-05-30T20:24:18.923497Z",
          "shell.execute_reply.started": "2021-05-30T20:23:09.469576Z"
        },
        "papermill": {
          "duration": 2.141567,
          "end_time": "2021-05-30T20:24:18.923669",
          "exception": false,
          "start_time": "2021-05-30T20:24:16.782102",
          "status": "completed"
        },
        "tags": [],
        "id": "loved-fourth"
      },
      "outputs": [],
      "source": [
        "#RandomForestRegressor\n",
        "rf_reg = RandomForestRegressor(n_estimators=100, random_state=0)\n",
        "#fitting the model\n",
        "rf_reg.fit(x_train, y_train)\n",
        "#predict the target on train and validation data\n",
        "train_pred_rf = rf_reg.predict(x_train)\n",
        "val_pred_rf = rf_reg.predict(x_val)\n",
        "\n",
        "#RMSE on train and test data\n",
        "rf_mse_train = mean_squared_error(y_train, train_pred_rf)\n",
        "rf_mse_val = mean_squared_error(y_val, val_pred_rf)\n"
      ]
    },
    {
      "cell_type": "code",
      "source": [
        "print(rf_mse_train , rf_mse_val)"
      ],
      "metadata": {
        "id": "cNfSFGq_NjVq",
        "colab": {
          "base_uri": "https://localhost:8080/"
        },
        "outputId": "3d14c0fd-1f7a-422b-dbaf-1a746d74f396"
      },
      "id": "cNfSFGq_NjVq",
      "execution_count": 60,
      "outputs": [
        {
          "output_type": "stream",
          "name": "stdout",
          "text": [
            "178259.3871918282 1298242.589114114\n"
          ]
        }
      ]
    },
    {
      "cell_type": "markdown",
      "id": "perfect-mention",
      "metadata": {
        "papermill": {
          "duration": 0.02929,
          "end_time": "2021-05-30T20:24:18.981431",
          "exception": false,
          "start_time": "2021-05-30T20:24:18.952141",
          "status": "completed"
        },
        "tags": [],
        "id": "perfect-mention"
      },
      "source": [
        "We can see a significant improvement on the RMSE values. The random forest algorithm gives us 'feature importance for all the variables in the data.\n",
        "\n",
        "We have 45 features and not all of these features may be useful in forecasting. We will select the top 7 features which had a major contribution in forecasting sales values.\n",
        "\n",
        "If the model performance is similar in both cases (by using 45 features and by using 7 features), then we should only use the top 7 features, in order to keep the model simple and efficient.\n",
        "\n",
        "The goal is to have a less complex model without compromising on the overall model performance."
      ]
    },
    {
      "cell_type": "code",
      "execution_count": 61,
      "id": "institutional-approach",
      "metadata": {
        "execution": {
          "iopub.execute_input": "2021-05-30T20:24:19.046436Z",
          "iopub.status.busy": "2021-05-30T20:24:19.045722Z",
          "iopub.status.idle": "2021-05-30T20:24:19.251972Z",
          "shell.execute_reply": "2021-05-30T20:24:19.251455Z",
          "shell.execute_reply.started": "2021-05-30T20:23:11.747813Z"
        },
        "papermill": {
          "duration": 0.242182,
          "end_time": "2021-05-30T20:24:19.252081",
          "exception": false,
          "start_time": "2021-05-30T20:24:19.009899",
          "status": "completed"
        },
        "tags": [],
        "id": "institutional-approach",
        "colab": {
          "base_uri": "https://localhost:8080/",
          "height": 279
        },
        "outputId": "3edd8379-ed04-4983-c465-b2c7f20abc13"
      },
      "outputs": [
        {
          "output_type": "display_data",
          "data": {
            "text/plain": [
              "<Figure size 432x288 with 1 Axes>"
            ],
            "image/png": "[encoded data removed]"
          },
          "metadata": {
            "needs_background": "light"
          }
        }
      ],
      "source": [
        "import seaborn as sns\n",
        "#plot the 7 most important features\n",
        "importances = rf_reg.feature_importances_\n",
        "indices = np.argsort(importances)[::-1]\n",
        "\n",
        "# Print the top 7 most important features\n",
        "feat_importances = pd.DataFrame({'Feature':x_train.columns[indices[:7]],\n",
        "                                  'Importance':importances[indices[:7]]})\n",
        "\n",
        "# Create a horizontal bar chart of the top 7 features\n",
        "sns.barplot(x='Importance', y='Feature', data=feat_importances)\n",
        "\n",
        "# Set the axis labels\n",
        "plt.xlabel('Importance Score')\n",
        "plt.ylabel('Feature')\n",
        "\n",
        "# Show the plot\n",
        "plt.show()\n"
      ]
    },
    {
      "cell_type": "code",
      "source": [
        "#training data with top 7 features\n",
        "X_train_important = x_train.iloc[:, indices[:7]]\n",
        "rf_reg.fit(X_train_important,y_train)\n",
        "#validation data with top 7 important features\n",
        "y_pred = rf_reg.predict(X_train_important)\n",
        "\n",
        "# Evaluate the performance of your model on the selected features\n",
        "RMSE_score = mean_squared_error(y_train,y_pred)\n",
        "#create an object of the RandomForestRegressor Model\n",
        "rf_reg1 = RandomForestRegressor(n_estimators=100, random_state=0)\n"
      ],
      "metadata": {
        "id": "dJ0kWLtugr_9"
      },
      "id": "dJ0kWLtugr_9",
      "execution_count": 62,
      "outputs": []
    },
    {
      "cell_type": "code",
      "source": [
        "RMSE_score"
      ],
      "metadata": {
        "colab": {
          "base_uri": "https://localhost:8080/"
        },
        "id": "fXpjns2yLEGo",
        "outputId": "944bc2c2-07d9-47e7-d487-5669fe90fdb3"
      },
      "id": "fXpjns2yLEGo",
      "execution_count": 63,
      "outputs": [
        {
          "output_type": "execute_result",
          "data": {
            "text/plain": [
              "185818.75850275208"
            ]
          },
          "metadata": {},
          "execution_count": 63
        }
      ]
    },
    {
      "cell_type": "markdown",
      "id": "outdoor-election",
      "metadata": {
        "papermill": {
          "duration": 0.028358,
          "end_time": "2021-05-30T20:24:20.738245",
          "exception": false,
          "start_time": "2021-05-30T20:24:20.709887",
          "status": "completed"
        },
        "tags": [],
        "id": "outdoor-election"
      },
      "source": [
        "Using only 7 features has given us almost the same perfomance as the previous model where we were using 45 features. Now we will identify the final set of features that we need and the preprocessing steps for each of them."
      ]
    },
    {
      "cell_type": "markdown",
      "id": "atlantic-tampa",
      "metadata": {
        "papermill": {
          "duration": 0.029121,
          "end_time": "2021-05-30T20:24:20.796307",
          "exception": false,
          "start_time": "2021-05-30T20:24:20.767186",
          "status": "completed"
        },
        "tags": [],
        "id": "atlantic-tampa"
      },
      "source": [
        "# Identifying features to build the Machine Learning pipeline\n",
        "We must list down the final set of features and necessary preprocessing steps for each of them, to be used in the ML pipeline. Since the RandomForestRegressor model with 7 features gave us almost the same performance as the previous model with 45 features, we will only use these features for our ML pipeline."
      ]
    },
    {
      "cell_type": "markdown",
      "id": "exposed-constant",
      "metadata": {
        "papermill": {
          "duration": 0.028258,
          "end_time": "2021-05-30T20:24:20.853240",
          "exception": false,
          "start_time": "2021-05-30T20:24:20.824982",
          "status": "completed"
        },
        "tags": [],
        "id": "exposed-constant"
      },
      "source": [
        "# Selected features and preprocessing steps\n",
        "* **Item_MRP:** It holds the price of the products. During the preprocessing step we used a standard scaler to scale these values.\n",
        "* **Outlet_Type_Grocery Store:** A binary column which indcates if the outlet type is a grocery store or not. To use this information in the model building process, we will add a binary feature in the existing data that contains 1 (if outlet type is a grocery store) and 0 (if the outlet type is something else).\n",
        "* **Item_Visibility:** Denotes visibility of products in the store. Since this variable had a small value range and no missing values, we did not apply any preprocessing steps on this variable.\n",
        "* **Outlet_Type_Supermarket Type3:** Another binary column indicating if the outlet type is a 'supermarket_type_3' or not. To capture this information we will create a binary feature that stores 1 (if outlet type is supermarket_type_3) and 0 (if not).\n",
        "* **Outlet_Identifier_OUT027:8** This feature specifies whether the outlet identifier is 'OUT027' or not. Similar to the  previous example, we will create a seperate column that carries 1 (if outlet identifier is OUT027) or 0 (if otherwise).\n",
        "* **Outlet_Establishment_Year:** This describes the year of establishment of the stores. Since we did not perform any transformation on values in this column, we will not preprocess it in the pipeline.\n",
        "* **Item_Weight:** During preprocessing we observed that this column had missing values. These missing values were imputed using the average of the column. This has to be taken into account while building the pipeline.\n",
        "\n",
        "We will drop the other columns since we will not use them to train the model.\n"
      ]
    },
    {
      "cell_type": "markdown",
      "id": "stopped-edgar",
      "metadata": {
        "papermill": {
          "duration": 0.028386,
          "end_time": "2021-05-30T20:24:20.910471",
          "exception": false,
          "start_time": "2021-05-30T20:24:20.882085",
          "status": "completed"
        },
        "tags": [],
        "id": "stopped-edgar"
      },
      "source": [
        "# Pipeline Design\n",
        "We have built a prototype to understand the preprocessing requirement for our data. It is now time to form a pipeline design based on our learning from the prototype. We will define the pipeline in 3 stages:\n",
        "\n",
        "1. Create the required binary features\n",
        "2. Perform required data preprocessing and transformations:\n",
        "*  Drop the columns that are not required\n",
        "*  Missing value imputation (Item_Weight) by average\n",
        "*  Scale the Item_MRP\n",
        "3. Random Forest Regressor"
      ]
    },
    {
      "cell_type": "markdown",
      "id": "joined-advisory",
      "metadata": {
        "papermill": {
          "duration": 0.028095,
          "end_time": "2021-05-30T20:24:20.967245",
          "exception": false,
          "start_time": "2021-05-30T20:24:20.939150",
          "status": "completed"
        },
        "tags": [],
        "id": "joined-advisory"
      },
      "source": [
        "# 1. Create the required binary features\n",
        "We will create a custom transformer that will add 3 new binary columns to the existing data.\n",
        "\n",
        "* Outlet_Type: Grocery Store\n",
        "* Outlet_Type: Supermarket Type3\n",
        "* Outlet_Identifier_OUT027"
      ]
    },
    {
      "cell_type": "markdown",
      "id": "friendly-belly",
      "metadata": {
        "papermill": {
          "duration": 0.028147,
          "end_time": "2021-05-30T20:24:21.025249",
          "exception": false,
          "start_time": "2021-05-30T20:24:20.997102",
          "status": "completed"
        },
        "tags": [],
        "id": "friendly-belly"
      },
      "source": [
        "# 2. Data Preprocessing and transformations\n",
        "We will use a column transformer to do the required transformations. It will contain 3 steps:\n",
        "\n",
        "* Drop the columns that are not required for model training\n",
        "* Impute missing values in the column Item_Weight using the average\n",
        "* Scale the column Item_MRP using StandardScaler()"
      ]
    },
    {
      "cell_type": "markdown",
      "id": "governmental-parcel",
      "metadata": {
        "papermill": {
          "duration": 0.029144,
          "end_time": "2021-05-30T20:24:21.084295",
          "exception": false,
          "start_time": "2021-05-30T20:24:21.055151",
          "status": "completed"
        },
        "tags": [],
        "id": "governmental-parcel"
      },
      "source": [
        "# 3. Use the model to predict the target on the cleaned data\n",
        "This will be the final step in the pipeline. In the last two steps we preprocessed the data and made it ready for the model building process. We will use this data and build a machine learning model to predict the Item Outlet Sales."
      ]
    },
    {
      "cell_type": "markdown",
      "id": "timely-beatles",
      "metadata": {
        "papermill": {
          "duration": 0.029129,
          "end_time": "2021-05-30T20:24:21.143422",
          "exception": false,
          "start_time": "2021-05-30T20:24:21.114293",
          "status": "completed"
        },
        "tags": [],
        "id": "timely-beatles"
      },
      "source": [
        "# Building the pipeline\n",
        "We will read the data set and seperate the independent and target variable from the training dataset."
      ]
    },
    {
      "cell_type": "code",
      "execution_count": 21,
      "id": "efficient-poland",
      "metadata": {
        "execution": {
          "iopub.execute_input": "2021-05-30T20:24:21.205970Z",
          "iopub.status.busy": "2021-05-30T20:24:21.205367Z",
          "iopub.status.idle": "2021-05-30T20:24:21.223885Z",
          "shell.execute_reply": "2021-05-30T20:24:21.223347Z",
          "shell.execute_reply.started": "2021-05-30T20:23:13.374036Z"
        },
        "papermill": {
          "duration": 0.051371,
          "end_time": "2021-05-30T20:24:21.223994",
          "exception": false,
          "start_time": "2021-05-30T20:24:21.172623",
          "status": "completed"
        },
        "tags": [],
        "id": "efficient-poland"
      },
      "outputs": [],
      "source": [
        "#importing required libraries\n",
        "import pandas as pd\n",
        "from sklearn.compose import ColumnTransformer\n",
        "from sklearn.impute import SimpleImputer\n",
        "from sklearn.preprocessing import StandardScaler\n",
        "from sklearn.ensemble import RandomForestRegressor\n",
        "from sklearn.pipeline import Pipeline"
      ]
    },
    {
      "cell_type": "code",
      "execution_count": 64,
      "id": "raised-jewelry",
      "metadata": {
        "execution": {
          "iopub.execute_input": "2021-05-30T20:24:21.285628Z",
          "iopub.status.busy": "2021-05-30T20:24:21.285106Z",
          "iopub.status.idle": "2021-05-30T20:24:21.317325Z",
          "shell.execute_reply": "2021-05-30T20:24:21.316754Z",
          "shell.execute_reply.started": "2021-05-30T20:23:13.394419Z"
        },
        "papermill": {
          "duration": 0.064821,
          "end_time": "2021-05-30T20:24:21.317484",
          "exception": false,
          "start_time": "2021-05-30T20:24:21.252663",
          "status": "completed"
        },
        "tags": [],
        "id": "raised-jewelry"
      },
      "outputs": [],
      "source": [
        "#read training dataset\n",
        "train2 = pd.read_csv(\"/content/Train.csv\")\n",
        "clean_data = train"
      ]
    },
    {
      "cell_type": "code",
      "source": [
        "train.dtypes"
      ],
      "metadata": {
        "id": "zI7Su8EcqzEv"
      },
      "id": "zI7Su8EcqzEv",
      "execution_count": null,
      "outputs": []
    },
    {
      "cell_type": "code",
      "execution_count": 66,
      "id": "corresponding-karma",
      "metadata": {
        "execution": {
          "iopub.execute_input": "2021-05-30T20:24:21.410530Z",
          "iopub.status.busy": "2021-05-30T20:24:21.410010Z",
          "iopub.status.idle": "2021-05-30T20:24:21.416093Z",
          "shell.execute_reply": "2021-05-30T20:24:21.415463Z",
          "shell.execute_reply.started": "2021-05-30T20:23:13.421299Z"
        },
        "papermill": {
          "duration": 0.054907,
          "end_time": "2021-05-30T20:24:21.416228",
          "exception": false,
          "start_time": "2021-05-30T20:24:21.361321",
          "status": "completed"
        },
        "tags": [],
        "id": "corresponding-karma"
      },
      "outputs": [],
      "source": [
        "#seperate the independent and target variables\n",
        "X = clean_data.drop(columns = ['Item_Outlet_Sales'])\n",
        "y = clean_data['Item_Outlet_Sales']"
      ]
    },
    {
      "cell_type": "markdown",
      "id": "higher-apple",
      "metadata": {
        "papermill": {
          "duration": 0.043527,
          "end_time": "2021-05-30T20:24:21.503616",
          "exception": false,
          "start_time": "2021-05-30T20:24:21.460089",
          "status": "completed"
        },
        "tags": [],
        "id": "higher-apple"
      },
      "source": [
        "We need to create 3 new binary columns using a custom transformer. Here are the steps we need to follow to create a custom transformer.\n",
        "\n",
        "* Define a class OutletTypeEncoder\n",
        "* Add the parameter BaseEstimator while defining the class\n",
        "* The class must contain fit and transform methods\n",
        "* In the transform method, we will define all the 3 columns that we want after the first stage in our ML pipeline."
      ]
    },
    {
      "cell_type": "code",
      "execution_count": 141,
      "id": "broke-premiere",
      "metadata": {
        "execution": {
          "iopub.execute_input": "2021-05-30T20:24:21.598034Z",
          "iopub.status.busy": "2021-05-30T20:24:21.597231Z",
          "iopub.status.idle": "2021-05-30T20:24:21.601345Z",
          "shell.execute_reply": "2021-05-30T20:24:21.600726Z",
          "shell.execute_reply.started": "2021-05-30T20:23:13.428886Z"
        },
        "papermill": {
          "duration": 0.053807,
          "end_time": "2021-05-30T20:24:21.601502",
          "exception": false,
          "start_time": "2021-05-30T20:24:21.547695",
          "status": "completed"
        },
        "tags": [],
        "id": "broke-premiere"
      },
      "outputs": [],
      "source": [
        "# import the BaseEstimator\n",
        "from sklearn.base import BaseEstimator\n",
        "\n",
        "# define the class OutletTypeEncoder\n",
        "# This will be our custom transformer that will create 3 new binary columns\n",
        "# custom transformer must have methods fit and transform\n",
        "    \n",
        "class OutletTypeEncoder(BaseEstimator):\n",
        "    \n",
        "    def __init__(self, base_estimator=None):\n",
        "        self.base_estimator = base_estimator\n",
        "        \n",
        "    def fit(self, X, y=None):\n",
        "        return self\n",
        "    \n",
        "    def transform(self, X, y=None):\n",
        "        X = X.copy()\n",
        "        X['Outlet_Type_Grocery Store'] = (train2['Outlet_Type'] == 'Grocery Store').astype(int)\n",
        "        X['Outlet_Type_SupermarketType3'] = (train2['Outlet_Type'] == 'Supermarket Type3').astype(int)\n",
        "        X['Outlet_Identifier_OUT027'] = (train2['Outlet_Identifier'] == 'OUT027').astype(int)\n",
        "        return X\n"
      ]
    },
    {
      "cell_type": "markdown",
      "id": "mobile-polymer",
      "metadata": {
        "papermill": {
          "duration": 0.04379,
          "end_time": "2021-05-30T20:24:21.690110",
          "exception": false,
          "start_time": "2021-05-30T20:24:21.646320",
          "status": "completed"
        },
        "tags": [],
        "id": "mobile-polymer"
      },
      "source": [
        "Next we will define the pre-processing steps required before the model building process.\n",
        "\n",
        "* Drop the columns – Item_Identifier, Outlet_Identifier, Item_Fat_Content, Item_Type, Outlet_Identifier, Outlet_Size, Outlet_Location_Type and Outlet_Establishment_Year\n",
        "* Impute missing values in column Item_Weight with mean\n",
        "* Scale the column Item_MRP using StandardScaler().\n",
        "This will be the second step in our machine learning pipeline. After this step, the data will be ready to be used by the model to make predictions."
      ]
    },
    {
      "cell_type": "code",
      "execution_count": 69,
      "id": "strong-hydrogen",
      "metadata": {
        "execution": {
          "iopub.execute_input": "2021-05-30T20:24:21.783613Z",
          "iopub.status.busy": "2021-05-30T20:24:21.782928Z",
          "iopub.status.idle": "2021-05-30T20:24:21.787040Z",
          "shell.execute_reply": "2021-05-30T20:24:21.786498Z",
          "shell.execute_reply.started": "2021-05-30T20:23:13.441294Z"
        },
        "papermill": {
          "duration": 0.05303,
          "end_time": "2021-05-30T20:24:21.787165",
          "exception": false,
          "start_time": "2021-05-30T20:24:21.734135",
          "status": "completed"
        },
        "tags": [],
        "id": "strong-hydrogen"
      },
      "outputs": [],
      "source": [
        "# Drop the columns - \n",
        "X = X.drop(columns=['Item_Identifier', 'Outlet_Identifier','Item_Type', 'Outlet_Identifier','Outlet_Establishment_Year'])\n",
        "# Impute the missing values in column Item_Weight by mean\n",
        "X['Item_Weight'] = X['Item_Weight'].fillna(X['Item_Weight'].mean()) \n",
        "# Scale the data in the column Item_MRP\n",
        "scaled_train = scaler.fit_transform(X['Item_MRP'].values.reshape(-1, 1))\n"
      ]
    },
    {
      "cell_type": "markdown",
      "id": "supreme-siemens",
      "metadata": {
        "papermill": {
          "duration": 0.043001,
          "end_time": "2021-05-30T20:24:21.873716",
          "exception": false,
          "start_time": "2021-05-30T20:24:21.830715",
          "status": "completed"
        },
        "tags": [],
        "id": "supreme-siemens"
      },
      "source": [
        "# Predict the target\n",
        "This will be the final block of the machine learning pipeline. We will specify 3 steps – create binary columns, preprocess the data, train a model.\n",
        "\n",
        "When we use the fit() function with a pipeline object, all three steps are executed. Post the model training process, we use the predict() function that uses the trained model to generate the predictions."
      ]
    },
    {
      "cell_type": "code",
      "execution_count": 142,
      "id": "combined-department",
      "metadata": {
        "execution": {
          "iopub.execute_input": "2021-05-30T20:24:21.966621Z",
          "iopub.status.busy": "2021-05-30T20:24:21.965170Z",
          "iopub.status.idle": "2021-05-30T20:24:24.027762Z",
          "shell.execute_reply": "2021-05-30T20:24:24.027241Z",
          "shell.execute_reply.started": "2021-05-30T20:23:13.452882Z"
        },
        "papermill": {
          "duration": 2.113165,
          "end_time": "2021-05-30T20:24:24.027869",
          "exception": false,
          "start_time": "2021-05-30T20:24:21.914704",
          "status": "completed"
        },
        "tags": [],
        "id": "combined-department"
      },
      "outputs": [],
      "source": [
        "X_train, X_validate, Y_train, Y_validate = train_test_split(X, y, test_size=0.25, random_state=42)\n",
        "# Define the Pipeline\n",
        "\"\"\"\n",
        "Step1: get the oultet binary columns\n",
        "Step2: pre processing\n",
        "Step3: Train a Random Forest Model\n",
        "\"\"\"\n",
        "pipeline = Pipeline([\n",
        "    ('outlet_encoder', OutletTypeEncoder()),\n",
        "    ('scaler', StandardScaler()),\n",
        "    ('regressor', RandomForestRegressor())\n",
        "])\n",
        "# fit the pipeline with the training data\n",
        "pipeline.fit(X_train,Y_train)\n",
        "\n",
        "# predict target values on the training data\n",
        "#Write your code here\n",
        "train_predictions = pipeline.predict(X_validate)"
      ]
    },
    {
      "cell_type": "markdown",
      "id": "willing-handy",
      "metadata": {
        "papermill": {
          "duration": 0.028503,
          "end_time": "2021-05-30T20:24:24.084460",
          "exception": false,
          "start_time": "2021-05-30T20:24:24.055957",
          "status": "completed"
        },
        "tags": [],
        "id": "willing-handy"
      },
      "source": [
        "Now, we will read the test data set and we call predict function only on the pipeline object to make predictions on the test data."
      ]
    },
    {
      "cell_type": "code",
      "execution_count": 100,
      "id": "neural-assistant",
      "metadata": {
        "execution": {
          "iopub.execute_input": "2021-05-30T20:24:24.143791Z",
          "iopub.status.busy": "2021-05-30T20:24:24.143316Z",
          "iopub.status.idle": "2021-05-30T20:24:24.242864Z",
          "shell.execute_reply": "2021-05-30T20:24:24.243228Z",
          "shell.execute_reply.started": "2021-05-30T20:23:15.238457Z"
        },
        "papermill": {
          "duration": 0.131076,
          "end_time": "2021-05-30T20:24:24.243366",
          "exception": false,
          "start_time": "2021-05-30T20:24:24.112290",
          "status": "completed"
        },
        "tags": [],
        "id": "neural-assistant"
      },
      "outputs": [],
      "source": [
        "# read the test data\n",
        "test = pd.read_csv(\"/content/Test.csv\")"
      ]
    },
    {
      "cell_type": "code",
      "execution_count": null,
      "id": "continued-finland",
      "metadata": {
        "execution": {
          "iopub.execute_input": "2021-05-30T20:24:24.305349Z",
          "iopub.status.busy": "2021-05-30T20:24:24.304669Z",
          "iopub.status.idle": "2021-05-30T20:24:24.308251Z",
          "shell.execute_reply": "2021-05-30T20:24:24.307781Z",
          "shell.execute_reply.started": "2021-05-30T20:23:15.366415Z"
        },
        "papermill": {
          "duration": 0.036177,
          "end_time": "2021-05-30T20:24:24.308350",
          "exception": false,
          "start_time": "2021-05-30T20:24:24.272173",
          "status": "completed"
        },
        "tags": [],
        "id": "continued-finland"
      },
      "outputs": [],
      "source": [
        "# predict target variables on the test data \n",
        "y_sub = pipeline.predict(test)\n",
        "y_sub"
      ]
    },
    {
      "cell_type": "code",
      "execution_count": null,
      "id": "exceptional-prospect",
      "metadata": {
        "execution": {
          "iopub.execute_input": "2021-05-30T20:24:24.369391Z",
          "iopub.status.busy": "2021-05-30T20:24:24.368734Z",
          "iopub.status.idle": "2021-05-30T20:24:24.396891Z",
          "shell.execute_reply": "2021-05-30T20:24:24.397300Z",
          "shell.execute_reply.started": "2021-05-30T20:23:15.373883Z"
        },
        "papermill": {
          "duration": 0.059869,
          "end_time": "2021-05-30T20:24:24.397449",
          "exception": false,
          "start_time": "2021-05-30T20:24:24.337580",
          "status": "completed"
        },
        "tags": [],
        "id": "exceptional-prospect",
        "outputId": "11347a1f-0d18-458c-f176-0e70bb86c464"
      },
      "outputs": [
        {
          "data": {
            "text/html": [
              "<div>\n",
              "<style scoped>\n",
              "    .dataframe tbody tr th:only-of-type {\n",
              "        vertical-align: middle;\n",
              "    }\n",
              "\n",
              "    .dataframe tbody tr th {\n",
              "        vertical-align: top;\n",
              "    }\n",
              "\n",
              "    .dataframe thead th {\n",
              "        text-align: right;\n",
              "    }\n",
              "</style>\n",
              "<table border=\"1\" class=\"dataframe\">\n",
              "  <thead>\n",
              "    <tr style=\"text-align: right;\">\n",
              "      <th></th>\n",
              "      <th>Unnamed: 0</th>\n",
              "      <th>Item_Identifier</th>\n",
              "      <th>Outlet_Identifier</th>\n",
              "      <th>Item_Outlet_Sales</th>\n",
              "    </tr>\n",
              "  </thead>\n",
              "  <tbody>\n",
              "    <tr>\n",
              "      <th>0</th>\n",
              "      <td>0</td>\n",
              "      <td>FDW58</td>\n",
              "      <td>OUT049</td>\n",
              "      <td>1646.054836</td>\n",
              "    </tr>\n",
              "    <tr>\n",
              "      <th>1</th>\n",
              "      <td>1</td>\n",
              "      <td>FDW14</td>\n",
              "      <td>OUT017</td>\n",
              "      <td>1305.429801</td>\n",
              "    </tr>\n",
              "    <tr>\n",
              "      <th>2</th>\n",
              "      <td>2</td>\n",
              "      <td>NCN55</td>\n",
              "      <td>OUT010</td>\n",
              "      <td>658.423251</td>\n",
              "    </tr>\n",
              "    <tr>\n",
              "      <th>3</th>\n",
              "      <td>3</td>\n",
              "      <td>FDQ58</td>\n",
              "      <td>OUT017</td>\n",
              "      <td>2333.948545</td>\n",
              "    </tr>\n",
              "    <tr>\n",
              "      <th>4</th>\n",
              "      <td>4</td>\n",
              "      <td>FDY38</td>\n",
              "      <td>OUT027</td>\n",
              "      <td>5954.092896</td>\n",
              "    </tr>\n",
              "  </tbody>\n",
              "</table>\n",
              "</div>"
            ],
            "text/plain": [
              "   Unnamed: 0 Item_Identifier Outlet_Identifier  Item_Outlet_Sales\n",
              "0           0           FDW58            OUT049        1646.054836\n",
              "1           1           FDW14            OUT017        1305.429801\n",
              "2           2           NCN55            OUT010         658.423251\n",
              "3           3           FDQ58            OUT017        2333.948545\n",
              "4           4           FDY38            OUT027        5954.092896"
            ]
          },
          "execution_count": 24,
          "metadata": {},
          "output_type": "execute_result"
        }
      ],
      "source": [
        "sub = pd.read_csv(\"Submission.csv\")\n",
        "sub[\"Item_Outlet_Sales\"] = y_sub\n",
        "sub.head()"
      ]
    },
    {
      "cell_type": "code",
      "execution_count": null,
      "id": "loved-paint",
      "metadata": {
        "_kg_hide-input": false,
        "execution": {
          "iopub.execute_input": "2021-05-30T20:24:24.456450Z",
          "iopub.status.busy": "2021-05-30T20:24:24.456009Z",
          "iopub.status.idle": "2021-05-30T20:24:24.477730Z",
          "shell.execute_reply": "2021-05-30T20:24:24.477294Z",
          "shell.execute_reply.started": "2021-05-30T20:23:15.411902Z"
        },
        "papermill": {
          "duration": 0.052272,
          "end_time": "2021-05-30T20:24:24.477831",
          "exception": false,
          "start_time": "2021-05-30T20:24:24.425559",
          "status": "completed"
        },
        "tags": [],
        "id": "loved-paint"
      },
      "outputs": [],
      "source": [
        "sub.to_csv(\"submission.csv\", index=False)"
      ]
    }
  ],
  "metadata": {
    "kernelspec": {
      "display_name": "Python 3",
      "language": "python",
      "name": "python3"
    },
    "language_info": {
      "codemirror_mode": {
        "name": "ipython",
        "version": 3
      },
      "file_extension": ".py",
      "mimetype": "text/x-python",
      "name": "python",
      "nbconvert_exporter": "python",
      "pygments_lexer": "ipython3",
      "version": "3.7.9"
    },
    "papermill": {
      "default_parameters": {},
      "duration": 16.990106,
      "end_time": "2021-05-30T20:24:25.114297",
      "environment_variables": {},
      "exception": null,
      "input_path": "__notebook__.ipynb",
      "output_path": "__notebook__.ipynb",
      "parameters": {},
      "start_time": "2021-05-30T20:24:08.124191",
      "version": "2.3.2"
    },
    "colab": {
      "provenance": []
    }
  },
  "nbformat": 4,
  "nbformat_minor": 5
}