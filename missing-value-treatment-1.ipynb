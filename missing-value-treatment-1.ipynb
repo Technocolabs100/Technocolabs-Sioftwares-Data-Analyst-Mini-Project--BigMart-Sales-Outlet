{
 "cells": [
  {
   "cell_type": "code",
   "execution_count": 1,
   "id": "bcc30d36",
   "metadata": {
    "_cell_guid": "b1076dfc-b9ad-4769-8c92-a6c4dae69d19",
    "_uuid": "8f2839f25d086af736a60e9eeb907d3b93b6e0e5",
    "execution": {
     "iopub.execute_input": "2023-02-05T20:21:03.814177Z",
     "iopub.status.busy": "2023-02-05T20:21:03.813733Z",
     "iopub.status.idle": "2023-02-05T20:21:05.050942Z",
     "shell.execute_reply": "2023-02-05T20:21:05.047929Z"
    },
    "papermill": {
     "duration": 1.247664,
     "end_time": "2023-02-05T20:21:05.054012",
     "exception": false,
     "start_time": "2023-02-05T20:21:03.806348",
     "status": "completed"
    },
    "tags": []
   },
   "outputs": [
    {
     "name": "stdout",
     "output_type": "stream",
     "text": [
      "Setup Complete\n"
     ]
    }
   ],
   "source": [
    "import pandas as pd\n",
    "import numpy as np\n",
    "pd.plotting.register_matplotlib_converters()\n",
    "import matplotlib.pyplot as plt\n",
    "%matplotlib inline\n",
    "import seaborn as sns\n",
    "import sklearn\n",
    "print(\"Setup Complete\")"
   ]
  },
  {
   "cell_type": "code",
   "execution_count": 2,
   "id": "9601cc79",
   "metadata": {
    "execution": {
     "iopub.execute_input": "2023-02-05T20:21:05.065853Z",
     "iopub.status.busy": "2023-02-05T20:21:05.065024Z",
     "iopub.status.idle": "2023-02-05T20:21:05.155005Z",
     "shell.execute_reply": "2023-02-05T20:21:05.153920Z"
    },
    "papermill": {
     "duration": 0.098834,
     "end_time": "2023-02-05T20:21:05.157880",
     "exception": false,
     "start_time": "2023-02-05T20:21:05.059046",
     "status": "completed"
    },
    "tags": []
   },
   "outputs": [],
   "source": [
    "test_path = \"/kaggle/input/big-mart-data/9961_14084_bundle_archive/Test.csv\"\n",
    "train_path = \"/kaggle/input/big-mart-data/9961_14084_bundle_archive/Train.csv\"\n",
    "\n",
    "df1 = pd.read_csv(test_path)\n",
    "df2 = pd.read_csv(train_path)"
   ]
  },
  {
   "cell_type": "code",
   "execution_count": 3,
   "id": "5cd22c89",
   "metadata": {
    "execution": {
     "iopub.execute_input": "2023-02-05T20:21:05.169338Z",
     "iopub.status.busy": "2023-02-05T20:21:05.168795Z",
     "iopub.status.idle": "2023-02-05T20:21:05.192752Z",
     "shell.execute_reply": "2023-02-05T20:21:05.191658Z"
    },
    "papermill": {
     "duration": 0.032874,
     "end_time": "2023-02-05T20:21:05.195545",
     "exception": false,
     "start_time": "2023-02-05T20:21:05.162671",
     "status": "completed"
    },
    "tags": []
   },
   "outputs": [
    {
     "data": {
      "text/plain": [
       "(14204, 12)"
      ]
     },
     "execution_count": 3,
     "metadata": {},
     "output_type": "execute_result"
    }
   ],
   "source": [
    "#Merge Two data sets\n",
    "train_data = pd.concat([df2, df1])\n",
    "train_data.shape"
   ]
  },
  {
   "cell_type": "code",
   "execution_count": 4,
   "id": "bf5e3f26",
   "metadata": {
    "execution": {
     "iopub.execute_input": "2023-02-05T20:21:05.207781Z",
     "iopub.status.busy": "2023-02-05T20:21:05.206391Z",
     "iopub.status.idle": "2023-02-05T20:21:05.230786Z",
     "shell.execute_reply": "2023-02-05T20:21:05.229514Z"
    },
    "papermill": {
     "duration": 0.033332,
     "end_time": "2023-02-05T20:21:05.233724",
     "exception": false,
     "start_time": "2023-02-05T20:21:05.200392",
     "status": "completed"
    },
    "tags": []
   },
   "outputs": [
    {
     "data": {
      "text/html": [
       "<div>\n",
       "<style scoped>\n",
       "    .dataframe tbody tr th:only-of-type {\n",
       "        vertical-align: middle;\n",
       "    }\n",
       "\n",
       "    .dataframe tbody tr th {\n",
       "        vertical-align: top;\n",
       "    }\n",
       "\n",
       "    .dataframe thead th {\n",
       "        text-align: right;\n",
       "    }\n",
       "</style>\n",
       "<table border=\"1\" class=\"dataframe\">\n",
       "  <thead>\n",
       "    <tr style=\"text-align: right;\">\n",
       "      <th></th>\n",
       "      <th>Item_Identifier</th>\n",
       "      <th>Item_Weight</th>\n",
       "      <th>Item_Fat_Content</th>\n",
       "      <th>Item_Visibility</th>\n",
       "      <th>Item_Type</th>\n",
       "      <th>Item_MRP</th>\n",
       "      <th>Outlet_Identifier</th>\n",
       "      <th>Outlet_Establishment_Year</th>\n",
       "      <th>Outlet_Size</th>\n",
       "      <th>Outlet_Location_Type</th>\n",
       "      <th>Outlet_Type</th>\n",
       "      <th>Item_Outlet_Sales</th>\n",
       "    </tr>\n",
       "  </thead>\n",
       "  <tbody>\n",
       "    <tr>\n",
       "      <th>0</th>\n",
       "      <td>FDA15</td>\n",
       "      <td>9.30</td>\n",
       "      <td>Low Fat</td>\n",
       "      <td>0.016047</td>\n",
       "      <td>Dairy</td>\n",
       "      <td>249.8092</td>\n",
       "      <td>OUT049</td>\n",
       "      <td>1999</td>\n",
       "      <td>Medium</td>\n",
       "      <td>Tier 1</td>\n",
       "      <td>Supermarket Type1</td>\n",
       "      <td>3735.1380</td>\n",
       "    </tr>\n",
       "    <tr>\n",
       "      <th>1</th>\n",
       "      <td>DRC01</td>\n",
       "      <td>5.92</td>\n",
       "      <td>Regular</td>\n",
       "      <td>0.019278</td>\n",
       "      <td>Soft Drinks</td>\n",
       "      <td>48.2692</td>\n",
       "      <td>OUT018</td>\n",
       "      <td>2009</td>\n",
       "      <td>Medium</td>\n",
       "      <td>Tier 3</td>\n",
       "      <td>Supermarket Type2</td>\n",
       "      <td>443.4228</td>\n",
       "    </tr>\n",
       "    <tr>\n",
       "      <th>2</th>\n",
       "      <td>FDN15</td>\n",
       "      <td>17.50</td>\n",
       "      <td>Low Fat</td>\n",
       "      <td>0.016760</td>\n",
       "      <td>Meat</td>\n",
       "      <td>141.6180</td>\n",
       "      <td>OUT049</td>\n",
       "      <td>1999</td>\n",
       "      <td>Medium</td>\n",
       "      <td>Tier 1</td>\n",
       "      <td>Supermarket Type1</td>\n",
       "      <td>2097.2700</td>\n",
       "    </tr>\n",
       "    <tr>\n",
       "      <th>3</th>\n",
       "      <td>FDX07</td>\n",
       "      <td>19.20</td>\n",
       "      <td>Regular</td>\n",
       "      <td>0.000000</td>\n",
       "      <td>Fruits and Vegetables</td>\n",
       "      <td>182.0950</td>\n",
       "      <td>OUT010</td>\n",
       "      <td>1998</td>\n",
       "      <td>NaN</td>\n",
       "      <td>Tier 3</td>\n",
       "      <td>Grocery Store</td>\n",
       "      <td>732.3800</td>\n",
       "    </tr>\n",
       "    <tr>\n",
       "      <th>4</th>\n",
       "      <td>NCD19</td>\n",
       "      <td>8.93</td>\n",
       "      <td>Low Fat</td>\n",
       "      <td>0.000000</td>\n",
       "      <td>Household</td>\n",
       "      <td>53.8614</td>\n",
       "      <td>OUT013</td>\n",
       "      <td>1987</td>\n",
       "      <td>High</td>\n",
       "      <td>Tier 3</td>\n",
       "      <td>Supermarket Type1</td>\n",
       "      <td>994.7052</td>\n",
       "    </tr>\n",
       "  </tbody>\n",
       "</table>\n",
       "</div>"
      ],
      "text/plain": [
       "  Item_Identifier  Item_Weight Item_Fat_Content  Item_Visibility  \\\n",
       "0           FDA15         9.30          Low Fat         0.016047   \n",
       "1           DRC01         5.92          Regular         0.019278   \n",
       "2           FDN15        17.50          Low Fat         0.016760   \n",
       "3           FDX07        19.20          Regular         0.000000   \n",
       "4           NCD19         8.93          Low Fat         0.000000   \n",
       "\n",
       "               Item_Type  Item_MRP Outlet_Identifier  \\\n",
       "0                  Dairy  249.8092            OUT049   \n",
       "1            Soft Drinks   48.2692            OUT018   \n",
       "2                   Meat  141.6180            OUT049   \n",
       "3  Fruits and Vegetables  182.0950            OUT010   \n",
       "4              Household   53.8614            OUT013   \n",
       "\n",
       "   Outlet_Establishment_Year Outlet_Size Outlet_Location_Type  \\\n",
       "0                       1999      Medium               Tier 1   \n",
       "1                       2009      Medium               Tier 3   \n",
       "2                       1999      Medium               Tier 1   \n",
       "3                       1998         NaN               Tier 3   \n",
       "4                       1987        High               Tier 3   \n",
       "\n",
       "         Outlet_Type  Item_Outlet_Sales  \n",
       "0  Supermarket Type1          3735.1380  \n",
       "1  Supermarket Type2           443.4228  \n",
       "2  Supermarket Type1          2097.2700  \n",
       "3      Grocery Store           732.3800  \n",
       "4  Supermarket Type1           994.7052  "
      ]
     },
     "execution_count": 4,
     "metadata": {},
     "output_type": "execute_result"
    }
   ],
   "source": [
    "train_data.head()"
   ]
  },
  {
   "cell_type": "code",
   "execution_count": 5,
   "id": "e7463fe5",
   "metadata": {
    "execution": {
     "iopub.execute_input": "2023-02-05T20:21:05.246365Z",
     "iopub.status.busy": "2023-02-05T20:21:05.245982Z",
     "iopub.status.idle": "2023-02-05T20:21:05.273743Z",
     "shell.execute_reply": "2023-02-05T20:21:05.271933Z"
    },
    "papermill": {
     "duration": 0.036685,
     "end_time": "2023-02-05T20:21:05.276318",
     "exception": false,
     "start_time": "2023-02-05T20:21:05.239633",
     "status": "completed"
    },
    "tags": []
   },
   "outputs": [
    {
     "name": "stdout",
     "output_type": "stream",
     "text": [
      "<class 'pandas.core.frame.DataFrame'>\n",
      "Int64Index: 14204 entries, 0 to 5680\n",
      "Data columns (total 12 columns):\n",
      " #   Column                     Non-Null Count  Dtype  \n",
      "---  ------                     --------------  -----  \n",
      " 0   Item_Identifier            14204 non-null  object \n",
      " 1   Item_Weight                11765 non-null  float64\n",
      " 2   Item_Fat_Content           14204 non-null  object \n",
      " 3   Item_Visibility            14204 non-null  float64\n",
      " 4   Item_Type                  14204 non-null  object \n",
      " 5   Item_MRP                   14204 non-null  float64\n",
      " 6   Outlet_Identifier          14204 non-null  object \n",
      " 7   Outlet_Establishment_Year  14204 non-null  int64  \n",
      " 8   Outlet_Size                10188 non-null  object \n",
      " 9   Outlet_Location_Type       14204 non-null  object \n",
      " 10  Outlet_Type                14204 non-null  object \n",
      " 11  Item_Outlet_Sales          8523 non-null   float64\n",
      "dtypes: float64(4), int64(1), object(7)\n",
      "memory usage: 1.4+ MB\n"
     ]
    }
   ],
   "source": [
    "train_data.info()"
   ]
  },
  {
   "cell_type": "code",
   "execution_count": 6,
   "id": "e916720e",
   "metadata": {
    "execution": {
     "iopub.execute_input": "2023-02-05T20:21:05.289020Z",
     "iopub.status.busy": "2023-02-05T20:21:05.288585Z",
     "iopub.status.idle": "2023-02-05T20:21:05.312002Z",
     "shell.execute_reply": "2023-02-05T20:21:05.310790Z"
    },
    "papermill": {
     "duration": 0.033099,
     "end_time": "2023-02-05T20:21:05.314718",
     "exception": false,
     "start_time": "2023-02-05T20:21:05.281619",
     "status": "completed"
    },
    "tags": []
   },
   "outputs": [
    {
     "data": {
      "text/plain": [
       "Item_Identifier               1559\n",
       "Item_Weight                    415\n",
       "Item_Fat_Content                 5\n",
       "Item_Visibility              13006\n",
       "Item_Type                       16\n",
       "Item_MRP                      8052\n",
       "Outlet_Identifier               10\n",
       "Outlet_Establishment_Year        9\n",
       "Outlet_Size                      3\n",
       "Outlet_Location_Type             3\n",
       "Outlet_Type                      4\n",
       "Item_Outlet_Sales             3493\n",
       "dtype: int64"
      ]
     },
     "execution_count": 6,
     "metadata": {},
     "output_type": "execute_result"
    }
   ],
   "source": [
    "train_data.nunique()"
   ]
  },
  {
   "cell_type": "code",
   "execution_count": 7,
   "id": "afbe89c7",
   "metadata": {
    "execution": {
     "iopub.execute_input": "2023-02-05T20:21:05.327291Z",
     "iopub.status.busy": "2023-02-05T20:21:05.326868Z",
     "iopub.status.idle": "2023-02-05T20:21:05.341990Z",
     "shell.execute_reply": "2023-02-05T20:21:05.340789Z"
    },
    "papermill": {
     "duration": 0.024411,
     "end_time": "2023-02-05T20:21:05.344542",
     "exception": false,
     "start_time": "2023-02-05T20:21:05.320131",
     "status": "completed"
    },
    "tags": []
   },
   "outputs": [
    {
     "data": {
      "text/plain": [
       "Item_Identifier                 0\n",
       "Item_Weight                  2439\n",
       "Item_Fat_Content                0\n",
       "Item_Visibility                 0\n",
       "Item_Type                       0\n",
       "Item_MRP                        0\n",
       "Outlet_Identifier               0\n",
       "Outlet_Establishment_Year       0\n",
       "Outlet_Size                  4016\n",
       "Outlet_Location_Type            0\n",
       "Outlet_Type                     0\n",
       "Item_Outlet_Sales            5681\n",
       "dtype: int64"
      ]
     },
     "execution_count": 7,
     "metadata": {},
     "output_type": "execute_result"
    }
   ],
   "source": [
    "train_data.isnull().sum()"
   ]
  },
  {
   "cell_type": "markdown",
   "id": "14a798eb",
   "metadata": {
    "papermill": {
     "duration": 0.005372,
     "end_time": "2023-02-05T20:21:05.355497",
     "exception": false,
     "start_time": "2023-02-05T20:21:05.350125",
     "status": "completed"
    },
    "tags": []
   },
   "source": [
    "# **Handling Missing values**"
   ]
  },
  {
   "cell_type": "markdown",
   "id": "8cf7398d",
   "metadata": {
    "papermill": {
     "duration": 0.005352,
     "end_time": "2023-02-05T20:21:05.366424",
     "exception": false,
     "start_time": "2023-02-05T20:21:05.361072",
     "status": "completed"
    },
    "tags": []
   },
   "source": [
    "> We found two variables with missing values: *Item_Weight* & *Outlet_Size*"
   ]
  },
  {
   "cell_type": "code",
   "execution_count": 8,
   "id": "946d84ef",
   "metadata": {
    "execution": {
     "iopub.execute_input": "2023-02-05T20:21:05.379660Z",
     "iopub.status.busy": "2023-02-05T20:21:05.378666Z",
     "iopub.status.idle": "2023-02-05T20:21:05.394782Z",
     "shell.execute_reply": "2023-02-05T20:21:05.393104Z"
    },
    "papermill": {
     "duration": 0.025648,
     "end_time": "2023-02-05T20:21:05.397553",
     "exception": false,
     "start_time": "2023-02-05T20:21:05.371905",
     "status": "completed"
    },
    "tags": []
   },
   "outputs": [
    {
     "name": "stdout",
     "output_type": "stream",
     "text": [
      "7.120060076973623 %\n"
     ]
    }
   ],
   "source": [
    "#How many missing data points do we have in %?\n",
    "missing_values_count = train_data.isnull().sum()\n",
    "\n",
    "total_missing = missing_values_count.sum() \n",
    "total_cells = np.product(train_data.shape)\n",
    "\n",
    "percent_missing = (total_missing/total_cells) * 100\n",
    "print(percent_missing,\"%\")"
   ]
  },
  {
   "cell_type": "code",
   "execution_count": 9,
   "id": "1b0867e5",
   "metadata": {
    "execution": {
     "iopub.execute_input": "2023-02-05T20:21:05.411472Z",
     "iopub.status.busy": "2023-02-05T20:21:05.410610Z",
     "iopub.status.idle": "2023-02-05T20:21:05.433222Z",
     "shell.execute_reply": "2023-02-05T20:21:05.431672Z"
    },
    "papermill": {
     "duration": 0.032614,
     "end_time": "2023-02-05T20:21:05.436012",
     "exception": false,
     "start_time": "2023-02-05T20:21:05.403398",
     "status": "completed"
    },
    "tags": []
   },
   "outputs": [
    {
     "name": "stdout",
     "output_type": "stream",
     "text": [
      "0\n"
     ]
    }
   ],
   "source": [
    "#Check for duplicates\n",
    "duplicate = train_data.duplicated()\n",
    "print(duplicate.sum())"
   ]
  },
  {
   "cell_type": "code",
   "execution_count": 10,
   "id": "df23ec0f",
   "metadata": {
    "execution": {
     "iopub.execute_input": "2023-02-05T20:21:05.449789Z",
     "iopub.status.busy": "2023-02-05T20:21:05.448689Z",
     "iopub.status.idle": "2023-02-05T20:21:05.649372Z",
     "shell.execute_reply": "2023-02-05T20:21:05.648516Z"
    },
    "papermill": {
     "duration": 0.209867,
     "end_time": "2023-02-05T20:21:05.651688",
     "exception": false,
     "start_time": "2023-02-05T20:21:05.441821",
     "status": "completed"
    },
    "tags": []
   },
   "outputs": [
    {
     "data": {
      "image/png": "[encoded data removed]",
      "text/plain": [
       "<Figure size 432x288 with 1 Axes>"
      ]
     },
     "metadata": {
      "needs_background": "light"
     },
     "output_type": "display_data"
    }
   ],
   "source": [
    "#Checking if there is Outliers in column Item_Weight \n",
    "train_data.boxplot(column=[\"Item_Weight\"])\n",
    "plt.show()"
   ]
  },
  {
   "cell_type": "code",
   "execution_count": 11,
   "id": "d28d73a1",
   "metadata": {
    "execution": {
     "iopub.execute_input": "2023-02-05T20:21:05.665048Z",
     "iopub.status.busy": "2023-02-05T20:21:05.664434Z",
     "iopub.status.idle": "2023-02-05T20:21:05.673540Z",
     "shell.execute_reply": "2023-02-05T20:21:05.672454Z"
    },
    "papermill": {
     "duration": 0.018684,
     "end_time": "2023-02-05T20:21:05.676078",
     "exception": false,
     "start_time": "2023-02-05T20:21:05.657394",
     "status": "completed"
    },
    "tags": []
   },
   "outputs": [],
   "source": [
    "#Replacing the NAN values in Item_Weight Item_Outlet_Sales (numerical columns) with Mean,Median\n",
    "train_data['Item_Weight'] = train_data['Item_Weight'].fillna(train_data['Item_Weight'].mean())\n",
    "\n",
    "train_data['Item_Outlet_Sales'] = train_data['Item_Outlet_Sales'].fillna(train_data['Item_Outlet_Sales'].median())"
   ]
  },
  {
   "cell_type": "code",
   "execution_count": 12,
   "id": "5f83def3",
   "metadata": {
    "execution": {
     "iopub.execute_input": "2023-02-05T20:21:05.689639Z",
     "iopub.status.busy": "2023-02-05T20:21:05.688830Z",
     "iopub.status.idle": "2023-02-05T20:21:05.697876Z",
     "shell.execute_reply": "2023-02-05T20:21:05.696873Z"
    },
    "papermill": {
     "duration": 0.018486,
     "end_time": "2023-02-05T20:21:05.700373",
     "exception": false,
     "start_time": "2023-02-05T20:21:05.681887",
     "status": "completed"
    },
    "tags": []
   },
   "outputs": [],
   "source": [
    "#Replacing the NAN values in Outlet_Size (categorical column) with Mode\n",
    "Outlet_Size_Mode = train_data[\"Outlet_Size\"].mode().values[0]\n",
    "\n",
    "train_data[\"Outlet_Size\"]= train_data[\"Outlet_Size\"].replace(np.nan,Outlet_Size_Mode)\n",
    "#train_data['Outlet_Size']=train_data['Outlet_Size'].fillna('Medium')"
   ]
  },
  {
   "cell_type": "code",
   "execution_count": 13,
   "id": "d8da235c",
   "metadata": {
    "execution": {
     "iopub.execute_input": "2023-02-05T20:21:05.713875Z",
     "iopub.status.busy": "2023-02-05T20:21:05.713141Z",
     "iopub.status.idle": "2023-02-05T20:21:05.728962Z",
     "shell.execute_reply": "2023-02-05T20:21:05.727685Z"
    },
    "papermill": {
     "duration": 0.025285,
     "end_time": "2023-02-05T20:21:05.731442",
     "exception": false,
     "start_time": "2023-02-05T20:21:05.706157",
     "status": "completed"
    },
    "tags": []
   },
   "outputs": [
    {
     "data": {
      "text/plain": [
       "Item_Identifier              0\n",
       "Item_Weight                  0\n",
       "Item_Fat_Content             0\n",
       "Item_Visibility              0\n",
       "Item_Type                    0\n",
       "Item_MRP                     0\n",
       "Outlet_Identifier            0\n",
       "Outlet_Establishment_Year    0\n",
       "Outlet_Size                  0\n",
       "Outlet_Location_Type         0\n",
       "Outlet_Type                  0\n",
       "Item_Outlet_Sales            0\n",
       "dtype: int64"
      ]
     },
     "execution_count": 13,
     "metadata": {},
     "output_type": "execute_result"
    }
   ],
   "source": [
    "train_data.isnull().sum()"
   ]
  },
  {
   "cell_type": "code",
   "execution_count": 14,
   "id": "10fdca15",
   "metadata": {
    "execution": {
     "iopub.execute_input": "2023-02-05T20:21:05.745221Z",
     "iopub.status.busy": "2023-02-05T20:21:05.744827Z",
     "iopub.status.idle": "2023-02-05T20:21:05.840676Z",
     "shell.execute_reply": "2023-02-05T20:21:05.839720Z"
    },
    "papermill": {
     "duration": 0.106119,
     "end_time": "2023-02-05T20:21:05.843460",
     "exception": false,
     "start_time": "2023-02-05T20:21:05.737341",
     "status": "completed"
    },
    "tags": []
   },
   "outputs": [],
   "source": [
    "train_data.to_csv(\"data_clean_1.csv\",index = False)"
   ]
  },
  {
   "cell_type": "code",
   "execution_count": null,
   "id": "7d610e95",
   "metadata": {
    "papermill": {
     "duration": 0.005563,
     "end_time": "2023-02-05T20:21:05.854921",
     "exception": false,
     "start_time": "2023-02-05T20:21:05.849358",
     "status": "completed"
    },
    "tags": []
   },
   "outputs": [],
   "source": []
  }
 ],
 "metadata": {
  "kernelspec": {
   "display_name": "Python 3",
   "language": "python",
   "name": "python3"
  },
  "language_info": {
   "codemirror_mode": {
    "name": "ipython",
    "version": 3
   },
   "file_extension": ".py",
   "mimetype": "text/x-python",
   "name": "python",
   "nbconvert_exporter": "python",
   "pygments_lexer": "ipython3",
   "version": "3.7.12"
  },
  "papermill": {
   "default_parameters": {},
   "duration": 11.492686,
   "end_time": "2023-02-05T20:21:06.582133",
   "environment_variables": {},
   "exception": null,
   "input_path": "__notebook__.ipynb",
   "output_path": "__notebook__.ipynb",
   "parameters": {},
   "start_time": "2023-02-05T20:20:55.089447",
   "version": "2.3.4"
  }
 },
 "nbformat": 4,
 "nbformat_minor": 5
}
